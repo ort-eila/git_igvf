{
 "cells": [
  {
   "cell_type": "code",
   "execution_count": 1,
   "metadata": {
    "tags": []
   },
   "outputs": [
    {
     "name": "stdout",
     "output_type": "stream",
     "text": [
      "/home/eila/git_igvf/cellatlas-scrna-seq-pipeline/nextflow/nf_data/nf_wf_fg_singlecell/specs/dogmaseq-dig\n"
     ]
    }
   ],
   "source": [
    "#dogmaseq-dig\n",
    "!pwd"
   ]
  },
  {
   "cell_type": "code",
   "execution_count": null,
   "metadata": {},
   "outputs": [],
   "source": [
    "# install seqspec\n",
    "# pip install git+https://github.com/IGVF/seqspec.git"
   ]
  },
  {
   "cell_type": "code",
   "execution_count": 3,
   "metadata": {
    "tags": []
   },
   "outputs": [
    {
     "name": "stdout",
     "output_type": "stream",
     "text": [
      "Homo_sapiens.GRCh38.dna.primary_assembly.chromap.ref.index\n",
      "RNA-737K-arc-v1.txt\n",
      "fastqs\n",
      "nf_spec_dogmaseq_dig.yaml\n",
      "spec.yaml\n",
      "spec_dogmaseq-dig.ipynb\n"
     ]
    }
   ],
   "source": [
    "!ls"
   ]
  },
  {
   "cell_type": "code",
   "execution_count": 2,
   "metadata": {
    "tags": []
   },
   "outputs": [],
   "source": [
    "# !gunzip RNA-737K-arc-v1.txt.gz"
   ]
  },
  {
   "cell_type": "markdown",
   "metadata": {},
   "source": [
    "RNA update"
   ]
  },
  {
   "cell_type": "markdown",
   "metadata": {},
   "source": [
    "Download the RNA fastqs: https://github.com/IGVF/seqspec/tree/main/specs/"
   ]
  },
  {
   "cell_type": "code",
   "execution_count": 8,
   "metadata": {
    "tags": []
   },
   "outputs": [
    {
     "name": "stdout",
     "output_type": "stream",
     "text": [
      "--2023-11-09 19:36:32--  https://github.com/IGVF/seqspec/blob/main/specs/dogmaseq-dig/spec.yaml\n",
      "Resolving github.com (github.com)... 140.82.114.3\n",
      "Connecting to github.com (github.com)|140.82.114.3|:443... connected.\n",
      "HTTP request sent, awaiting response... 200 OK\n",
      "Length: 43755 (43K) [text/plain]\n",
      "Saving to: ‘spec.yaml’\n",
      "\n",
      "spec.yaml           100%[===================>]  42.73K  --.-KB/s    in 0.05s   \n",
      "\n",
      "2023-11-09 19:36:33 (857 KB/s) - ‘spec.yaml’ saved [43755/43755]\n",
      "\n",
      "--2023-11-09 19:36:33--  https://github.com/IGVF/seqspec/blob/main/specs/dogmaseq-dig/RNA-737K-arc-v1.txt.gz\n",
      "Resolving github.com (github.com)... 140.82.112.3\n",
      "Connecting to github.com (github.com)|140.82.112.3|:443... connected.\n",
      "HTTP request sent, awaiting response... 200 OK\n",
      "Length: 9889 (9.7K) [text/plain]\n",
      "Saving to: ‘RNA-737K-arc-v1.txt.gz’\n",
      "\n",
      "RNA-737K-arc-v1.txt 100%[===================>]   9.66K  --.-KB/s    in 0.02s   \n",
      "\n",
      "2023-11-09 19:36:33 (403 KB/s) - ‘RNA-737K-arc-v1.txt.gz’ saved [9889/9889]\n",
      "\n"
     ]
    }
   ],
   "source": [
    "# get the ftp links\n",
    "# !ffq --ftp SRR18677638\n",
    "# wget ftp://ftp.sra.ebi.ac.uk/vol1/fastq/SRR186/038/SRR18677638/SRR18677638_1.fastq.gz\n",
    "\n",
    "# wget ftp://ftp.sra.ebi.ac.uk/vol1/fastq/SRR186/038/SRR18677638/SRR18677638_2.fastq.gz\n",
    "# get the raw data\n",
    "# !wget https://raw.githubusercontent.com/IGVF/seqspec/main/specs/dogmaseq-dig/spec.yaml\n",
    "# whitelist\n",
    "# !wget https://github.com/IGVF/seqspec/blob/main/specs/dogmaseq-dig/RNA-737K-arc-v1.txt.gz \n",
    "# -o /home/eila/git_igvf/cellatlas-scrna-seq-pipeline/nextflow/nf_data/nf_wf_fg_singlecell/specs/dogmaseq-dig/RNA-737K-arc-v1.txt.gz\n",
    "\n"
   ]
  },
  {
   "cell_type": "code",
   "execution_count": 9,
   "metadata": {},
   "outputs": [
    {
     "name": "stdout",
     "output_type": "stream",
     "text": [
      "Traceback (most recent call last):\n",
      "  File \"/home/eila/miniconda3/envs/nextflow_env/bin/seqspec\", line 8, in <module>\n",
      "    sys.exit(main())\n",
      "  File \"/home/eila/miniconda3/envs/nextflow_env/lib/python3.7/site-packages/seqspec/main.py\", line 80, in main\n",
      "    COMMAND_TO_FUNCTION[sys.argv[1]](parser, args)\n",
      "  File \"/home/eila/miniconda3/envs/nextflow_env/lib/python3.7/site-packages/seqspec/seqspec_check.py\", line 35, in validate_check_args\n",
      "    spec = load_spec(spec_fn)\n",
      "  File \"/home/eila/miniconda3/envs/nextflow_env/lib/python3.7/site-packages/seqspec/utils.py\", line 9, in load_spec\n",
      "    return load_spec_stream(stream)\n",
      "  File \"/home/eila/miniconda3/envs/nextflow_env/lib/python3.7/site-packages/seqspec/utils.py\", line 15, in load_spec_stream\n",
      "    for r in data.assay_spec:\n",
      "AttributeError: 'dict' object has no attribute 'assay_spec'\n"
     ]
    }
   ],
   "source": [
    "!seqspec check spec.yaml"
   ]
  },
  {
   "cell_type": "code",
   "execution_count": 10,
   "metadata": {},
   "outputs": [],
   "source": [
    "!rm nf_specR*.yaml\n",
    "!rm nf_spec_dogmaseq_dig.yaml"
   ]
  },
  {
   "cell_type": "code",
   "execution_count": 13,
   "metadata": {
    "tags": []
   },
   "outputs": [],
   "source": [
    "# !seqspec modify -m rna -o nf_specR1.yaml -r \"./fastqs/rna_R1_SRR18677638.fastq.gz\"  --region-id \"rna_R1.fastq.gz\" spec.yaml"
   ]
  },
  {
   "cell_type": "code",
   "execution_count": 18,
   "metadata": {
    "tags": []
   },
   "outputs": [],
   "source": [
    "# !seqspec format spec.yaml"
   ]
  },
  {
   "cell_type": "code",
   "execution_count": 19,
   "metadata": {
    "tags": []
   },
   "outputs": [],
   "source": [
    "# !seqspec"
   ]
  },
  {
   "cell_type": "code",
   "execution_count": 11,
   "metadata": {
    "tags": []
   },
   "outputs": [
    {
     "name": "stdout",
     "output_type": "stream",
     "text": [
      "Traceback (most recent call last):\n",
      "  File \"/home/eila/miniconda3/envs/nextflow_env/bin/seqspec\", line 8, in <module>\n",
      "    sys.exit(main())\n",
      "  File \"/home/eila/miniconda3/envs/nextflow_env/lib/python3.7/site-packages/seqspec/main.py\", line 80, in main\n",
      "    COMMAND_TO_FUNCTION[sys.argv[1]](parser, args)\n",
      "  File \"/home/eila/miniconda3/envs/nextflow_env/lib/python3.7/site-packages/seqspec/seqspec_modify.py\", line 98, in validate_modify_args\n",
      "    spec = load_spec(fn)\n",
      "  File \"/home/eila/miniconda3/envs/nextflow_env/lib/python3.7/site-packages/seqspec/utils.py\", line 9, in load_spec\n",
      "    return load_spec_stream(stream)\n",
      "  File \"/home/eila/miniconda3/envs/nextflow_env/lib/python3.7/site-packages/seqspec/utils.py\", line 15, in load_spec_stream\n",
      "    for r in data.assay_spec:\n",
      "AttributeError: 'dict' object has no attribute 'assay_spec'\n",
      "Traceback (most recent call last):\n",
      "  File \"/home/eila/miniconda3/envs/nextflow_env/bin/seqspec\", line 8, in <module>\n",
      "    sys.exit(main())\n",
      "  File \"/home/eila/miniconda3/envs/nextflow_env/lib/python3.7/site-packages/seqspec/main.py\", line 80, in main\n",
      "    COMMAND_TO_FUNCTION[sys.argv[1]](parser, args)\n",
      "  File \"/home/eila/miniconda3/envs/nextflow_env/lib/python3.7/site-packages/seqspec/seqspec_modify.py\", line 98, in validate_modify_args\n",
      "    spec = load_spec(fn)\n",
      "  File \"/home/eila/miniconda3/envs/nextflow_env/lib/python3.7/site-packages/seqspec/utils.py\", line 8, in load_spec\n",
      "    with open(spec_fn, \"r\") as stream:\n",
      "FileNotFoundError: [Errno 2] No such file or directory: 'nf_specR1.yaml'\n",
      "Traceback (most recent call last):\n",
      "  File \"/home/eila/miniconda3/envs/nextflow_env/bin/seqspec\", line 8, in <module>\n",
      "    sys.exit(main())\n",
      "  File \"/home/eila/miniconda3/envs/nextflow_env/lib/python3.7/site-packages/seqspec/main.py\", line 80, in main\n",
      "    COMMAND_TO_FUNCTION[sys.argv[1]](parser, args)\n",
      "  File \"/home/eila/miniconda3/envs/nextflow_env/lib/python3.7/site-packages/seqspec/seqspec_modify.py\", line 98, in validate_modify_args\n",
      "    spec = load_spec(fn)\n",
      "  File \"/home/eila/miniconda3/envs/nextflow_env/lib/python3.7/site-packages/seqspec/utils.py\", line 8, in load_spec\n",
      "    with open(spec_fn, \"r\") as stream:\n",
      "FileNotFoundError: [Errno 2] No such file or directory: 'nf_specR2.yaml'\n"
     ]
    }
   ],
   "source": [
    "!seqspec modify -m rna -o nf_specR1.yaml -r \"rna_R1_SRR18677638.fastq.gz\"  --region-id \"rna_R1.fastq.gz\" spec.yaml\n",
    "!seqspec modify -m rna -o nf_specR2.yaml -r \"rna_R2_SRR18677638.fastq.gz\"  --region-id \"rna_R2.fastq.gz\" nf_specR1.yaml\n",
    "!seqspec modify -m rna -o nf_nextflow.yaml -r \"rna_R2_SRR18677638.fastq.gz\"  --region-id \"rna_R2.fastq.gz\" nf_specR2.yaml"
   ]
  },
  {
   "cell_type": "markdown",
   "metadata": {},
   "source": [
    "ATAC update"
   ]
  },
  {
   "cell_type": "markdown",
   "metadata": {},
   "source": [
    "Download the ATAC fastqs: https://github.com/IGVF/seqspec/tree/main/specs/"
   ]
  },
  {
   "cell_type": "code",
   "execution_count": 3,
   "metadata": {},
   "outputs": [],
   "source": [
    "!seqspec modify -m atac -o nf_specAtac1.yaml -r \"atac_R1_SRR18677642.fastq.gz\"  --region-id \"atac_R1.fastq.gz\" nf_nextflow.yaml\n",
    "!seqspec modify -m atac -o nf_specAtac2.yaml -r \"atac_R2_SRR18677642.fastq.gz\"  --region-id \"atac_R2.fastq.gz\" nf_specAtac1.yaml\n",
    "!seqspec modify -m atac -o nf_specAtac3.yaml -r \"atac_R3_SRR18677642.fastq.gz\"  --region-id \"atac_R3.fastq.gz\" nf_specAtac2.yaml\n",
    "!seqspec modify -m atac -o nf_spec_dogmaseq_dig.yaml -r \"atac_R3_SRR18677642.fastq.gz\"  --region-id \"atac_R3.fastq.gz\" nf_specAtac3.yaml"
   ]
  },
  {
   "cell_type": "code",
   "execution_count": null,
   "metadata": {},
   "outputs": [],
   "source": []
  }
 ],
 "metadata": {
  "kernelspec": {
   "display_name": "Python 3 (ipykernel)",
   "language": "python",
   "name": "python3"
  },
  "language_info": {
   "codemirror_mode": {
    "name": "ipython",
    "version": 3
   },
   "file_extension": ".py",
   "mimetype": "text/x-python",
   "name": "python",
   "nbconvert_exporter": "python",
   "pygments_lexer": "ipython3",
   "version": "3.7.16"
  }
 },
 "nbformat": 4,
 "nbformat_minor": 4
}
