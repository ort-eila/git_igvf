{
 "cells": [
  {
   "cell_type": "code",
   "execution_count": 2,
   "metadata": {},
   "outputs": [
    {
     "name": "stdout",
     "output_type": "stream",
     "text": [
      "/Users/eilaarich-landkof-stanford/Documents/Code/git_igvf/cellatlas-scrna-seq-pipeline/nextflow/nf_data/nf_wf_fg_singlecell/specs/dogmaseq-dig\n"
     ]
    }
   ],
   "source": [
    "!pwd"
   ]
  },
  {
   "cell_type": "code",
   "execution_count": 4,
   "metadata": {},
   "outputs": [],
   "source": [
    "# !rm nf_specR1.yaml\n",
    "# !rm nf_specR2.yaml\n",
    "# !rm nf_spec.yaml\n",
    "# !rm nf_spec_dogmaseq_dig\n",
    "!seqspec modify -m rna -o nf_specR1.yaml -r \"rna_R1_SRR18677638.fastq.gz\"  --region-id \"rna_R1.fastq.gz\" spec.yaml\n",
    "!seqspec modify -m rna -o nf_specR2.yaml -r \"rna_R2_SRR18677638.fastq.gz\"  --region-id \"rna_R2.fastq.gz\" nf_specR1.yaml\n",
    "!seqspec modify -m rna -o nf_spec_dogmaseq_dig.yaml -r \"rna_R2_SRR18677638.fastq.gz\"  --region-id \"rna_R2.fastq.gz\" nf_specR2.yaml"
   ]
  },
  {
   "cell_type": "code",
   "execution_count": null,
   "metadata": {},
   "outputs": [],
   "source": []
  }
 ],
 "metadata": {
  "kernelspec": {
   "display_name": "nf_env",
   "language": "python",
   "name": "python3"
  },
  "language_info": {
   "codemirror_mode": {
    "name": "ipython",
    "version": 3
   },
   "file_extension": ".py",
   "mimetype": "text/x-python",
   "name": "python",
   "nbconvert_exporter": "python",
   "pygments_lexer": "ipython3",
   "version": "3.12.0"
  }
 },
 "nbformat": 4,
 "nbformat_minor": 2
}
