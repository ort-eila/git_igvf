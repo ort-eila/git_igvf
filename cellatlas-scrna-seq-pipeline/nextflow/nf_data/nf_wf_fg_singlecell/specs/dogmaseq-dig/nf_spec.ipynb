{
 "cells": [
  {
   "cell_type": "code",
   "execution_count": 2,
   "metadata": {
    "tags": []
   },
   "outputs": [
    {
     "name": "stdout",
     "output_type": "stream",
     "text": [
      "/home/eila/git_igvf/cellatlas-scrna-seq-pipeline/nextflow/nf_data/nf_wf_fg_singlecell/specs/dogmaseq-dig\n"
     ]
    }
   ],
   "source": [
    "#dogmaseq-dig\n",
    "!pwd"
   ]
  },
  {
   "cell_type": "markdown",
   "metadata": {},
   "source": [
    "RNA update"
   ]
  },
  {
   "cell_type": "code",
   "execution_count": 3,
   "metadata": {},
   "outputs": [
    {
     "name": "stdout",
     "output_type": "stream",
     "text": [
      "/bin/bash: line 1: seqspec: command not found\n"
     ]
    }
   ],
   "source": [
    "!seqspec check spec.yaml"
   ]
  },
  {
   "cell_type": "code",
   "execution_count": 2,
   "metadata": {},
   "outputs": [],
   "source": [
    "# !rm nf_specR*.yaml\n",
    "# !rm nf_spec_dogmaseq_dig.yaml\n",
    "!seqspec modify -m rna -o nf_specR1.yaml -r \"rna_R1_SRR18677638.fastq.gz\"  --region-id \"rna_R1.fastq.gz\" spec.yaml\n",
    "!seqspec modify -m rna -o nf_specR2.yaml -r \"rna_R2_SRR18677638.fastq.gz\"  --region-id \"rna_R2.fastq.gz\" nf_specR1.yaml\n",
    "!seqspec modify -m rna -o nf_nextflow.yaml -r \"rna_R2_SRR18677638.fastq.gz\"  --region-id \"rna_R2.fastq.gz\" nf_specR2.yaml"
   ]
  },
  {
   "cell_type": "markdown",
   "metadata": {},
   "source": [
    "ATAC update"
   ]
  },
  {
   "cell_type": "code",
   "execution_count": 3,
   "metadata": {},
   "outputs": [],
   "source": [
    "!seqspec modify -m atac -o nf_specAtac1.yaml -r \"atac_R1_SRR18677642.fastq.gz\"  --region-id \"atac_R1.fastq.gz\" nf_nextflow.yaml\n",
    "!seqspec modify -m atac -o nf_specAtac2.yaml -r \"atac_R2_SRR18677642.fastq.gz\"  --region-id \"atac_R2.fastq.gz\" nf_specAtac1.yaml\n",
    "!seqspec modify -m atac -o nf_specAtac3.yaml -r \"atac_R3_SRR18677642.fastq.gz\"  --region-id \"atac_R3.fastq.gz\" nf_specAtac2.yaml\n",
    "!seqspec modify -m atac -o nf_spec_dogmaseq_dig.yaml -r \"atac_R3_SRR18677642.fastq.gz\"  --region-id \"atac_R3.fastq.gz\" nf_specAtac3.yaml"
   ]
  },
  {
   "cell_type": "code",
   "execution_count": null,
   "metadata": {},
   "outputs": [],
   "source": []
  }
 ],
 "metadata": {
  "kernelspec": {
   "display_name": "Python 3 (ipykernel)",
   "language": "python",
   "name": "python3"
  },
  "language_info": {
   "codemirror_mode": {
    "name": "ipython",
    "version": 3
   },
   "file_extension": ".py",
   "mimetype": "text/x-python",
   "name": "python",
   "nbconvert_exporter": "python",
   "pygments_lexer": "ipython3",
   "version": "3.7.16"
  }
 },
 "nbformat": 4,
 "nbformat_minor": 4
}
