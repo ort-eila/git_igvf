{
 "cells": [
  {
   "cell_type": "code",
   "execution_count": 87,
   "metadata": {
    "tags": []
   },
   "outputs": [],
   "source": [
    "# start docker deamon in terminal\n",
    "# !sudo docker login\n",
    "# OR - becuase the jupyther with allow root\n",
    "# !docker login"
   ]
  },
  {
   "cell_type": "code",
   "execution_count": 88,
   "metadata": {
    "tags": []
   },
   "outputs": [
    {
     "name": "stdout",
     "output_type": "stream",
     "text": [
      "atac_fastqs_files_local.csv  rna_fastqs_files_vm-cellatlas.csv\n",
      "atac_fastqs_files_vm.csv     rna_fastqs_files_vm-dogma-dig.csv\n",
      "na.na\t\t\t     rna_fastqs_files_vm-kb-python.csv\n",
      "rna_fastqs_files_local.csv   specs\n"
     ]
    }
   ],
   "source": [
    "!ls ../../nf_data/nf_wf_fg_singlecell"
   ]
  },
  {
   "cell_type": "code",
   "execution_count": 89,
   "metadata": {
    "tags": []
   },
   "outputs": [
    {
     "name": "stdout",
     "output_type": "stream",
     "text": [
      "                  Credentialed Accounts\n",
      "ACTIVE  ACCOUNT\n",
      "        886987709752-compute@developer.gserviceaccount.com\n",
      "*       eila-batch@hai-gcp-genomic.iam.gserviceaccount.com\n",
      "\n",
      "To set the active account, run:\n",
      "    $ gcloud config set account `ACCOUNT`\n",
      "\n"
     ]
    }
   ],
   "source": [
    "!gcloud auth list\n",
    "# gcloud config set account\n"
   ]
  },
  {
   "cell_type": "code",
   "execution_count": 90,
   "metadata": {
    "tags": []
   },
   "outputs": [],
   "source": [
    "import os\n",
    "# os.environ[\"TOWER_ACCESS_TOKEN\"] = 'XXX'\n",
    "\n",
    "# !echo $TOWER_ACCESS_TOKEN"
   ]
  },
  {
   "cell_type": "code",
   "execution_count": 91,
   "metadata": {
    "tags": []
   },
   "outputs": [
    {
     "name": "stdout",
     "output_type": "stream",
     "text": [
      "  Version: 23.10.0 build 5889\n",
      "  Created: 15-10-2023 15:07 UTC \n",
      "  System: Linux 5.10.0-26-cloud-amd64\n",
      "  Runtime: Groovy 3.0.19 on OpenJDK 64-Bit Server VM 11.0.13+7-b1751.21\n",
      "  Encoding: UTF-8 (UTF-8)\n",
      "\n"
     ]
    }
   ],
   "source": [
    "!nextflow info"
   ]
  },
  {
   "cell_type": "code",
   "execution_count": 92,
   "metadata": {
    "tags": []
   },
   "outputs": [
    {
     "data": {
      "text/plain": [
       "'/home/eila/git_igvf/cellatlas-scrna-seq-pipeline/nextflow/nf_workflow/workflow_fg_single_cell_rna'"
      ]
     },
     "execution_count": 92,
     "metadata": {},
     "output_type": "execute_result"
    }
   ],
   "source": [
    "import os\n",
    "os.getcwd()"
   ]
  },
  {
   "cell_type": "raw",
   "metadata": {
    "tags": []
   },
   "source": [
    "%%writefile nextflow_local.config\n",
    "\n",
    "includeConfig 'conf/conda.config'\n",
    "\n",
    "\n",
    "manifest {\n",
    "  description = 'A nexflow pipeline for fg single cell' \n",
    "  mainScript = 'nf_wf_fg_singlecell_rna.nf'\n",
    "}\n",
    "\n",
    "profiles {\n",
    "  conda_profile {\n",
    "    includeConfig 'conf/conda.config'\n",
    "    conda.enabled = true\n",
    "    executor = 'local'\n",
    "    }\n",
    "\n",
    "  conda_docker_profile {\n",
    "    includeConfig 'conf/conda_docker.config'\n",
    "    executor = 'local'\n",
    "    }\n",
    "\n",
    "  docker_local {\n",
    "    includeConfig 'conf/docker.config'\n",
    "    docker.envWhitelist=['ENV_SYNAPSE_TOKEN','TOWER_ACCESS_TOKEN']\n",
    "  }\n",
    "  google_batch_profile {\n",
    "    workDir = 'gs://eila-nextflow-bucket/work/RNA'\n",
    "    wave.enabled = true\n",
    "    fusion.enabled = true\n",
    "    process.scratch = false\n",
    "    includeConfig 'conf/docker-google-batch.config'\n",
    "    docker.enabled = true\n",
    "    docker.envWhitelist=['ENV_SYNAPSE_TOKEN','TOWER_ACCESS_TOKEN']\n",
    "    google.project = 'hai-gcp-genomic'\n",
    "    google.location = 'us-central1'\n",
    "    google.batch.spot = false\n",
    "    google.batch.serviceAccountEmail='eila-batch@hai-gcp-genomic.iam.gserviceaccount.com'\n",
    "  }\n",
    "}\n",
    "\n",
    "// Define ENV_SYNAPSE_TOKEN as a parameter\n",
    "params.ORGANISM = 'human'\n",
    "params.FASTQS_SPEC_CH = '/Users/eilaarich-landkof-stanford/Documents/Code/git_igvf/cellatlas-scrna-seq-pipeline/nextflow/nf_data/nf_wf_fg_singlecell/rna_fastqs_files_local.csv'\n",
    "params.GENOME_FASTA='http://ftp.ensembl.org/pub/release-109/fasta/homo_sapiens/dna/Homo_sapiens.GRCh38.dna.primary_assembly.fa.gz'\n",
    "params.GENOME_GZ_GTF='http://ftp.ensembl.org/pub/release-109/gtf/homo_sapiens/Homo_sapiens.GRCh38.109.gtf.gz'\n",
    "params.ENV_SYNAPSE_TOKEN = \"nextflow secrets get SYNAPSE\".execute().text.trim()\n",
    "params.SYNAPSE_CONFIG = '/Users/eilaarich-landkof-stanford/Documents/Code/git_igvf/cellatlas-scrna-seq-pipeline/nextflow/nf_data/nf_wf_fg_singlecell/synapse.config'\n",
    "params.SYNAPSE_IDS = '/Users/eilaarich-landkof-stanford/Documents/Code/git_igvf/cellatlas-scrna-seq-pipeline/nextflow/nf_data/nf_wf_fg_singlecell/synapse_ids.csv'\n",
    "\n"
   ]
  },
  {
   "cell_type": "code",
   "execution_count": 93,
   "metadata": {
    "tags": []
   },
   "outputs": [
    {
     "name": "stdout",
     "output_type": "stream",
     "text": [
      "  Version: 23.10.0 build 5889\n",
      "  Created: 15-10-2023 15:07 UTC \n",
      "  System: Linux 5.10.0-26-cloud-amd64\n",
      "  Runtime: Groovy 3.0.19 on OpenJDK 64-Bit Server VM 11.0.13+7-b1751.21\n",
      "  Encoding: UTF-8 (UTF-8)\n",
      "\n"
     ]
    }
   ],
   "source": [
    "!nextflow info"
   ]
  },
  {
   "cell_type": "code",
   "execution_count": 94,
   "metadata": {
    "tags": []
   },
   "outputs": [],
   "source": [
    "# !ls /home/eila/git_igvf/cellatlas-scrna-seq-pipeline/nextflow/nf_data/nf_wf_fg_singlecell"
   ]
  },
  {
   "cell_type": "code",
   "execution_count": 122,
   "metadata": {
    "tags": []
   },
   "outputs": [
    {
     "name": "stdout",
     "output_type": "stream",
     "text": [
      "Overwriting nextflow_vm.config\n"
     ]
    }
   ],
   "source": [
    "%%writefile nextflow_vm.config\n",
    "\n",
    "includeConfig 'conf/conda.config'\n",
    "\n",
    "\n",
    "manifest {\n",
    "  description = 'A nexflow pipeline for fg single cell' \n",
    "  mainScript = 'nf_wf_fg_singlecell_rna.nf'\n",
    "}\n",
    "\n",
    "profiles {\n",
    "  conda_profile {\n",
    "    includeConfig 'conf/conda.config'\n",
    "    conda.enabled = true\n",
    "    executor = 'local'\n",
    "    }\n",
    "\n",
    "  docker_local {\n",
    "    includeConfig 'conf/docker.config'\n",
    "    docker.enabled = true\n",
    "    docker.envWhitelist=['ENV_SYNAPSE_TOKEN','TOWER_ACCESS_TOKEN']\n",
    "    executor = 'local'\n",
    "  }\n",
    "  google_batch_profile {\n",
    "    workDir = 'gs://eila-nextflow-bucket/work/RNA'\n",
    "    includeConfig 'conf/docker-google-batch.config'\n",
    "    docker.enabled = true\n",
    "    wave.enabled = true\n",
    "    fusion.enabled = true\n",
    "    process.scratch = false\n",
    "    executor = 'google-batch'\n",
    "    docker.envWhitelist=['ENV_SYNAPSE_TOKEN','TOWER_ACCESS_TOKEN']\n",
    "    google.project = 'hai-gcp-genomic'\n",
    "    google.location = 'us-central1'\n",
    "    google.batch.spot = true\n",
    "    google.batch.serviceAccountEmail='eila-batch@hai-gcp-genomic.iam.gserviceaccount.com'\n",
    "  }\n",
    "    \n",
    "}\n",
    "\n",
    "// Define ENV_SYNAPSE_TOKEN as a parameter\n",
    "params.ORGANISM = 'human'\n",
    "params.FASTQS_SPEC_CH = '/home/eila/git_igvf/cellatlas-scrna-seq-pipeline/nextflow/nf_data/nf_wf_fg_singlecell/rna_fastqs_files_vm-dogma-dig.csv'\n",
    "params.GENOME_FASTA='http://ftp.ensembl.org/pub/release-109/fasta/homo_sapiens/dna/Homo_sapiens.GRCh38.dna.primary_assembly.fa.gz'\n",
    "params.GENOME_GZ_GTF='http://ftp.ensembl.org/pub/release-109/gtf/homo_sapiens/Homo_sapiens.GRCh38.109.gtf.gz'\n",
    "params.ENV_SYNAPSE_TOKEN = \"nextflow secrets get SYNAPSE\".execute().text.trim()\n",
    "params.SYNAPSE_CONFIG = '/home/eila/git_igvf/cellatlas-scrna-seq-pipeline/nextflow/nf_data/nf_wf_fg_singlecell/synapse.config'\n",
    "params.SYNAPSE_IDS = '/home/eila/git_igvf/cellatlas-scrna-seq-pipeline/nextflow/nf_data/nf_wf_fg_singlecell/synapse_ids.csv'\n",
    "params.SUBPOOL = 'none'\n",
    "params.UMI_CUTOFF=2\n",
    "params.GENE_CUTOFF=3\n"
   ]
  },
  {
   "cell_type": "code",
   "execution_count": 123,
   "metadata": {
    "tags": []
   },
   "outputs": [
    {
     "name": "stdout",
     "output_type": "stream",
     "text": [
      "R1_fastq_gz\tR2_fastq_gz\tR3_fastq_gz\tspec\twhitelist\n",
      "/home/eila/git_igvf/cellatlas-scrna-seq-pipeline/nextflow/nf_data/nf_wf_fg_singlecell/specs/dogmaseq-dig/fastqs/RNA/SRR18677638_1.fastq.gz\t/home/eila/git_igvf/cellatlas-scrna-seq-pipeline/nextflow/nf_data/nf_wf_fg_singlecell/specs/dogmaseq-dig/fastqs/RNA/SRR18677638_2.fastq.gz\t/home/eila/git_igvf/cellatlas-scrna-seq-pipeline/nextflow/nf_data/nf_wf_fg_singlecell/na.na\t/home/eila/git_igvf/cellatlas-scrna-seq-pipeline/nextflow/nf_data/nf_wf_fg_singlecell/specs/dogmaseq-dig/nf_spec_dogmaseq_dig.yaml\t/home/eila/git_igvf/cellatlas-scrna-seq-pipeline/nextflow/nf_data/nf_wf_fg_singlecell/specs/dogmaseq-dig/RNA-737K-arc-v1.txt"
     ]
    }
   ],
   "source": [
    "!cat /home/eila/git_igvf/cellatlas-scrna-seq-pipeline/nextflow/nf_data/nf_wf_fg_singlecell/rna_fastqs_files_vm-dogma-dig.csv"
   ]
  },
  {
   "cell_type": "code",
   "execution_count": 124,
   "metadata": {
    "tags": []
   },
   "outputs": [],
   "source": [
    "# !head /home/eila/git_igvf/cellatlas-scrna-seq-pipeline/nextflow/nf_data/nf_wf_fg_singlecell/specs/dogmaseq-dig/nf_spec_dogmaseq_dig.yaml"
   ]
  },
  {
   "cell_type": "code",
   "execution_count": 125,
   "metadata": {
    "tags": []
   },
   "outputs": [],
   "source": [
    "# !head /home/eila/git_igvf/cellatlas-scrna-seq-pipeline/nextflow/nf_data/nf_wf_fg_singlecell/specs/dogmaseq-dig/RNA-737K-arc-v1.txt"
   ]
  },
  {
   "cell_type": "code",
   "execution_count": 126,
   "metadata": {
    "tags": []
   },
   "outputs": [],
   "source": [
    "# !ls /home/eila/git_igvf/cellatlas-scrna-seq-pipeline/nextflow/nf_workflow/workflow_fg_single_cell_rna\n"
   ]
  },
  {
   "cell_type": "code",
   "execution_count": 127,
   "metadata": {
    "tags": []
   },
   "outputs": [],
   "source": [
    "# !rm -r /home/eila/git_igvf/cellatlas-scrna-seq-pipeline/nextflow/nf_workflow/workflow_fg_single_cell_rna/work\n",
    "\n",
    "\n",
    "# !gsutil rm -r gs://eila-nextflow-bucket/work/RNA\n",
    "\n",
    "\n"
   ]
  },
  {
   "cell_type": "code",
   "execution_count": 128,
   "metadata": {
    "tags": []
   },
   "outputs": [],
   "source": [
    "# !nextflow run nf_wf_fg_singlecell_rna.nf -c nextflow_vm.config -profile google_batch_profile\n",
    "\n",
    "\n",
    "\n",
    "# !nextflow run nf_wf_fg_singlecell_rna.nf -c nextflow_vm.config -profile google_batch_profile  -with-tower\n",
    "\n",
    "# docker_local\n",
    "\n",
    "\n",
    "\n",
    "# !nextflow run nf_wf_fg_singlecell_rna.nf -c nextflow_vm.config -profile google_batch_profile\n",
    "\n",
    "\n",
    "\n",
    "\n",
    "# !nextflow run nf_wf_fg_singlecell_rna.nf -c nextflow.config -profile docker_profile\n",
    "# !nextflow run nf_wf_fg_singlecell_rna.nf -c nextflow_vm.config -profile google_batch_profile\n",
    "# !nextflow run nf_wf_fg_singlecell_rna.nf -c nextflow_vm_anvil.config -profile google_batch_profile\n",
    "# !nextflow run nf_wf_fg_singlecell_rna.nf -c nextflow_local.config -profile google_batch_profile\n",
    "# !nextflow run nf_wf_fg_singlecell_rna.nf -c nextflow_local.config -profile docker_profile"
   ]
  },
  {
   "cell_type": "code",
   "execution_count": 129,
   "metadata": {
    "tags": []
   },
   "outputs": [],
   "source": [
    "# !cat .nextflow.log"
   ]
  },
  {
   "cell_type": "code",
   "execution_count": 130,
   "metadata": {
    "tags": []
   },
   "outputs": [],
   "source": [
    "# import datetime\n",
    "# now = datetime.datetime.now()\n",
    "# print(now)"
   ]
  },
  {
   "cell_type": "code",
   "execution_count": null,
   "metadata": {
    "tags": []
   },
   "outputs": [
    {
     "name": "stdout",
     "output_type": "stream",
     "text": [
      "N E X T F L O W  ~  version 23.10.0\n",
      "Launching `nf_wf_fg_singlecell_rna.nf` [astonishing_boyd] DSL2 - revision: 5d86a969b7\n",
      "Nov 10, 2023 11:01:04 PM com.google.auth.oauth2.DefaultCredentialsProvider warnAboutProblematicCredentials\n",
      "WARNING: Your application has authenticated using end user credentials from Google Cloud SDK. We recommend that most server applications use service accounts instead. If your application continues to use end user credentials from Cloud SDK, you might receive a \"quota exceeded\" or \"API not enabled\" error. For more information about service accounts, see https://cloud.google.com/docs/authentication/.\n",
      "null\n",
      "/home/eila/git_igvf/cellatlas-scrna-seq-pipeline/nextflow/nf_data/nf_wf_fg_singlecell/rna_fastqs_files_vm-dogma-dig.csv\n",
      "[-        ] process > run_seqspec_modify_rna     -\u001b[K\n",
      "[-        ] process > run_seqspec_print          -\u001b[K\n",
      "[-        ] process > run_seqspec_index_rna_kb   -\u001b[K\n",
      "[-        ] process > run_kb_ref                 -\u001b[K\n",
      "[-        ] process > run_kb_count               -\u001b[K\n",
      "[-        ] process > scrna_calculate_qc_metrics -\u001b[K\n",
      "after run_seqspec_modify_rna\u001b[K\n",
      "after run_seqspec_print\u001b[K\n",
      "after run_seqspec_index_rna_kb\u001b[K\n",
      "technology is $technology\u001b[K\n",
      "after genome_fasta_ch\u001b[K\n",
      "after genome_gtf_ch\u001b[K\n",
      "after run_kb_ref\u001b[K\n",
      "after run_kb_count\u001b[K\n",
      "\u001b[15A\n",
      "\u001b[32;1mMonitor the execution with Nextflow Tower using this URL: https://tower.nf/user/eila/watch/3EQgb5s4sRI3QD\u001b[22;39m\u001b[K\n",
      "[-        ] process > run_seqspec_modify_rna     -\u001b[K\n",
      "[-        ] process > run_seqspec_print          -\u001b[K\n",
      "[-        ] process > run_seqspec_index_rna_kb   -\u001b[K\n",
      "[-        ] process > run_kb_ref                 -\u001b[K\n",
      "[-        ] process > run_kb_count               -\u001b[K\n",
      "[-        ] process > scrna_calculate_qc_metrics -\u001b[K\n",
      "after run_seqspec_modify_rna\u001b[K\n",
      "after run_seqspec_print\u001b[K\n",
      "after run_seqspec_index_rna_kb\u001b[K\n",
      "technology is $technology\u001b[K\n",
      "after genome_fasta_ch\u001b[K\n",
      "after genome_gtf_ch\u001b[K\n",
      "after run_kb_ref\u001b[K\n",
      "after run_kb_count\u001b[K\n",
      "\u001b[16A\n",
      "\u001b[32;1mMonitor the execution with Nextflow Tower using this URL: https://tower.nf/user/eila/watch/3EQgb5s4sRI3QD\u001b[22;39m\u001b[K\n",
      "[-        ] process > run_seqspec_modify_rna     -\u001b[K\n",
      "[-        ] process > run_seqspec_print          -\u001b[K\n",
      "[-        ] process > run_seqspec_index_rna_kb   -\u001b[K\n",
      "[-        ] process > run_kb_ref                 [  0%] 0 of 1\u001b[K\n",
      "[-        ] process > run_kb_count               -\u001b[K\n",
      "[-        ] process > scrna_calculate_qc_metrics -\u001b[K\n",
      "after run_seqspec_modify_rna\u001b[K\n",
      "after run_seqspec_print\u001b[K\n",
      "after run_seqspec_index_rna_kb\u001b[K\n",
      "technology is $technology\u001b[K\n",
      "after genome_fasta_ch\u001b[K\n",
      "after genome_gtf_ch\u001b[K\n",
      "after run_kb_ref\u001b[K\n",
      "after run_kb_count\u001b[K\n",
      "\u001b[16A\n",
      "\u001b[32;1mMonitor the execution with Nextflow Tower using this URL: https://tower.nf/user/eila/watch/3EQgb5s4sRI3QD\u001b[22;39m\u001b[K\n",
      "[-        ] process > run_seqspec_modify_rna     [  0%] 0 of 1\u001b[K\n",
      "[-        ] process > run_seqspec_print          -\u001b[K\n",
      "[-        ] process > run_seqspec_index_rna_kb   -\u001b[K\n",
      "[-        ] process > run_kb_ref                 [  0%] 0 of 1\u001b[K\n",
      "[-        ] process > run_kb_count               -\u001b[K\n",
      "[-        ] process > scrna_calculate_qc_metrics -\u001b[K\n",
      "after run_seqspec_modify_rna\u001b[K\n",
      "after run_seqspec_print\u001b[K\n",
      "after run_seqspec_index_rna_kb\u001b[K\n",
      "technology is $technology\u001b[K\n",
      "after genome_fasta_ch\u001b[K\n",
      "after genome_gtf_ch\u001b[K\n",
      "after run_kb_ref\u001b[K\n",
      "after run_kb_count\u001b[K\n",
      "\u001b[16A\n",
      "\u001b[32;1mMonitor the execution with Nextflow Tower using this URL: https://tower.nf/user/eila/watch/3EQgb5s4sRI3QD\u001b[22;39m\u001b[K\n",
      "executor >  google-batch (fusion enabled) (1)\u001b[K\n",
      "[-        ] process > run_seqspec_modify_rna     [  0%] 0 of 1\u001b[K\n",
      "[-        ] process > run_seqspec_print          -\u001b[K\n",
      "[-        ] process > run_seqspec_index_rna_kb   -\u001b[K\n",
      "[44/e29635] process > run_kb_ref                 [  0%] 0 of 1\u001b[K\n",
      "[-        ] process > run_kb_count               -\u001b[K\n",
      "[-        ] process > scrna_calculate_qc_metrics -\u001b[K\n",
      "after run_seqspec_modify_rna\u001b[K\n",
      "after run_seqspec_print\u001b[K\n",
      "after run_seqspec_index_rna_kb\u001b[K\n",
      "technology is $technology\u001b[K\n",
      "after genome_fasta_ch\u001b[K\n",
      "after genome_gtf_ch\u001b[K\n",
      "after run_kb_ref\u001b[K\n",
      "after run_kb_count\u001b[K\n",
      "\u001b[17A\n",
      "\u001b[32;1mMonitor the execution with Nextflow Tower using this URL: https://tower.nf/user/eila/watch/3EQgb5s4sRI3QD\u001b[22;39m\u001b[K\n",
      "executor >  google-batch (fusion enabled) (2)\u001b[K\n",
      "[c3/c201b5] process > run_seqspec_modify_rna (1) [  0%] 0 of 1\u001b[K\n",
      "[-        ] process > run_seqspec_print          -\u001b[K\n",
      "[-        ] process > run_seqspec_index_rna_kb   -\u001b[K\n",
      "[44/e29635] process > run_kb_ref                 [  0%] 0 of 1\u001b[K\n",
      "[-        ] process > run_kb_count               -\u001b[K\n",
      "[-        ] process > scrna_calculate_qc_metrics -\u001b[K\n",
      "after run_seqspec_modify_rna\u001b[K\n",
      "after run_seqspec_print\u001b[K\n",
      "after run_seqspec_index_rna_kb\u001b[K\n",
      "technology is $technology\u001b[K\n",
      "after genome_fasta_ch\u001b[K\n",
      "after genome_gtf_ch\u001b[K\n",
      "after run_kb_ref\u001b[K\n",
      "after run_kb_count\u001b[K\n",
      "\u001b[17A\n",
      "\u001b[32;1mMonitor the execution with Nextflow Tower using this URL: https://tower.nf/user/eila/watch/3EQgb5s4sRI3QD\u001b[22;39m\u001b[K\n",
      "executor >  google-batch (fusion enabled) (2)\u001b[K\n",
      "[c3/c201b5] process > run_seqspec_modify_rna (1) [  0%] 0 of 1\u001b[K\n",
      "[-        ] process > run_seqspec_print          -\u001b[K\n",
      "[-        ] process > run_seqspec_index_rna_kb   -\u001b[K\n",
      "[44/e29635] process > run_kb_ref                 [  0%] 0 of 1\u001b[K\n",
      "[-        ] process > run_kb_count               -\u001b[K\n",
      "[-        ] process > scrna_calculate_qc_metrics -\u001b[K\n",
      "\u001b[K\n",
      "\u001b[K\n",
      "\u001b[K\n",
      "\u001b[K\n",
      "\u001b[K\n",
      "\u001b[K\n",
      "\u001b[K\n",
      "\u001b[K\n",
      "\u001b[17A\n",
      "\u001b[32;1mMonitor the execution with Nextflow Tower using this URL: https://tower.nf/user/eila/watch/3EQgb5s4sRI3QD\u001b[22;39m\u001b[K\n",
      "executor >  google-batch (fusion enabled) (2)\u001b[K\n",
      "[c3/c201b5] process > run_seqspec_modify_rna (1) [  0%] 0 of 1 ✔\u001b[K\n",
      "[-        ] process > run_seqspec_print          -\u001b[K\n",
      "[-        ] process > run_seqspec_index_rna_kb   -\u001b[K\n",
      "[44/e29635] process > run_kb_ref                 [  0%] 0 of 1\u001b[K\n",
      "[-        ] process > run_kb_count               -\u001b[K\n",
      "[-        ] process > scrna_calculate_qc_metrics -\u001b[K\n",
      "start run_seqspec_modify_rna\u001b[K\n",
      "SRR18677638_1.fastq.gz\u001b[K\n",
      "SRR18677638_2.fastq.gz\u001b[K\n",
      "na.na\u001b[K\n",
      "nf_spec_dogmaseq_dig.yaml\u001b[K\n",
      "finished seqspec modify rna\u001b[K\n",
      "\u001b[K\n",
      "\u001b[K\n",
      "\u001b[17A\n",
      "\u001b[32;1mMonitor the execution with Nextflow Tower using this URL: https://tower.nf/user/eila/watch/3EQgb5s4sRI3QD\u001b[22;39m\u001b[K\n",
      "executor >  google-batch (fusion enabled) (2)\u001b[K\n",
      "[c3/c201b5] process > run_seqspec_modify_rna (1) [100%] 1 of 1 ✔\u001b[K\n",
      "[-        ] process > run_seqspec_print          [  0%] 0 of 1\u001b[K\n",
      "[-        ] process > run_seqspec_index_rna_kb   -\u001b[K\n",
      "[44/e29635] process > run_kb_ref                 [  0%] 0 of 1\u001b[K\n",
      "[-        ] process > run_kb_count               -\u001b[K\n",
      "[-        ] process > scrna_calculate_qc_metrics -\u001b[K\n",
      "start run_seqspec_modify_rna\u001b[K\n",
      "SRR18677638_1.fastq.gz\u001b[K\n",
      "SRR18677638_2.fastq.gz\u001b[K\n",
      "na.na\u001b[K\n",
      "nf_spec_dogmaseq_dig.yaml\u001b[K\n",
      "finished seqspec modify rna\u001b[K\n",
      "\u001b[K\n",
      "\u001b[16A\n",
      "\u001b[32;1mMonitor the execution with Nextflow Tower using this URL: https://tower.nf/user/eila/watch/3EQgb5s4sRI3QD\u001b[22;39m\u001b[K\n",
      "executor >  google-batch (fusion enabled) (2)\u001b[K\n",
      "[c3/c201b5] process > run_seqspec_modify_rna (1) [100%] 1 of 1 ✔\u001b[K\n",
      "[-        ] process > run_seqspec_print          [  0%] 0 of 1\u001b[K\n",
      "[-        ] process > run_seqspec_index_rna_kb   [  0%] 0 of 1\u001b[K\n",
      "[44/e29635] process > run_kb_ref                 [  0%] 0 of 1\u001b[K\n",
      "[-        ] process > run_kb_count               -\u001b[K\n",
      "[-        ] process > scrna_calculate_qc_metrics -\u001b[K\n",
      "start run_seqspec_modify_rna\u001b[K\n",
      "SRR18677638_1.fastq.gz\u001b[K\n",
      "SRR18677638_2.fastq.gz\u001b[K\n",
      "na.na\u001b[K\n",
      "nf_spec_dogmaseq_dig.yaml\u001b[K\n",
      "finished seqspec modify rna\u001b[K\n",
      "\u001b[K\n",
      "\u001b[16A\n",
      "\u001b[32;1mMonitor the execution with Nextflow Tower using this URL: https://tower.nf/user/eila/watch/3EQgb5s4sRI3QD\u001b[22;39m\u001b[K\n",
      "executor >  google-batch (fusion enabled) (3)\u001b[K\n",
      "[c3/c201b5] process > run_seqspec_modify_rna (1) [100%] 1 of 1 ✔\u001b[K\n",
      "[a2/c7ae0c] process > run_seqspec_print (1)      [  0%] 0 of 1\u001b[K\n",
      "[-        ] process > run_seqspec_index_rna_kb   [  0%] 0 of 1\u001b[K\n",
      "[44/e29635] process > run_kb_ref                 [  0%] 0 of 1\u001b[K\n",
      "[-        ] process > run_kb_count               -\u001b[K\n",
      "[-        ] process > scrna_calculate_qc_metrics -\u001b[K\n",
      "start run_seqspec_modify_rna\u001b[K\n",
      "SRR18677638_1.fastq.gz\u001b[K\n",
      "SRR18677638_2.fastq.gz\u001b[K\n",
      "na.na\u001b[K\n",
      "nf_spec_dogmaseq_dig.yaml\u001b[K\n",
      "finished seqspec modify rna\u001b[K\n",
      "\u001b[K\n",
      "\u001b[16A\n",
      "\u001b[32;1mMonitor the execution with Nextflow Tower using this URL: https://tower.nf/user/eila/watch/3EQgb5s4sRI3QD\u001b[22;39m\u001b[K\n",
      "executor >  google-batch (fusion enabled) (4)\u001b[K\n",
      "[c3/c201b5] process > run_seqspec_modify_rna (1)   [100%] 1 of 1 ✔\u001b[K\n",
      "[a2/c7ae0c] process > run_seqspec_print (1)        [  0%] 0 of 1\u001b[K\n",
      "[61/f8c7d3] process > run_seqspec_index_rna_kb (1) [  0%] 0 of 1\u001b[K\n",
      "[44/e29635] process > run_kb_ref                   [  0%] 0 of 1\u001b[K\n",
      "[-        ] process > run_kb_count                 -\u001b[K\n",
      "[-        ] process > scrna_calculate_qc_metrics   -\u001b[K\n",
      "start run_seqspec_modify_rna\u001b[K\n",
      "SRR18677638_1.fastq.gz\u001b[K\n",
      "SRR18677638_2.fastq.gz\u001b[K\n",
      "na.na\u001b[K\n",
      "nf_spec_dogmaseq_dig.yaml\u001b[K\n",
      "finished seqspec modify rna\u001b[K\n",
      "\u001b[K\n",
      "\u001b[16A\n",
      "\u001b[32;1mMonitor the execution with Nextflow Tower using this URL: https://tower.nf/user/eila/watch/3EQgb5s4sRI3QD\u001b[22;39m\u001b[K\n",
      "executor >  google-batch (fusion enabled) (4)\u001b[K\n",
      "[c3/c201b5] process > run_seqspec_modify_rna (1)   [100%] 1 of 1 ✔\u001b[K\n",
      "[a2/c7ae0c] process > run_seqspec_print (1)        [  0%] 0 of 1\u001b[K\n",
      "[61/f8c7d3] process > run_seqspec_index_rna_kb (1) [  0%] 0 of 1\u001b[K\n",
      "[44/e29635] process > run_kb_ref                   [  0%] 0 of 1\u001b[K\n",
      "[-        ] process > run_kb_count                 -\u001b[K\n",
      "[-        ] process > scrna_calculate_qc_metrics   -\u001b[K\n",
      "\u001b[K\n",
      "\u001b[K\n",
      "\u001b[K\n",
      "\u001b[K\n",
      "\u001b[K\n",
      "\u001b[K\n",
      "\u001b[K\n",
      "\u001b[16A\n",
      "\u001b[32;1mMonitor the execution with Nextflow Tower using this URL: https://tower.nf/user/eila/watch/3EQgb5s4sRI3QD\u001b[22;39m\u001b[K\n",
      "executor >  google-batch (fusion enabled) (4)\u001b[K\n",
      "[c3/c201b5] process > run_seqspec_modify_rna (1)   [100%] 1 of 1 ✔\u001b[K\n",
      "[a2/c7ae0c] process > run_seqspec_print (1)        [  0%] 0 of 1\u001b[K\n",
      "[61/f8c7d3] process > run_seqspec_index_rna_kb (1) [  0%] 0 of 1\u001b[K\n",
      "[44/e29635] process > run_kb_ref                   [  0%] 0 of 1\u001b[K\n",
      "[-        ] process > run_kb_count                 -\u001b[K\n",
      "[-        ] process > scrna_calculate_qc_metrics   -\u001b[K\n",
      "\u001b[K\n",
      "\u001b[K\n",
      "\u001b[K\n",
      "\u001b[K\n",
      "\u001b[K\n",
      "\u001b[K\n",
      "\u001b[K\n",
      "\u001b[16A\n",
      "\u001b[32;1mMonitor the execution with Nextflow Tower using this URL: https://tower.nf/user/eila/watch/3EQgb5s4sRI3QD\u001b[22;39m\u001b[K\n",
      "executor >  google-batch (fusion enabled) (4)\u001b[K\n",
      "[c3/c201b5] process > run_seqspec_modify_rna (1)   [100%] 1 of 1 ✔\u001b[K\n",
      "[a2/c7ae0c] process > run_seqspec_print (1)        [  0%] 0 of 1\u001b[K\n",
      "[61/f8c7d3] process > run_seqspec_index_rna_kb (1) [  0%] 0 of 1 ✔\u001b[K\n",
      "[44/e29635] process > run_kb_ref                   [  0%] 0 of 1\u001b[K\n",
      "[-        ] process > run_kb_count                 -\u001b[K\n",
      "[-        ] process > scrna_calculate_qc_metrics   -\u001b[K\n",
      "spec_yaml is nf_seqspec_modify.yaml\u001b[K\n",
      "RNA_R1_fastq_gz is SRR18677638_1.fastq.gz\u001b[K\n",
      "RNA_R2_fastq_gz is SRR18677638_2.fastq.gz\u001b[K\n",
      "RNA_R3_fastq_gz is na.na\u001b[K\n",
      "0,0,16:0,16,28:1,0,102\u001b[K\n",
      "finished run_seqspec_index_rna\u001b[K\n",
      "\u001b[K\n",
      "\u001b[16A\n",
      "\u001b[32;1mMonitor the execution with Nextflow Tower using this URL: https://tower.nf/user/eila/watch/3EQgb5s4sRI3QD\u001b[22;39m\u001b[K\n",
      "executor >  google-batch (fusion enabled) (4)\u001b[K\n",
      "[c3/c201b5] process > run_seqspec_modify_rna (1)   [100%] 1 of 1 ✔\u001b[K\n",
      "[a2/c7ae0c] process > run_seqspec_print (1)        [  0%] 0 of 1\u001b[K\n",
      "[61/f8c7d3] process > run_seqspec_index_rna_kb (1) [100%] 1 of 1 ✔\u001b[K\n",
      "[44/e29635] process > run_kb_ref                   [  0%] 0 of 1\u001b[K\n",
      "[-        ] process > run_kb_count                 -\u001b[K\n",
      "[-        ] process > scrna_calculate_qc_metrics   -\u001b[K\n",
      "spec_yaml is nf_seqspec_modify.yaml\u001b[K\n",
      "RNA_R1_fastq_gz is SRR18677638_1.fastq.gz\u001b[K\n",
      "RNA_R2_fastq_gz is SRR18677638_2.fastq.gz\u001b[K\n",
      "RNA_R3_fastq_gz is na.na\u001b[K\n",
      "0,0,16:0,16,28:1,0,102\u001b[K\n",
      "finished run_seqspec_index_rna\u001b[K\n",
      "\u001b[K\n",
      "\u001b[16A\n",
      "\u001b[32;1mMonitor the execution with Nextflow Tower using this URL: https://tower.nf/user/eila/watch/3EQgb5s4sRI3QD\u001b[22;39m\u001b[K\n",
      "executor >  google-batch (fusion enabled) (4)\u001b[K\n",
      "[c3/c201b5] process > run_seqspec_modify_rna (1)   [100%] 1 of 1 ✔\u001b[K\n",
      "[a2/c7ae0c] process > run_seqspec_print (1)        [  0%] 0 of 1\u001b[K\n",
      "[61/f8c7d3] process > run_seqspec_index_rna_kb (1) [100%] 1 of 1 ✔\u001b[K\n",
      "[44/e29635] process > run_kb_ref                   [  0%] 0 of 1\u001b[K\n",
      "[-        ] process > run_kb_count                 -\u001b[K\n",
      "[-        ] process > scrna_calculate_qc_metrics   -\u001b[K\n",
      "spec_yaml is nf_seqspec_modify.yaml\u001b[K\n",
      "RNA_R1_fastq_gz is SRR18677638_1.fastq.gz\u001b[K\n",
      "RNA_R2_fastq_gz is SRR18677638_2.fastq.gz\u001b[K\n",
      "RNA_R3_fastq_gz is na.na\u001b[K\n",
      "0,0,16:0,16,28:1,0,102\u001b[K\n",
      "finished run_seqspec_index_rna\u001b[K\n",
      "\u001b[K\n",
      "\u001b[16A\n",
      "\u001b[32;1mMonitor the execution with Nextflow Tower using this URL: https://tower.nf/user/eila/watch/3EQgb5s4sRI3QD\u001b[22;39m\u001b[K\n",
      "executor >  google-batch (fusion enabled) (4)\u001b[K\n",
      "[c3/c201b5] process > run_seqspec_modify_rna (1)   [100%] 1 of 1 ✔\u001b[K\n",
      "[a2/c7ae0c] process > run_seqspec_print (1)        [  0%] 0 of 1 ✔\u001b[K\n",
      "[61/f8c7d3] process > run_seqspec_index_rna_kb (1) [100%] 1 of 1 ✔\u001b[K\n",
      "[44/e29635] process > run_kb_ref                   [  0%] 0 of 1\u001b[K\n",
      "[-        ] process > run_kb_count                 -\u001b[K\n",
      "[-        ] process > scrna_calculate_qc_metrics   -\u001b[K\n",
      "spec_yaml is nf_seqspec_modify.yaml\u001b[K\n",
      "RNA_R1_fastq_gz is SRR18677638_1.fastq.gz\u001b[K\n",
      "RNA_R2_fastq_gz is SRR18677638_2.fastq.gz\u001b[K\n",
      "RNA_R3_fastq_gz is na.na\u001b[K\n",
      "0,0,16:0,16,28:1,0,102\u001b[K\n",
      "finished run_seqspec_index_rna\u001b[K\n",
      "\u001b[K\n",
      "nf_seqspec_modify.yaml\u001b[K\n",
      "I am running inside container: a75b4be5aa6b\u001b[K\n",
      "start run_seqspec_print\u001b[K\n",
      "nf_seqspec_modify.yaml\u001b[K\n",
      "nf_seqspec_modify.yaml\u001b[K\n",
      "seqspec.print.out\u001b[K\n",
      "finished seqspec print\u001b[K\n",
      "\u001b[K\n",
      "\u001b[24A\n",
      "\u001b[32;1mMonitor the execution with Nextflow Tower using this URL: https://tower.nf/user/eila/watch/3EQgb5s4sRI3QD\u001b[22;39m\u001b[K\n",
      "executor >  google-batch (fusion enabled) (4)\u001b[K\n",
      "[c3/c201b5] process > run_seqspec_modify_rna (1)   [100%] 1 of 1 ✔\u001b[K\n",
      "[a2/c7ae0c] process > run_seqspec_print (1)        [100%] 1 of 1 ✔\u001b[K\n",
      "[61/f8c7d3] process > run_seqspec_index_rna_kb (1) [100%] 1 of 1 ✔\u001b[K\n",
      "[44/e29635] process > run_kb_ref                   [  0%] 0 of 1\u001b[K\n",
      "[-        ] process > run_kb_count                 -\u001b[K\n",
      "[-        ] process > scrna_calculate_qc_metrics   -\u001b[K\n",
      "spec_yaml is nf_seqspec_modify.yaml\u001b[K\n",
      "RNA_R1_fastq_gz is SRR18677638_1.fastq.gz\u001b[K\n",
      "RNA_R2_fastq_gz is SRR18677638_2.fastq.gz\u001b[K\n",
      "RNA_R3_fastq_gz is na.na\u001b[K\n",
      "0,0,16:0,16,28:1,0,102\u001b[K\n",
      "finished run_seqspec_index_rna\u001b[K\n",
      "\u001b[K\n",
      "nf_seqspec_modify.yaml\u001b[K\n",
      "I am running inside container: a75b4be5aa6b\u001b[K\n",
      "start run_seqspec_print\u001b[K\n",
      "nf_seqspec_modify.yaml\u001b[K\n",
      "nf_seqspec_modify.yaml\u001b[K\n",
      "seqspec.print.out\u001b[K\n",
      "finished seqspec print\u001b[K\n",
      "\u001b[K\n"
     ]
    }
   ],
   "source": [
    "\n",
    "!nextflow run nf_wf_fg_singlecell_rna.nf -c nextflow_vm.config -profile google_batch_profile  -with-tower -resume\n",
    "\n",
    "\n",
    "# !nextflow run nf_wf_fg_singlecell_rna.nf -c nextflow_vm.config -profile google_batch_profile -resume\n",
    "\n",
    "\n",
    "# !nextflow run nf_wf_fg_singlecell_rna.nf -c nextflow_vm.config -profile google_batch_profile -resume\n",
    "\n",
    "\n",
    "\n",
    "# !nextflow run nf_wf_fg_singlecell_rna.nf -c nextflow_vm.config -profile docker_local -resume\n",
    "\n",
    "\n",
    "\n",
    "\n",
    "\n",
    "# !nextflow run nf_wf_fg_singlecell_rna.nf -c nextflow_vm.config -profile google_batch_profile -resume\n",
    "\n",
    "\n",
    "\n",
    "\n",
    "# !nextflow run nf_wf_fg_singlecell_rna.nf -c nextflow.config -profile docker_profile -resume\n",
    "# !nextflow run nf_wf_fg_singlecell_rna.nf -c nextflow_vm.config -profile google_batch_profile -resume\n",
    "# !nextflow run nf_wf_fg_singlecell_rna.nf -c nextflow_local.config -profile google_batch_profile -resume\n",
    "# !nextflow run nf_wf_fg_singlecell_rna.nf -c nextflow_vm.config -profile google_batch_profile -resume\n",
    "# !nextflow run nf_wf_fg_singlecell_rna.nf -c nextflow.config -profile docker_profile -resume\n",
    "# !nextflow run nf_wf_fg_singlecell_rna.nf -c nextflow.config -profile google_batch_profile -resume"
   ]
  },
  {
   "cell_type": "code",
   "execution_count": null,
   "metadata": {
    "tags": []
   },
   "outputs": [],
   "source": [
    "!cat .nextflow.log "
   ]
  },
  {
   "cell_type": "code",
   "execution_count": null,
   "metadata": {
    "tags": []
   },
   "outputs": [],
   "source": [
    "import datetime\n",
    "now = datetime.datetime.now()\n",
    "print(now)"
   ]
  },
  {
   "cell_type": "code",
   "execution_count": null,
   "metadata": {},
   "outputs": [],
   "source": []
  },
  {
   "cell_type": "code",
   "execution_count": null,
   "metadata": {},
   "outputs": [],
   "source": []
  }
 ],
 "metadata": {
  "kernelspec": {
   "display_name": "Python 3 (ipykernel)",
   "language": "python",
   "name": "python3"
  },
  "language_info": {
   "codemirror_mode": {
    "name": "ipython",
    "version": 3
   },
   "file_extension": ".py",
   "mimetype": "text/x-python",
   "name": "python",
   "nbconvert_exporter": "python",
   "pygments_lexer": "ipython3",
   "version": "3.7.16"
  }
 },
 "nbformat": 4,
 "nbformat_minor": 4
}
