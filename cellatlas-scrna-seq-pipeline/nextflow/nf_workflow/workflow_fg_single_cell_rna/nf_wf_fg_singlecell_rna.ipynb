{
 "cells": [
  {
   "cell_type": "code",
   "execution_count": 111,
   "metadata": {
    "tags": []
   },
   "outputs": [],
   "source": [
    "# start docker deamon in terminal\n",
    "# !sudo docker login\n",
    "# OR - becuase the jupyther with allow root\n",
    "# !docker login"
   ]
  },
  {
   "cell_type": "code",
   "execution_count": 112,
   "metadata": {
    "tags": []
   },
   "outputs": [
    {
     "name": "stdout",
     "output_type": "stream",
     "text": [
      "/home/eila/git_igvf/cellatlas-scrna-seq-pipeline/nextflow/nf_workflow/workflow_fg_single_cell_rna\n"
     ]
    }
   ],
   "source": [
    "!pwd"
   ]
  },
  {
   "cell_type": "code",
   "execution_count": 168,
   "metadata": {
    "tags": []
   },
   "outputs": [
    {
     "name": "stdout",
     "output_type": "stream",
     "text": [
      "barcode_rank_functions.R  scrna_plot_qc_debug.R    scrna_qc_metrics-Copy1.py\n",
      "rna_qc_plot.py\t\t  scrna_plot_qc_metrics.R  scrna_qc_metrics.py\n"
     ]
    }
   ],
   "source": [
    "!ls bin"
   ]
  },
  {
   "cell_type": "code",
   "execution_count": 169,
   "metadata": {
    "tags": []
   },
   "outputs": [],
   "source": [
    "# !chmod +x ./bin/scrna_qc_metrics.py\n",
    "# !chmod +x /home/eila/git_igvf/cellatlas-scrna-seq-pipeline/nextflow/nf_workflow/workflow_fg_single_cell_rna/bin/scrna_plot_qc_metrics.R\n",
    "\n",
    "# !chmod +x /home/eila/git_igvf/cellatlas-scrna-seq-pipeline/nextflow/nf_workflow/workflow_fg_single_cell_rna/bin/scrna_plot_qc_debug.R\n",
    "# !chmod +x /home/eila/git_igvf/cellatlas-scrna-seq-pipeline/nextflow/nf_workflow/workflow_fg_single_cell_rna/bin/scrna_plot_qc_metrics.R\n",
    "\n",
    "!chmod +x /home/eila/git_igvf/cellatlas-scrna-seq-pipeline/nextflow/nf_workflow/workflow_fg_single_cell_rna/bin/barcode_rank_functions.R"
   ]
  },
  {
   "cell_type": "code",
   "execution_count": 170,
   "metadata": {
    "tags": []
   },
   "outputs": [
    {
     "name": "stdout",
     "output_type": "stream",
     "text": [
      "/home/eila/git_igvf/cellatlas-scrna-seq-pipeline/nextflow/nf_workflow/workflow_fg_single_cell_rna/bin/scrna_plot_qc_debug.R\n"
     ]
    }
   ],
   "source": [
    "!ls /home/eila/git_igvf/cellatlas-scrna-seq-pipeline/nextflow/nf_workflow/workflow_fg_single_cell_rna/bin/scrna_plot_qc_debug.R\n"
   ]
  },
  {
   "cell_type": "code",
   "execution_count": 171,
   "metadata": {
    "tags": []
   },
   "outputs": [
    {
     "name": "stdout",
     "output_type": "stream",
     "text": [
      "                  Credentialed Accounts\n",
      "ACTIVE  ACCOUNT\n",
      "        886987709752-compute@developer.gserviceaccount.com\n",
      "*       eila-batch@hai-gcp-genomic.iam.gserviceaccount.com\n",
      "\n",
      "To set the active account, run:\n",
      "    $ gcloud config set account `ACCOUNT`\n",
      "\n"
     ]
    }
   ],
   "source": [
    "!gcloud auth list\n",
    "# gcloud config set account\n"
   ]
  },
  {
   "cell_type": "code",
   "execution_count": 172,
   "metadata": {
    "tags": []
   },
   "outputs": [
    {
     "name": "stdout",
     "output_type": "stream",
     "text": [
      "eyJ0aWQiOiA4Mjk3fS5jNDNmYzA4NTg2MjAxNDQzOTAwYmUzNWEzZTY0MGMyZTc0OWE3M2Mz\n"
     ]
    }
   ],
   "source": [
    "import os\n",
    "# os.environ[\"TOWER_ACCESS_TOKEN\"] = 'XXX'\n",
    "# os.environ[\"TOWER_ACCESS_TOKEN\"] = 'eyJ0aWQiOiA4Mjk3fS5jNDNmYzA4NTg2MjAxNDQzOTAwYmUzNWEzZTY0MGMyZTc0OWE3M2Mz'\n",
    "\n",
    "!echo $TOWER_ACCESS_TOKEN"
   ]
  },
  {
   "cell_type": "code",
   "execution_count": 173,
   "metadata": {
    "tags": []
   },
   "outputs": [
    {
     "name": "stdout",
     "output_type": "stream",
     "text": [
      "  Version: 23.10.0 build 5889\n",
      "  Created: 15-10-2023 15:07 UTC \n",
      "  System: Linux 5.10.0-26-cloud-amd64\n",
      "  Runtime: Groovy 3.0.19 on OpenJDK 64-Bit Server VM 11.0.13+7-b1751.21\n",
      "  Encoding: UTF-8 (UTF-8)\n",
      "\n"
     ]
    }
   ],
   "source": [
    "!nextflow info"
   ]
  },
  {
   "cell_type": "code",
   "execution_count": 174,
   "metadata": {
    "tags": []
   },
   "outputs": [
    {
     "data": {
      "text/plain": [
       "'/home/eila/git_igvf/cellatlas-scrna-seq-pipeline/nextflow/nf_workflow/workflow_fg_single_cell_rna'"
      ]
     },
     "execution_count": 174,
     "metadata": {},
     "output_type": "execute_result"
    }
   ],
   "source": [
    "import os\n",
    "os.getcwd()"
   ]
  },
  {
   "cell_type": "code",
   "execution_count": 175,
   "metadata": {
    "tags": []
   },
   "outputs": [
    {
     "name": "stdout",
     "output_type": "stream",
     "text": [
      "Overwriting nextflow_local.config\n"
     ]
    }
   ],
   "source": [
    "%%writefile nextflow_local.config\n",
    "\n",
    "includeConfig 'conf/conda.config'\n",
    "\n",
    "\n",
    "manifest {\n",
    "  description = 'A nexflow pipeline for fg single cell' \n",
    "  mainScript = 'nf_wf_fg_singlecell_rna.nf'\n",
    "}\n",
    "\n",
    "profiles {\n",
    "  conda_profile {\n",
    "    includeConfig 'conf/conda.config'\n",
    "    conda.enabled = true\n",
    "    executor = 'local'\n",
    "    }\n",
    "\n",
    "  conda_docker_profile {\n",
    "    includeConfig 'conf/conda_docker.config'\n",
    "    executor = 'local'\n",
    "    }\n",
    "\n",
    "  docker_local {\n",
    "    includeConfig 'conf/docker.config'\n",
    "    docker.envWhitelist=['ENV_SYNAPSE_TOKEN','TOWER_ACCESS_TOKEN']\n",
    "  }\n",
    "  google_batch_profile {\n",
    "    workDir = 'gs://eila-nextflow-bucket/work/RNA'\n",
    "    wave.enabled = true\n",
    "    fusion.enabled = true\n",
    "    process.scratch = false\n",
    "    includeConfig 'conf/docker-google-batch.config'\n",
    "    docker.enabled = true\n",
    "    docker.envWhitelist=['ENV_SYNAPSE_TOKEN','TOWER_ACCESS_TOKEN']\n",
    "    google.project = 'hai-gcp-genomic'\n",
    "    google.location = 'us-central1'\n",
    "    google.batch.spot = false\n",
    "    google.batch.serviceAccountEmail='eila-batch@hai-gcp-genomic.iam.gserviceaccount.com'\n",
    "  }\n",
    "}\n",
    "\n",
    "// Define ENV_SYNAPSE_TOKEN as a parameter\n",
    "params.ORGANISM = 'human'\n",
    "params.FASTQS_SPEC_CH = '/Users/eilaarich-landkof-stanford/Documents/Code/git_igvf/cellatlas-scrna-seq-pipeline/nextflow/nf_data/nf_wf_fg_singlecell/rna_fastqs_files_local.csv'\n",
    "params.GENOME_FASTA='http://ftp.ensembl.org/pub/release-109/fasta/homo_sapiens/dna/Homo_sapiens.GRCh38.dna.primary_assembly.fa.gz'\n",
    "params.GENOME_GZ_GTF='http://ftp.ensembl.org/pub/release-109/gtf/homo_sapiens/Homo_sapiens.GRCh38.109.gtf.gz'\n",
    "params.ENV_SYNAPSE_TOKEN = \"nextflow secrets get SYNAPSE\".execute().text.trim()\n",
    "params.SYNAPSE_CONFIG = '/Users/eilaarich-landkof-stanford/Documents/Code/git_igvf/cellatlas-scrna-seq-pipeline/nextflow/nf_data/nf_wf_fg_singlecell/synapse.config'\n",
    "params.SYNAPSE_IDS = '/Users/eilaarich-landkof-stanford/Documents/Code/git_igvf/cellatlas-scrna-seq-pipeline/nextflow/nf_data/nf_wf_fg_singlecell/synapse_ids.csv'\n",
    "params.SC_RNA_QC_SCRIPT='scrna_qc_metrics.py'\n",
    "params.SC_RNA_QC_PLOT_SCRIPT='scrna_plot_qc_debug.R'\n",
    "params.SC_RNA_QC_PLOT_HELPER_SCRIPT='barcode_rank_functions.R'\n",
    "params.SUBPOOL = 'no_subpool'\n",
    "params.UMI_CUTOFF=2\n",
    "params.GENE_CUTOFF=3\n",
    "params.RNA_DEBUG_QC='/home/eila/git_igvf/cellatlas-scrna-seq-pipeline/nextflow/nf_workflow/workflow_fg_single_cell_rna/sc_rna_qc_calculate.tsv'\n",
    "\n"
   ]
  },
  {
   "cell_type": "code",
   "execution_count": 176,
   "metadata": {
    "tags": []
   },
   "outputs": [],
   "source": [
    "# params.ANNDATA_DEBUG_FILE = '/home/eila/git_igvf/cellatlas-scrna-seq-pipeline/nextflow/nf_workflow/workflow_fg_single_cell_rna/adata.h5ad'\n"
   ]
  },
  {
   "cell_type": "code",
   "execution_count": 177,
   "metadata": {
    "tags": []
   },
   "outputs": [
    {
     "name": "stdout",
     "output_type": "stream",
     "text": [
      "-rw-r--r-- 1 eila eila 391817928 Nov 13 23:23 /home/eila/git_igvf/cellatlas-scrna-seq-pipeline/nextflow/nf_workflow/workflow_fg_single_cell_rna/adata.h5ad\n"
     ]
    }
   ],
   "source": [
    "!ls -lt /home/eila/git_igvf/cellatlas-scrna-seq-pipeline/nextflow/nf_workflow/workflow_fg_single_cell_rna/adata.h5ad"
   ]
  },
  {
   "cell_type": "code",
   "execution_count": 178,
   "metadata": {
    "tags": []
   },
   "outputs": [
    {
     "name": "stdout",
     "output_type": "stream",
     "text": [
      "  Version: 23.10.0 build 5889\n",
      "  Created: 15-10-2023 15:07 UTC \n",
      "  System: Linux 5.10.0-26-cloud-amd64\n",
      "  Runtime: Groovy 3.0.19 on OpenJDK 64-Bit Server VM 11.0.13+7-b1751.21\n",
      "  Encoding: UTF-8 (UTF-8)\n",
      "\n"
     ]
    }
   ],
   "source": [
    "!nextflow info"
   ]
  },
  {
   "cell_type": "code",
   "execution_count": 179,
   "metadata": {
    "tags": []
   },
   "outputs": [],
   "source": [
    "# !ls /home/eila/git_igvf/cellatlas-scrna-seq-pipeline/nextflow/nf_data/nf_wf_fg_singlecell"
   ]
  },
  {
   "cell_type": "code",
   "execution_count": 180,
   "metadata": {
    "tags": []
   },
   "outputs": [
    {
     "name": "stdout",
     "output_type": "stream",
     "text": [
      "Overwriting nextflow_vm.config\n"
     ]
    }
   ],
   "source": [
    "%%writefile nextflow_vm.config\n",
    "\n",
    "includeConfig 'conf/conda.config'\n",
    "\n",
    "\n",
    "manifest {\n",
    "  description = 'A nexflow pipeline for fg single cell' \n",
    "  mainScript = 'nf_wf_fg_singlecell_rna.nf'\n",
    "}\n",
    "\n",
    "profiles {\n",
    "  conda_profile {\n",
    "    includeConfig 'conf/conda.config'\n",
    "    conda.enabled = true\n",
    "    executor = 'local'\n",
    "    }\n",
    "\n",
    "  docker_local {\n",
    "    includeConfig 'conf/docker.config'\n",
    "    docker.enabled = true\n",
    "    docker.envWhitelist=['ENV_SYNAPSE_TOKEN','TOWER_ACCESS_TOKEN']\n",
    "    executor = 'local'\n",
    "  }\n",
    "  google_batch_profile {\n",
    "    workDir = 'gs://eila-nextflow-bucket/work/RNA'\n",
    "    includeConfig 'conf/docker-google-batch.config'\n",
    "    docker.enabled = true\n",
    "    wave.enabled = true\n",
    "    fusion.enabled = true\n",
    "    process.scratch = false\n",
    "    executor = 'google-batch'\n",
    "    docker.envWhitelist=['ENV_SYNAPSE_TOKEN','TOWER_ACCESS_TOKEN']\n",
    "    google.project = 'hai-gcp-genomic'\n",
    "    google.location = 'us-central1'\n",
    "    google.batch.spot = true\n",
    "    google.batch.serviceAccountEmail='eila-batch@hai-gcp-genomic.iam.gserviceaccount.com'\n",
    "  }\n",
    "    \n",
    "}\n",
    "\n",
    "// Define ENV_SYNAPSE_TOKEN as a parameter\n",
    "params.ORGANISM = 'human'\n",
    "params.FASTQS_SPEC_CH = '/home/eila/git_igvf/cellatlas-scrna-seq-pipeline/nextflow/nf_data/nf_wf_fg_singlecell/rna_fastqs_files_vm-dogma-dig.csv'\n",
    "params.GENOME_FASTA='http://ftp.ensembl.org/pub/release-109/fasta/homo_sapiens/dna/Homo_sapiens.GRCh38.dna.primary_assembly.fa.gz'\n",
    "params.GENOME_GZ_GTF='http://ftp.ensembl.org/pub/release-109/gtf/homo_sapiens/Homo_sapiens.GRCh38.109.gtf.gz'\n",
    "params.ENV_SYNAPSE_TOKEN = \"nextflow secrets get SYNAPSE\".execute().text.trim()\n",
    "params.SYNAPSE_CONFIG = '/home/eila/git_igvf/cellatlas-scrna-seq-pipeline/nextflow/nf_data/nf_wf_fg_singlecell/synapse.config'\n",
    "params.SYNAPSE_IDS = '/home/eila/git_igvf/cellatlas-scrna-seq-pipeline/nextflow/nf_data/nf_wf_fg_singlecell/synapse_ids.csv'\n",
    "params.SUBPOOL = 'no_subpool'\n",
    "params.UMI_CUTOFF=2\n",
    "params.GENE_CUTOFF=3\n",
    "params.SC_RNA_QC_SCRIPT='scrna_qc_metrics.py'\n",
    "params.SC_RNA_QC_PLOT_SCRIPT='scrna_plot_qc_metrics.R'\n",
    "params.SC_RNA_QC_PLOT_HELPER_SCRIPT='barcode_rank_functions.R'\n",
    "params.UMI_CUTOFF=2\n",
    "params.GENE_CUTOFF=3\n",
    "params.RNA_DEBUG_QC='/home/eila/git_igvf/cellatlas-scrna-seq-pipeline/nextflow/nf_workflow/workflow_fg_single_cell_rna/sc_rna_qc_calculate.tsv'\n"
   ]
  },
  {
   "cell_type": "code",
   "execution_count": 181,
   "metadata": {
    "tags": []
   },
   "outputs": [],
   "source": [
    "# params.ANNDATA_FILE = '/home/eila/git_igvf/cellatlas-scrna-seq-pipeline/nextflow/nf_workflow/workflow_fg_single_cell_rna/adata.h5ad'\n"
   ]
  },
  {
   "cell_type": "code",
   "execution_count": 182,
   "metadata": {
    "tags": []
   },
   "outputs": [],
   "source": [
    "# !cat /home/eila/git_igvf/cellatlas-scrna-seq-pipeline/nextflow/nf_data/nf_wf_fg_singlecell/rna_fastqs_files_vm-dogma-dig.csv"
   ]
  },
  {
   "cell_type": "code",
   "execution_count": 183,
   "metadata": {
    "tags": []
   },
   "outputs": [],
   "source": [
    "# !head /home/eila/git_igvf/cellatlas-scrna-seq-pipeline/nextflow/nf_data/nf_wf_fg_singlecell/specs/dogmaseq-dig/nf_spec_dogmaseq_dig.yaml"
   ]
  },
  {
   "cell_type": "code",
   "execution_count": 184,
   "metadata": {
    "tags": []
   },
   "outputs": [],
   "source": [
    "# !head /home/eila/git_igvf/cellatlas-scrna-seq-pipeline/nextflow/nf_data/nf_wf_fg_singlecell/specs/dogmaseq-dig/RNA-737K-arc-v1.txt"
   ]
  },
  {
   "cell_type": "code",
   "execution_count": 185,
   "metadata": {
    "tags": []
   },
   "outputs": [],
   "source": [
    "# !ls /home/eila/git_igvf/cellatlas-scrna-seq-pipeline/nextflow/nf_workflow/workflow_fg_single_cell_rna\n"
   ]
  },
  {
   "cell_type": "code",
   "execution_count": 186,
   "metadata": {
    "tags": []
   },
   "outputs": [],
   "source": [
    "# !rm -rf /home/eila/git_igvf/cellatlas-scrna-seq-pipeline/nextflow/nf_workflow/workflow_fg_single_cell_rna/work\n",
    "\n",
    "\n",
    "# !gsutil -m rm -r gs://eila-nextflow-bucket/work/RNA\n",
    "\n",
    "\n"
   ]
  },
  {
   "cell_type": "code",
   "execution_count": 329,
   "metadata": {
    "tags": []
   },
   "outputs": [
    {
     "name": "stdout",
     "output_type": "stream",
     "text": [
      "N E X T F L O W  ~  version 23.10.0\n",
      "Launching `nf_wf_fg_singlecell_rna.nf` [focused_ekeblad] DSL2 - revision: 980a81cb6e\n",
      "null\n",
      "/home/eila/git_igvf/cellatlas-scrna-seq-pipeline/nextflow/nf_data/nf_wf_fg_singlecell/rna_fastqs_files_vm-dogma-dig.csv\n",
      "scrna_qc_metrics_tsv is: /home/eila/git_igvf/cellatlas-scrna-seq-pipeline/nextflow/nf_workflow/workflow_fg_single_cell_rna/sc_rna_qc_calculate.tsv\n",
      "sc_rna_qc_plot_script is: scrna_plot_qc_metrics.R\n",
      "sc_rna_qc_plot_helper_script is: barcode_rank_functions.R\n",
      "[-        ] process > scrna_plot_qc_metrics_prcs -\u001b[K\n",
      "\u001b[2A\n",
      "[-        ] process > scrna_plot_qc_metrics_prcs [  0%] 0 of 1\u001b[K\n",
      "\u001b[2A\n",
      "executor >  local (1)\u001b[K\n",
      "[7e/459d92] process > scrna_plot_qc_metrics_prcs [  0%] 0 of 1\u001b[K\n",
      "\u001b[3A\n",
      "executor >  local (1)\u001b[K\n",
      "[7e/459d92] process > scrna_plot_qc_metrics_prcs [100%] 1 of 1 ✔\u001b[K\n",
      "R QC Plot Script: scrna_plot_qc_metrics.R\u001b[K\n",
      "R QC Plot Helper Script: barcode_rank_functions.R\u001b[K\n",
      "RNA QC Metrics TSV: sc_rna_qc_calculate.tsv\u001b[K\n",
      "UMI Cutoff: 2\u001b[K\n",
      "Gene Cutoff: 3\u001b[K\n",
      "UMI Rank Plot All Output: umi_rank_plot_all_output.png\u001b[K\n",
      "UMI Rank Plot Top Output: umi_rank_plot_top_output.png\u001b[K\n",
      "Gene UMI Plot File Output: gene_umi_plot_file_output.png\u001b[K\n",
      "Starting scrna_plot_qc_metrics_prcs...\u001b[K\n",
      "Script path: /home/eila/git_igvf/cellatlas-scrna-seq-pipeline/nextflow/nf_workflow/workflow_fg_single_cell_rna/bin/scrna_plot_qc_metrics.R\u001b[K\n",
      "Executing main script...\u001b[K\n",
      "Found file: /home/eila/git_igvf/cellatlas-scrna-seq-pipeline/nextflow/nf_workflow/workflow_fg_single_cell_rna/bin/barcode_rank_functions.R \u001b[K\n",
      "Hello, this is the main function!\u001b[K\n",
      "Barcode Metadata File: sc_rna_qc_calculate.tsv \u001b[K\n",
      "UMI Cutoff: 2 \u001b[K\n",
      "Gene Cutoff: 3 \u001b[K\n",
      "UMI Rank Plot File: umi_rank_plot_all_output.png \u001b[K\n",
      "GENE Rank Plot File: umi_rank_plot_top_output.png \u001b[K\n",
      "GENE UMI Rank Plot File: gene_umi_plot_file_output.png \u001b[K\n",
      "current_directory: /home/eila/git_igvf/cellatlas-scrna-seq-pipeline/nextflow/nf_workflow/workflow_fg_single_cell_rna/work/7e/459d92e0a4c90f38e302041d247700 \u001b[K\n",
      "Files in the working directory:\u001b[K\n",
      "sc_rna_qc_calculate.tsv\u001b[K\n",
      "PATH: /opt/conda/envs/rna_qc_env/bin:/opt/conda/condabin:/opt/conda/bin:/usr/local/sbin:/usr/local/bin:/usr/sbin:/usr/bin:/sbin:/bin:/home/eila/git_igvf/cellatlas-scrna-seq-pipeline/nextflow/nf_workflow/workflow_fg_single_cell_rna/bin \u001b[K\n",
      "Printing RNA QC metrics...\u001b[K\n",
      "print_rna_qc_metrics: Parsed Arguments:\u001b[K\n",
      "print_rna_qc_metrics: Barcode Metadata File: sc_rna_qc_calculate.tsv \u001b[K\n",
      "print_rna_qc_metrics: UMI Cutoff: 2 \u001b[K\n",
      "print_rna_qc_metrics: Gene Cutoff: 3 \u001b[K\n",
      "print_rna_qc_metrics: UMI Rank Plot File: umi_rank_plot_all_output.png \u001b[K\n",
      "print_rna_qc_metrics: GENE Rank Plot File: umi_rank_plot_top_output.png \u001b[K\n",
      "print_rna_qc_metrics: GENE UMI Rank Plot File: gene_umi_plot_file_output.png \u001b[K\n",
      "print_rna_qc_metrics: Reading barcode metadata from file: sc_rna_qc_calculate.tsv \u001b[K\n",
      "print_rna_qc_metrics: calling get_elbow_knee_points \u001b[K\n",
      "[1] \"Returning sliced vectors\"\u001b[K\n",
      "[1] \"Returning sliced vectors\"\u001b[K\n",
      "null device \u001b[K\n",
      "          1 \u001b[K\n",
      "\u001b[K\n",
      "Finished scrna_plot_qc_metrics_prcs.\u001b[K\n",
      "\u001b[K\n",
      "\n"
     ]
    }
   ],
   "source": [
    "\n",
    "!nextflow run nf_wf_fg_singlecell_rna.nf -c nextflow_vm.config -profile docker_local\n",
    "# -resume \n",
    "# 8af1ba30-6606-4dfd-a851-c6d0b74bdd43\n",
    "# 8af1ba30-6606-4dfd-a851-c6d0b74bdd43\n",
    "# 8af1ba30-6606-4dfd-a851-c6d0b74bdd43\n",
    "\n",
    "\n",
    "\n",
    "# !nextflow run nf_wf_fg_singlecell_rna.nf -c nextflow_vm.config -profile docker_local -resume\n",
    "\n",
    "\n",
    "\n",
    "# !nextflow run nf_wf_fg_singlecell_rna.nf -c nextflow_vm.config -profile google_batch_profile  -with-tower\n",
    "\n",
    "# docker_local\n",
    "\n",
    "\n",
    "\n",
    "# !nextflow run nf_wf_fg_singlecell_rna.nf -c nextflow_vm.config -profile google_batch_profile\n",
    "\n",
    "\n",
    "\n",
    "\n",
    "# !nextflow run nf_wf_fg_singlecell_rna.nf -c nextflow.config -profile docker_profile\n",
    "# !nextflow run nf_wf_fg_singlecell_rna.nf -c nextflow_vm.config -profile google_batch_profile\n",
    "# !nextflow run nf_wf_fg_singlecell_rna.nf -c nextflow_vm_anvil.config -profile google_batch_profile\n",
    "# !nextflow run nf_wf_fg_singlecell_rna.nf -c nextflow_local.config -profile google_batch_profile\n",
    "# !nextflow run nf_wf_fg_singlecell_rna.nf -c nextflow_local.config -profile docker_profile"
   ]
  },
  {
   "cell_type": "code",
   "execution_count": 330,
   "metadata": {
    "tags": []
   },
   "outputs": [
    {
     "name": "stdout",
     "output_type": "stream",
     "text": [
      "/home/eila/git_igvf/cellatlas-scrna-seq-pipeline/nextflow/nf_workflow/workflow_fg_single_cell_rna\n"
     ]
    }
   ],
   "source": [
    "!pwd"
   ]
  },
  {
   "cell_type": "code",
   "execution_count": 331,
   "metadata": {
    "tags": []
   },
   "outputs": [],
   "source": [
    "# !ls /home/eila/git_igvf/cellatlas-scrna-seq-pipeline/nextflow/nf_workflow/workflow_fg_single_cell_rna/bin/scrna_plot_qc_metrics.R"
   ]
  },
  {
   "cell_type": "code",
   "execution_count": 332,
   "metadata": {
    "tags": []
   },
   "outputs": [
    {
     "name": "stdout",
     "output_type": "stream",
     "text": [
      "Nov-16 00:15:51.593 [main] DEBUG nextflow.cli.Launcher - $> nextflow run nf_wf_fg_singlecell_rna.nf -c nextflow_vm.config -profile docker_local\n",
      "Nov-16 00:15:52.017 [main] INFO  nextflow.cli.CmdRun - N E X T F L O W  ~  version 23.10.0\n",
      "Nov-16 00:15:52.055 [main] DEBUG nextflow.plugin.PluginsFacade - Setting up plugin manager > mode=prod; embedded=false; plugins-dir=/home/eila/.nextflow/plugins; core-plugins: nf-amazon@2.1.4,nf-azure@1.3.2,nf-cloudcache@0.3.0,nf-codecommit@0.1.5,nf-console@1.0.6,nf-ga4gh@1.1.0,nf-google@1.8.3,nf-tower@1.6.3,nf-wave@1.0.0\n",
      "Nov-16 00:15:52.073 [main] INFO  o.pf4j.DefaultPluginStatusProvider - Enabled plugins: []\n",
      "Nov-16 00:15:52.075 [main] INFO  o.pf4j.DefaultPluginStatusProvider - Disabled plugins: []\n",
      "Nov-16 00:15:52.081 [main] INFO  org.pf4j.DefaultPluginManager - PF4J version 3.4.1 in 'deployment' mode\n",
      "Nov-16 00:15:52.099 [main] INFO  org.pf4j.AbstractPluginManager - No plugins\n",
      "Nov-16 00:15:52.159 [main] DEBUG nextflow.config.ConfigBuilder - User config file: /home/eila/git_igvf/cellatlas-scrna-seq-pipeline/nextflow/nf_workflow/workflow_fg_single_cell_rna/nextflow_vm.config\n",
      "Nov-16 00:15:52.161 [main] DEBUG nextflow.config.ConfigBuilder - Parsing config file: /home/eila/git_igvf/cellatlas-scrna-seq-pipeline/nextflow/nf_workflow/workflow_fg_single_cell_rna/nextflow_vm.config\n",
      "Nov-16 00:15:52.212 [main] DEBUG nextflow.config.ConfigBuilder - Applying config profile: `docker_local`\n",
      "Nov-16 00:15:55.396 [main] DEBUG nextflow.config.ConfigBuilder - Available config profiles: [docker_local, google_batch_profile, conda_profile]\n",
      "Nov-16 00:15:55.435 [main] DEBUG nextflow.cli.CmdRun - Applied DSL=2 by global default\n",
      "Nov-16 00:15:55.460 [main] INFO  nextflow.cli.CmdRun - Launching `nf_wf_fg_singlecell_rna.nf` [focused_ekeblad] DSL2 - revision: 980a81cb6e\n",
      "Nov-16 00:15:55.461 [main] DEBUG nextflow.plugin.PluginsFacade - Plugins default=[]\n",
      "Nov-16 00:15:55.462 [main] DEBUG nextflow.plugin.PluginsFacade - Plugins resolved requirement=[nf-tower@1.6.3]\n",
      "Nov-16 00:15:55.462 [main] DEBUG nextflow.plugin.PluginUpdater - Installing plugin nf-tower version: 1.6.3\n",
      "Nov-16 00:15:55.474 [main] INFO  org.pf4j.AbstractPluginManager - Plugin 'nf-tower@1.6.3' resolved\n",
      "Nov-16 00:15:55.475 [main] INFO  org.pf4j.AbstractPluginManager - Start plugin 'nf-tower@1.6.3'\n",
      "Nov-16 00:15:55.495 [main] DEBUG nextflow.plugin.BasePlugin - Plugin started nf-tower@1.6.3\n",
      "Nov-16 00:15:55.509 [main] DEBUG n.secret.LocalSecretsProvider - Secrets store: /home/eila/.nextflow/secrets/store.json\n",
      "Nov-16 00:15:55.516 [main] DEBUG nextflow.secret.SecretsLoader - Discovered secrets providers: [nextflow.secret.LocalSecretsProvider@2f10f633] - activable => nextflow.secret.LocalSecretsProvider@2f10f633\n",
      "Nov-16 00:15:55.596 [main] DEBUG nextflow.Session - Session UUID: becedc50-945f-4f26-ab13-4ebd072d2c05\n",
      "Nov-16 00:15:55.597 [main] DEBUG nextflow.Session - Run name: focused_ekeblad\n",
      "Nov-16 00:15:55.597 [main] DEBUG nextflow.Session - Executor pool size: 4\n",
      "Nov-16 00:15:55.607 [main] DEBUG nextflow.file.FilePorter - File porter settings maxRetries=3; maxTransfers=50; pollTimeout=null\n",
      "Nov-16 00:15:55.612 [main] DEBUG nextflow.util.ThreadPoolBuilder - Creating thread pool 'FileTransfer' minSize=10; maxSize=12; workQueue=LinkedBlockingQueue[10000]; allowCoreThreadTimeout=false\n",
      "Nov-16 00:15:55.643 [main] DEBUG nextflow.cli.CmdRun - \n",
      "  Version: 23.10.0 build 5889\n",
      "  Created: 15-10-2023 15:07 UTC \n",
      "  System: Linux 5.10.0-26-cloud-amd64\n",
      "  Runtime: Groovy 3.0.19 on OpenJDK 64-Bit Server VM 11.0.13+7-b1751.21\n",
      "  Encoding: UTF-8 (UTF-8)\n",
      "  Process: 422087@eila-vm [10.128.0.63]\n",
      "  CPUs: 4 - Mem: 14.6 GB (647.3 MB) - Swap: 0 (0)\n",
      "Nov-16 00:15:55.710 [main] DEBUG nextflow.Session - Work-dir: /home/eila/git_igvf/cellatlas-scrna-seq-pipeline/nextflow/nf_workflow/workflow_fg_single_cell_rna/work [ext2/ext3]\n",
      "Nov-16 00:15:55.742 [main] DEBUG nextflow.executor.ExecutorFactory - Extension executors providers=[]\n",
      "Nov-16 00:15:55.782 [main] DEBUG nextflow.Session - Observer factory: DefaultObserverFactory\n",
      "Nov-16 00:15:55.786 [main] DEBUG nextflow.Session - Observer factory: TowerFactory\n",
      "Nov-16 00:15:55.851 [main] DEBUG nextflow.cache.CacheFactory - Using Nextflow cache factory: nextflow.cache.DefaultCacheFactory\n",
      "Nov-16 00:15:55.875 [main] DEBUG nextflow.util.CustomThreadPool - Creating default thread pool > poolSize: 5; maxThreads: 1000\n",
      "Nov-16 00:15:55.998 [main] DEBUG nextflow.Session - Session start\n",
      "Nov-16 00:15:56.406 [main] DEBUG nextflow.script.ScriptRunner - > Launching execution\n",
      "Nov-16 00:15:57.365 [main] INFO  nextflow.script.BaseScript - null\n",
      "Nov-16 00:15:57.366 [main] INFO  nextflow.script.BaseScript - /home/eila/git_igvf/cellatlas-scrna-seq-pipeline/nextflow/nf_data/nf_wf_fg_singlecell/rna_fastqs_files_vm-dogma-dig.csv\n",
      "Nov-16 00:15:57.502 [main] INFO  nextflow.script.BaseScript - scrna_qc_metrics_tsv is: /home/eila/git_igvf/cellatlas-scrna-seq-pipeline/nextflow/nf_workflow/workflow_fg_single_cell_rna/sc_rna_qc_calculate.tsv\n",
      "Nov-16 00:15:57.503 [main] INFO  nextflow.script.BaseScript - sc_rna_qc_plot_script is: scrna_plot_qc_metrics.R\n",
      "Nov-16 00:15:57.504 [main] INFO  nextflow.script.BaseScript - sc_rna_qc_plot_helper_script is: barcode_rank_functions.R\n",
      "Nov-16 00:15:57.574 [main] DEBUG nextflow.script.ProcessConfig - Config settings `withLabel:scrna_qc_plot` matches labels `scrna_qc_plot` for process with name scrna_plot_qc_metrics_prcs\n",
      "Nov-16 00:15:57.582 [main] DEBUG nextflow.executor.ExecutorFactory - << taskConfig executor: local\n",
      "Nov-16 00:15:57.582 [main] DEBUG nextflow.executor.ExecutorFactory - >> processorType: 'local'\n",
      "Nov-16 00:15:57.590 [main] DEBUG nextflow.executor.Executor - [warm up] executor > local\n",
      "Nov-16 00:15:57.597 [main] DEBUG n.processor.LocalPollingMonitor - Creating local task monitor for executor 'local' > cpus=4; memory=14.6 GB; capacity=4; pollInterval=100ms; dumpInterval=5m\n",
      "Nov-16 00:15:57.600 [main] DEBUG n.processor.TaskPollingMonitor - >>> barrier register (monitor: local)\n",
      "Nov-16 00:15:57.734 [main] DEBUG nextflow.Session - Workflow process names [dsl2]: run_kb_count, run_seqspec_modify_rna, run_seqspec_print, run_kb_ref, run_synpase_upload, run_download_kb_idx, scrna_plot_qc_metrics_prcs, run_seqspec_check, run_seqspec_test, run_seqspec_index_rna_kb, run_synpase_download, scrna_calculate_qc_metrics, run_seqspec_modify_atac, run_downloadFiles\n",
      "Nov-16 00:15:57.735 [main] DEBUG nextflow.Session - Igniting dataflow network (2)\n",
      "Nov-16 00:15:57.744 [main] DEBUG nextflow.processor.TaskProcessor - Starting process > scrna_plot_qc_metrics_prcs\n",
      "Nov-16 00:15:57.747 [main] DEBUG nextflow.script.ScriptRunner - Parsed script files:\n",
      "  Script_8c658adfb468bfd1: /home/eila/git_igvf/cellatlas-scrna-seq-pipeline/nextflow/nf_workflow/workflow_fg_single_cell_rna/./../../nf_processes/nf_prcs_seqspec_utils.nf\n",
      "  Script_6f4853daaf022cb7: /home/eila/git_igvf/cellatlas-scrna-seq-pipeline/nextflow/nf_workflow/workflow_fg_single_cell_rna/./../../nf_processes/nf_prcs_synapse_utils.nf\n",
      "  Script_e6cddbc2c25317da: /home/eila/git_igvf/cellatlas-scrna-seq-pipeline/nextflow/nf_workflow/workflow_fg_single_cell_rna/./../../nf_processes/nf_prcs_rna_qc.nf\n",
      "  Script_9d4639c8cd883c70: /home/eila/git_igvf/cellatlas-scrna-seq-pipeline/nextflow/nf_workflow/workflow_fg_single_cell_rna/./../../nf_processes/nf_prcs_download_url_files.nf\n",
      "  Script_3be2e7647f8a1bc5: /home/eila/git_igvf/cellatlas-scrna-seq-pipeline/nextflow/nf_workflow/workflow_fg_single_cell_rna/nf_wf_fg_singlecell_rna.nf\n",
      "  Script_905602450a702dad: /home/eila/git_igvf/cellatlas-scrna-seq-pipeline/nextflow/nf_workflow/workflow_fg_single_cell_rna/./../../nf_processes/nf_prcs_rna_qc_plots.nf\n",
      "  Script_88de0ef9af95954d: /home/eila/git_igvf/cellatlas-scrna-seq-pipeline/nextflow/nf_workflow/workflow_fg_single_cell_rna/./../../nf_processes/nf_prcs_kallisto_bustools.nf\n",
      "Nov-16 00:15:57.747 [main] DEBUG nextflow.script.ScriptRunner - > Awaiting termination \n",
      "Nov-16 00:15:57.747 [main] DEBUG nextflow.Session - Session await\n",
      "Nov-16 00:15:58.061 [Task submitter] DEBUG n.executor.local.LocalTaskHandler - Launch cmd line: /bin/bash -ue .command.run\n",
      "Nov-16 00:15:58.065 [Task submitter] INFO  nextflow.Session - [7e/459d92] Submitted process > scrna_plot_qc_metrics_prcs\n",
      "Nov-16 00:16:32.872 [Task monitor] DEBUG n.processor.TaskPollingMonitor - Task completed > TaskHandler[id: 1; name: scrna_plot_qc_metrics_prcs; status: COMPLETED; exit: 0; error: -; workDir: /home/eila/git_igvf/cellatlas-scrna-seq-pipeline/nextflow/nf_workflow/workflow_fg_single_cell_rna/work/7e/459d92e0a4c90f38e302041d247700]\n",
      "Nov-16 00:16:32.899 [main] DEBUG nextflow.Session - Session await > all processes finished\n",
      "Nov-16 00:16:32.903 [Task monitor] DEBUG n.processor.TaskPollingMonitor - <<< barrier arrives (monitor: local) - terminating tasks monitor poll loop\n",
      "Nov-16 00:16:32.906 [main] DEBUG nextflow.Session - Session await > all barriers passed\n",
      "Nov-16 00:16:32.923 [main] DEBUG n.trace.WorkflowStatsObserver - Workflow completed > WorkflowStats[succeededCount=1; failedCount=0; ignoredCount=0; cachedCount=0; pendingCount=0; submittedCount=0; runningCount=0; retriesCount=0; abortedCount=0; succeedDuration=34.8s; failedDuration=0ms; cachedDuration=0ms;loadCpus=0; loadMemory=0; peakRunning=1; peakCpus=1; peakMemory=0; ]\n",
      "Nov-16 00:16:33.102 [main] DEBUG nextflow.cache.CacheDB - Closing CacheDB done\n",
      "Nov-16 00:16:33.103 [main] INFO  org.pf4j.AbstractPluginManager - Stop plugin 'nf-tower@1.6.3'\n",
      "Nov-16 00:16:33.103 [main] DEBUG nextflow.plugin.BasePlugin - Plugin stopped nf-tower\n",
      "Nov-16 00:16:33.164 [main] DEBUG nextflow.util.ThreadPoolManager - Thread pool 'FileTransfer' shutdown completed (hard=false)\n",
      "Nov-16 00:16:33.165 [main] DEBUG nextflow.script.ScriptRunner - > Execution complete -- Goodbye\n"
     ]
    }
   ],
   "source": [
    "!cat .nextflow.log "
   ]
  },
  {
   "cell_type": "code",
   "execution_count": 297,
   "metadata": {
    "tags": []
   },
   "outputs": [
    {
     "name": "stdout",
     "output_type": "stream",
     "text": [
      "2023-11-16 00:02:21.273256\n"
     ]
    }
   ],
   "source": [
    "import datetime\n",
    "now = datetime.datetime.now()\n",
    "print(now)"
   ]
  },
  {
   "cell_type": "code",
   "execution_count": 70,
   "metadata": {
    "tags": []
   },
   "outputs": [],
   "source": [
    "\n",
    "# !nextflow run nf_wf_fg_singlecell_rna.nf -c nextflow_vm.config -profile google_batch_profile -with-tower -resume \n",
    "# 8af1ba30-6606-4dfd-a851-c6d0b74bdd43\n",
    "\n",
    "\n",
    "# !nextflow run nf_wf_fg_singlecell_rna.nf -c nextflow_vm.config -profile google_batch_profile -resume 886dc4ef-ff60-46d0-aecb-8f1ab56296a3\n",
    "\n",
    "# !nextflow run nf_wf_fg_singlecell_rna.nf -c nextflow_vm.config -profile google_batch_profile -resume\n",
    "\n",
    "\n",
    "# !nextflow run nf_wf_fg_singlecell_rna.nf -c nextflow_vm.config -profile docker_local\n",
    "\n",
    "\n",
    "# !nextflow run nf_wf_fg_singlecell_rna.nf -c nextflow_vm.config -profile google_batch_profile -resume\n",
    "\n",
    "\n",
    "# !nextflow run nf_wf_fg_singlecell_rna.nf -c nextflow_vm.config -profile google_batch_profile -resume\n",
    "\n",
    "\n",
    "\n",
    "# !nextflow run nf_wf_fg_singlecell_rna.nf -c nextflow_vm.config -profile docker_local -resume\n",
    "\n",
    "\n",
    "\n",
    "\n",
    "\n",
    "# !nextflow run nf_wf_fg_singlecell_rna.nf -c nextflow_vm.config -profile google_batch_profile -resume\n",
    "\n",
    "\n",
    "\n",
    "\n",
    "# !nextflow run nf_wf_fg_singlecell_rna.nf -c nextflow.config -profile docker_profile -resume\n",
    "# !nextflow run nf_wf_fg_singlecell_rna.nf -c nextflow_vm.config -profile google_batch_profile -resume\n",
    "# !nextflow run nf_wf_fg_singlecell_rna.nf -c nextflow_local.config -profile google_batch_profile -resume\n",
    "# !nextflow run nf_wf_fg_singlecell_rna.nf -c nextflow_vm.config -profile google_batch_profile -resume\n",
    "# !nextflow run nf_wf_fg_singlecell_rna.nf -c nextflow.config -profile docker_profile -resume\n",
    "# !nextflow run nf_wf_fg_singlecell_rna.nf -c nextflow.config -profile google_batch_profile -resume"
   ]
  },
  {
   "cell_type": "code",
   "execution_count": 71,
   "metadata": {
    "tags": []
   },
   "outputs": [],
   "source": [
    "# !nextflow log\n",
    "# use the session id with the resume"
   ]
  },
  {
   "cell_type": "code",
   "execution_count": 72,
   "metadata": {
    "tags": []
   },
   "outputs": [],
   "source": [
    "# !cat .nextflow.log "
   ]
  },
  {
   "cell_type": "code",
   "execution_count": 73,
   "metadata": {
    "tags": []
   },
   "outputs": [
    {
     "name": "stdout",
     "output_type": "stream",
     "text": [
      "2023-11-15 22:29:35.997877\n"
     ]
    }
   ],
   "source": [
    "import datetime\n",
    "now = datetime.datetime.now()\n",
    "print(now)"
   ]
  },
  {
   "cell_type": "code",
   "execution_count": null,
   "metadata": {},
   "outputs": [],
   "source": []
  },
  {
   "cell_type": "code",
   "execution_count": null,
   "metadata": {},
   "outputs": [],
   "source": []
  },
  {
   "cell_type": "code",
   "execution_count": null,
   "metadata": {},
   "outputs": [],
   "source": []
  }
 ],
 "metadata": {
  "kernelspec": {
   "display_name": "Python 3 (ipykernel)",
   "language": "python",
   "name": "python3"
  },
  "language_info": {
   "codemirror_mode": {
    "name": "ipython",
    "version": 3
   },
   "file_extension": ".py",
   "mimetype": "text/x-python",
   "name": "python",
   "nbconvert_exporter": "python",
   "pygments_lexer": "ipython3",
   "version": "3.7.16"
  }
 },
 "nbformat": 4,
 "nbformat_minor": 4
}
