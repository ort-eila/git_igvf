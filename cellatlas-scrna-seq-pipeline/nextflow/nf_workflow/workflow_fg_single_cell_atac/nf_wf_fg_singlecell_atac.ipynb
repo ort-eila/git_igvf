{
 "cells": [
  {
   "cell_type": "code",
   "execution_count": 4,
   "metadata": {
    "tags": []
   },
   "outputs": [],
   "source": [
    "# start docker deamon\n",
    "# sudo docker login"
   ]
  },
  {
   "cell_type": "code",
   "execution_count": 39,
   "metadata": {},
   "outputs": [
    {
     "name": "stdout",
     "output_type": "stream",
     "text": [
      "Traceback (most recent call last):\n",
      "  File \"/Applications/google-cloud-sdk/lib/gcloud.py\", line 132, in <module>\n",
      "    main()\n",
      "  File \"/Applications/google-cloud-sdk/lib/gcloud.py\", line 90, in main\n",
      "    from googlecloudsdk.core.util import encoding\n",
      "  File \"/Applications/google-cloud-sdk/lib/googlecloudsdk/__init__.py\", line 23, in <module>\n",
      "    from googlecloudsdk.core.util import importing\n",
      "  File \"/Applications/google-cloud-sdk/lib/googlecloudsdk/core/util/importing.py\", line 23, in <module>\n",
      "    import imp\n",
      "ModuleNotFoundError: No module named 'imp'\n"
     ]
    }
   ],
   "source": [
    "# in the command line. based on:\n",
    "# https://nextflow.io/blog/2023/nextflow-with-gbatch.html\n",
    "# gcloud services enable batch.googleapis.com compute.googleapis.com logging.googleapis.com\n",
    "# gcloud iam service-accounts create eila-batch\n",
    "# gcloud iam service-accounts list \n",
    "\n",
    "\n",
    "\n",
    "\n",
    "# gcloud projects add-iam-policy-binding hai-gcp-genomic \\\n",
    "# --member=\"serviceAccount:eila-batch@hai-gcp-genomic.iam.gserviceaccount.com\" \\\n",
    "# --role=\"roles/iam.serviceAccountUser\"\n",
    "\n",
    "# $ gcloud projects add-iam-policy-binding hai-gcp-genomic \\\n",
    "# --member=\"serviceAccount:eila-batch@hai-gcp-genomic.iam.gserviceaccount.com\" \\\n",
    "# --role=\"roles/batch.jobsEditor\"\n",
    "\n",
    "# $ gcloud projects add-iam-policy-binding hai-gcp-genomic \\\n",
    "# --member=\"serviceAccount:eila-batch@hai-gcp-genomic.iam.gserviceaccount.com\" \\\n",
    "# --role=\"roles/logging.viewer\"\n",
    "\n",
    "# $ gcloud projects add-iam-policy-binding hai-gcp-genomic \\\n",
    "# --member=\"serviceAccount:eila-batch@hai-gcp-genomic.iam.gserviceaccount.com\" \\\n",
    "# --role=\"roles/storage.admin\"\n",
    "\n",
    "\n",
    "\n",
    "\n"
   ]
  },
  {
   "cell_type": "code",
   "execution_count": 5,
   "metadata": {
    "tags": []
   },
   "outputs": [],
   "source": [
    "# # update java\n",
    "# sudo apt-get update\n",
    "# sudo apt-get install default-jre\n",
    "# sudo apt-get install default-jdk"
   ]
  },
  {
   "cell_type": "code",
   "execution_count": 8,
   "metadata": {
    "tags": []
   },
   "outputs": [
    {
     "name": "stdout",
     "output_type": "stream",
     "text": [
      "  Version: 23.04.4 build 5881\n",
      "  Created: 25-09-2023 15:34 UTC (08:34 PDT)\n",
      "  System: Mac OS X 14.0\n",
      "  Runtime: Groovy 3.0.16 on OpenJDK 64-Bit Server VM 17.0.8+7-LTS\n",
      "  Encoding: UTF-8 (UTF-8)\n",
      "\n"
     ]
    }
   ],
   "source": [
    "!nextflow info"
   ]
  },
  {
   "cell_type": "code",
   "execution_count": 10,
   "metadata": {
    "tags": []
   },
   "outputs": [],
   "source": [
    "# !gcloud config list "
   ]
  },
  {
   "cell_type": "code",
   "execution_count": 11,
   "metadata": {
    "tags": []
   },
   "outputs": [],
   "source": [
    "# I will need to login to a different project for the Anvil"
   ]
  },
  {
   "cell_type": "code",
   "execution_count": 12,
   "metadata": {
    "tags": []
   },
   "outputs": [],
   "source": [
    "# for the service account:\n",
    "# https://www.nextflow.io/docs/latest/google.html\n",
    "# cloud auth application-default login\n",
    "# the credentials will be saved to [/home/eila/.config/gcloud/application_default_credentials.json] for \n",
    "# the use of the application\n",
    "\n",
    "# https://github.com/nextflow-io/nextflow/issues/1709\n",
    "!export NXF_VER=\"23.04.4\"\n",
    "!export NXF_MODE=google\n",
    "!export NXF_DEBUG=3\n",
    "# TODO: change for the Anvil\n",
    "!export PROJECT=\"hai-gcp-genomic\"\n",
    "!export GOOGLE_APPLICATION_CREDENTIALS=/home/eila/.config/gcloud/application_default_credentials.json"
   ]
  },
  {
   "cell_type": "code",
   "execution_count": 13,
   "metadata": {
    "tags": []
   },
   "outputs": [],
   "source": [
    "# !cat /home/eila/.config/gcloud/application_default_credentials.json"
   ]
  },
  {
   "cell_type": "code",
   "execution_count": 14,
   "metadata": {
    "tags": []
   },
   "outputs": [],
   "source": [
    "!nextflow clean -f nf_wf_fg_singlecell_atac.nf"
   ]
  },
  {
   "cell_type": "code",
   "execution_count": 15,
   "metadata": {
    "tags": []
   },
   "outputs": [
    {
     "data": {
      "text/plain": [
       "'/Users/eilaarich-landkof-stanford/Documents/Code/git_igvf/cellatlas-scrna-seq-pipeline/nextflow/nf_workflow/workflow_fg_single_cell_atac'"
      ]
     },
     "execution_count": 15,
     "metadata": {},
     "output_type": "execute_result"
    }
   ],
   "source": [
    "import os\n",
    "os.getcwd()"
   ]
  },
  {
   "cell_type": "code",
   "execution_count": 16,
   "metadata": {},
   "outputs": [
    {
     "name": "stdout",
     "output_type": "stream",
     "text": [
      "Writing nextflow_vm.config\n"
     ]
    }
   ],
   "source": [
    "%%writefile nextflow_vm.config\n",
    "\n",
    "includeConfig 'conf/conda.config'\n",
    "\n",
    "\n",
    "manifest {\n",
    "  description = 'A nexflow pipeline for fg single cell atac' \n",
    "  mainScript = 'nf_wf_fg_singlecell_atac.nf'\n",
    "}\n",
    "\n",
    "profiles {\n",
    "  conda_profile {\n",
    "    includeConfig 'conf/conda.config'\n",
    "    conda.enabled = true\n",
    "    executor = 'local'\n",
    "    }\n",
    "\n",
    "  conda_docker_profile {\n",
    "    includeConfig 'conf/conda_docker.config'\n",
    "    executor = 'local'\n",
    "    }\n",
    "\n",
    "  docker_profile {\n",
    "    includeConfig 'conf/docker.config'\n",
    "    docker.enabled = true\n",
    "    docker.envWhitelist=['ENV_SYNAPSE_TOKEN']\n",
    "    executor = 'local'\n",
    "  }\n",
    "  google_batch_profile {\n",
    "    workDir = 'gs://eila-nextflow-bucket/work'\n",
    "    includeConfig 'conf/docker-google-batch.config'\n",
    "    docker.enabled = true\n",
    "    docker.envWhitelist=['ENV_SYNAPSE_TOKEN']\n",
    "    executor = 'google-batch'\n",
    "    google.project = 'hai-gcp-genomic'\n",
    "    location = 'us-central1'\n",
    "    batch.spot = false\n",
    "  }\n",
    "    \n",
    "}\n",
    "\n",
    "params.FASTQS_SPEC_CH = '/home/eila/git_igvf/cellatlas-scrna-seq-pipeline/nextflow/nf_data/nf_wf_fg_singlecell/atac_fastqs_files_vm.csv'\n",
    "params.CHROMAP_IDX='/home/eila/git_igvf/cellatlas-scrna-seq-pipeline/nextflow/nf_data/nf_wf_fg_singlecell/specs/dogmaseq-dig/Homo_sapiens.GRCh38.dna.primary_assembly.chromap.ref.index'\n",
    "\n",
    "params.GENOME_FASTA='http://ftp.ensembl.org/pub/release-109/fasta/homo_sapiens/dna/Homo_sapiens.GRCh38.dna.primary_assembly.fa.gz'\n",
    "params.GENOME_GZ_GTF='http://ftp.ensembl.org/pub/release-109/gtf/homo_sapiens/Homo_sapiens.GRCh38.109.gtf.gz'\n",
    "params.OUTDIR='results'\n",
    "\n"
   ]
  },
  {
   "cell_type": "code",
   "execution_count": 17,
   "metadata": {
    "tags": []
   },
   "outputs": [
    {
     "name": "stdout",
     "output_type": "stream",
     "text": [
      "Writing nextflow_local.config\n"
     ]
    }
   ],
   "source": [
    "%%writefile nextflow_local.config\n",
    "\n",
    "includeConfig 'conf/conda.config'\n",
    "\n",
    "\n",
    "manifest {\n",
    "  description = 'A nexflow pipeline for fg single cell atac' \n",
    "  mainScript = 'nf_wf_fg_singlecell_atac.nf'\n",
    "}\n",
    "\n",
    "profiles {\n",
    "  conda_profile {\n",
    "    includeConfig 'conf/conda.config'\n",
    "    conda.enabled = true\n",
    "    executor = 'local'\n",
    "    }\n",
    "\n",
    "  conda_docker_profile {\n",
    "    includeConfig 'conf/conda_docker.config'\n",
    "    executor = 'local'\n",
    "    }\n",
    "\n",
    "  docker_profile {\n",
    "    includeConfig 'conf/docker.config'\n",
    "    docker.enabled = true\n",
    "    docker.envWhitelist=['ENV_SYNAPSE_TOKEN']\n",
    "    executor = 'local'\n",
    "  }\n",
    "  google_batch_profile {\n",
    "    workDir = 'gs://eila-nextflow-bucket/work'\n",
    "    includeConfig 'conf/docker-google-batch.config'\n",
    "    docker.enabled = true\n",
    "    docker.envWhitelist=['ENV_SYNAPSE_TOKEN']\n",
    "    executor = 'google-batch'\n",
    "    google.project = 'hai-gcp-genomic'\n",
    "    location = 'us-central1'\n",
    "    batch.spot = false\n",
    "  }\n",
    "    \n",
    "}\n",
    "\n",
    "params.FASTQS_SPEC_CH = '/Users/eilaarich-landkof-stanford/Documents/Code/git_igvf/cellatlas-scrna-seq-pipeline/nextflow/nf_data/nf_wf_fg_singlecell/atac_fastqs_files_local.csv'\n",
    "params.CHROMAP_IDX='/Users/eilaarich-landkof-stanford/Documents/Code/git_igvf/cellatlas-scrna-seq-pipeline/nextflow/nf_data/nf_wf_fg_singlecell/specs/dogmaseq-dig/Homo_sapiens.GRCh38.dna.primary_assembly.chromap.ref.index'\n",
    "\n",
    "params.GENOME_FASTA='http://ftp.ensembl.org/pub/release-109/fasta/homo_sapiens/dna/Homo_sapiens.GRCh38.dna.primary_assembly.fa.gz'\n",
    "params.GENOME_GZ_GTF='http://ftp.ensembl.org/pub/release-109/gtf/homo_sapiens/Homo_sapiens.GRCh38.109.gtf.gz'\n",
    "params.OUTDIR='results'\n",
    "\n"
   ]
  },
  {
   "cell_type": "code",
   "execution_count": 18,
   "metadata": {
    "tags": []
   },
   "outputs": [
    {
     "name": "stdout",
     "output_type": "stream",
     "text": [
      "/Users/eilaarich-landkof-stanford/Documents/Code/git_igvf/cellatlas-scrna-seq-pipeline/nextflow/nf_workflow/workflow_fg_single_cell_atac\n"
     ]
    }
   ],
   "source": [
    "!pwd"
   ]
  },
  {
   "cell_type": "code",
   "execution_count": 26,
   "metadata": {
    "tags": []
   },
   "outputs": [],
   "source": [
    "!rm -r /Users/eilaarich-landkof-stanford/Documents/Code/git_igvf/cellatlas-scrna-seq-pipeline/nextflow/nf_workflow/workflow_fg_single_cell_atac/work\n",
    "# !rm -r /home/eila/git_igvf/cellatlas-scrna-seq-pipeline/nextflow/nf_workflow/workflow_fg_single_cell_atac/work\n",
    "# !gsutil rm -r gs://eila-nextflow-bucket/work"
   ]
  },
  {
   "cell_type": "code",
   "execution_count": 27,
   "metadata": {
    "tags": []
   },
   "outputs": [
    {
     "name": "stdout",
     "output_type": "stream",
     "text": [
      "rm: cannot remove '.nextflow': Is a directory\n"
     ]
    }
   ],
   "source": [
    "!rm .nextflow*"
   ]
  },
  {
   "cell_type": "code",
   "execution_count": 28,
   "metadata": {
    "tags": []
   },
   "outputs": [
    {
     "name": "stdout",
     "output_type": "stream",
     "text": [
      "nextflow.config\n"
     ]
    }
   ],
   "source": [
    "!ls nextflow.config"
   ]
  },
  {
   "cell_type": "code",
   "execution_count": 34,
   "metadata": {
    "tags": []
   },
   "outputs": [],
   "source": [
    "# !nextflow run nf_wf_fg_singlecell_atac.nf -c nextflow_local.config -profile google_batch_profile\n",
    "\n",
    "\n",
    "\n",
    "\n",
    "# !nextflow run nf_wf_fg_singlecell_atac.nf -c nextflow_vm.config -profile google_batch_profile\n",
    "# !nextflow run nf_wf_fg_singlecell_atac.nf -c nextflow_local.config -profile docker_profile\n"
   ]
  },
  {
   "cell_type": "code",
   "execution_count": 44,
   "metadata": {
    "tags": []
   },
   "outputs": [
    {
     "name": "stdout",
     "output_type": "stream",
     "text": [
      "N E X T F L O W  ~  version 23.04.4\n",
      "Launching `nf_wf_fg_singlecell_atac.nf` [clever_darwin] DSL2 - revision: 7e9d4caafd\n",
      "Oct 31, 2023 11:09:13 AM com.google.auth.oauth2.DefaultCredentialsProvider warnAboutProblematicCredentials\n",
      "WARNING: Your application has authenticated using end user credentials from Google Cloud SDK. We recommend that most server applications use service accounts instead. If your application continues to use end user credentials from Cloud SDK, you might receive a \"quota exceeded\" or \"API not enabled\" error. For more information about service accounts, see https://cloud.google.com/docs/authentication/.\n",
      "/Users/eilaarich-landkof-stanford/Documents/Code/git_igvf/cellatlas-scrna-seq-pipeline/nextflow/nf_data/nf_wf_fg_singlecell/atac_fastqs_files_local.csv\n",
      "[-        ] process > run_seqspec_test -\u001b[K\n",
      "\u001b[2A\n",
      "[-        ] process > run_seqspec_test [  0%] 0 of 1\u001b[K\n",
      "\u001b[2A\n",
      "executor >  google-batch (1)\u001b[K\n",
      "[7b/15b055] process > run_seqspec_test [  0%] 0 of 1\u001b[K\n"
     ]
    }
   ],
   "source": [
    "!nextflow run nf_wf_fg_singlecell_atac.nf -c nextflow_local.config -profile google_batch_profile -resume\n",
    "\n",
    "\n",
    "\n",
    "\n",
    "\n",
    "# !nextflow run nf_wf_fg_singlecell_atac.nf -c nextflow_vm.config -profile google_batch_profile -resume\n",
    "# !nextflow run nf_wf_fg_singlecell_atac.nf -c nextflow.config -profile docker_profile -resume\n",
    "# !nextflow run nf_wf_fg_singlecell_atac.nf -c nextflow.config -profile google_batch_profile -resume"
   ]
  },
  {
   "cell_type": "code",
   "execution_count": 40,
   "metadata": {
    "tags": []
   },
   "outputs": [
    {
     "name": "stdout",
     "output_type": "stream",
     "text": [
      "Oct-31 10:33:10.754 [main] DEBUG nextflow.cli.Launcher - $> nextflow run nf_wf_fg_singlecell_atac.nf -c nextflow_local.config -profile google_batch_profile -resume\n",
      "Oct-31 10:33:10.836 [main] INFO  nextflow.cli.CmdRun - N E X T F L O W  ~  version 23.04.4\n",
      "Oct-31 10:33:10.850 [main] DEBUG nextflow.plugin.PluginsFacade - Setting up plugin manager > mode=prod; embedded=false; plugins-dir=/Users/eilaarich-landkof-stanford/.nextflow/plugins; core-plugins: nf-amazon@1.16.2,nf-azure@1.0.1,nf-codecommit@0.1.4,nf-console@1.0.5,nf-ga4gh@1.0.5,nf-google@1.7.3-patch1,nf-tower@1.5.12,nf-wave@0.8.4\n",
      "Oct-31 10:33:10.858 [main] INFO  org.pf4j.DefaultPluginStatusProvider - Enabled plugins: []\n",
      "Oct-31 10:33:10.858 [main] INFO  org.pf4j.DefaultPluginStatusProvider - Disabled plugins: []\n",
      "Oct-31 10:33:10.860 [main] INFO  org.pf4j.DefaultPluginManager - PF4J version 3.4.1 in 'deployment' mode\n",
      "Oct-31 10:33:10.867 [main] INFO  org.pf4j.AbstractPluginManager - No plugins\n",
      "Oct-31 10:33:10.879 [main] DEBUG nextflow.config.ConfigBuilder - Found config local: /Users/eilaarich-landkof-stanford/Documents/Code/git_igvf/cellatlas-scrna-seq-pipeline/nextflow/nf_workflow/workflow_fg_single_cell_atac/nextflow.config\n",
      "Oct-31 10:33:10.881 [main] DEBUG nextflow.config.ConfigBuilder - User config file: /Users/eilaarich-landkof-stanford/Documents/Code/git_igvf/cellatlas-scrna-seq-pipeline/nextflow/nf_workflow/workflow_fg_single_cell_atac/nextflow_local.config\n",
      "Oct-31 10:33:10.881 [main] DEBUG nextflow.config.ConfigBuilder - Parsing config file: /Users/eilaarich-landkof-stanford/Documents/Code/git_igvf/cellatlas-scrna-seq-pipeline/nextflow/nf_workflow/workflow_fg_single_cell_atac/nextflow.config\n",
      "Oct-31 10:33:10.881 [main] DEBUG nextflow.config.ConfigBuilder - Parsing config file: /Users/eilaarich-landkof-stanford/Documents/Code/git_igvf/cellatlas-scrna-seq-pipeline/nextflow/nf_workflow/workflow_fg_single_cell_atac/nextflow_local.config\n",
      "Oct-31 10:33:10.895 [main] DEBUG nextflow.config.ConfigBuilder - Applying config profile: `google_batch_profile`\n",
      "Oct-31 10:33:11.386 [main] DEBUG nextflow.config.ConfigBuilder - Applying config profile: `google_batch_profile`\n",
      "Oct-31 10:33:11.461 [main] DEBUG nextflow.config.ConfigBuilder - Available config profiles: [google_batch_profile, conda_docker_profile, docker_profile, conda_profile]\n",
      "Oct-31 10:33:11.494 [main] DEBUG nextflow.cli.CmdRun - Applied DSL=2 by global default\n",
      "Oct-31 10:33:11.512 [main] INFO  nextflow.cli.CmdRun - Launching `nf_wf_fg_singlecell_atac.nf` [suspicious_poitras] DSL2 - revision: 7e9d4caafd\n",
      "Oct-31 10:33:11.512 [main] DEBUG nextflow.plugin.PluginsFacade - Plugins default=[nf-google@1.7.3-patch1]\n",
      "Oct-31 10:33:11.512 [main] DEBUG nextflow.plugin.PluginsFacade - Plugins resolved requirement=[nf-google@1.7.3-patch1]\n",
      "Oct-31 10:33:11.512 [main] DEBUG nextflow.plugin.PluginUpdater - Installing plugin nf-google version: 1.7.3-patch1\n",
      "Oct-31 10:33:11.530 [main] INFO  org.pf4j.AbstractPluginManager - Plugin 'nf-google@1.7.3-patch1' resolved\n",
      "Oct-31 10:33:11.530 [main] INFO  org.pf4j.AbstractPluginManager - Start plugin 'nf-google@1.7.3-patch1'\n",
      "Oct-31 10:33:11.601 [main] DEBUG nextflow.plugin.BasePlugin - Plugin started nf-google@1.7.3-patch1\n",
      "Oct-31 10:33:11.614 [main] DEBUG nextflow.secret.LocalSecretsProvider - Secrets store: /Users/eilaarich-landkof-stanford/.nextflow/secrets/store.json\n",
      "Oct-31 10:33:11.618 [main] DEBUG nextflow.secret.SecretsLoader - Discovered secrets providers: [nextflow.secret.LocalSecretsProvider@b34832b] - activable => nextflow.secret.LocalSecretsProvider@b34832b\n",
      "Oct-31 10:33:11.709 [main] DEBUG nextflow.Session - Session UUID: ab150ba1-5a52-4a60-b945-7fd9e470b9a0\n",
      "Oct-31 10:33:11.709 [main] DEBUG nextflow.Session - Run name: suspicious_poitras\n",
      "Oct-31 10:33:11.709 [main] DEBUG nextflow.Session - Executor pool size: 8\n",
      "Oct-31 10:33:11.860 [main] DEBUG nextflow.util.ThreadPoolBuilder - Creating thread pool 'FileTransfer' minSize=10; maxSize=24; workQueue=LinkedBlockingQueue[10000]; allowCoreThreadTimeout=false\n",
      "Oct-31 10:33:12.003 [main] DEBUG nextflow.cli.CmdRun - \n",
      "  Version: 23.04.4 build 5881\n",
      "  Created: 25-09-2023 15:34 UTC (08:34 PDT)\n",
      "  System: Mac OS X 14.0\n",
      "  Runtime: Groovy 3.0.16 on OpenJDK 64-Bit Server VM 17.0.8+7-LTS\n",
      "  Encoding: UTF-8 (UTF-8)\n",
      "  Process: 17253@Eilas-MacBook-Air.local [10.0.0.212]\n",
      "  CPUs: 8 - Mem: 16 GB (59.2 MB) - Swap: 3 GB (566.5 MB)\n",
      "Oct-31 10:33:12.026 [main] DEBUG nextflow.Session - Work-dir: gs://eila-nextflow-bucket/work [Mac OS X]\n",
      "Oct-31 10:33:12.026 [main] DEBUG nextflow.Session - Script base path does not exist or is not a directory: /Users/eilaarich-landkof-stanford/Documents/Code/git_igvf/cellatlas-scrna-seq-pipeline/nextflow/nf_workflow/workflow_fg_single_cell_atac/bin\n",
      "Oct-31 10:33:12.044 [main] DEBUG nextflow.executor.ExecutorFactory - Extension executors providers=[GoogleLifeSciencesExecutor, GoogleBatchExecutor]\n",
      "Oct-31 10:33:12.050 [main] DEBUG nextflow.Session - Observer factory: DefaultObserverFactory\n",
      "Oct-31 10:33:12.065 [main] DEBUG nextflow.cache.CacheFactory - Using Nextflow cache factory: nextflow.cache.DefaultCacheFactory\n",
      "Oct-31 10:33:12.071 [main] DEBUG nextflow.util.CustomThreadPool - Creating default thread pool > poolSize: 9; maxThreads: 1000\n",
      "Oct-31 10:33:12.132 [main] DEBUG nextflow.Session - Session start\n",
      "Oct-31 10:33:12.235 [main] DEBUG nextflow.script.ScriptRunner - > Launching execution\n",
      "Oct-31 10:33:12.537 [main] INFO  nextflow.script.BaseScript - /Users/eilaarich-landkof-stanford/Documents/Code/git_igvf/cellatlas-scrna-seq-pipeline/nextflow/nf_data/nf_wf_fg_singlecell/atac_fastqs_files_local.csv\n",
      "Oct-31 10:33:12.560 [main] DEBUG nextflow.script.ProcessConfig - Config settings `withLabel:seqspec` matches labels `seqspec` for process with name run_seqspec_test\n",
      "Oct-31 10:33:12.571 [main] DEBUG nextflow.executor.ExecutorFactory - << taskConfig executor: google-batch\n",
      "Oct-31 10:33:12.571 [main] DEBUG nextflow.executor.ExecutorFactory - >> processorType: 'google-batch'\n",
      "Oct-31 10:33:12.572 [main] DEBUG nextflow.executor.Executor - [warm up] executor > google-batch\n",
      "Oct-31 10:33:12.576 [main] DEBUG n.processor.TaskPollingMonitor - Creating task monitor for executor 'google-batch' > capacity: 1000; pollInterval: 10s; dumpInterval: 5m \n",
      "Oct-31 10:33:12.580 [main] DEBUG nextflow.cloud.google.GoogleOpts - Google auth via application DEFAULT\n",
      "Oct-31 10:33:12.582 [main] DEBUG n.c.google.batch.GoogleBatchExecutor - [GOOGLE BATCH] Executor config=BatchConfig[googleOpts=GoogleOpts(projectId:hai-gcp-genomic, credsFile:null, location:null, enableRequesterPaysBuckets:false, credentials:UserCredentials{requestMetadata=null, temporaryAccess=null, clientId=764086051850-6qr4p6gpi6hn506pt8ejuq83di341hur.apps.googleusercontent.com, refreshToken=1//06o-o0zDxXSs1CgYIARAAGAYSNwF-L9IrUI26O_biiC7xbALX-c2sD4FAkhuU8h_Vtb27_cEuZ6it1oqhLF2G_Za95PIBVrUBVrY, tokenServerUri=https://oauth2.googleapis.com/token, transportFactoryClassName=com.google.auth.oauth2.OAuth2Utils$DefaultHttpTransportFactory, quotaProjectId=hai-gcp-genomic})\n",
      "Oct-31 10:33:12.591 [main] DEBUG n.c.google.batch.client.BatchClient - [GOOGLE BATCH] Creating service client with config credentials\n",
      "Oct-31 10:33:13.202 [main] DEBUG nextflow.Session - Workflow process names [dsl2]: run_create_chromap_idx, run_download_chromap_idx, run_seqspec_modify_rna, run_seqspec_print, run_seqspec_check, run_synpase_download, run_seqspec_test, run_seqspec_index_rna_kb, run_seqspec_modify_atac, run_synpase_upload, run_downloadFiles, run_chromap_map_to_idx\n",
      "Oct-31 10:33:13.203 [main] DEBUG nextflow.Session - Igniting dataflow network (1)\n",
      "Oct-31 10:33:13.203 [main] DEBUG nextflow.processor.TaskProcessor - Starting process > run_seqspec_test\n",
      "Oct-31 10:33:13.203 [main] DEBUG nextflow.script.ScriptRunner - > Awaiting termination \n",
      "Oct-31 10:33:13.203 [main] DEBUG nextflow.Session - Session await\n",
      "Oct-31 10:33:17.448 [Task submitter] DEBUG n.c.g.batch.GoogleBatchTaskHandler - [GOOGLE BATCH] submitted > job=nf-018021e9-1698773593944; uid=nf-018021e9-169877-32551e10-6971-42c20; work-dir=gs://eila-nextflow-bucket/work/01/8021e9a34cbdd16364ebda562009a1\n",
      "Oct-31 10:33:17.448 [Task submitter] INFO  nextflow.Session - [01/8021e9] Submitted process > run_seqspec_test\n",
      "Oct-31 10:37:12.948 [Task monitor] DEBUG n.c.g.batch.GoogleBatchTaskHandler - [GOOGLE BATCH] Terminated job=nf-018021e9-1698773593944; state=FAILED\n",
      "Oct-31 10:37:13.171 [Task monitor] DEBUG n.c.g.batch.GoogleBatchTaskHandler - [GOOGLE BATCH] Cannot read exitstatus for task: `run_seqspec_test` | gs://eila-nextflow-bucket/work/01/8021e9a34cbdd16364ebda562009a1/.exitcode\n",
      "Oct-31 10:37:14.554 [Task monitor] DEBUG n.processor.TaskPollingMonitor - Task completed > TaskHandler[id: 1; name: run_seqspec_test; status: COMPLETED; exit: null; error: -; workDir: gs://eila-nextflow-bucket/work/01/8021e9a34cbdd16364ebda562009a1]\n",
      "Oct-31 10:37:14.557 [Task monitor] DEBUG nextflow.processor.TaskProcessor - Handling unexpected condition for\n",
      "  task: name=run_seqspec_test; work-dir=gs://eila-nextflow-bucket/work/01/8021e9a34cbdd16364ebda562009a1\n",
      "  error [nextflow.exception.ProcessFailedException]: Process `run_seqspec_test` terminated with an error exit status (null)\n",
      "Oct-31 10:37:14.689 [Task monitor] DEBUG nextflow.processor.TaskRun - Unable to dump output of process 'null' -- Cause: java.nio.file.NoSuchFileException: gs://eila-nextflow-bucket/work/01/8021e9a34cbdd16364ebda562009a1/.command.out\n",
      "Oct-31 10:37:14.691 [Task monitor] ERROR nextflow.processor.TaskProcessor - Error executing process > 'run_seqspec_test'\n",
      "\n",
      "Caused by:\n",
      "  Process `run_seqspec_test` terminated with an error exit status (null)\n",
      "\n",
      "Command executed:\n",
      "\n",
      "  echo start run_seqspec_test\n",
      "  touch test.txt\n",
      "  echo run_seqspec_test_end\n",
      "\n",
      "Command exit status:\n",
      "  null\n",
      "\n",
      "Command output:\n",
      "  (empty)\n",
      "\n",
      "Command error:\n",
      "  WARNING: The requested image's platform (linux/arm64/v8) does not match the detected host platform (linux/amd64/v3) and no specific platform was requestedexec /bin/bash: exec format error\n",
      "\n",
      "Work dir:\n",
      "  gs://eila-nextflow-bucket/work/01/8021e9a34cbdd16364ebda562009a1\n",
      "\n",
      "Tip: you can replicate the issue by changing to the process work dir and entering the command `bash .command.run`\n",
      "Oct-31 10:37:14.695 [main] DEBUG nextflow.Session - Session await > all processes finished\n",
      "Oct-31 10:37:14.801 [Task monitor] DEBUG nextflow.Session - Session aborted -- Cause: Process `run_seqspec_test` terminated with an error exit status (null)\n",
      "Oct-31 10:37:14.810 [main] DEBUG nextflow.Session - Session await > all barriers passed\n",
      "Oct-31 10:37:14.813 [main] DEBUG nextflow.trace.WorkflowStatsObserver - Workflow completed > WorkflowStats[succeededCount=0; failedCount=1; ignoredCount=0; cachedCount=0; pendingCount=0; submittedCount=0; runningCount=0; retriesCount=0; abortedCount=0; succeedDuration=0ms; failedDuration=1.6s; cachedDuration=0ms;loadCpus=0; loadMemory=0; peakRunning=1; peakCpus=1; peakMemory=0; ]\n",
      "Oct-31 10:37:14.919 [main] DEBUG nextflow.cache.CacheDB - Closing CacheDB done\n",
      "Oct-31 10:37:14.919 [main] INFO  org.pf4j.AbstractPluginManager - Stop plugin 'nf-google@1.7.3-patch1'\n",
      "Oct-31 10:37:14.919 [main] DEBUG nextflow.plugin.BasePlugin - Plugin stopped nf-google\n",
      "Oct-31 10:37:14.933 [main] DEBUG nextflow.script.ScriptRunner - > Execution complete -- Goodbye\n"
     ]
    }
   ],
   "source": [
    "!cat .nextflow.log "
   ]
  },
  {
   "cell_type": "code",
   "execution_count": 179,
   "metadata": {
    "tags": []
   },
   "outputs": [],
   "source": [
    "# !ls /Users/eilaarich-landkof-stanford/Documents/Code/git_igvf/seqspec/specs/dogmaseq-dig/fastqs"
   ]
  },
  {
   "cell_type": "code",
   "execution_count": null,
   "metadata": {},
   "outputs": [],
   "source": [
    "# !nextflow run /Users/eilaarich-landkof-stanford/Documents/Code/git_igvf/cellatlas-scrna-seq-pipeline/nextflow/nf_processes/nf_prcs_print.nf"
   ]
  },
  {
   "cell_type": "code",
   "execution_count": null,
   "metadata": {},
   "outputs": [],
   "source": [
    "# !ls /Users/eilaarich-landkof-stanford/Documents/Code/git_igvf/cellatlas-scrna-seq-pipeline/nextflow/nf_processes/nf_prcs_print.nf"
   ]
  },
  {
   "cell_type": "code",
   "execution_count": null,
   "metadata": {},
   "outputs": [],
   "source": [
    "# !cat .command.out"
   ]
  },
  {
   "cell_type": "code",
   "execution_count": null,
   "metadata": {},
   "outputs": [],
   "source": [
    "# !nextflow run nf_wf_fg_singlecell.nf -c nextflow.config -with-docker eilalan/env_synapse:latest"
   ]
  },
  {
   "cell_type": "code",
   "execution_count": null,
   "metadata": {},
   "outputs": [],
   "source": [
    "// nextflow.config\n",
    "workDir = \"gs://nf-tower-public/scratch\"\n",
    "\n",
    "google {\n",
    "    project = [GCP PROJECT]\n",
    "    region = \"us-central1\"\n",
    "    batch {\n",
    "        bootDiskSize = 50.GB\n",
    "        serviceAccountEmail = [SERVICE ACCOUNT]\n",
    "        spot = true\n",
    "    }\n",
    "}\n",
    "\n",
    "process {\n",
    "    errorStrategy = \"retry\"\n",
    "    maxRetries = 2\n",
    "    executor  = \"google-batch\"\n",
    "    container = \"quay.io/biocontainers/fastp:0.23.2--h5f740d0_3\"\n",
    "    disk      = \"50.GB\"\n",
    "}\n"
   ]
  },
  {
   "cell_type": "code",
   "execution_count": null,
   "metadata": {},
   "outputs": [],
   "source": [
    "fusion.enabled = true\n",
    "wave.enabled = true\n",
    "process.scratch = false\n",
    "tower.accessToken = '<YOUR ACCESS TOKEN>'"
   ]
  },
  {
   "cell_type": "code",
   "execution_count": 154,
   "metadata": {
    "tags": []
   },
   "outputs": [
    {
     "name": "stdout",
     "output_type": "stream",
     "text": [
      "openjdk version \"11.0.13\" 2021-10-19\n",
      "OpenJDK Runtime Environment JBR-11.0.13.7-1751.21-jcef (build 11.0.13+7-b1751.21)\n",
      "OpenJDK 64-Bit Server VM JBR-11.0.13.7-1751.21-jcef (build 11.0.13+7-b1751.21, mixed mode)\n"
     ]
    }
   ],
   "source": [
    "!java -version"
   ]
  },
  {
   "cell_type": "code",
   "execution_count": 170,
   "metadata": {
    "tags": []
   },
   "outputs": [
    {
     "name": "stdout",
     "output_type": "stream",
     "text": [
      "\u001b[1;31mERROR:\u001b[0m (gcloud.batch.jobs) Command name argument expected.\n",
      "\n",
      "\u001b[m\u001b[1mAvailable commands for gcloud batch jobs:\u001b[m\n",
      "\n",
      "      delete                  Delete a job.\n",
      "      describe                Show details of a job.\n",
      "      list                    List jobs for a specified Batch project/location.\n",
      "      submit                  Submit a Batch job.\n",
      "\n",
      "\u001b[mFor detailed information on this command and its flags, run:\n",
      "  gcloud batch jobs --help\n"
     ]
    }
   ],
   "source": [
    "!gcloud batch jobs"
   ]
  },
  {
   "cell_type": "code",
   "execution_count": null,
   "metadata": {},
   "outputs": [],
   "source": []
  }
 ],
 "metadata": {
  "kernelspec": {
   "display_name": "Python 3 (ipykernel)",
   "language": "python",
   "name": "python3"
  },
  "language_info": {
   "codemirror_mode": {
    "name": "ipython",
    "version": 3
   },
   "file_extension": ".py",
   "mimetype": "text/x-python",
   "name": "python",
   "nbconvert_exporter": "python",
   "pygments_lexer": "ipython3",
   "version": "3.7.16"
  }
 },
 "nbformat": 4,
 "nbformat_minor": 4
}
