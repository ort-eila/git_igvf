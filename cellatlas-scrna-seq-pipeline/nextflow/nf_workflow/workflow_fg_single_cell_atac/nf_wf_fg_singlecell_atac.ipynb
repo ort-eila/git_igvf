{
 "cells": [
  {
   "cell_type": "code",
   "execution_count": 231,
   "metadata": {
    "tags": []
   },
   "outputs": [],
   "source": [
    "# start docker deamon\n",
    "# !sudo docker login"
   ]
  },
  {
   "cell_type": "code",
   "execution_count": 232,
   "metadata": {
    "tags": []
   },
   "outputs": [],
   "source": [
    "# # in the command line. same env\n",
    "# export GOOGLE_APPLICATION_CREDENTIALS=\"/home/eila/git_igvf/cellatlas-scrna-seq-pipeline/nextflow/hai-gcp-genomic-beb9207a40b8.json.json\"\n",
    "# gcloud auth activate-service-account eila-batch@hai-gcp-genomic.iam.gserviceaccount.com --key-file=$GOOGLE_APPLICATION_CREDENTIALS"
   ]
  },
  {
   "cell_type": "code",
   "execution_count": 233,
   "metadata": {
    "tags": []
   },
   "outputs": [
    {
     "name": "stdout",
     "output_type": "stream",
     "text": [
      "                  Credentialed Accounts\n",
      "ACTIVE  ACCOUNT\n",
      "        886987709752-compute@developer.gserviceaccount.com\n",
      "*       eila-batch@hai-gcp-genomic.iam.gserviceaccount.com\n",
      "\n",
      "To set the active account, run:\n",
      "    $ gcloud config set account `ACCOUNT`\n",
      "\n"
     ]
    }
   ],
   "source": [
    "!gcloud auth list\n",
    "# gcloud config set account\n"
   ]
  },
  {
   "cell_type": "code",
   "execution_count": 234,
   "metadata": {
    "tags": []
   },
   "outputs": [],
   "source": [
    "# in the command line. based on:\n",
    "# https://nextflow.io/blog/2023/nextflow-with-gbatch.html\n",
    "# gcloud services enable batch.googleapis.com compute.googleapis.com logging.googleapis.com\n",
    "# gcloud iam service-accounts create eila-batch\n",
    "# gcloud iam service-accounts list \n",
    "\n",
    "\n",
    "\n",
    "\n",
    "# gcloud projects add-iam-policy-binding terra-addd4c49 \\\n",
    "# --member=\"serviceAccount:pet-26869426946125b815f6b@terra-addd4c49.iam.gserviceaccount.com\" \\\n",
    "# --role=\"roles/iam.serviceAccountUser\"\n",
    "\n",
    "# $ gcloud projects add-iam-policy-binding terra-addd4c49 \\\n",
    "# --member=\"serviceAccount:pet-26869426946125b815f6b@terra-addd4c49.iam.gserviceaccount.com\" \\\n",
    "# --role=\"roles/batch.jobsEditor\"\n",
    "\n",
    "# $ gcloud projects add-iam-policy-binding terra-addd4c49 \\\n",
    "# --member=\"serviceAccount:pet-26869426946125b815f6b@terra-addd4c49.iam.gserviceaccount.com\" \\\n",
    "# --role=\"roles/logging.viewer\"\n",
    "\n",
    "# $ gcloud projects add-iam-policy-binding terra-addd4c49 \\\n",
    "# --member=\"serviceAccount:pet-26869426946125b815f6b@terra-addd4c49.iam.gserviceaccount.com\" \\\n",
    "# --role=\"roles/storage.admin\"\n"
   ]
  },
  {
   "cell_type": "code",
   "execution_count": 235,
   "metadata": {
    "tags": []
   },
   "outputs": [],
   "source": [
    "\n",
    "# !gcloud projects add-iam-policy-binding hai-gcp-genomic \\\n",
    "# --member=\"serviceAccount:eila-batch@hai-gcp-genomic.iam.gserviceaccount.com\" \\\n",
    "# --role=\"roles/iam.serviceAccountUser\"\n",
    "\n",
    "# !gcloud projects add-iam-policy-binding hai-gcp-genomic \\\n",
    "# --member=\"serviceAccount:eila-batch@hai-gcp-genomic.iam.gserviceaccount.com\" \\\n",
    "# --role=\"roles/batch.jobsEditor\"\n",
    "\n",
    "# !gcloud projects add-iam-policy-binding hai-gcp-genomic \\\n",
    "# --member=\"serviceAccount:eila-batch@hai-gcp-genomic.iam.gserviceaccount.com\" \\\n",
    "# --role=\"roles/logging.viewer\"\n",
    "\n",
    "# !gcloud projects add-iam-policy-binding hai-gcp-genomic \\\n",
    "# --member=\"serviceAccount:eila-batch@hai-gcp-genomic.iam.gserviceaccount.com\" \\"
   ]
  },
  {
   "cell_type": "code",
   "execution_count": 236,
   "metadata": {
    "tags": []
   },
   "outputs": [
    {
     "name": "stdout",
     "output_type": "stream",
     "text": [
      "  Version: 23.04.4 build 5881\n",
      "  Created: 25-09-2023 15:34 UTC \n",
      "  System: Linux 5.10.0-26-cloud-amd64\n",
      "  Runtime: Groovy 3.0.16 on OpenJDK 64-Bit Server VM 11.0.13+7-b1751.21\n",
      "  Encoding: UTF-8 (UTF-8)\n",
      "\n"
     ]
    }
   ],
   "source": [
    "!nextflow info"
   ]
  },
  {
   "cell_type": "code",
   "execution_count": 237,
   "metadata": {
    "tags": []
   },
   "outputs": [
    {
     "name": "stdout",
     "output_type": "stream",
     "text": [
      "/home/eila/git_igvf/cellatlas-scrna-seq-pipeline/nextflow/nf_workflow/workflow_fg_single_cell_atac\n"
     ]
    }
   ],
   "source": [
    "!pwd"
   ]
  },
  {
   "cell_type": "code",
   "execution_count": 238,
   "metadata": {
    "tags": []
   },
   "outputs": [
    {
     "name": "stdout",
     "output_type": "stream",
     "text": [
      "docker\thai-gcp-genomic-beb9207a40b8.json  nf_data  nf_processes  nf_workflow\n"
     ]
    }
   ],
   "source": [
    "!ls /home/eila/git_igvf/cellatlas-scrna-seq-pipeline/nextflow/"
   ]
  },
  {
   "cell_type": "code",
   "execution_count": 239,
   "metadata": {
    "tags": []
   },
   "outputs": [
    {
     "data": {
      "text/plain": [
       "'/home/eila/git_igvf/cellatlas-scrna-seq-pipeline/nextflow/nf_workflow/workflow_fg_single_cell_atac'"
      ]
     },
     "execution_count": 239,
     "metadata": {},
     "output_type": "execute_result"
    }
   ],
   "source": [
    "import os\n",
    "os.getcwd()"
   ]
  },
  {
   "cell_type": "code",
   "execution_count": 240,
   "metadata": {
    "tags": []
   },
   "outputs": [
    {
     "name": "stdout",
     "output_type": "stream",
     "text": [
      "Overwriting nextflow_vm.config\n"
     ]
    }
   ],
   "source": [
    "%%writefile nextflow_vm.config\n",
    "\n",
    "includeConfig 'conf/conda.config'\n",
    "\n",
    "\n",
    "manifest {\n",
    "  description = 'A nexflow pipeline for fg single cell atac' \n",
    "  mainScript = 'nf_wf_fg_singlecell_atac.nf'\n",
    "}\n",
    "\n",
    "profiles {\n",
    "  conda_profile {\n",
    "    includeConfig 'conf/conda.config'\n",
    "    conda.enabled = true\n",
    "    executor = 'local'\n",
    "    }\n",
    "\n",
    "  conda_docker_profile {\n",
    "    includeConfig 'conf/conda_docker.config'\n",
    "    executor = 'local'\n",
    "    }\n",
    "\n",
    "  docker_profile {\n",
    "    includeConfig 'conf/docker.config'\n",
    "    docker.enabled = true\n",
    "    docker.envWhitelist=['ENV_SYNAPSE_TOKEN']\n",
    "    executor = 'local'\n",
    "  }\n",
    "  google_batch_profile {\n",
    "    workDir = 'gs://eila-nextflow-bucket/work'\n",
    "    wave.enabled = true\n",
    "    fusion.enabled = true\n",
    "    includeConfig 'conf/docker-google-batch.config'\n",
    "    docker.enabled = true\n",
    "    docker.envWhitelist=['ENV_SYNAPSE_TOKEN']\n",
    "    executor = 'google-batch'\n",
    "    google.project = 'hai-gcp-genomic'\n",
    "    google.location = 'us-central1'\n",
    "    google.batch.spot = false\n",
    "    google.batch.serviceAccountEmail='eila-batch@hai-gcp-genomic.iam.gserviceaccount.com'\n",
    "  }\n",
    "    \n",
    "}\n",
    "\n",
    "params.FASTQS_SPEC_CH = '/home/eila/git_igvf/cellatlas-scrna-seq-pipeline/nextflow/nf_data/nf_wf_fg_singlecell/atac_fastqs_files_vm.csv'\n",
    "params.CHROMAP_IDX='/home/eila/git_igvf/cellatlas-scrna-seq-pipeline/nextflow/nf_data/nf_wf_fg_singlecell/specs/dogmaseq-dig/Homo_sapiens.GRCh38.dna.primary_assembly.chromap.ref.index'\n",
    "\n",
    "params.GENOME_FASTA='http://ftp.ensembl.org/pub/release-109/fasta/homo_sapiens/dna/Homo_sapiens.GRCh38.dna.primary_assembly.fa.gz'\n",
    "params.GENOME_GZ_GTF='http://ftp.ensembl.org/pub/release-109/gtf/homo_sapiens/Homo_sapiens.GRCh38.109.gtf.gz'\n",
    "\n"
   ]
  },
  {
   "cell_type": "code",
   "execution_count": 241,
   "metadata": {
    "tags": []
   },
   "outputs": [
    {
     "name": "stdout",
     "output_type": "stream",
     "text": [
      "Overwriting nextflow_vm_anvil.config\n"
     ]
    }
   ],
   "source": [
    "%%writefile nextflow_vm_anvil.config\n",
    "\n",
    "includeConfig 'conf/conda.config'\n",
    "\n",
    "\n",
    "manifest {\n",
    "  description = 'A nexflow pipeline for fg single cell atac' \n",
    "  mainScript = 'nf_wf_fg_singlecell_atac.nf'\n",
    "}\n",
    "\n",
    "profiles {\n",
    "  conda_profile {\n",
    "    includeConfig 'conf/conda.config'\n",
    "    conda.enabled = true\n",
    "    executor = 'local'\n",
    "    }\n",
    "\n",
    "  conda_docker_profile {\n",
    "    includeConfig 'conf/conda_docker.config'\n",
    "    executor = 'local'\n",
    "    }\n",
    "\n",
    "  docker_profile {\n",
    "    includeConfig 'conf/docker.config'\n",
    "    docker.enabled = true\n",
    "    docker.envWhitelist=['ENV_SYNAPSE_TOKEN']\n",
    "    executor = 'local'\n",
    "  }\n",
    "  google_batch_profile {\n",
    "    workDir = 'gs://fc-secure-87394b1b-e8d0-4802-9671-70bc3c8b7525/nextflow'\n",
    "    includeConfig 'conf/docker-google-batch.config'\n",
    "    docker.enabled = true\n",
    "    docker.envWhitelist=['ENV_SYNAPSE_TOKEN']\n",
    "    executor = 'google-batch'\n",
    "    google.project = 'terra-addd4c49'\n",
    "    location = 'us-central1'\n",
    "    batch.spot = false\n",
    "    batch.serviceAccountEmail='pet-26869426946125b815f6b@terra-addd4c49.iam.gserviceaccount.com'\n",
    "  }\n",
    "}\n",
    "\n",
    "params.FASTQS_SPEC_CH = '/home/eila/git_igvf/cellatlas-scrna-seq-pipeline/nextflow/nf_data/nf_wf_fg_singlecell/atac_fastqs_files_vm.csv'\n",
    "params.CHROMAP_IDX='/home/eila/git_igvf/cellatlas-scrna-seq-pipeline/nextflow/nf_data/nf_wf_fg_singlecell/specs/dogmaseq-dig/Homo_sapiens.GRCh38.dna.primary_assembly.chromap.ref.index'\n",
    "\n",
    "params.GENOME_FASTA='http://ftp.ensembl.org/pub/release-109/fasta/homo_sapiens/dna/Homo_sapiens.GRCh38.dna.primary_assembly.fa.gz'\n",
    "params.GENOME_GZ_GTF='http://ftp.ensembl.org/pub/release-109/gtf/homo_sapiens/Homo_sapiens.GRCh38.109.gtf.gz'\n",
    "\n"
   ]
  },
  {
   "cell_type": "code",
   "execution_count": 242,
   "metadata": {
    "tags": []
   },
   "outputs": [
    {
     "name": "stdout",
     "output_type": "stream",
     "text": [
      "Overwriting nextflow_local.config\n"
     ]
    }
   ],
   "source": [
    "%%writefile nextflow_local.config\n",
    "\n",
    "includeConfig 'conf/conda.config'\n",
    "\n",
    "\n",
    "manifest {\n",
    "  description = 'A nexflow pipeline for fg single cell atac' \n",
    "  mainScript = 'nf_wf_fg_singlecell_atac.nf'\n",
    "}\n",
    "profiles {\n",
    "  conda_profile {\n",
    "    includeConfig 'conf/conda.config'\n",
    "    conda.enabled = true\n",
    "    executor = 'local'\n",
    "    }\n",
    "\n",
    "  conda_docker_profile {\n",
    "    includeConfig 'conf/conda_docker.config'\n",
    "    executor = 'local'\n",
    "    }\n",
    "\n",
    "  docker_profile {\n",
    "    includeConfig 'conf/docker.config'\n",
    "    docker.enabled = true\n",
    "    docker.envWhitelist=['ENV_SYNAPSE_TOKEN']\n",
    "    executor = 'local'\n",
    "  }\n",
    "  google_batch_profile {\n",
    "    workDir = 'gs://eila-nextflow-bucket/work'\n",
    "    includeConfig 'conf/docker-google-batch.config'\n",
    "    docker.enabled = true\n",
    "    docker.envWhitelist=['ENV_SYNAPSE_TOKEN']\n",
    "    executor = 'google-batch'\n",
    "    google.project = 'hai-gcp-genomic'\n",
    "    google.location = 'us-central1'\n",
    "    google.batch.spot = false\n",
    "    google.batch.serviceAccountEmail='pet-26869426946125b815f6b@terra-addd4c49.iam.gserviceaccount.com'\n",
    "  }\n",
    "    \n",
    "}\n",
    "params.FASTQS_SPEC_CH = '/Users/eilaarich-landkof-stanford/Documents/Code/git_igvf/cellatlas-scrna-seq-pipeline/nextflow/nf_data/nf_wf_fg_singlecell/atac_fastqs_files_local.csv'\n",
    "params.CHROMAP_IDX='/Users/eilaarich-landkof-stanford/Documents/Code/git_igvf/cellatlas-scrna-seq-pipeline/nextflow/nf_data/nf_wf_fg_singlecell/specs/dogmaseq-dig/Homo_sapiens.GRCh38.dna.primary_assembly.chromap.ref.index'\n",
    "\n",
    "params.GENOME_FASTA='http://ftp.ensembl.org/pub/release-109/fasta/homo_sapiens/dna/Homo_sapiens.GRCh38.dna.primary_assembly.fa.gz'\n",
    "params.GENOME_GZ_GTF='http://ftp.ensembl.org/pub/release-109/gtf/homo_sapiens/Homo_sapiens.GRCh38.109.gtf.gz'\n",
    "\n"
   ]
  },
  {
   "cell_type": "code",
   "execution_count": 243,
   "metadata": {
    "tags": []
   },
   "outputs": [
    {
     "name": "stdout",
     "output_type": "stream",
     "text": [
      "/home/eila/git_igvf/cellatlas-scrna-seq-pipeline/nextflow/nf_workflow/workflow_fg_single_cell_atac\n"
     ]
    }
   ],
   "source": [
    "!pwd"
   ]
  },
  {
   "cell_type": "code",
   "execution_count": 244,
   "metadata": {
    "tags": []
   },
   "outputs": [
    {
     "name": "stdout",
     "output_type": "stream",
     "text": [
      "Removing gs://eila-nextflow-bucket/work/70/930d446a1a49e8a3ad15f199f69d07/.command.run#1698794076360765...\n",
      "Removing gs://eila-nextflow-bucket/work/70/930d446a1a49e8a3ad15f199f69d07/.command.sh#1698794076697184...\n",
      "Removing gs://eila-nextflow-bucket/work/87/d8f6a8aa98ac973d94a776290f78de/.command.run#1698794075842881...\n",
      "Removing gs://eila-nextflow-bucket/work/87/d8f6a8aa98ac973d94a776290f78de/.command.sh#1698794076111831...\n",
      "/ [4 objects]                                                                   \n",
      "==> NOTE: You are performing a sequence of gsutil operations that may\n",
      "run significantly faster if you instead use gsutil -m rm ... Please\n",
      "see the -m section under \"gsutil help options\" for further information\n",
      "about when gsutil -m can be advantageous.\n",
      "\n",
      "Removing gs://eila-nextflow-bucket/work/stage-7a5de22b-ce93-494e-a37d-97f7cd1a6d57/13/2664a2ba899d1a83c0557d5fa533d9/nf_spec_dogmaseq_dig.yaml#1698794072365058...\n",
      "Removing gs://eila-nextflow-bucket/work/stage-7a5de22b-ce93-494e-a37d-97f7cd1a6d57/2e/502c7d0105a3746dc2e77e8c5b539b/atac_R3_SRR18677642.fastq.gz#1698794073889829...\n",
      "Removing gs://eila-nextflow-bucket/work/stage-7a5de22b-ce93-494e-a37d-97f7cd1a6d57/46/2f1e9fca8f67567a65c658e28a656e/atac_R1_SRR18677642.fastq.gz#1698794073802427...\n",
      "Removing gs://eila-nextflow-bucket/work/stage-7a5de22b-ce93-494e-a37d-97f7cd1a6d57/57/ba03abe268ce8358c62769a998ecc4/atac_R2_SRR18677642.fastq.gz#1698794073374051...\n",
      "/ [8 objects]                                                                   \n",
      "Operation completed over 8 objects.                                              \n"
     ]
    }
   ],
   "source": [
    "# !rm -r /Users/eilaarich-landkof-stanford/Documents/Code/git_igvf/cellatlas-scrna-seq-pipeline/nextflow/nf_workflow/workflow_fg_single_cell_atac/work\n",
    "# !rm -r /home/eila/git_igvf/cellatlas-scrna-seq-pipeline/nextflow/nf_workflow/workflow_fg_single_cell_atac/work\n",
    "!gsutil rm -r gs://eila-nextflow-bucket/work"
   ]
  },
  {
   "cell_type": "code",
   "execution_count": 245,
   "metadata": {
    "tags": []
   },
   "outputs": [
    {
     "name": "stdout",
     "output_type": "stream",
     "text": [
      "rm: cannot remove '.nextflow': Is a directory\n"
     ]
    }
   ],
   "source": [
    "!rm .nextflow*"
   ]
  },
  {
   "cell_type": "code",
   "execution_count": 246,
   "metadata": {
    "tags": []
   },
   "outputs": [],
   "source": [
    "# !ls nextflow.config"
   ]
  },
  {
   "cell_type": "code",
   "execution_count": 247,
   "metadata": {
    "tags": []
   },
   "outputs": [
    {
     "name": "stdout",
     "output_type": "stream",
     "text": [
      "N E X T F L O W  ~  version 23.04.4\n",
      "Launching `nf_wf_fg_singlecell_atac.nf` [kickass_goldstine] DSL2 - revision: c181a731dc\n",
      "Oct 31, 2023 11:16:03 PM com.google.auth.oauth2.DefaultCredentialsProvider warnAboutProblematicCredentials\n",
      "WARNING: Your application has authenticated using end user credentials from Google Cloud SDK. We recommend that most server applications use service accounts instead. If your application continues to use end user credentials from Cloud SDK, you might receive a \"quota exceeded\" or \"API not enabled\" error. For more information about service accounts, see https://cloud.google.com/docs/authentication/.\n",
      "/home/eila/git_igvf/cellatlas-scrna-seq-pipeline/nextflow/nf_data/nf_wf_fg_singlecell/atac_fastqs_files_vm.csv\n",
      "[-        ] process > run_seqspec_print       -\u001b[K\n",
      "[-        ] process > run_seqspec_modify_atac -\u001b[K\n",
      "finished run_seqspec_print\u001b[K\n",
      "start run_seqspec_modify_atac\u001b[K\n",
      "finish run_seqspec_modify_atac\u001b[K\n",
      "DataflowVariable(value=null)\u001b[K\n",
      "DataflowVariable(value=null)\u001b[K\n",
      "DataflowVariable(value=null)\u001b[K\n",
      "\u001b[9A\n",
      "[-        ] process > run_seqspec_print       -\u001b[K\n",
      "[-        ] process > run_seqspec_modify_atac -\u001b[K\n",
      "[-        ] process > run_chromap_map_to_idx  -\u001b[K\n",
      "finished run_seqspec_print\u001b[K\n",
      "start run_seqspec_modify_atac\u001b[K\n",
      "finish run_seqspec_modify_atac\u001b[K\n",
      "DataflowVariable(value=null)\u001b[K\n",
      "DataflowVariable(value=null)\u001b[K\n",
      "DataflowVariable(value=null)\u001b[K\n",
      "ProcessDef[process run_chromap_map_to_idx]\u001b[K\n",
      "\u001b[11A\n",
      "[-        ] process > run_seqspec_print       -\u001b[K\n",
      "[-        ] process > run_seqspec_modify_atac -\u001b[K\n",
      "[-        ] process > run_chromap_map_to_idx  -\u001b[K\n",
      "finished run_seqspec_print\u001b[K\n",
      "start run_seqspec_modify_atac\u001b[K\n",
      "finish run_seqspec_modify_atac\u001b[K\n",
      "DataflowVariable(value=null)\u001b[K\n",
      "DataflowVariable(value=null)\u001b[K\n",
      "DataflowVariable(value=null)\u001b[K\n",
      "ProcessDef[process run_chromap_map_to_idx]\u001b[K\n",
      "Staging foreign file: /home/eila/git_igvf/cellatlas-scrna-seq-pipeline/nextflow/nf_data/nf_wf_fg_singlecell/specs/dogmaseq-dig/Homo_sapiens.GRCh38.dna.primary_assembly.chromap.ref.index\u001b[K\n",
      "Staging foreign file: /home/eila/git_igvf/cellatlas-scrna-seq-pipeline/nextflow/nf_data/nf_wf_fg_singlecell/specs/dogmaseq-dig/fastqs/atac_R1_SRR18677642.fastq.gz\u001b[K\n",
      "\u001b[13A\n",
      "[-        ] process > run_seqspec_print       [  0%] 0 of 1\u001b[K\n",
      "[-        ] process > run_seqspec_modify_atac [  0%] 0 of 1\u001b[K\n",
      "[-        ] process > run_chromap_map_to_idx  -\u001b[K\n",
      "finished run_seqspec_print\u001b[K\n",
      "start run_seqspec_modify_atac\u001b[K\n",
      "finish run_seqspec_modify_atac\u001b[K\n",
      "DataflowVariable(value=null)\u001b[K\n",
      "DataflowVariable(value=null)\u001b[K\n",
      "DataflowVariable(value=null)\u001b[K\n",
      "ProcessDef[process run_chromap_map_to_idx]\u001b[K\n",
      "Staging foreign file: /home/eila/git_igvf/cellatlas-scrna-seq-pipeline/nextflow/nf_data/nf_wf_fg_singlecell/specs/dogmaseq-dig/Homo_sapiens.GRCh38.dna.primary_assembly.chromap.ref.index\u001b[K\n",
      "Staging foreign file: /home/eila/git_igvf/cellatlas-scrna-seq-pipeline/nextflow/nf_data/nf_wf_fg_singlecell/specs/dogmaseq-dig/fastqs/atac_R1_SRR18677642.fastq.gz\u001b[K\n",
      "Staging foreign file: http://ftp.ensembl.org/pub/release-109/fasta/homo_sapiens/dna/Homo_sapiens.GRCh38.dna.primary_assembly.fa.gz\u001b[K\n",
      "\u001b[14A\n",
      "executor >  local (fusion enabled) (1)\u001b[K\n",
      "[-        ] process > run_seqspec_print           [  0%] 0 of 1\u001b[K\n",
      "[5c/3c5457] process > run_seqspec_modify_atac (1) [  0%] 0 of 1\u001b[K\n",
      "[-        ] process > run_chromap_map_to_idx      -\u001b[K\n",
      "finished run_seqspec_print\u001b[K\n",
      "start run_seqspec_modify_atac\u001b[K\n",
      "finish run_seqspec_modify_atac\u001b[K\n",
      "DataflowVariable(value=null)\u001b[K\n",
      "DataflowVariable(value=null)\u001b[K\n",
      "DataflowVariable(value=null)\u001b[K\n",
      "ProcessDef[process run_chromap_map_to_idx]\u001b[K\n",
      "Staging foreign file: /home/eila/git_igvf/cellatlas-scrna-seq-pipeline/nextflow/nf_data/nf_wf_fg_singlecell/specs/dogmaseq-dig/Homo_sapiens.GRCh38.dna.primary_assembly.chromap.ref.index\u001b[K\n",
      "Staging foreign file: /home/eila/git_igvf/cellatlas-scrna-seq-pipeline/nextflow/nf_data/nf_wf_fg_singlecell/specs/dogmaseq-dig/fastqs/atac_R1_SRR18677642.fastq.gz\u001b[K\n",
      "Staging foreign file: http://ftp.ensembl.org/pub/release-109/fasta/homo_sapiens/dna/Homo_sapiens.GRCh38.dna.primary_assembly.fa.gz\u001b[K\n",
      "\u001b[31mERROR ~ Error executing process > 'run_seqspec_modify_atac (1)'\u001b[K\n",
      "\u001b[K\n",
      "Caused by:\u001b[K\n",
      "  Process `run_seqspec_modify_atac (1)` terminated with an error exit status (126)\u001b[K\n",
      "\u001b[K\n",
      "Command executed:\u001b[K\n",
      "\u001b[K\n",
      "  echo start run_seqspec_modify_rna\u001b[K\n",
      "  echo atac_R1_SRR18677642.fastq.gz\u001b[K\n",
      "  echo atac_R2_SRR18677642.fastq.gz\u001b[K\n",
      "  echo atac_R3_SRR18677642.fastq.gz\u001b[K\n",
      "  echo nf_spec_dogmaseq_dig.yaml\u001b[K\n",
      "  ls\u001b[K\n",
      "  # if fastq3 is na.fasq - nothing will happen in the spec\u001b[K\n",
      "  seqspec modify -m atac -o modatac1.yaml -r atac_R1.fastq.gz --region-id atac_R1_SRR18677642.fastq.gz nf_spec_dogmaseq_dig.yaml\u001b[K\n",
      "  seqspec modify -m atac -o modatac2.yaml -r atac_R2.fastq.gz --region-id atac_R2_SRR18677642.fastq.gz modatac1.yaml\u001b[K\n",
      "  seqspec modify -m atac -o modatac3.yaml -r atac_R3.fastq.gz --region-id atac_R3_SRR18677642.fastq.gz modatac2.yaml\u001b[K\n",
      "  seqspec modify -m atac -o nf_seqspec_modify.yaml -r atac_R3.fastq.gz --region-id atac_R3_SRR18677642.fastq.gz modatac3.yaml\u001b[K\n",
      "  echo finished seqspec modify atac\u001b[K\n",
      "\u001b[K\n",
      "Command exit status:\u001b[K\n",
      "  126\u001b[K\n",
      "\u001b[K\n",
      "Command output:\u001b[K\n",
      "  (empty)\u001b[K\n",
      "\u001b[K\n",
      "Command error:\u001b[K\n",
      "  docker: permission denied while trying to connect to the Docker daemon socket at unix:///var/run/docker.sock: Post \"http://%2Fvar%2Frun%2Fdocker.sock/v1.24/containers/create\": dial unix /var/run/docker.sock: connect: permission denied.\u001b[K\n",
      "  See 'docker run --help'.\u001b[K\n",
      "\u001b[K\n",
      "Work dir:\u001b[K\n",
      "  gs://eila-nextflow-bucket/work/5c/3c54574d9c54392ae08fe1ce2b1cd7\u001b[K\n",
      "\u001b[K\n",
      "Tip: you can replicate the issue by changing to the process work dir and entering the command `bash .command.run`\u001b[K\n",
      "\u001b[K\n",
      " -- Check '.nextflow.log' file for details\u001b[39m\u001b[K\n",
      "\u001b[51A\n",
      "executor >  local (fusion enabled) (1)\u001b[K\n",
      "[-        ] process > run_seqspec_print           [  0%] 0 of 1\u001b[K\n",
      "[5c/3c5457] process > run_seqspec_modify_atac (1) [100%] 1 of 1, failed: 1 ✘\u001b[K\n",
      "[-        ] process > run_chromap_map_to_idx      -\u001b[K\n",
      "finished run_seqspec_print\u001b[K\n",
      "start run_seqspec_modify_atac\u001b[K\n",
      "finish run_seqspec_modify_atac\u001b[K\n",
      "DataflowVariable(value=null)\u001b[K\n",
      "DataflowVariable(value=null)\u001b[K\n",
      "DataflowVariable(value=null)\u001b[K\n",
      "ProcessDef[process run_chromap_map_to_idx]\u001b[K\n",
      "Staging foreign file: /home/eila/git_igvf/cellatlas-scrna-seq-pipeline/nextflow/nf_data/nf_wf_fg_singlecell/specs/dogmaseq-dig/Homo_sapiens.GRCh38.dna.primary_assembly.chromap.ref.index\u001b[K\n",
      "Staging foreign file: /home/eila/git_igvf/cellatlas-scrna-seq-pipeline/nextflow/nf_data/nf_wf_fg_singlecell/specs/dogmaseq-dig/fastqs/atac_R1_SRR18677642.fastq.gz\u001b[K\n",
      "Staging foreign file: http://ftp.ensembl.org/pub/release-109/fasta/homo_sapiens/dna/Homo_sapiens.GRCh38.dna.primary_assembly.fa.gz\u001b[K\n",
      "\u001b[31mERROR ~ Error executing process > 'run_seqspec_modify_atac (1)'\u001b[K\n",
      "\u001b[K\n",
      "Caused by:\u001b[K\n",
      "  Process `run_seqspec_modify_atac (1)` terminated with an error exit status (126)\u001b[K\n",
      "\u001b[K\n",
      "Command executed:\u001b[K\n",
      "\u001b[K\n",
      "  echo start run_seqspec_modify_rna\u001b[K\n",
      "  echo atac_R1_SRR18677642.fastq.gz\u001b[K\n",
      "  echo atac_R2_SRR18677642.fastq.gz\u001b[K\n",
      "  echo atac_R3_SRR18677642.fastq.gz\u001b[K\n",
      "  echo nf_spec_dogmaseq_dig.yaml\u001b[K\n",
      "  ls\u001b[K\n",
      "  # if fastq3 is na.fasq - nothing will happen in the spec\u001b[K\n",
      "  seqspec modify -m atac -o modatac1.yaml -r atac_R1.fastq.gz --region-id atac_R1_SRR18677642.fastq.gz nf_spec_dogmaseq_dig.yaml\u001b[K\n",
      "  seqspec modify -m atac -o modatac2.yaml -r atac_R2.fastq.gz --region-id atac_R2_SRR18677642.fastq.gz modatac1.yaml\u001b[K\n",
      "  seqspec modify -m atac -o modatac3.yaml -r atac_R3.fastq.gz --region-id atac_R3_SRR18677642.fastq.gz modatac2.yaml\u001b[K\n",
      "  seqspec modify -m atac -o nf_seqspec_modify.yaml -r atac_R3.fastq.gz --region-id atac_R3_SRR18677642.fastq.gz modatac3.yaml\u001b[K\n",
      "  echo finished seqspec modify atac\u001b[K\n",
      "\u001b[K\n",
      "Command exit status:\u001b[K\n",
      "  126\u001b[K\n",
      "\u001b[K\n",
      "Command output:\u001b[K\n",
      "  (empty)\u001b[K\n",
      "\u001b[K\n",
      "Command error:\u001b[K\n",
      "  docker: permission denied while trying to connect to the Docker daemon socket at unix:///var/run/docker.sock: Post \"http://%2Fvar%2Frun%2Fdocker.sock/v1.24/containers/create\": dial unix /var/run/docker.sock: connect: permission denied.\u001b[K\n",
      "  See 'docker run --help'.\u001b[K\n",
      "\u001b[K\n",
      "Work dir:\u001b[K\n",
      "  gs://eila-nextflow-bucket/work/5c/3c54574d9c54392ae08fe1ce2b1cd7\u001b[K\n",
      "\u001b[K\n",
      "Tip: you can replicate the issue by changing to the process work dir and entering the command `bash .command.run`\u001b[K\n",
      "\u001b[K\n",
      " -- Check '.nextflow.log' file for details\u001b[39m\u001b[K\n",
      "\n"
     ]
    }
   ],
   "source": [
    "!nextflow run nf_wf_fg_singlecell_atac.nf -c nextflow_vm.config -profile google_batch_profile\n",
    "\n",
    "\n",
    "\n",
    "# !nextflow run nf_wf_fg_singlecell_atac.nf -c nextflow_vm_anvil.config -profile google_batch_profile\n",
    "# !nextflow run nf_wf_fg_singlecell_atac.nf -c nextflow_local.config -profile google_batch_profile\n",
    "# !nextflow run nf_wf_fg_singlecell_atac.nf -c nextflow_local.config -profile docker_profile\n"
   ]
  },
  {
   "cell_type": "code",
   "execution_count": 248,
   "metadata": {
    "tags": []
   },
   "outputs": [],
   "source": [
    "# !nextflow run nf_wf_fg_singlecell_atac.nf -c nextflow_vm.config -profile google_batch_profile -resume\n",
    "\n",
    "\n",
    "\n",
    "\n",
    "# !nextflow run nf_wf_fg_singlecell_atac.nf -c nextflow_local.config -profile google_batch_profile -resume\n",
    "# !nextflow run nf_wf_fg_singlecell_atac.nf -c nextflow_vm.config -profile google_batch_profile -resume\n",
    "# !nextflow run nf_wf_fg_singlecell_atac.nf -c nextflow.config -profile docker_profile -resume\n",
    "# !nextflow run nf_wf_fg_singlecell_atac.nf -c nextflow.config -profile google_batch_profile -resume"
   ]
  },
  {
   "cell_type": "code",
   "execution_count": 249,
   "metadata": {
    "tags": []
   },
   "outputs": [
    {
     "name": "stdout",
     "output_type": "stream",
     "text": [
      "Oct-31 23:16:01.979 [main] DEBUG nextflow.cli.Launcher - $> nextflow run nf_wf_fg_singlecell_atac.nf -c nextflow_vm.config -profile google_batch_profile\n",
      "Oct-31 23:16:02.100 [main] INFO  nextflow.cli.CmdRun - N E X T F L O W  ~  version 23.04.4\n",
      "Oct-31 23:16:02.124 [main] DEBUG nextflow.plugin.PluginsFacade - Setting up plugin manager > mode=prod; embedded=false; plugins-dir=/home/eila/.nextflow/plugins; core-plugins: nf-amazon@1.16.2,nf-azure@1.0.1,nf-codecommit@0.1.4,nf-console@1.0.5,nf-ga4gh@1.0.5,nf-google@1.7.3-patch1,nf-tower@1.5.12,nf-wave@0.8.4\n",
      "Oct-31 23:16:02.136 [main] INFO  org.pf4j.DefaultPluginStatusProvider - Enabled plugins: []\n",
      "Oct-31 23:16:02.137 [main] INFO  org.pf4j.DefaultPluginStatusProvider - Disabled plugins: []\n",
      "Oct-31 23:16:02.142 [main] INFO  org.pf4j.DefaultPluginManager - PF4J version 3.4.1 in 'deployment' mode\n",
      "Oct-31 23:16:02.155 [main] INFO  org.pf4j.AbstractPluginManager - No plugins\n",
      "Oct-31 23:16:02.175 [main] DEBUG nextflow.config.ConfigBuilder - Found config local: /home/eila/git_igvf/cellatlas-scrna-seq-pipeline/nextflow/nf_workflow/workflow_fg_single_cell_atac/nextflow.config\n",
      "Oct-31 23:16:02.178 [main] DEBUG nextflow.config.ConfigBuilder - User config file: /home/eila/git_igvf/cellatlas-scrna-seq-pipeline/nextflow/nf_workflow/workflow_fg_single_cell_atac/nextflow_vm.config\n",
      "Oct-31 23:16:02.178 [main] DEBUG nextflow.config.ConfigBuilder - Parsing config file: /home/eila/git_igvf/cellatlas-scrna-seq-pipeline/nextflow/nf_workflow/workflow_fg_single_cell_atac/nextflow.config\n",
      "Oct-31 23:16:02.178 [main] DEBUG nextflow.config.ConfigBuilder - Parsing config file: /home/eila/git_igvf/cellatlas-scrna-seq-pipeline/nextflow/nf_workflow/workflow_fg_single_cell_atac/nextflow_vm.config\n",
      "Oct-31 23:16:02.205 [main] DEBUG nextflow.config.ConfigBuilder - Applying config profile: `google_batch_profile`\n",
      "Oct-31 23:16:03.158 [main] DEBUG nextflow.config.ConfigBuilder - Applying config profile: `google_batch_profile`\n",
      "Oct-31 23:16:03.324 [main] DEBUG nextflow.config.ConfigBuilder - Available config profiles: [google_batch_profile, conda_docker_profile, docker_profile, conda_profile]\n",
      "Oct-31 23:16:03.379 [main] DEBUG nextflow.cli.CmdRun - Applied DSL=2 by global default\n",
      "Oct-31 23:16:03.402 [main] INFO  nextflow.cli.CmdRun - Launching `nf_wf_fg_singlecell_atac.nf` [kickass_goldstine] DSL2 - revision: c181a731dc\n",
      "Oct-31 23:16:03.403 [main] DEBUG nextflow.plugin.PluginsFacade - Plugins default=[nf-google@1.7.3-patch1]\n",
      "Oct-31 23:16:03.404 [main] DEBUG nextflow.plugin.PluginsFacade - Plugins resolved requirement=[nf-google@1.7.3-patch1, nf-wave@0.8.4]\n",
      "Oct-31 23:16:03.404 [main] DEBUG nextflow.plugin.PluginUpdater - Installing plugin nf-google version: 1.7.3-patch1\n",
      "Oct-31 23:16:03.423 [main] INFO  org.pf4j.AbstractPluginManager - Plugin 'nf-google@1.7.3-patch1' resolved\n",
      "Oct-31 23:16:03.423 [main] INFO  org.pf4j.AbstractPluginManager - Start plugin 'nf-google@1.7.3-patch1'\n",
      "Oct-31 23:16:03.474 [main] DEBUG nextflow.plugin.BasePlugin - Plugin started nf-google@1.7.3-patch1\n",
      "Oct-31 23:16:03.474 [main] DEBUG nextflow.plugin.PluginUpdater - Installing plugin nf-wave version: 0.8.4\n",
      "Oct-31 23:16:03.477 [main] INFO  org.pf4j.AbstractPluginManager - Plugin 'nf-wave@0.8.4' resolved\n",
      "Oct-31 23:16:03.477 [main] INFO  org.pf4j.AbstractPluginManager - Start plugin 'nf-wave@0.8.4'\n",
      "Oct-31 23:16:03.485 [main] DEBUG nextflow.plugin.BasePlugin - Plugin started nf-wave@0.8.4\n",
      "Oct-31 23:16:03.501 [main] DEBUG nextflow.secret.LocalSecretsProvider - Secrets store: /home/eila/.nextflow/secrets/store.json\n",
      "Oct-31 23:16:03.507 [main] DEBUG nextflow.secret.SecretsLoader - Discovered secrets providers: [nextflow.secret.LocalSecretsProvider@4cb702ce] - activable => nextflow.secret.LocalSecretsProvider@4cb702ce\n",
      "Oct-31 23:16:03.592 [main] DEBUG nextflow.Session - Session UUID: 900bb4f2-4532-4b37-bf66-6c9e53334f23\n",
      "Oct-31 23:16:03.593 [main] DEBUG nextflow.Session - Run name: kickass_goldstine\n",
      "Oct-31 23:16:03.593 [main] DEBUG nextflow.Session - Executor pool size: 16\n",
      "Oct-31 23:16:03.873 [main] DEBUG nextflow.util.ThreadPoolBuilder - Creating thread pool 'FileTransfer' minSize=10; maxSize=48; workQueue=LinkedBlockingQueue[10000]; allowCoreThreadTimeout=false\n",
      "Oct-31 23:16:03.895 [main] DEBUG nextflow.cli.CmdRun - \n",
      "  Version: 23.04.4 build 5881\n",
      "  Created: 25-09-2023 15:34 UTC \n",
      "  System: Linux 5.10.0-26-cloud-amd64\n",
      "  Runtime: Groovy 3.0.16 on OpenJDK 64-Bit Server VM 11.0.13+7-b1751.21\n",
      "  Encoding: UTF-8 (UTF-8)\n",
      "  Process: 12775@eila-vm [10.128.0.63]\n",
      "  CPUs: 16 - Mem: 58.9 GB (44.3 GB) - Swap: 0 (0)\n",
      "Oct-31 23:16:03.929 [main] DEBUG nextflow.file.FileHelper - Can't check if specified path is NFS (1): gs://eila-nextflow-bucket/work\n",
      "\n",
      "Oct-31 23:16:03.929 [main] DEBUG nextflow.Session - Work-dir: gs://eila-nextflow-bucket/work [null]\n",
      "Oct-31 23:16:03.929 [main] DEBUG nextflow.Session - Script base path does not exist or is not a directory: /home/eila/git_igvf/cellatlas-scrna-seq-pipeline/nextflow/nf_workflow/workflow_fg_single_cell_atac/bin\n",
      "Oct-31 23:16:03.959 [main] DEBUG nextflow.executor.ExecutorFactory - Extension executors providers=[GoogleLifeSciencesExecutor, GoogleBatchExecutor]\n",
      "Oct-31 23:16:03.974 [main] DEBUG nextflow.Session - Observer factory: DefaultObserverFactory\n",
      "Oct-31 23:16:03.978 [main] DEBUG nextflow.Session - Observer factory: WaveFactory\n",
      "Oct-31 23:16:03.978 [main] DEBUG io.seqera.wave.plugin.WaveFactory - Detected Fusion enabled -- Enabling bundle project resources -- Disabling upload of remote bin directory\n",
      "Oct-31 23:16:04.006 [main] DEBUG nextflow.cache.CacheFactory - Using Nextflow cache factory: nextflow.cache.DefaultCacheFactory\n",
      "Oct-31 23:16:04.019 [main] DEBUG nextflow.util.CustomThreadPool - Creating default thread pool > poolSize: 17; maxThreads: 1000\n",
      "Oct-31 23:16:04.110 [main] DEBUG nextflow.Session - Session start\n",
      "Oct-31 23:16:04.399 [main] DEBUG nextflow.script.ScriptRunner - > Launching execution\n",
      "Oct-31 23:16:04.901 [main] INFO  nextflow.script.BaseScript - /home/eila/git_igvf/cellatlas-scrna-seq-pipeline/nextflow/nf_data/nf_wf_fg_singlecell/atac_fastqs_files_vm.csv\n",
      "Oct-31 23:16:05.077 [main] DEBUG nextflow.script.ProcessConfig - Config settings `withLabel:seqspec_local` matches labels `seqspec_local` for process with name run_seqspec_print\n",
      "Oct-31 23:16:05.082 [main] DEBUG nextflow.executor.ExecutorFactory - << taskConfig executor: local\n",
      "Oct-31 23:16:05.083 [main] DEBUG nextflow.executor.ExecutorFactory - >> processorType: 'local'\n",
      "Oct-31 23:16:05.088 [main] DEBUG nextflow.executor.Executor - [warm up] executor > local (fusion enabled)\n",
      "Oct-31 23:16:05.093 [main] DEBUG n.processor.LocalPollingMonitor - Creating local task monitor for executor 'local' > cpus=16; memory=58.9 GB; capacity=16; pollInterval=100ms; dumpInterval=5m\n",
      "Oct-31 23:16:05.174 [main] INFO  nextflow.script.BaseScript - finished run_seqspec_print\n",
      "Oct-31 23:16:05.176 [main] INFO  nextflow.script.BaseScript - start run_seqspec_modify_atac\n",
      "Oct-31 23:16:05.178 [main] DEBUG nextflow.script.ProcessConfig - Config settings `withLabel:seqspec_local` matches labels `seqspec_local` for process with name run_seqspec_modify_atac\n",
      "Oct-31 23:16:05.179 [main] DEBUG nextflow.executor.ExecutorFactory - << taskConfig executor: local\n",
      "Oct-31 23:16:05.179 [main] DEBUG nextflow.executor.ExecutorFactory - >> processorType: 'local'\n",
      "Oct-31 23:16:05.182 [main] INFO  nextflow.script.BaseScript - finish run_seqspec_modify_atac\n",
      "Oct-31 23:16:05.195 [main] INFO  nextflow.script.BaseScript - DataflowVariable(value=null)\n",
      "Oct-31 23:16:05.196 [main] INFO  nextflow.script.BaseScript - DataflowVariable(value=null)\n",
      "Oct-31 23:16:05.205 [main] INFO  nextflow.script.BaseScript - DataflowVariable(value=null)\n",
      "Oct-31 23:16:05.208 [main] DEBUG nextflow.script.ProcessConfig - Config settings `withLabel:chromap_idx` matches labels `chromap_idx` for process with name run_chromap_map_to_idx\n",
      "Oct-31 23:16:05.209 [main] DEBUG nextflow.executor.ExecutorFactory - << taskConfig executor: google-batch\n",
      "Oct-31 23:16:05.210 [main] DEBUG nextflow.executor.ExecutorFactory - >> processorType: 'google-batch'\n",
      "Oct-31 23:16:05.211 [main] DEBUG nextflow.executor.Executor - [warm up] executor > google-batch (fusion enabled)\n",
      "Oct-31 23:16:05.214 [main] DEBUG n.processor.TaskPollingMonitor - Creating task monitor for executor 'google-batch' > capacity: 1000; pollInterval: 10s; dumpInterval: 5m \n",
      "Oct-31 23:16:05.218 [main] DEBUG nextflow.cloud.google.GoogleOpts - Google auth via application DEFAULT\n",
      "Oct-31 23:16:05.222 [main] DEBUG n.c.google.batch.GoogleBatchExecutor - [GOOGLE BATCH] Executor config=BatchConfig[googleOpts=GoogleOpts(projectId:hai-gcp-genomic, credsFile:null, location:us-central1, enableRequesterPaysBuckets:false, credentials:UserCredentials{requestMetadata=null, temporaryAccess=null, clientId=764086051850-6qr4p6gpi6hn506pt8ejuq83di341hur.apps.googleusercontent.com, refreshToken=1//04-ZrKvCfXPa5CgYIARAAGAQSNwF-L9IrkFtcwyfUDAhTeAquw0t0utu5nMRfG-U9l5uflp_XJI0EMWlO9aPKmi0CxdbKiKRekQc, tokenServerUri=https://oauth2.googleapis.com/token, transportFactoryClassName=com.google.auth.oauth2.OAuth2Utils$DefaultHttpTransportFactory, quotaProjectId=hai-gcp-genomic})\n",
      "Oct-31 23:16:05.238 [main] DEBUG n.c.google.batch.client.BatchClient - [GOOGLE BATCH] Creating service client with config credentials\n",
      "Oct-31 23:16:05.818 [main] INFO  nextflow.script.BaseScript - ProcessDef[process run_chromap_map_to_idx]\n",
      "Oct-31 23:16:05.819 [main] DEBUG nextflow.Session - Workflow process names [dsl2]: run_create_chromap_idx, run_download_chromap_idx, run_seqspec_modify_rna, run_seqspec_print, run_seqspec_check, run_synpase_download, run_seqspec_index_rna_kb, run_seqspec_modify_atac, run_synpase_upload, run_downloadFiles, run_chromap_map_to_idx\n",
      "Oct-31 23:16:05.820 [main] DEBUG nextflow.Session - Igniting dataflow network (7)\n",
      "Oct-31 23:16:05.827 [main] DEBUG nextflow.processor.TaskProcessor - Starting process > run_seqspec_print\n",
      "Oct-31 23:16:05.827 [main] DEBUG nextflow.processor.TaskProcessor - Starting process > run_seqspec_modify_atac\n",
      "Oct-31 23:16:05.828 [main] DEBUG nextflow.processor.TaskProcessor - Starting process > run_chromap_map_to_idx\n",
      "Oct-31 23:16:05.829 [main] DEBUG nextflow.script.ScriptRunner - > Awaiting termination \n",
      "Oct-31 23:16:05.829 [main] DEBUG nextflow.Session - Session await\n",
      "Oct-31 23:16:09.958 [FileTransfer-1] DEBUG nextflow.file.FilePorter - Copying foreign file /home/eila/git_igvf/cellatlas-scrna-seq-pipeline/nextflow/nf_data/nf_wf_fg_singlecell/specs/dogmaseq-dig/Homo_sapiens.GRCh38.dna.primary_assembly.chromap.ref.index to work dir: gs://eila-nextflow-bucket/work/stage-900bb4f2-4532-4b37-bf66-6c9e53334f23/c8/3948d8442518b4e66f6012dfe20dc1/Homo_sapiens.GRCh38.dna.primary_assembly.chromap.ref.index\n",
      "Oct-31 23:16:10.094 [FileTransfer-5] DEBUG nextflow.file.FilePorter - Copying foreign file /home/eila/git_igvf/cellatlas-scrna-seq-pipeline/nextflow/nf_data/nf_wf_fg_singlecell/specs/dogmaseq-dig/fastqs/atac_R3_SRR18677642.fastq.gz to work dir: gs://eila-nextflow-bucket/work/stage-900bb4f2-4532-4b37-bf66-6c9e53334f23/6d/d72d767588d2bffac4d1a925363208/atac_R3_SRR18677642.fastq.gz\n",
      "Oct-31 23:16:10.097 [FileTransfer-3] DEBUG nextflow.file.FilePorter - Copying foreign file /home/eila/git_igvf/cellatlas-scrna-seq-pipeline/nextflow/nf_data/nf_wf_fg_singlecell/specs/dogmaseq-dig/fastqs/atac_R1_SRR18677642.fastq.gz to work dir: gs://eila-nextflow-bucket/work/stage-900bb4f2-4532-4b37-bf66-6c9e53334f23/eb/11251b856277635aab4a7d42a7b85e/atac_R1_SRR18677642.fastq.gz\n",
      "Oct-31 23:16:10.102 [FileTransfer-6] DEBUG nextflow.file.FilePorter - Copying foreign file /home/eila/git_igvf/cellatlas-scrna-seq-pipeline/nextflow/nf_data/nf_wf_fg_singlecell/specs/dogmaseq-dig/nf_spec_dogmaseq_dig.yaml to work dir: gs://eila-nextflow-bucket/work/stage-900bb4f2-4532-4b37-bf66-6c9e53334f23/c2/9f3d65b2f41766ff0a81109ba9e737/nf_spec_dogmaseq_dig.yaml\n",
      "Oct-31 23:16:10.109 [FileTransfer-2] DEBUG nextflow.file.FilePorter - Copying foreign file http://ftp.ensembl.org/pub/release-109/fasta/homo_sapiens/dna/Homo_sapiens.GRCh38.dna.primary_assembly.fa.gz to work dir: gs://eila-nextflow-bucket/work/stage-900bb4f2-4532-4b37-bf66-6c9e53334f23/32/3cf3d132222d54a4c903fe6466b067/Homo_sapiens.GRCh38.dna.primary_assembly.fa.gz\n",
      "Oct-31 23:16:10.268 [FileTransfer-4] DEBUG nextflow.file.FilePorter - Copying foreign file /home/eila/git_igvf/cellatlas-scrna-seq-pipeline/nextflow/nf_data/nf_wf_fg_singlecell/specs/dogmaseq-dig/fastqs/atac_R2_SRR18677642.fastq.gz to work dir: gs://eila-nextflow-bucket/work/stage-900bb4f2-4532-4b37-bf66-6c9e53334f23/d3/1ced33c8958b1970d2dbc4e6670a1c/atac_R2_SRR18677642.fastq.gz\n",
      "Oct-31 23:16:11.789 [Actor Thread 15] INFO  nextflow.file.FilePorter - Staging foreign file: /home/eila/git_igvf/cellatlas-scrna-seq-pipeline/nextflow/nf_data/nf_wf_fg_singlecell/specs/dogmaseq-dig/Homo_sapiens.GRCh38.dna.primary_assembly.chromap.ref.index\n",
      "Oct-31 23:16:11.791 [Actor Thread 14] INFO  nextflow.file.FilePorter - Staging foreign file: /home/eila/git_igvf/cellatlas-scrna-seq-pipeline/nextflow/nf_data/nf_wf_fg_singlecell/specs/dogmaseq-dig/fastqs/atac_R1_SRR18677642.fastq.gz\n",
      "Oct-31 23:16:12.446 [Actor Thread 16] DEBUG i.s.wave.plugin.config.WaveConfig - Wave strategy not specified - using default: [container, dockerfile, conda]\n",
      "Oct-31 23:16:12.456 [Actor Thread 16] DEBUG io.seqera.wave.plugin.WaveClient - Wave server endpoint: https://wave.seqera.io\n",
      "Oct-31 23:16:12.553 [Actor Thread 16] DEBUG io.seqera.wave.plugin.WaveClient - Wave request container config: https://fusionfs.seqera.io/releases/v2.1-amd64.json\n",
      "Oct-31 23:16:12.735 [Actor Thread 16] DEBUG io.seqera.wave.plugin.WaveClient - Wave container config response: [200] {\n",
      "  \"entrypoint\": [ \"/usr/bin/fusion\" ],\n",
      "  \"layers\": [\n",
      "    {\n",
      "      \"location\": \"https://fusionfs.seqera.io/releases/pkg/2/1/14/fusion-amd64.tar.gz\",\n",
      "      \"gzipDigest\": \"sha256:dc2af1c65a55bbe0870b44ff5e322ca5937ba035232316a430c9e556b84d1f6c\",\n",
      "      \"gzipSize\": 14218941,\n",
      "      \"tarDigest\": \"sha256:b7f7e82e26b1b49337a5581c186ac327965559dbc668ff61f94abe24b5356c81\",\n",
      "      \"skipHashing\": true\n",
      "    }\n",
      "  ]\n",
      "}\n",
      "\n",
      "Oct-31 23:16:12.804 [Actor Thread 16] DEBUG io.seqera.wave.plugin.WaveClient - Wave request: https://wave.seqera.io/container-token; attempt=1 - request: SubmitContainerTokenRequest(towerAccessToken:null, towerRefreshToken:null, towerWorkspaceId:null, towerEndpoint:https://api.tower.nf, workflowId:null, containerImage:eilalan/seqspec_env:latest, containerFile:null, containerConfig:ContainerConfig(entrypoint:[/usr/bin/fusion], cmd:null, env:null, workingDir:null, layers:[ContainerLayer[location=https://fusionfs.seqera.io/releases/pkg/2/1/14/fusion-amd64.tar.gz; tarDigest=sha256:b7f7e82e26b1b49337a5581c186ac327965559dbc668ff61f94abe24b5356c81; gzipDigest=sha256:dc2af1c65a55bbe0870b44ff5e322ca5937ba035232316a430c9e556b84d1f6c; gzipSize=14218941]]), condaFile:null, containerPlatform:null, buildRepository:null, cacheRepository:null, timestamp:2023-10-31T23:16:12.796849Z, fingerprint:abc631b4c5f30fd2c1d29004f5b88cdd)\n",
      "Oct-31 23:16:13.273 [Actor Thread 16] DEBUG io.seqera.wave.plugin.WaveClient - Wave response: statusCode=200; body={\"containerToken\":\"dfd6daebbbbb\",\"targetImage\":\"wave.seqera.io/wt/dfd6daebbbbb/eilalan/seqspec_env:latest\",\"expiration\":\"2023-11-02T11:16:13.221548631Z\",\"containerImage\":\"docker.io/eilalan/seqspec_env:latest\"}\n",
      "Oct-31 23:16:13.790 [Actor Thread 15] INFO  nextflow.file.FilePorter - Staging foreign file: http://ftp.ensembl.org/pub/release-109/fasta/homo_sapiens/dna/Homo_sapiens.GRCh38.dna.primary_assembly.fa.gz\n",
      "Oct-31 23:16:14.436 [Task submitter] DEBUG n.executor.local.LocalTaskHandler - Launch cmd line: docker run -i -e \"FUSION_WORK=/fusion/gs/eila-nextflow-bucket/work/5c/3c54574d9c54392ae08fe1ce2b1cd7\" -e \"FUSION_TAGS=[.command.*|.exitcode|.fusion.*](nextflow.io/metadata=true),[*](nextflow.io/temporary=true)\" ${ENV_SYNAPSE_TOKEN:+-e \"ENV_SYNAPSE_TOKEN=$ENV_SYNAPSE_TOKEN\"} --rm --privileged wave.seqera.io/wt/dfd6daebbbbb/eilalan/seqspec_env:latest /usr/bin/fusion bash '/fusion/gs/eila-nextflow-bucket/work/5c/3c54574d9c54392ae08fe1ce2b1cd7/.command.run'\n",
      "Oct-31 23:16:14.439 [Task submitter] INFO  nextflow.Session - [5c/3c5457] Submitted process > run_seqspec_modify_atac (1)\n",
      "Oct-31 23:16:14.502 [Task monitor] DEBUG n.processor.TaskPollingMonitor - Task completed > TaskHandler[id: 3; name: run_seqspec_modify_atac (1); status: COMPLETED; exit: 126; error: -; workDir: gs://eila-nextflow-bucket/work/5c/3c54574d9c54392ae08fe1ce2b1cd7]\n",
      "Oct-31 23:16:14.508 [Task monitor] DEBUG nextflow.processor.TaskProcessor - Handling unexpected condition for\n",
      "  task: name=run_seqspec_modify_atac (1); work-dir=gs://eila-nextflow-bucket/work/5c/3c54574d9c54392ae08fe1ce2b1cd7\n",
      "  error [nextflow.exception.ProcessFailedException]: Process `run_seqspec_modify_atac (1)` terminated with an error exit status (126)\n",
      "Oct-31 23:16:14.573 [Task monitor] DEBUG nextflow.processor.TaskRun - Unable to dump output of process 'null' -- Cause: java.nio.file.NoSuchFileException: gs://eila-nextflow-bucket/work/5c/3c54574d9c54392ae08fe1ce2b1cd7/.command.out\n",
      "Oct-31 23:16:14.578 [Task monitor] ERROR nextflow.processor.TaskProcessor - Error executing process > 'run_seqspec_modify_atac (1)'\n",
      "\n",
      "Caused by:\n",
      "  Process `run_seqspec_modify_atac (1)` terminated with an error exit status (126)\n",
      "\n",
      "Command executed:\n",
      "\n",
      "  echo start run_seqspec_modify_rna\n",
      "  echo atac_R1_SRR18677642.fastq.gz\n",
      "  echo atac_R2_SRR18677642.fastq.gz\n",
      "  echo atac_R3_SRR18677642.fastq.gz\n",
      "  echo nf_spec_dogmaseq_dig.yaml\n",
      "  ls\n",
      "  # if fastq3 is na.fasq - nothing will happen in the spec\n",
      "  seqspec modify -m atac -o modatac1.yaml -r atac_R1.fastq.gz --region-id atac_R1_SRR18677642.fastq.gz nf_spec_dogmaseq_dig.yaml\n",
      "  seqspec modify -m atac -o modatac2.yaml -r atac_R2.fastq.gz --region-id atac_R2_SRR18677642.fastq.gz modatac1.yaml\n",
      "  seqspec modify -m atac -o modatac3.yaml -r atac_R3.fastq.gz --region-id atac_R3_SRR18677642.fastq.gz modatac2.yaml\n",
      "  seqspec modify -m atac -o nf_seqspec_modify.yaml -r atac_R3.fastq.gz --region-id atac_R3_SRR18677642.fastq.gz modatac3.yaml\n",
      "  echo finished seqspec modify atac\n",
      "\n",
      "Command exit status:\n",
      "  126\n",
      "\n",
      "Command output:\n",
      "  (empty)\n",
      "\n",
      "Command error:\n",
      "  docker: permission denied while trying to connect to the Docker daemon socket at unix:///var/run/docker.sock: Post \"http://%2Fvar%2Frun%2Fdocker.sock/v1.24/containers/create\": dial unix /var/run/docker.sock: connect: permission denied.\n",
      "  See 'docker run --help'.\n",
      "\n",
      "Work dir:\n",
      "  gs://eila-nextflow-bucket/work/5c/3c54574d9c54392ae08fe1ce2b1cd7\n",
      "\n",
      "Tip: you can replicate the issue by changing to the process work dir and entering the command `bash .command.run`\n",
      "Oct-31 23:16:14.638 [Task monitor] DEBUG nextflow.Session - Session aborted -- Cause: Process `run_seqspec_modify_atac (1)` terminated with an error exit status (126)\n",
      "Oct-31 23:16:14.659 [Task monitor] DEBUG nextflow.Session - The following nodes are still active:\n",
      "[process] run_chromap_map_to_idx\n",
      "  status=ACTIVE\n",
      "  port 0: (value) bound ; channel: chromap_idx\n",
      "  port 1: (value) bound ; channel: ref_fa\n",
      "  port 2: (queue) closed; channel: -\n",
      "  port 3: (cntrl) -     ; channel: $\n",
      "\n",
      "Oct-31 23:16:14.664 [main] DEBUG nextflow.Session - Session await > all processes finished\n",
      "Oct-31 23:16:14.665 [main] DEBUG nextflow.Session - Session await > all barriers passed\n",
      "Oct-31 23:16:14.670 [Actor Thread 8] DEBUG nextflow.processor.TaskProcessor - Handling unexpected condition for\n",
      "  task: name=run_chromap_map_to_idx; work-dir=null\n",
      "  error [java.lang.InterruptedException]: java.lang.InterruptedException\n",
      "Oct-31 23:16:14.674 [main] DEBUG nextflow.trace.WorkflowStatsObserver - Workflow completed > WorkflowStats[succeededCount=0; failedCount=1; ignoredCount=0; cachedCount=0; pendingCount=1; submittedCount=0; runningCount=0; retriesCount=0; abortedCount=0; succeedDuration=0ms; failedDuration=20ms; cachedDuration=0ms;loadCpus=0; loadMemory=0; peakRunning=1; peakCpus=1; peakMemory=0; ]\n",
      "Oct-31 23:16:14.800 [main] DEBUG nextflow.cache.CacheDB - Closing CacheDB done\n",
      "Oct-31 23:16:14.800 [main] INFO  org.pf4j.AbstractPluginManager - Stop plugin 'nf-wave@0.8.4'\n",
      "Oct-31 23:16:14.800 [main] DEBUG nextflow.plugin.BasePlugin - Plugin stopped nf-wave\n",
      "Oct-31 23:16:14.800 [main] INFO  org.pf4j.AbstractPluginManager - Stop plugin 'nf-google@1.7.3-patch1'\n",
      "Oct-31 23:16:14.801 [main] DEBUG nextflow.plugin.BasePlugin - Plugin stopped nf-google\n",
      "Oct-31 23:16:14.825 [main] DEBUG nextflow.script.ScriptRunner - > Execution complete -- Goodbye\n",
      "Oct-31 23:16:14.865 [Task submitter] DEBUG nextflow.plugin.PluginsFacade - Using Default plugin manager\n"
     ]
    }
   ],
   "source": [
    "!cat .nextflow.log "
   ]
  },
  {
   "cell_type": "code",
   "execution_count": 36,
   "metadata": {
    "tags": []
   },
   "outputs": [],
   "source": [
    "# !ls /Users/eilaarich-landkof-stanford/Documents/Code/git_igvf/seqspec/specs/dogmaseq-dig/fastqs"
   ]
  },
  {
   "cell_type": "code",
   "execution_count": 37,
   "metadata": {
    "tags": []
   },
   "outputs": [],
   "source": [
    "# !nextflow run /Users/eilaarich-landkof-stanford/Documents/Code/git_igvf/cellatlas-scrna-seq-pipeline/nextflow/nf_processes/nf_prcs_print.nf"
   ]
  },
  {
   "cell_type": "code",
   "execution_count": 38,
   "metadata": {
    "tags": []
   },
   "outputs": [],
   "source": [
    "# !ls /Users/eilaarich-landkof-stanford/Documents/Code/git_igvf/cellatlas-scrna-seq-pipeline/nextflow/nf_processes/nf_prcs_print.nf"
   ]
  },
  {
   "cell_type": "code",
   "execution_count": 39,
   "metadata": {
    "tags": []
   },
   "outputs": [],
   "source": [
    "# !cat .command.out"
   ]
  },
  {
   "cell_type": "code",
   "execution_count": 40,
   "metadata": {
    "tags": []
   },
   "outputs": [],
   "source": [
    "# !nextflow run nf_wf_fg_singlecell.nf -c nextflow.config -with-docker eilalan/env_synapse:latest"
   ]
  },
  {
   "cell_type": "code",
   "execution_count": 41,
   "metadata": {
    "tags": []
   },
   "outputs": [],
   "source": [
    "# fusion.enabled = true\n",
    "# wave.enabled = true\n",
    "# process.scratch = false\n",
    "# tower.accessToken = '<YOUR ACCESS TOKEN>'"
   ]
  },
  {
   "cell_type": "code",
   "execution_count": 42,
   "metadata": {
    "tags": []
   },
   "outputs": [
    {
     "name": "stdout",
     "output_type": "stream",
     "text": [
      "openjdk version \"11.0.13\" 2021-10-19\n",
      "OpenJDK Runtime Environment JBR-11.0.13.7-1751.21-jcef (build 11.0.13+7-b1751.21)\n",
      "OpenJDK 64-Bit Server VM JBR-11.0.13.7-1751.21-jcef (build 11.0.13+7-b1751.21, mixed mode)\n"
     ]
    }
   ],
   "source": [
    "!java -version"
   ]
  },
  {
   "cell_type": "code",
   "execution_count": null,
   "metadata": {
    "tags": []
   },
   "outputs": [],
   "source": [
    "!gcloud batch jobs"
   ]
  },
  {
   "cell_type": "code",
   "execution_count": null,
   "metadata": {},
   "outputs": [],
   "source": []
  }
 ],
 "metadata": {
  "kernelspec": {
   "display_name": "Python 3 (ipykernel)",
   "language": "python",
   "name": "python3"
  },
  "language_info": {
   "codemirror_mode": {
    "name": "ipython",
    "version": 3
   },
   "file_extension": ".py",
   "mimetype": "text/x-python",
   "name": "python",
   "nbconvert_exporter": "python",
   "pygments_lexer": "ipython3",
   "version": "3.7.16"
  }
 },
 "nbformat": 4,
 "nbformat_minor": 4
}
