{
 "cells": [
  {
   "cell_type": "code",
   "execution_count": 1,
   "metadata": {
    "tags": []
   },
   "outputs": [],
   "source": [
    "# start docker deamon\n",
    "# !sudo docker login"
   ]
  },
  {
   "cell_type": "code",
   "execution_count": 2,
   "metadata": {
    "tags": []
   },
   "outputs": [],
   "source": [
    "# # in the command line. same env\n",
    "# export GOOGLE_APPLICATION_CREDENTIALS=\"/home/eila/git_igvf/cellatlas-scrna-seq-pipeline/nextflow/hai-gcp-genomic-beb9207a40b8.json.json\"\n",
    "# gcloud auth activate-service-account eila-batch@hai-gcp-genomic.iam.gserviceaccount.com --key-file=$GOOGLE_APPLICATION_CREDENTIALS"
   ]
  },
  {
   "cell_type": "code",
   "execution_count": null,
   "metadata": {},
   "outputs": [],
   "source": [
    "# from command line - didnt work for me from the notebook kernel\n",
    "# !export TOWER_ACCESS_TOKEN=XXX\n"
   ]
  },
  {
   "cell_type": "code",
   "execution_count": 3,
   "metadata": {
    "tags": []
   },
   "outputs": [
    {
     "name": "stdout",
     "output_type": "stream",
     "text": [
      "                  Credentialed Accounts\n",
      "ACTIVE  ACCOUNT\n",
      "        886987709752-compute@developer.gserviceaccount.com\n",
      "*       eila-batch@hai-gcp-genomic.iam.gserviceaccount.com\n",
      "\n",
      "To set the active account, run:\n",
      "    $ gcloud config set account `ACCOUNT`\n",
      "\n"
     ]
    }
   ],
   "source": [
    "!gcloud auth list\n",
    "# gcloud config set account\n"
   ]
  },
  {
   "cell_type": "code",
   "execution_count": 4,
   "metadata": {
    "tags": []
   },
   "outputs": [],
   "source": [
    "# in the command line. based on:\n",
    "# https://nextflow.io/blog/2023/nextflow-with-gbatch.html\n",
    "# gcloud services enable batch.googleapis.com compute.googleapis.com logging.googleapis.com\n",
    "# gcloud iam service-accounts create eila-batch\n",
    "# gcloud iam service-accounts list \n",
    "\n",
    "\n",
    "\n",
    "\n",
    "# gcloud projects add-iam-policy-binding terra-addd4c49 \\\n",
    "# --member=\"serviceAccount:pet-26869426946125b815f6b@terra-addd4c49.iam.gserviceaccount.com\" \\\n",
    "# --role=\"roles/iam.serviceAccountUser\"\n",
    "\n",
    "# $ gcloud projects add-iam-policy-binding terra-addd4c49 \\\n",
    "# --member=\"serviceAccount:pet-26869426946125b815f6b@terra-addd4c49.iam.gserviceaccount.com\" \\\n",
    "# --role=\"roles/batch.jobsEditor\"\n",
    "\n",
    "# $ gcloud projects add-iam-policy-binding terra-addd4c49 \\\n",
    "# --member=\"serviceAccount:pet-26869426946125b815f6b@terra-addd4c49.iam.gserviceaccount.com\" \\\n",
    "# --role=\"roles/logging.viewer\"\n",
    "\n",
    "# $ gcloud projects add-iam-policy-binding terra-addd4c49 \\\n",
    "# --member=\"serviceAccount:pet-26869426946125b815f6b@terra-addd4c49.iam.gserviceaccount.com\" \\\n",
    "# --role=\"roles/storage.admin\"\n"
   ]
  },
  {
   "cell_type": "code",
   "execution_count": 5,
   "metadata": {
    "tags": []
   },
   "outputs": [],
   "source": [
    "\n",
    "# !gcloud projects add-iam-policy-binding hai-gcp-genomic \\\n",
    "# --member=\"serviceAccount:eila-batch@hai-gcp-genomic.iam.gserviceaccount.com\" \\\n",
    "# --role=\"roles/iam.serviceAccountUser\"\n",
    "\n",
    "# !gcloud projects add-iam-policy-binding hai-gcp-genomic \\\n",
    "# --member=\"serviceAccount:eila-batch@hai-gcp-genomic.iam.gserviceaccount.com\" \\\n",
    "# --role=\"roles/batch.jobsEditor\"\n",
    "\n",
    "# !gcloud projects add-iam-policy-binding hai-gcp-genomic \\\n",
    "# --member=\"serviceAccount:eila-batch@hai-gcp-genomic.iam.gserviceaccount.com\" \\\n",
    "# --role=\"roles/logging.viewer\"\n",
    "\n",
    "# !gcloud projects add-iam-policy-binding hai-gcp-genomic \\\n",
    "# --member=\"serviceAccount:eila-batch@hai-gcp-genomic.iam.gserviceaccount.com\" \\"
   ]
  },
  {
   "cell_type": "code",
   "execution_count": 6,
   "metadata": {},
   "outputs": [],
   "source": [
    "# !nextflow -self-update"
   ]
  },
  {
   "cell_type": "code",
   "execution_count": 7,
   "metadata": {
    "tags": []
   },
   "outputs": [
    {
     "name": "stdout",
     "output_type": "stream",
     "text": [
      "  Version: 23.10.0 build 5889\n",
      "  Created: 15-10-2023 15:07 UTC \n",
      "  System: Linux 5.10.0-26-cloud-amd64\n",
      "  Runtime: Groovy 3.0.19 on OpenJDK 64-Bit Server VM 11.0.13+7-b1751.21\n",
      "  Encoding: UTF-8 (UTF-8)\n",
      "\n"
     ]
    }
   ],
   "source": [
    "!nextflow info"
   ]
  },
  {
   "cell_type": "code",
   "execution_count": 8,
   "metadata": {
    "tags": []
   },
   "outputs": [
    {
     "name": "stdout",
     "output_type": "stream",
     "text": [
      "/home/eila/git_igvf/cellatlas-scrna-seq-pipeline/nextflow/nf_workflow/workflow_fg_single_cell_atac\n"
     ]
    }
   ],
   "source": [
    "!pwd"
   ]
  },
  {
   "cell_type": "code",
   "execution_count": 9,
   "metadata": {
    "tags": []
   },
   "outputs": [
    {
     "name": "stdout",
     "output_type": "stream",
     "text": [
      "docker\thai-gcp-genomic-beb9207a40b8.json  nf_data  nf_processes  nf_workflow\n"
     ]
    }
   ],
   "source": [
    "!ls /home/eila/git_igvf/cellatlas-scrna-seq-pipeline/nextflow/"
   ]
  },
  {
   "cell_type": "code",
   "execution_count": 10,
   "metadata": {
    "tags": []
   },
   "outputs": [
    {
     "data": {
      "text/plain": [
       "'/home/eila/git_igvf/cellatlas-scrna-seq-pipeline/nextflow/nf_workflow/workflow_fg_single_cell_atac'"
      ]
     },
     "execution_count": 10,
     "metadata": {},
     "output_type": "execute_result"
    }
   ],
   "source": [
    "import os\n",
    "os.getcwd()"
   ]
  },
  {
   "cell_type": "code",
   "execution_count": 11,
   "metadata": {
    "tags": []
   },
   "outputs": [
    {
     "name": "stdout",
     "output_type": "stream",
     "text": [
      "Overwriting nextflow_vm.config\n"
     ]
    }
   ],
   "source": [
    "%%writefile nextflow_vm.config\n",
    "\n",
    "includeConfig 'conf/conda.config'\n",
    "\n",
    "\n",
    "manifest {\n",
    "  description = 'A nexflow pipeline for fg single cell atac' \n",
    "  mainScript = 'nf_wf_fg_singlecell_atac.nf'\n",
    "}\n",
    "\n",
    "profiles {\n",
    "  conda_profile {\n",
    "    includeConfig 'conf/conda.config'\n",
    "    conda.enabled = true\n",
    "    executor = 'local'\n",
    "    }\n",
    "\n",
    "  conda_docker_profile {\n",
    "    includeConfig 'conf/conda_docker.config'\n",
    "    executor = 'local'\n",
    "    }\n",
    "\n",
    "  docker_profile {\n",
    "    includeConfig 'conf/docker.config'\n",
    "    docker.enabled = true\n",
    "    docker.envWhitelist=['ENV_SYNAPSE_TOKEN']\n",
    "    executor = 'local'\n",
    "  }\n",
    "  google_batch_profile {\n",
    "    workDir = 'gs://eila-nextflow-bucket/work/ATAC'\n",
    "    wave.enabled = true\n",
    "    fusion.enabled = true\n",
    "    includeConfig 'conf/docker-google-batch.config'\n",
    "    docker.enabled = true\n",
    "    docker.envWhitelist=['ENV_SYNAPSE_TOKEN']\n",
    "    executor = 'google-batch'\n",
    "    google.project = 'hai-gcp-genomic'\n",
    "    google.location = 'us-central1'\n",
    "    google.batch.spot = false\n",
    "    google.batch.serviceAccountEmail='eila-batch@hai-gcp-genomic.iam.gserviceaccount.com'\n",
    "  }\n",
    "    \n",
    "}\n",
    "\n",
    "params.FASTQS_SPEC_CH = '/home/eila/git_igvf/cellatlas-scrna-seq-pipeline/nextflow/nf_data/nf_wf_fg_singlecell/atac_fastqs_files_vm.csv'\n",
    "params.CHROMAP_IDX='/home/eila/git_igvf/cellatlas-scrna-seq-pipeline/nextflow/nf_data/nf_wf_fg_singlecell/specs/dogmaseq-dig/Homo_sapiens.GRCh38.dna.primary_assembly.chromap.ref.index'\n",
    "\n",
    "params.GENOME_FASTA='http://ftp.ensembl.org/pub/release-109/fasta/homo_sapiens/dna/Homo_sapiens.GRCh38.dna.primary_assembly.fa.gz'\n",
    "params.GENOME_GZ_GTF='http://ftp.ensembl.org/pub/release-109/gtf/homo_sapiens/Homo_sapiens.GRCh38.109.gtf.gz'\n",
    "\n"
   ]
  },
  {
   "cell_type": "code",
   "execution_count": 12,
   "metadata": {
    "tags": []
   },
   "outputs": [
    {
     "name": "stdout",
     "output_type": "stream",
     "text": [
      "Overwriting nextflow_vm_anvil.config\n"
     ]
    }
   ],
   "source": [
    "%%writefile nextflow_vm_anvil.config\n",
    "\n",
    "includeConfig 'conf/conda.config'\n",
    "\n",
    "\n",
    "manifest {\n",
    "  description = 'A nexflow pipeline for fg single cell atac' \n",
    "  mainScript = 'nf_wf_fg_singlecell_atac.nf'\n",
    "}\n",
    "\n",
    "profiles {\n",
    "  conda_profile {\n",
    "    includeConfig 'conf/conda.config'\n",
    "    conda.enabled = true\n",
    "    executor = 'local'\n",
    "    }\n",
    "\n",
    "  conda_docker_profile {\n",
    "    includeConfig 'conf/conda_docker.config'\n",
    "    executor = 'local'\n",
    "    }\n",
    "\n",
    "  docker_profile {\n",
    "    includeConfig 'conf/docker.config'\n",
    "    docker.enabled = true\n",
    "    docker.envWhitelist=['TOWER_ACCESS_TOKEN']\n",
    "    executor = 'local'\n",
    "  }\n",
    "  google_batch_profile {\n",
    "    workDir = 'gs://fc-secure-87394b1b-e8d0-4802-9671-70bc3c8b7525/nextflow'\n",
    "    includeConfig 'conf/docker-google-batch.config'\n",
    "    docker.enabled = true\n",
    "    docker.envWhitelist=['ENV_SYNAPSE_TOKEN']\n",
    "    executor = 'google-batch'\n",
    "    google.project = 'terra-addd4c49'\n",
    "    location = 'us-central1'\n",
    "    batch.spot = false\n",
    "    batch.serviceAccountEmail='pet-26869426946125b815f6b@terra-addd4c49.iam.gserviceaccount.com'\n",
    "  }\n",
    "}\n",
    "\n",
    "params.FASTQS_SPEC_CH = '/home/eila/git_igvf/cellatlas-scrna-seq-pipeline/nextflow/nf_data/nf_wf_fg_singlecell/atac_fastqs_files_vm.csv'\n",
    "params.CHROMAP_IDX='/home/eila/git_igvf/cellatlas-scrna-seq-pipeline/nextflow/nf_data/nf_wf_fg_singlecell/specs/dogmaseq-dig/Homo_sapiens.GRCh38.dna.primary_assembly.chromap.ref.index'\n",
    "\n",
    "params.GENOME_FASTA='http://ftp.ensembl.org/pub/release-109/fasta/homo_sapiens/dna/Homo_sapiens.GRCh38.dna.primary_assembly.fa.gz'\n",
    "params.GENOME_GZ_GTF='http://ftp.ensembl.org/pub/release-109/gtf/homo_sapiens/Homo_sapiens.GRCh38.109.gtf.gz'\n",
    "\n"
   ]
  },
  {
   "cell_type": "code",
   "execution_count": 13,
   "metadata": {
    "tags": []
   },
   "outputs": [
    {
     "name": "stdout",
     "output_type": "stream",
     "text": [
      "Overwriting nextflow_local.config\n"
     ]
    }
   ],
   "source": [
    "%%writefile nextflow_local.config\n",
    "\n",
    "includeConfig 'conf/conda.config'\n",
    "\n",
    "\n",
    "manifest {\n",
    "  description = 'A nexflow pipeline for fg single cell atac' \n",
    "  mainScript = 'nf_wf_fg_singlecell_atac.nf'\n",
    "}\n",
    "profiles {\n",
    "  conda_profile {\n",
    "    includeConfig 'conf/conda.config'\n",
    "    conda.enabled = true\n",
    "    executor = 'local'\n",
    "    }\n",
    "\n",
    "  conda_docker_profile {\n",
    "    includeConfig 'conf/conda_docker.config'\n",
    "    executor = 'local'\n",
    "    }\n",
    "\n",
    "  docker_profile {\n",
    "    includeConfig 'conf/docker.config'\n",
    "    docker.enabled = true\n",
    "    docker.envWhitelist=['ENV_SYNAPSE_TOKEN']\n",
    "    executor = 'local'\n",
    "  }\n",
    "  google_batch_profile {\n",
    "    workDir = 'gs://eila-nextflow-bucket/work/ATAC'\n",
    "    includeConfig 'conf/docker-google-batch.config'\n",
    "    docker.enabled = true\n",
    "    docker.envWhitelist=['ENV_SYNAPSE_TOKEN']\n",
    "    executor = 'google-batch'\n",
    "    google.project = 'hai-gcp-genomic'\n",
    "    google.location = 'us-central1'\n",
    "    google.batch.spot = false\n",
    "    google.batch.serviceAccountEmail='pet-26869426946125b815f6b@terra-addd4c49.iam.gserviceaccount.com'\n",
    "  }\n",
    "    \n",
    "}\n",
    "params.FASTQS_SPEC_CH = '/Users/eilaarich-landkof-stanford/Documents/Code/git_igvf/cellatlas-scrna-seq-pipeline/nextflow/nf_data/nf_wf_fg_singlecell/atac_fastqs_files_local.csv'\n",
    "params.CHROMAP_IDX='/Users/eilaarich-landkof-stanford/Documents/Code/git_igvf/cellatlas-scrna-seq-pipeline/nextflow/nf_data/nf_wf_fg_singlecell/specs/dogmaseq-dig/Homo_sapiens.GRCh38.dna.primary_assembly.chromap.ref.index'\n",
    "\n",
    "params.GENOME_FASTA='http://ftp.ensembl.org/pub/release-109/fasta/homo_sapiens/dna/Homo_sapiens.GRCh38.dna.primary_assembly.fa.gz'\n",
    "params.GENOME_GZ_GTF='http://ftp.ensembl.org/pub/release-109/gtf/homo_sapiens/Homo_sapiens.GRCh38.109.gtf.gz'\n",
    "\n"
   ]
  },
  {
   "cell_type": "code",
   "execution_count": 14,
   "metadata": {
    "tags": []
   },
   "outputs": [
    {
     "name": "stdout",
     "output_type": "stream",
     "text": [
      "/home/eila/git_igvf/cellatlas-scrna-seq-pipeline/nextflow/nf_workflow/workflow_fg_single_cell_atac\n"
     ]
    }
   ],
   "source": [
    "!pwd"
   ]
  },
  {
   "cell_type": "code",
   "execution_count": 1,
   "metadata": {
    "tags": []
   },
   "outputs": [],
   "source": [
    "# !rm -r /Users/eilaarich-landkof-stanford/Documents/Code/git_igvf/cellatlas-scrna-seq-pipeline/nextflow/nf_workflow/workflow_fg_single_cell_atac/work\n",
    "# !rm -r /home/eila/git_igvf/cellatlas-scrna-seq-pipeline/nextflow/nf_workflow/workflow_fg_single_cell_atac/work\n",
    "# !gsutil rm -r gs://eila-nextflow-bucket/work/ATAC"
   ]
  },
  {
   "cell_type": "code",
   "execution_count": 2,
   "metadata": {
    "tags": []
   },
   "outputs": [],
   "source": [
    "# !rm .nextflow*"
   ]
  },
  {
   "cell_type": "code",
   "execution_count": 3,
   "metadata": {
    "tags": []
   },
   "outputs": [],
   "source": [
    "# !ls nextflow.config"
   ]
  },
  {
   "cell_type": "code",
   "execution_count": 4,
   "metadata": {
    "tags": []
   },
   "outputs": [],
   "source": [
    "# !nextflow run nf_wf_fg_singlecell_atac.nf -c nextflow_vm.config -profile google_batch_profile\n",
    "\n",
    "\n",
    "\n",
    "\n",
    "\n",
    "# !nextflow run nf_wf_fg_singlecell_atac.nf -c nextflow_vm.config -profile google_batch_profile\n",
    "# !nextflow run nf_wf_fg_singlecell_atac.nf -c nextflow_vm_anvil.config -profile google_batch_profile\n",
    "# !nextflow run nf_wf_fg_singlecell_atac.nf -c nextflow_local.config -profile google_batch_profile\n",
    "# !nextflow run nf_wf_fg_singlecell_atac.nf -c nextflow_local.config -profile docker_profile\n"
   ]
  },
  {
   "cell_type": "code",
   "execution_count": 5,
   "metadata": {
    "tags": []
   },
   "outputs": [],
   "source": [
    "# !nextflow run nf_wf_fg_singlecell_atac.nf -c nextflow_vm.config -profile google_batch_profile -resume\n",
    "\n",
    "\n",
    "\n",
    "\n",
    "# !nextflow run nf_wf_fg_singlecell_atac.nf -c nextflow_vm.config -profile google_batch_profile -resume\n",
    "# !nextflow run nf_wf_fg_singlecell_atac.nf -c nextflow_local.config -profile google_batch_profile -resume\n",
    "# !nextflow run nf_wf_fg_singlecell_atac.nf -c nextflow_vm.config -profile google_batch_profile -resume\n",
    "# !nextflow run nf_wf_fg_singlecell_atac.nf -c nextflow.config -profile docker_profile -resume\n",
    "# !nextflow run nf_wf_fg_singlecell_atac.nf -c nextflow.config -profile google_batch_profile -resume"
   ]
  },
  {
   "cell_type": "code",
   "execution_count": 7,
   "metadata": {
    "tags": []
   },
   "outputs": [],
   "source": [
    "# !cat .nextflow.log "
   ]
  },
  {
   "cell_type": "code",
   "execution_count": 8,
   "metadata": {
    "tags": []
   },
   "outputs": [],
   "source": [
    "# !ls /Users/eilaarich-landkof-stanford/Documents/Code/git_igvf/seqspec/specs/dogmaseq-dig/fastqs"
   ]
  },
  {
   "cell_type": "code",
   "execution_count": 51,
   "metadata": {
    "tags": []
   },
   "outputs": [],
   "source": [
    "# !nextflow run /Users/eilaarich-landkof-stanford/Documents/Code/git_igvf/cellatlas-scrna-seq-pipeline/nextflow/nf_processes/nf_prcs_print.nf"
   ]
  },
  {
   "cell_type": "code",
   "execution_count": 38,
   "metadata": {
    "tags": []
   },
   "outputs": [],
   "source": [
    "# !ls /Users/eilaarich-landkof-stanford/Documents/Code/git_igvf/cellatlas-scrna-seq-pipeline/nextflow/nf_processes/nf_prcs_print.nf"
   ]
  },
  {
   "cell_type": "code",
   "execution_count": 39,
   "metadata": {
    "tags": []
   },
   "outputs": [],
   "source": [
    "# !cat .command.out"
   ]
  },
  {
   "cell_type": "code",
   "execution_count": 40,
   "metadata": {
    "tags": []
   },
   "outputs": [],
   "source": [
    "# !nextflow run nf_wf_fg_singlecell.nf -c nextflow.config -with-docker eilalan/env_synapse:latest"
   ]
  },
  {
   "cell_type": "code",
   "execution_count": null,
   "metadata": {},
   "outputs": [],
   "source": []
  }
 ],
 "metadata": {
  "kernelspec": {
   "display_name": "Python 3 (ipykernel)",
   "language": "python",
   "name": "python3"
  },
  "language_info": {
   "codemirror_mode": {
    "name": "ipython",
    "version": 3
   },
   "file_extension": ".py",
   "mimetype": "text/x-python",
   "name": "python",
   "nbconvert_exporter": "python",
   "pygments_lexer": "ipython3",
   "version": "3.7.16"
  }
 },
 "nbformat": 4,
 "nbformat_minor": 4
}
