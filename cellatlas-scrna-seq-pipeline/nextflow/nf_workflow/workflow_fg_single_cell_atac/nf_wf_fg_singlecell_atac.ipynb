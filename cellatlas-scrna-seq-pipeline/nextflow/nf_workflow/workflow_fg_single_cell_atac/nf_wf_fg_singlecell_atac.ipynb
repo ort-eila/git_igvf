{
 "cells": [
  {
   "cell_type": "code",
   "execution_count": 39,
   "metadata": {},
   "outputs": [],
   "source": [
    "!nextflow clean -f nf_wf_fg_singlecell_atac.nf"
   ]
  },
  {
   "cell_type": "code",
   "execution_count": 40,
   "metadata": {},
   "outputs": [
    {
     "data": {
      "text/plain": [
       "'/Users/eilaarich-landkof-stanford/Documents/Code/git_igvf/cellatlas-scrna-seq-pipeline/nextflow/nf_workflow/workflow_fg_single_cell_atac'"
      ]
     },
     "execution_count": 40,
     "metadata": {},
     "output_type": "execute_result"
    }
   ],
   "source": [
    "import os\n",
    "os.getcwd()"
   ]
  },
  {
   "cell_type": "code",
   "execution_count": 63,
   "metadata": {},
   "outputs": [
    {
     "name": "stdout",
     "output_type": "stream",
     "text": [
      "Overwriting nextflow.config\n"
     ]
    }
   ],
   "source": [
    "%%writefile nextflow.config\n",
    "\n",
    "includeConfig 'conf/conda.config'\n",
    "\n",
    "\n",
    "manifest {\n",
    "  description = 'A nexflow pipeline for fg single cell atac' \n",
    "  mainScript = 'nf_wf_fg_singlecell_atac.nf'\n",
    "}\n",
    "\n",
    "profiles {\n",
    "  conda_profile {\n",
    "    includeConfig 'conf/conda.config'\n",
    "    conda.enabled = true\n",
    "    executor = 'local'\n",
    "    }\n",
    "\n",
    "  conda_docker_profile {\n",
    "    includeConfig 'conf/conda_docker.config'\n",
    "    executor = 'local'\n",
    "    }\n",
    "\n",
    "  docker_profile {\n",
    "    includeConfig 'conf/docker.config'\n",
    "    docker.enabled = true\n",
    "    docker.envWhitelist=['ENV_SYNAPSE_TOKEN']\n",
    "    executor = 'local'\n",
    "  }\n",
    "}\n",
    "\n",
    "params.FASTQS_SPEC_CH = '/Users/eilaarich-landkof-stanford/Documents/Code/git_igvf/cellatlas-scrna-seq-pipeline/nextflow/nf_data/nf_wf_fg_singlecell/atac_fastqs_files_local.csv'\n",
    "params.GENOME_FASTA='http://ftp.ensembl.org/pub/release-109/fasta/homo_sapiens/dna/Homo_sapiens.GRCh38.dna.primary_assembly.fa.gz'\n",
    "params.GENOME_GZ_GTF='http://ftp.ensembl.org/pub/release-109/gtf/homo_sapiens/Homo_sapiens.GRCh38.109.gtf.gz'\n",
    "params.OUTDIR='./igvf-out'\n",
    "params.CHROMAP_IDX='/Users/eilaarich-landkof-stanford/Documents/Code/git_igvf/cellatlas-scrna-seq-pipeline/nextflow/nf_data/nf_wf_fg_singlecell/Homo_sapiens.GRCh38.dna.primary_assembly.chromap.ref.index'"
   ]
  },
  {
   "cell_type": "code",
   "execution_count": 64,
   "metadata": {},
   "outputs": [
    {
     "name": "stdout",
     "output_type": "stream",
     "text": [
      "/Users/eilaarich-landkof-stanford/Documents/Code/git_igvf/cellatlas-scrna-seq-pipeline/nextflow/nf_workflow/workflow_fg_single_cell_atac\n"
     ]
    }
   ],
   "source": [
    "!pwd"
   ]
  },
  {
   "cell_type": "code",
   "execution_count": 49,
   "metadata": {},
   "outputs": [],
   "source": [
    "!rm -r /Users/eilaarich-landkof-stanford/Documents/Code/git_igvf/cellatlas-scrna-seq-pipeline/nextflow/nf_workflow/workflow_fg_single_cell_atac/work"
   ]
  },
  {
   "cell_type": "code",
   "execution_count": 50,
   "metadata": {},
   "outputs": [
    {
     "name": "stdout",
     "output_type": "stream",
     "text": [
      "rm: cannot remove '.nextflow': Is a directory\n"
     ]
    }
   ],
   "source": [
    "!rm .nextflow*"
   ]
  },
  {
   "cell_type": "code",
   "execution_count": 51,
   "metadata": {},
   "outputs": [
    {
     "name": "stdout",
     "output_type": "stream",
     "text": [
      "nextflow.config\n"
     ]
    }
   ],
   "source": [
    "!ls nextflow.config"
   ]
  },
  {
   "cell_type": "code",
   "execution_count": 53,
   "metadata": {},
   "outputs": [],
   "source": [
    "\n",
    "# !nextflow run nf_wf_fg_singlecell_atac.nf -c nextflow.config -profile docker_profile"
   ]
  },
  {
   "cell_type": "code",
   "execution_count": 3,
   "metadata": {},
   "outputs": [
    {
     "name": "stdout",
     "output_type": "stream",
     "text": [
      "N E X T F L O W  ~  version 23.04.4\n",
      "Launching `nf_wf_fg_singlecell_atac.nf` [berserk_payne] DSL2 - revision: b17f710875\n",
      "/Users/eilaarich-landkof-stanford/Documents/Code/git_igvf/cellatlas-scrna-seq-pipeline/nextflow/nf_data/nf_wf_fg_singlecell/atac_fastqs_files_local.csv\n",
      "[-        ] process > run_seqspec_print       -\u001b[K\n",
      "[-        ] process > run_seqspec_check       -\u001b[K\n",
      "[-        ] process > run_seqspec_modify_atac -\u001b[K\n",
      "[-        ] process > run_chromap_map_to_idx  -\u001b[K\n",
      "DataflowVariable(value=null)\u001b[K\n",
      "DataflowVariable(value=null)\u001b[K\n",
      "DataflowVariable(value=null)\u001b[K\n",
      "ProcessDef[process run_chromap_map_to_idx]\u001b[K\n",
      "\u001b[9A\n",
      "[e3/9f26eb] process > run_seqspec_print (1)       [100%] 1 of 1, cached: 1 ✔\u001b[K\n",
      "[c5/d583b2] process > run_seqspec_check (1)       [100%] 1 of 1, cached: 1 ✔\u001b[K\n",
      "[99/6f3bff] process > run_seqspec_modify_atac (1) [100%] 1 of 1, cached: 1 ✔\u001b[K\n",
      "[-        ] process > run_chromap_map_to_idx      -\u001b[K\n",
      "DataflowVariable(value=null)\u001b[K\n",
      "DataflowVariable(value=null)\u001b[K\n",
      "DataflowVariable(value=null)\u001b[K\n",
      "ProcessDef[process run_chromap_map_to_idx]\u001b[K\n",
      "start run_seqspec_check\u001b[K\n",
      "nf_spec_dogmaseq_dig.yaml\u001b[K\n",
      "finished seqspec check spec_yaml\u001b[K\n",
      "\u001b[K\n",
      "start run_seqspec_modify_rna\u001b[K\n",
      "atac_R1_SRR18677642.fastq.gz\u001b[K\n",
      "atac_R2_SRR18677642.fastq.gz\u001b[K\n",
      "atac_R3_SRR18677642.fastq.gz\u001b[K\n",
      "nf_spec_dogmaseq_dig.yaml\u001b[K\n",
      "atac_R1_SRR18677642.fastq.gz\u001b[K\n",
      "atac_R2_SRR18677642.fastq.gz\u001b[K\n",
      "atac_R3_SRR18677642.fastq.gz\u001b[K\n",
      "nf_spec_dogmaseq_dig.yaml\u001b[K\n",
      "finished seqspec modify atac\u001b[K\n",
      "\u001b[K\n",
      "start run_seqspec_print\u001b[K\n",
      "nf_spec_dogmaseq_dig.yaml\u001b[K\n",
      "finished seqspec print nf_spec_dogmaseq_dig.yaml\u001b[K\n",
      "\u001b[K\n",
      "\u001b[28A\n",
      "executor >  local (1)\u001b[K\n",
      "[e3/9f26eb] process > run_seqspec_print (1)       [100%] 1 of 1, cached: 1 ✔\u001b[K\n",
      "[c5/d583b2] process > run_seqspec_check (1)       [100%] 1 of 1, cached: 1 ✔\u001b[K\n",
      "[99/6f3bff] process > run_seqspec_modify_atac (1) [100%] 1 of 1, cached: 1 ✔\u001b[K\n",
      "[2e/1f2383] process > run_chromap_map_to_idx (1)  [  0%] 0 of 1\u001b[K\n",
      "DataflowVariable(value=null)\u001b[K\n",
      "DataflowVariable(value=null)\u001b[K\n",
      "DataflowVariable(value=null)\u001b[K\n",
      "ProcessDef[process run_chromap_map_to_idx]\u001b[K\n",
      "start run_seqspec_check\u001b[K\n",
      "nf_spec_dogmaseq_dig.yaml\u001b[K\n",
      "finished seqspec check spec_yaml\u001b[K\n",
      "\u001b[K\n",
      "start run_seqspec_modify_rna\u001b[K\n",
      "atac_R1_SRR18677642.fastq.gz\u001b[K\n",
      "atac_R2_SRR18677642.fastq.gz\u001b[K\n",
      "atac_R3_SRR18677642.fastq.gz\u001b[K\n",
      "nf_spec_dogmaseq_dig.yaml\u001b[K\n",
      "atac_R1_SRR18677642.fastq.gz\u001b[K\n",
      "atac_R2_SRR18677642.fastq.gz\u001b[K\n",
      "atac_R3_SRR18677642.fastq.gz\u001b[K\n",
      "nf_spec_dogmaseq_dig.yaml\u001b[K\n",
      "finished seqspec modify atac\u001b[K\n",
      "\u001b[K\n",
      "start run_seqspec_print\u001b[K\n",
      "nf_spec_dogmaseq_dig.yaml\u001b[K\n",
      "finished seqspec print nf_spec_dogmaseq_dig.yaml\u001b[K\n",
      "\u001b[K\n",
      "\u001b[29A\n",
      "executor >  local (1)\u001b[K\n",
      "[e3/9f26eb] process > run_seqspec_print (1)       [100%] 1 of 1, cached: 1 ✔\u001b[K\n",
      "[c5/d583b2] process > run_seqspec_check (1)       [100%] 1 of 1, cached: 1 ✔\u001b[K\n",
      "[99/6f3bff] process > run_seqspec_modify_atac (1) [100%] 1 of 1, cached: 1 ✔\u001b[K\n",
      "[2e/1f2383] process > run_chromap_map_to_idx (1)  [  0%] 0 of 1\u001b[K\n",
      "\u001b[K\n",
      "\u001b[K\n",
      "\u001b[K\n",
      "\u001b[K\n",
      "\u001b[K\n",
      "\u001b[K\n",
      "\u001b[K\n",
      "\u001b[K\n",
      "\u001b[K\n",
      "\u001b[K\n",
      "\u001b[K\n",
      "\u001b[K\n",
      "\u001b[K\n",
      "\u001b[K\n",
      "\u001b[K\n",
      "\u001b[K\n",
      "\u001b[K\n",
      "\u001b[K\n",
      "\u001b[K\n",
      "\u001b[K\n",
      "\u001b[K\n",
      "\u001b[K\n",
      "\u001b[K\n",
      "\u001b[31mERROR ~ Error executing process > 'run_chromap_map_to_idx (1)'\u001b[K\n",
      "\u001b[K\n",
      "Caused by:\u001b[K\n",
      "  Process `run_chromap_map_to_idx (1)` terminated with an error exit status (137)\u001b[K\n",
      "\u001b[K\n",
      "Command executed:\u001b[K\n",
      "\u001b[K\n",
      "  echo Homo_sapiens.GRCh38.dna.primary_assembly.chromap.ref.index\u001b[K\n",
      "  echo Homo_sapiens.GRCh38.dna.primary_assembly.fa.gz\u001b[K\n",
      "  echo 'fastq1 is atac_R1_SRR18677642.fastq.gz'\u001b[K\n",
      "  echo 'fastq2 is atac_R2_SRR18677642.fastq.gz'\u001b[K\n",
      "  echo 'fastq3 is atac_R3_SRR18677642.fastq.gz'\u001b[K\n",
      "  chromap -x Homo_sapiens.GRCh38.dna.primary_assembly.chromap.ref.index -r Homo_sapiens.GRCh38.dna.primary_assembly.fa.gz -1 atac_R1_SRR18677642.fastq.gz -2 atac_R2_SRR18677642.fastq.gz -o map_bed_file.bed\u001b[K\n",
      "  echo 'finished map_bed_file.bed'\u001b[K\n",
      "\u001b[K\n",
      "Command exit status:\u001b[K\n",
      "  137\u001b[K\n",
      "\u001b[K\n",
      "Command output:\u001b[K\n",
      "  Homo_sapiens.GRCh38.dna.primary_assembly.chromap.ref.index\u001b[K\n",
      "  Homo_sapiens.GRCh38.dna.primary_assembly.fa.gz\u001b[K\n",
      "  fastq1 is atac_R1_SRR18677642.fastq.gz\u001b[K\n",
      "  fastq2 is atac_R2_SRR18677642.fastq.gz\u001b[K\n",
      "  fastq3 is atac_R3_SRR18677642.fastq.gz\u001b[K\n",
      "\u001b[K\n",
      "Command error:\u001b[K\n",
      "  WARNING: The requested image's platform (linux/amd64) does not match the detected host platform (linux/arm64/v8) and no specific platform was requested\u001b[K\n",
      "  Homo_sapiens.GRCh38.dna.primary_assembly.chromap.ref.index\u001b[K\n",
      "  Homo_sapiens.GRCh38.dna.primary_assembly.fa.gz\u001b[K\n",
      "  fastq1 is atac_R1_SRR18677642.fastq.gz\u001b[K\n",
      "  fastq2 is atac_R2_SRR18677642.fastq.gz\u001b[K\n",
      "  fastq3 is atac_R3_SRR18677642.fastq.gz\u001b[K\n",
      "  Start to map reads.\u001b[K\n",
      "  atac_R1_SRR18677642.fastq.gz\u001b[K\n",
      "  atac_R2_SRR18677642.fastq.gz\u001b[K\n",
      "  Parameters: error threshold: 8, min-num-seeds: 2, max-seed-frequency: 500,1000, max-num-best-mappings: 1, max-insert-size: 1000, MAPQ-threshold: 30, min-read-length: 30, bc-error-threshold: 1, bc-probability-threshold: 0.90\u001b[K\n",
      "  Number of threads: 1\u001b[K\n",
      "  Analyze bulk data.\u001b[K\n",
      "  Won't try to remove adapters on 3'.\u001b[K\n",
      "  Won't remove PCR duplicates after mapping.\u001b[K\n",
      "  Will remove PCR duplicates at bulk level.\u001b[K\n",
      "  Won't allocate multi-mappings after mapping.\u001b[K\n",
      "  Only output unique mappings after mapping.\u001b[K\n",
      "  Only output mappings of which barcodes are in whitelist.\u001b[K\n",
      "  Output mappings in BED/BEDPE format.\u001b[K\n",
      "  Reference file: Homo_sapiens.GRCh38.dna.primary_assembly.fa.gz\u001b[K\n",
      "  Index file: Homo_sapiens.GRCh38.dna.primary_assembly.chromap.ref.index\u001b[K\n",
      "  1th read 1 file: atac_R1_SRR18677642.fastq.gz\u001b[K\n",
      "  1th read 2 file: atac_R2_SRR18677642.fastq.gz\u001b[K\n",
      "  Output file: map_bed_file.bed\u001b[K\n",
      "  Loaded all sequences successfully in 57.79s, number of sequences: 194, number of bases: 3099750718.\u001b[K\n",
      "  .command.sh: line 7:     8 Killed                  chromap -x Homo_sapiens.GRCh38.dna.primary_assembly.chromap.ref.index -r Homo_sapiens.GRCh38.dna.primary_assembly.fa.gz -1 atac_R1_SRR18677642.fastq.gz -2 atac_R2_SRR18677642.fastq.gz -o map_bed_file.bed\u001b[K\n",
      "\u001b[K\n",
      "Work dir:\u001b[K\n",
      "  /Users/eilaarich-landkof-stanford/Documents/Code/git_igvf/cellatlas-scrna-seq-pipeline/nextflow/nf_workflow/workflow_fg_single_cell_atac/work/2e/1f238378f8ac615cda9684f679859f\u001b[K\n",
      "\u001b[K\n",
      "Tip: view the complete command output by changing to the process work dir and entering the command `cat .command.out`\u001b[K\n",
      "\u001b[K\n",
      " -- Check '.nextflow.log' file for details\u001b[39m\u001b[K\n",
      "\u001b[88A\n",
      "executor >  local (1)\u001b[K\n",
      "[e3/9f26eb] process > run_seqspec_print (1)       [100%] 1 of 1, cached: 1 ✔\u001b[K\n",
      "[c5/d583b2] process > run_seqspec_check (1)       [100%] 1 of 1, cached: 1 ✔\u001b[K\n",
      "[99/6f3bff] process > run_seqspec_modify_atac (1) [100%] 1 of 1, cached: 1 ✔\u001b[K\n",
      "[2e/1f2383] process > run_chromap_map_to_idx (1)  [100%] 1 of 1, failed: 1 ✘\u001b[K\n",
      "\u001b[31mERROR ~ Error executing process > 'run_chromap_map_to_idx (1)'\u001b[K\n",
      "\u001b[K\n",
      "Caused by:\u001b[K\n",
      "  Process `run_chromap_map_to_idx (1)` terminated with an error exit status (137)\u001b[K\n",
      "\u001b[K\n",
      "Command executed:\u001b[K\n",
      "\u001b[K\n",
      "  echo Homo_sapiens.GRCh38.dna.primary_assembly.chromap.ref.index\u001b[K\n",
      "  echo Homo_sapiens.GRCh38.dna.primary_assembly.fa.gz\u001b[K\n",
      "  echo 'fastq1 is atac_R1_SRR18677642.fastq.gz'\u001b[K\n",
      "  echo 'fastq2 is atac_R2_SRR18677642.fastq.gz'\u001b[K\n",
      "  echo 'fastq3 is atac_R3_SRR18677642.fastq.gz'\u001b[K\n",
      "  chromap -x Homo_sapiens.GRCh38.dna.primary_assembly.chromap.ref.index -r Homo_sapiens.GRCh38.dna.primary_assembly.fa.gz -1 atac_R1_SRR18677642.fastq.gz -2 atac_R2_SRR18677642.fastq.gz -o map_bed_file.bed\u001b[K\n",
      "  echo 'finished map_bed_file.bed'\u001b[K\n",
      "\u001b[K\n",
      "Command exit status:\u001b[K\n",
      "  137\u001b[K\n",
      "\u001b[K\n",
      "Command output:\u001b[K\n",
      "  Homo_sapiens.GRCh38.dna.primary_assembly.chromap.ref.index\u001b[K\n",
      "  Homo_sapiens.GRCh38.dna.primary_assembly.fa.gz\u001b[K\n",
      "  fastq1 is atac_R1_SRR18677642.fastq.gz\u001b[K\n",
      "  fastq2 is atac_R2_SRR18677642.fastq.gz\u001b[K\n",
      "  fastq3 is atac_R3_SRR18677642.fastq.gz\u001b[K\n",
      "\u001b[K\n",
      "Command error:\u001b[K\n",
      "  WARNING: The requested image's platform (linux/amd64) does not match the detected host platform (linux/arm64/v8) and no specific platform was requested\u001b[K\n",
      "  Homo_sapiens.GRCh38.dna.primary_assembly.chromap.ref.index\u001b[K\n",
      "  Homo_sapiens.GRCh38.dna.primary_assembly.fa.gz\u001b[K\n",
      "  fastq1 is atac_R1_SRR18677642.fastq.gz\u001b[K\n",
      "  fastq2 is atac_R2_SRR18677642.fastq.gz\u001b[K\n",
      "  fastq3 is atac_R3_SRR18677642.fastq.gz\u001b[K\n",
      "  Start to map reads.\u001b[K\n",
      "  atac_R1_SRR18677642.fastq.gz\u001b[K\n",
      "  atac_R2_SRR18677642.fastq.gz\u001b[K\n",
      "  Parameters: error threshold: 8, min-num-seeds: 2, max-seed-frequency: 500,1000, max-num-best-mappings: 1, max-insert-size: 1000, MAPQ-threshold: 30, min-read-length: 30, bc-error-threshold: 1, bc-probability-threshold: 0.90\u001b[K\n",
      "  Number of threads: 1\u001b[K\n",
      "  Analyze bulk data.\u001b[K\n",
      "  Won't try to remove adapters on 3'.\u001b[K\n",
      "  Won't remove PCR duplicates after mapping.\u001b[K\n",
      "  Will remove PCR duplicates at bulk level.\u001b[K\n",
      "  Won't allocate multi-mappings after mapping.\u001b[K\n",
      "  Only output unique mappings after mapping.\u001b[K\n",
      "  Only output mappings of which barcodes are in whitelist.\u001b[K\n",
      "  Output mappings in BED/BEDPE format.\u001b[K\n",
      "  Reference file: Homo_sapiens.GRCh38.dna.primary_assembly.fa.gz\u001b[K\n",
      "  Index file: Homo_sapiens.GRCh38.dna.primary_assembly.chromap.ref.index\u001b[K\n",
      "  1th read 1 file: atac_R1_SRR18677642.fastq.gz\u001b[K\n",
      "  1th read 2 file: atac_R2_SRR18677642.fastq.gz\u001b[K\n",
      "  Output file: map_bed_file.bed\u001b[K\n",
      "  Loaded all sequences successfully in 57.79s, number of sequences: 194, number of bases: 3099750718.\u001b[K\n",
      "  .command.sh: line 7:     8 Killed                  chromap -x Homo_sapiens.GRCh38.dna.primary_assembly.chromap.ref.index -r Homo_sapiens.GRCh38.dna.primary_assembly.fa.gz -1 atac_R1_SRR18677642.fastq.gz -2 atac_R2_SRR18677642.fastq.gz -o map_bed_file.bed\u001b[K\n",
      "\u001b[K\n",
      "Work dir:\u001b[K\n",
      "  /Users/eilaarich-landkof-stanford/Documents/Code/git_igvf/cellatlas-scrna-seq-pipeline/nextflow/nf_workflow/workflow_fg_single_cell_atac/work/2e/1f238378f8ac615cda9684f679859f\u001b[K\n",
      "\u001b[K\n",
      "Tip: view the complete command output by changing to the process work dir and entering the command `cat .command.out`\u001b[K\n",
      "\u001b[K\n",
      " -- Check '.nextflow.log' file for details\u001b[39m\u001b[K\n",
      "\u001b[K\n",
      "\u001b[K\n",
      "\u001b[K\n",
      "\u001b[K\n",
      "\u001b[K\n",
      "\u001b[K\n",
      "\u001b[K\n",
      "\u001b[K\n",
      "\u001b[K\n",
      "\u001b[K\n",
      "\u001b[K\n",
      "\u001b[K\n",
      "\u001b[K\n",
      "\u001b[K\n",
      "\u001b[K\n",
      "\u001b[K\n",
      "\u001b[K\n",
      "\u001b[K\n",
      "\u001b[K\n",
      "\u001b[K\n",
      "\u001b[K\n",
      "\u001b[K\n",
      "\u001b[K\n",
      "\n"
     ]
    }
   ],
   "source": [
    "!nextflow run nf_wf_fg_singlecell_atac.nf -c nextflow.config -profile docker_profile -resume"
   ]
  },
  {
   "cell_type": "code",
   "execution_count": 57,
   "metadata": {},
   "outputs": [],
   "source": [
    "# !ls /Users/eilaarich-landkof-stanford/Documents/Code/git_igvf/seqspec/specs/dogmaseq-dig/fastqs"
   ]
  },
  {
   "cell_type": "code",
   "execution_count": null,
   "metadata": {},
   "outputs": [],
   "source": [
    "# !nextflow run /Users/eilaarich-landkof-stanford/Documents/Code/git_igvf/cellatlas-scrna-seq-pipeline/nextflow/nf_processes/nf_prcs_print.nf"
   ]
  },
  {
   "cell_type": "code",
   "execution_count": null,
   "metadata": {},
   "outputs": [],
   "source": [
    "# !ls /Users/eilaarich-landkof-stanford/Documents/Code/git_igvf/cellatlas-scrna-seq-pipeline/nextflow/nf_processes/nf_prcs_print.nf"
   ]
  },
  {
   "cell_type": "code",
   "execution_count": null,
   "metadata": {},
   "outputs": [],
   "source": [
    "# !cat .command.out"
   ]
  },
  {
   "cell_type": "code",
   "execution_count": null,
   "metadata": {},
   "outputs": [],
   "source": [
    "# !nextflow run nf_wf_fg_singlecell.nf -c nextflow.config -with-docker eilalan/env_synapse:latest"
   ]
  },
  {
   "cell_type": "code",
   "execution_count": null,
   "metadata": {},
   "outputs": [],
   "source": []
  }
 ],
 "metadata": {
  "kernelspec": {
   "display_name": "Python 3",
   "language": "python",
   "name": "python3"
  },
  "language_info": {
   "codemirror_mode": {
    "name": "ipython",
    "version": 3
   },
   "file_extension": ".py",
   "mimetype": "text/x-python",
   "name": "python",
   "nbconvert_exporter": "python",
   "pygments_lexer": "ipython3",
   "version": "3.12.0"
  }
 },
 "nbformat": 4,
 "nbformat_minor": 2
}
