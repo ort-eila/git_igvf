{
 "cells": [
  {
   "cell_type": "code",
   "execution_count": 1,
   "metadata": {
    "tags": []
   },
   "outputs": [],
   "source": [
    "# start docker deamon\n",
    "# !sudo docker login"
   ]
  },
  {
   "cell_type": "code",
   "execution_count": 2,
   "metadata": {
    "tags": []
   },
   "outputs": [],
   "source": [
    "# # in the command line. same env\n",
    "# export GOOGLE_APPLICATION_CREDENTIALS=\"/home/eila/git_igvf/cellatlas-scrna-seq-pipeline/nextflow/hai-gcp-genomic-beb9207a40b8.json.json\"\n",
    "# gcloud auth activate-service-account eila-batch@hai-gcp-genomic.iam.gserviceaccount.com --key-file=$GOOGLE_APPLICATION_CREDENTIALS"
   ]
  },
  {
   "cell_type": "code",
   "execution_count": 3,
   "metadata": {
    "tags": []
   },
   "outputs": [
    {
     "name": "stdout",
     "output_type": "stream",
     "text": [
      "                  Credentialed Accounts\n",
      "ACTIVE  ACCOUNT\n",
      "        886987709752-compute@developer.gserviceaccount.com\n",
      "*       eila-batch@hai-gcp-genomic.iam.gserviceaccount.com\n",
      "\n",
      "To set the active account, run:\n",
      "    $ gcloud config set account `ACCOUNT`\n",
      "\n"
     ]
    }
   ],
   "source": [
    "!gcloud auth list\n",
    "# gcloud config set account\n"
   ]
  },
  {
   "cell_type": "code",
   "execution_count": 4,
   "metadata": {
    "tags": []
   },
   "outputs": [],
   "source": [
    "# in the command line. based on:\n",
    "# https://nextflow.io/blog/2023/nextflow-with-gbatch.html\n",
    "# gcloud services enable batch.googleapis.com compute.googleapis.com logging.googleapis.com\n",
    "# gcloud iam service-accounts create eila-batch\n",
    "# gcloud iam service-accounts list \n",
    "\n",
    "\n",
    "\n",
    "\n",
    "# gcloud projects add-iam-policy-binding terra-addd4c49 \\\n",
    "# --member=\"serviceAccount:pet-26869426946125b815f6b@terra-addd4c49.iam.gserviceaccount.com\" \\\n",
    "# --role=\"roles/iam.serviceAccountUser\"\n",
    "\n",
    "# $ gcloud projects add-iam-policy-binding terra-addd4c49 \\\n",
    "# --member=\"serviceAccount:pet-26869426946125b815f6b@terra-addd4c49.iam.gserviceaccount.com\" \\\n",
    "# --role=\"roles/batch.jobsEditor\"\n",
    "\n",
    "# $ gcloud projects add-iam-policy-binding terra-addd4c49 \\\n",
    "# --member=\"serviceAccount:pet-26869426946125b815f6b@terra-addd4c49.iam.gserviceaccount.com\" \\\n",
    "# --role=\"roles/logging.viewer\"\n",
    "\n",
    "# $ gcloud projects add-iam-policy-binding terra-addd4c49 \\\n",
    "# --member=\"serviceAccount:pet-26869426946125b815f6b@terra-addd4c49.iam.gserviceaccount.com\" \\\n",
    "# --role=\"roles/storage.admin\"\n"
   ]
  },
  {
   "cell_type": "code",
   "execution_count": 5,
   "metadata": {
    "tags": []
   },
   "outputs": [],
   "source": [
    "\n",
    "# !gcloud projects add-iam-policy-binding hai-gcp-genomic \\\n",
    "# --member=\"serviceAccount:eila-batch@hai-gcp-genomic.iam.gserviceaccount.com\" \\\n",
    "# --role=\"roles/iam.serviceAccountUser\"\n",
    "\n",
    "# !gcloud projects add-iam-policy-binding hai-gcp-genomic \\\n",
    "# --member=\"serviceAccount:eila-batch@hai-gcp-genomic.iam.gserviceaccount.com\" \\\n",
    "# --role=\"roles/batch.jobsEditor\"\n",
    "\n",
    "# !gcloud projects add-iam-policy-binding hai-gcp-genomic \\\n",
    "# --member=\"serviceAccount:eila-batch@hai-gcp-genomic.iam.gserviceaccount.com\" \\\n",
    "# --role=\"roles/logging.viewer\"\n",
    "\n",
    "# !gcloud projects add-iam-policy-binding hai-gcp-genomic \\\n",
    "# --member=\"serviceAccount:eila-batch@hai-gcp-genomic.iam.gserviceaccount.com\" \\"
   ]
  },
  {
   "cell_type": "code",
   "execution_count": 62,
   "metadata": {
    "tags": []
   },
   "outputs": [
    {
     "name": "stdout",
     "output_type": "stream",
     "text": [
      "  Version: 23.10.0 build 5889\n",
      "  Created: 15-10-2023 15:07 UTC \n",
      "  System: Linux 5.10.0-26-cloud-amd64\n",
      "  Runtime: Groovy 3.0.19 on OpenJDK 64-Bit Server VM 11.0.13+7-b1751.21\n",
      "  Encoding: UTF-8 (UTF-8)\n",
      "\n"
     ]
    }
   ],
   "source": [
    "!nextflow info"
   ]
  },
  {
   "cell_type": "code",
   "execution_count": 7,
   "metadata": {
    "tags": []
   },
   "outputs": [
    {
     "name": "stdout",
     "output_type": "stream",
     "text": [
      "/home/eila/git_igvf/cellatlas-scrna-seq-pipeline/nextflow/nf_workflow/workflow_fg_single_cell_atac\n"
     ]
    }
   ],
   "source": [
    "!pwd"
   ]
  },
  {
   "cell_type": "code",
   "execution_count": 8,
   "metadata": {
    "tags": []
   },
   "outputs": [
    {
     "name": "stdout",
     "output_type": "stream",
     "text": [
      "docker\thai-gcp-genomic-beb9207a40b8.json  nf_data  nf_processes  nf_workflow\n"
     ]
    }
   ],
   "source": [
    "!ls /home/eila/git_igvf/cellatlas-scrna-seq-pipeline/nextflow/"
   ]
  },
  {
   "cell_type": "code",
   "execution_count": 9,
   "metadata": {
    "tags": []
   },
   "outputs": [
    {
     "data": {
      "text/plain": [
       "'/home/eila/git_igvf/cellatlas-scrna-seq-pipeline/nextflow/nf_workflow/workflow_fg_single_cell_atac'"
      ]
     },
     "execution_count": 9,
     "metadata": {},
     "output_type": "execute_result"
    }
   ],
   "source": [
    "import os\n",
    "os.getcwd()"
   ]
  },
  {
   "cell_type": "code",
   "execution_count": 10,
   "metadata": {
    "tags": []
   },
   "outputs": [
    {
     "name": "stdout",
     "output_type": "stream",
     "text": [
      "Overwriting nextflow_vm.config\n"
     ]
    }
   ],
   "source": [
    "%%writefile nextflow_vm.config\n",
    "\n",
    "includeConfig 'conf/conda.config'\n",
    "\n",
    "\n",
    "manifest {\n",
    "  description = 'A nexflow pipeline for fg single cell atac' \n",
    "  mainScript = 'nf_wf_fg_singlecell_atac.nf'\n",
    "}\n",
    "\n",
    "profiles {\n",
    "  conda_profile {\n",
    "    includeConfig 'conf/conda.config'\n",
    "    conda.enabled = true\n",
    "    executor = 'local'\n",
    "    }\n",
    "\n",
    "  conda_docker_profile {\n",
    "    includeConfig 'conf/conda_docker.config'\n",
    "    executor = 'local'\n",
    "    }\n",
    "\n",
    "  docker_profile {\n",
    "    includeConfig 'conf/docker.config'\n",
    "    docker.enabled = true\n",
    "    docker.envWhitelist=['ENV_SYNAPSE_TOKEN']\n",
    "    executor = 'local'\n",
    "  }\n",
    "  google_batch_profile {\n",
    "    workDir = 'gs://eila-nextflow-bucket/work'\n",
    "    wave.enabled = true\n",
    "    fusion.enabled = true\n",
    "    includeConfig 'conf/docker-google-batch.config'\n",
    "    docker.enabled = true\n",
    "    docker.envWhitelist=['ENV_SYNAPSE_TOKEN']\n",
    "    executor = 'google-batch'\n",
    "    google.project = 'hai-gcp-genomic'\n",
    "    google.location = 'us-central1'\n",
    "    google.batch.spot = false\n",
    "    google.batch.serviceAccountEmail='eila-batch@hai-gcp-genomic.iam.gserviceaccount.com'\n",
    "  }\n",
    "    \n",
    "}\n",
    "\n",
    "params.FASTQS_SPEC_CH = '/home/eila/git_igvf/cellatlas-scrna-seq-pipeline/nextflow/nf_data/nf_wf_fg_singlecell/atac_fastqs_files_vm.csv'\n",
    "params.CHROMAP_IDX='/home/eila/git_igvf/cellatlas-scrna-seq-pipeline/nextflow/nf_data/nf_wf_fg_singlecell/specs/dogmaseq-dig/Homo_sapiens.GRCh38.dna.primary_assembly.chromap.ref.index'\n",
    "\n",
    "params.GENOME_FASTA='http://ftp.ensembl.org/pub/release-109/fasta/homo_sapiens/dna/Homo_sapiens.GRCh38.dna.primary_assembly.fa.gz'\n",
    "params.GENOME_GZ_GTF='http://ftp.ensembl.org/pub/release-109/gtf/homo_sapiens/Homo_sapiens.GRCh38.109.gtf.gz'\n",
    "\n"
   ]
  },
  {
   "cell_type": "code",
   "execution_count": 11,
   "metadata": {
    "tags": []
   },
   "outputs": [
    {
     "name": "stdout",
     "output_type": "stream",
     "text": [
      "Overwriting nextflow_vm_anvil.config\n"
     ]
    }
   ],
   "source": [
    "%%writefile nextflow_vm_anvil.config\n",
    "\n",
    "includeConfig 'conf/conda.config'\n",
    "\n",
    "\n",
    "manifest {\n",
    "  description = 'A nexflow pipeline for fg single cell atac' \n",
    "  mainScript = 'nf_wf_fg_singlecell_atac.nf'\n",
    "}\n",
    "\n",
    "profiles {\n",
    "  conda_profile {\n",
    "    includeConfig 'conf/conda.config'\n",
    "    conda.enabled = true\n",
    "    executor = 'local'\n",
    "    }\n",
    "\n",
    "  conda_docker_profile {\n",
    "    includeConfig 'conf/conda_docker.config'\n",
    "    executor = 'local'\n",
    "    }\n",
    "\n",
    "  docker_profile {\n",
    "    includeConfig 'conf/docker.config'\n",
    "    docker.enabled = true\n",
    "    docker.envWhitelist=['ENV_SYNAPSE_TOKEN']\n",
    "    executor = 'local'\n",
    "  }\n",
    "  google_batch_profile {\n",
    "    workDir = 'gs://fc-secure-87394b1b-e8d0-4802-9671-70bc3c8b7525/nextflow'\n",
    "    includeConfig 'conf/docker-google-batch.config'\n",
    "    docker.enabled = true\n",
    "    docker.envWhitelist=['ENV_SYNAPSE_TOKEN']\n",
    "    executor = 'google-batch'\n",
    "    google.project = 'terra-addd4c49'\n",
    "    location = 'us-central1'\n",
    "    batch.spot = false\n",
    "    batch.serviceAccountEmail='pet-26869426946125b815f6b@terra-addd4c49.iam.gserviceaccount.com'\n",
    "  }\n",
    "}\n",
    "\n",
    "params.FASTQS_SPEC_CH = '/home/eila/git_igvf/cellatlas-scrna-seq-pipeline/nextflow/nf_data/nf_wf_fg_singlecell/atac_fastqs_files_vm.csv'\n",
    "params.CHROMAP_IDX='/home/eila/git_igvf/cellatlas-scrna-seq-pipeline/nextflow/nf_data/nf_wf_fg_singlecell/specs/dogmaseq-dig/Homo_sapiens.GRCh38.dna.primary_assembly.chromap.ref.index'\n",
    "\n",
    "params.GENOME_FASTA='http://ftp.ensembl.org/pub/release-109/fasta/homo_sapiens/dna/Homo_sapiens.GRCh38.dna.primary_assembly.fa.gz'\n",
    "params.GENOME_GZ_GTF='http://ftp.ensembl.org/pub/release-109/gtf/homo_sapiens/Homo_sapiens.GRCh38.109.gtf.gz'\n",
    "\n"
   ]
  },
  {
   "cell_type": "code",
   "execution_count": 12,
   "metadata": {
    "tags": []
   },
   "outputs": [
    {
     "name": "stdout",
     "output_type": "stream",
     "text": [
      "Overwriting nextflow_local.config\n"
     ]
    }
   ],
   "source": [
    "%%writefile nextflow_local.config\n",
    "\n",
    "includeConfig 'conf/conda.config'\n",
    "\n",
    "\n",
    "manifest {\n",
    "  description = 'A nexflow pipeline for fg single cell atac' \n",
    "  mainScript = 'nf_wf_fg_singlecell_atac.nf'\n",
    "}\n",
    "profiles {\n",
    "  conda_profile {\n",
    "    includeConfig 'conf/conda.config'\n",
    "    conda.enabled = true\n",
    "    executor = 'local'\n",
    "    }\n",
    "\n",
    "  conda_docker_profile {\n",
    "    includeConfig 'conf/conda_docker.config'\n",
    "    executor = 'local'\n",
    "    }\n",
    "\n",
    "  docker_profile {\n",
    "    includeConfig 'conf/docker.config'\n",
    "    docker.enabled = true\n",
    "    docker.envWhitelist=['ENV_SYNAPSE_TOKEN']\n",
    "    executor = 'local'\n",
    "  }\n",
    "  google_batch_profile {\n",
    "    workDir = 'gs://eila-nextflow-bucket/work'\n",
    "    includeConfig 'conf/docker-google-batch.config'\n",
    "    docker.enabled = true\n",
    "    docker.envWhitelist=['ENV_SYNAPSE_TOKEN']\n",
    "    executor = 'google-batch'\n",
    "    google.project = 'hai-gcp-genomic'\n",
    "    google.location = 'us-central1'\n",
    "    google.batch.spot = false\n",
    "    google.batch.serviceAccountEmail='pet-26869426946125b815f6b@terra-addd4c49.iam.gserviceaccount.com'\n",
    "  }\n",
    "    \n",
    "}\n",
    "params.FASTQS_SPEC_CH = '/Users/eilaarich-landkof-stanford/Documents/Code/git_igvf/cellatlas-scrna-seq-pipeline/nextflow/nf_data/nf_wf_fg_singlecell/atac_fastqs_files_local.csv'\n",
    "params.CHROMAP_IDX='/Users/eilaarich-landkof-stanford/Documents/Code/git_igvf/cellatlas-scrna-seq-pipeline/nextflow/nf_data/nf_wf_fg_singlecell/specs/dogmaseq-dig/Homo_sapiens.GRCh38.dna.primary_assembly.chromap.ref.index'\n",
    "\n",
    "params.GENOME_FASTA='http://ftp.ensembl.org/pub/release-109/fasta/homo_sapiens/dna/Homo_sapiens.GRCh38.dna.primary_assembly.fa.gz'\n",
    "params.GENOME_GZ_GTF='http://ftp.ensembl.org/pub/release-109/gtf/homo_sapiens/Homo_sapiens.GRCh38.109.gtf.gz'\n",
    "\n"
   ]
  },
  {
   "cell_type": "code",
   "execution_count": 13,
   "metadata": {
    "tags": []
   },
   "outputs": [
    {
     "name": "stdout",
     "output_type": "stream",
     "text": [
      "/home/eila/git_igvf/cellatlas-scrna-seq-pipeline/nextflow/nf_workflow/workflow_fg_single_cell_atac\n"
     ]
    }
   ],
   "source": [
    "!pwd"
   ]
  },
  {
   "cell_type": "code",
   "execution_count": 14,
   "metadata": {
    "tags": []
   },
   "outputs": [
    {
     "name": "stdout",
     "output_type": "stream",
     "text": [
      "Removing gs://eila-nextflow-bucket/work/1f/abdcd50df141a13dfa64f58f09205b/.command.run#1698796934272753...\n",
      "Removing gs://eila-nextflow-bucket/work/1f/abdcd50df141a13dfa64f58f09205b/.command.sh#1698796934529621...\n",
      "Removing gs://eila-nextflow-bucket/work/d9/5c94471ea570e0ff9c67d85354f775/.command.run#1698796934868356...\n",
      "Removing gs://eila-nextflow-bucket/work/d9/5c94471ea570e0ff9c67d85354f775/.command.sh#1698796935122384...\n",
      "/ [4 objects]                                                                   \n",
      "==> NOTE: You are performing a sequence of gsutil operations that may\n",
      "run significantly faster if you instead use gsutil -m rm ... Please\n",
      "see the -m section under \"gsutil help options\" for further information\n",
      "about when gsutil -m can be advantageous.\n",
      "\n",
      "Removing gs://eila-nextflow-bucket/work/stage-7269df1c-3f49-4942-9686-eebf54c4937a/0b/8c9806e943d16cf645543a8573fd26/atac_R1_SRR18677642.fastq.gz#1698796932390426...\n",
      "Removing gs://eila-nextflow-bucket/work/stage-7269df1c-3f49-4942-9686-eebf54c4937a/6a/9a4ef789e504a9b31aeab5f2766c88/nf_spec_dogmaseq_dig.yaml#1698796930932152...\n",
      "Removing gs://eila-nextflow-bucket/work/stage-7269df1c-3f49-4942-9686-eebf54c4937a/bf/2948349d28a4c9f06b53e297292e4e/atac_R2_SRR18677642.fastq.gz#1698796931835835...\n",
      "Removing gs://eila-nextflow-bucket/work/stage-7269df1c-3f49-4942-9686-eebf54c4937a/c6/939af13c1bea9736733a32ca32110f/atac_R3_SRR18677642.fastq.gz#1698796932389294...\n",
      "/ [8 objects]                                                                   \n",
      "Operation completed over 8 objects.                                              \n"
     ]
    }
   ],
   "source": [
    "# !rm -r /Users/eilaarich-landkof-stanford/Documents/Code/git_igvf/cellatlas-scrna-seq-pipeline/nextflow/nf_workflow/workflow_fg_single_cell_atac/work\n",
    "# !rm -r /home/eila/git_igvf/cellatlas-scrna-seq-pipeline/nextflow/nf_workflow/workflow_fg_single_cell_atac/work\n",
    "# !gsutil rm -r gs://eila-nextflow-bucket/work"
   ]
  },
  {
   "cell_type": "code",
   "execution_count": 15,
   "metadata": {
    "tags": []
   },
   "outputs": [
    {
     "name": "stdout",
     "output_type": "stream",
     "text": [
      "rm: cannot remove '.nextflow': Is a directory\n"
     ]
    }
   ],
   "source": [
    "!rm .nextflow*"
   ]
  },
  {
   "cell_type": "code",
   "execution_count": 16,
   "metadata": {
    "tags": []
   },
   "outputs": [],
   "source": [
    "# !ls nextflow.config"
   ]
  },
  {
   "cell_type": "code",
   "execution_count": 98,
   "metadata": {
    "tags": []
   },
   "outputs": [],
   "source": [
    "# !nextflow run nf_wf_fg_singlecell_atac.nf -c nextflow_vm.config -profile google_batch_profile\n",
    "\n",
    "\n",
    "\n",
    "\n",
    "\n",
    "# !nextflow run nf_wf_fg_singlecell_atac.nf -c nextflow_vm.config -profile google_batch_profile\n",
    "# !nextflow run nf_wf_fg_singlecell_atac.nf -c nextflow_vm_anvil.config -profile google_batch_profile\n",
    "# !nextflow run nf_wf_fg_singlecell_atac.nf -c nextflow_local.config -profile google_batch_profile\n",
    "# !nextflow run nf_wf_fg_singlecell_atac.nf -c nextflow_local.config -profile docker_profile\n"
   ]
  },
  {
   "cell_type": "code",
   "execution_count": null,
   "metadata": {
    "tags": []
   },
   "outputs": [
    {
     "name": "stdout",
     "output_type": "stream",
     "text": [
      "N E X T F L O W  ~  version 23.10.0\n",
      "Launching `nf_wf_fg_singlecell_atac.nf` [ridiculous_kare] DSL2 - revision: c6ceb8eb5e\n",
      "Nov 01, 2023 6:43:03 PM com.google.auth.oauth2.DefaultCredentialsProvider warnAboutProblematicCredentials\n",
      "WARNING: Your application has authenticated using end user credentials from Google Cloud SDK. We recommend that most server applications use service accounts instead. If your application continues to use end user credentials from Cloud SDK, you might receive a \"quota exceeded\" or \"API not enabled\" error. For more information about service accounts, see https://cloud.google.com/docs/authentication/.\n",
      "/home/eila/git_igvf/cellatlas-scrna-seq-pipeline/nextflow/nf_data/nf_wf_fg_singlecell/atac_fastqs_files_vm.csv\n",
      "calling run_seqspec_print\n",
      "[-        ] process > run_seqspec_print       -\u001b[K\n",
      "[-        ] process > run_seqspec_modify_atac -\u001b[K\n",
      "[-        ] process > run_chromap_map_to_idx  -\u001b[K\n",
      "finished run_seqspec_print\u001b[K\n",
      "start run_seqspec_modify_atac\u001b[K\n",
      "finish run_seqspec_modify_atac\u001b[K\n",
      "start genome_fasta_ch download\u001b[K\n",
      "finished genome_fasta_ch download\u001b[K\n",
      "start genome_gtf_ch download\u001b[K\n",
      "finished genome_gtf_ch download\u001b[K\n",
      "start genome_chromap_idx download\u001b[K\n",
      "finished genome_chromap_idx download\u001b[K\n",
      "start run_chromap_map_to_idx\u001b[K\n",
      "finished run_chromap_map_to_idx\u001b[K\n",
      "\u001b[15A\n",
      "\u001b[32;1mMonitor the execution with Nextflow Tower using this URL: https://tower.nf/user/eila/watch/60GJd0J3c3X5kj\u001b[22;39m\u001b[K\n",
      "[-        ] process > run_seqspec_print       -\u001b[K\n",
      "[-        ] process > run_seqspec_modify_atac -\u001b[K\n",
      "[-        ] process > run_chromap_map_to_idx  -\u001b[K\n",
      "finished run_seqspec_print\u001b[K\n",
      "start run_seqspec_modify_atac\u001b[K\n",
      "finish run_seqspec_modify_atac\u001b[K\n",
      "start genome_fasta_ch download\u001b[K\n",
      "finished genome_fasta_ch download\u001b[K\n",
      "start genome_gtf_ch download\u001b[K\n",
      "finished genome_gtf_ch download\u001b[K\n",
      "start genome_chromap_idx download\u001b[K\n",
      "finished genome_chromap_idx download\u001b[K\n",
      "start run_chromap_map_to_idx\u001b[K\n",
      "finished run_chromap_map_to_idx\u001b[K\n",
      "\u001b[16A\n",
      "\u001b[32;1mMonitor the execution with Nextflow Tower using this URL: https://tower.nf/user/eila/watch/60GJd0J3c3X5kj\u001b[22;39m\u001b[K\n",
      "[-        ] process > run_seqspec_print       -\u001b[K\n",
      "[-        ] process > run_seqspec_modify_atac -\u001b[K\n",
      "[-        ] process > run_chromap_map_to_idx  -\u001b[K\n",
      "finished run_seqspec_print\u001b[K\n",
      "start run_seqspec_modify_atac\u001b[K\n",
      "finish run_seqspec_modify_atac\u001b[K\n",
      "start genome_fasta_ch download\u001b[K\n",
      "finished genome_fasta_ch download\u001b[K\n",
      "start genome_gtf_ch download\u001b[K\n",
      "finished genome_gtf_ch download\u001b[K\n",
      "start genome_chromap_idx download\u001b[K\n",
      "finished genome_chromap_idx download\u001b[K\n",
      "start run_chromap_map_to_idx\u001b[K\n",
      "finished run_chromap_map_to_idx\u001b[K\n",
      "Staging foreign file: /home/eila/git_igvf/cellatlas-scrna-seq-pipeline/nextflow/nf_data/nf_wf_fg_singlecell/specs/dogmaseq-dig/Homo_sapiens.GRCh38.dna.primary_assembly.chromap.ref.index\u001b[K\n",
      "\u001b[17A\n",
      "\u001b[32;1mMonitor the execution with Nextflow Tower using this URL: https://tower.nf/user/eila/watch/60GJd0J3c3X5kj\u001b[22;39m\u001b[K\n",
      "[fe/7d8b2d] process > run_seqspec_print (1)       [100%] 1 of 1, cached: 1\u001b[K\n",
      "[11/95bccb] process > run_seqspec_modify_atac (1) [100%] 1 of 1, cached: 1\u001b[K\n",
      "[-        ] process > run_chromap_map_to_idx      -\u001b[K\n",
      "finished run_seqspec_print\u001b[K\n",
      "start run_seqspec_modify_atac\u001b[K\n",
      "finish run_seqspec_modify_atac\u001b[K\n",
      "start genome_fasta_ch download\u001b[K\n",
      "finished genome_fasta_ch download\u001b[K\n",
      "start genome_gtf_ch download\u001b[K\n",
      "finished genome_gtf_ch download\u001b[K\n",
      "start genome_chromap_idx download\u001b[K\n",
      "finished genome_chromap_idx download\u001b[K\n",
      "start run_chromap_map_to_idx\u001b[K\n",
      "finished run_chromap_map_to_idx\u001b[K\n",
      "Staging foreign file: /home/eila/git_igvf/cellatlas-scrna-seq-pipeline/nextflow/nf_data/nf_wf_fg_singlecell/specs/dogmaseq-dig/Homo_sapiens.GRCh38.dna.primary_assembly.chromap.ref.index\u001b[K\n",
      "\u001b[17A\n",
      "\u001b[32;1mMonitor the execution with Nextflow Tower using this URL: https://tower.nf/user/eila/watch/60GJd0J3c3X5kj\u001b[22;39m\u001b[K\n",
      "[fe/7d8b2d] process > run_seqspec_print (1)       [100%] 1 of 1, cached: 1\u001b[K\n",
      "[11/95bccb] process > run_seqspec_modify_atac (1) [100%] 1 of 1, cached: 1\u001b[K\n",
      "[-        ] process > run_chromap_map_to_idx      -\u001b[K\n",
      "finished run_seqspec_print\u001b[K\n",
      "start run_seqspec_modify_atac\u001b[K\n",
      "finish run_seqspec_modify_atac\u001b[K\n",
      "start genome_fasta_ch download\u001b[K\n",
      "finished genome_fasta_ch download\u001b[K\n",
      "start genome_gtf_ch download\u001b[K\n",
      "finished genome_gtf_ch download\u001b[K\n",
      "start genome_chromap_idx download\u001b[K\n",
      "finished genome_chromap_idx download\u001b[K\n",
      "start run_chromap_map_to_idx\u001b[K\n",
      "finished run_chromap_map_to_idx\u001b[K\n",
      "Staging foreign file: /home/eila/git_igvf/cellatlas-scrna-seq-pipeline/nextflow/nf_data/nf_wf_fg_singlecell/specs/dogmaseq-dig/Homo_sapiens.GRCh38.dna.primary_assembly.chromap.ref.index\u001b[K\n",
      "start run_seqspec_print\u001b[K\n",
      "nf_spec_dogmaseq_dig.yaml\u001b[K\n",
      "finished seqspec print\u001b[K\n",
      "\u001b[K\n",
      "\u001b[21A\n",
      "\u001b[32;1mMonitor the execution with Nextflow Tower using this URL: https://tower.nf/user/eila/watch/60GJd0J3c3X5kj\u001b[22;39m\u001b[K\n",
      "[fe/7d8b2d] process > run_seqspec_print (1)       [100%] 1 of 1, cached: 1 ✔\u001b[K\n",
      "[11/95bccb] process > run_seqspec_modify_atac (1) [100%] 1 of 1, cached: 1 ✔\u001b[K\n",
      "[-        ] process > run_chromap_map_to_idx      -\u001b[K\n",
      "finished run_seqspec_print\u001b[K\n",
      "start run_seqspec_modify_atac\u001b[K\n",
      "finish run_seqspec_modify_atac\u001b[K\n",
      "start genome_fasta_ch download\u001b[K\n",
      "finished genome_fasta_ch download\u001b[K\n",
      "start genome_gtf_ch download\u001b[K\n",
      "finished genome_gtf_ch download\u001b[K\n",
      "start genome_chromap_idx download\u001b[K\n",
      "finished genome_chromap_idx download\u001b[K\n",
      "start run_chromap_map_to_idx\u001b[K\n",
      "finished run_chromap_map_to_idx\u001b[K\n",
      "Staging foreign file: /home/eila/git_igvf/cellatlas-scrna-seq-pipeline/nextflow/nf_data/nf_wf_fg_singlecell/specs/dogmaseq-dig/Homo_sapiens.GRCh38.dna.primary_assembly.chromap.ref.index\u001b[K\n",
      "start run_seqspec_print\u001b[K\n",
      "nf_spec_dogmaseq_dig.yaml\u001b[K\n",
      "finished seqspec print\u001b[K\n",
      "\u001b[K\n",
      "start run_seqspec_modify_rna\u001b[K\n",
      "atac_R1_SRR18677642.fastq.gz\u001b[K\n",
      "atac_R2_SRR18677642.fastq.gz\u001b[K\n",
      "atac_R3_SRR18677642.fastq.gz\u001b[K\n",
      "nf_spec_dogmaseq_dig.yaml\u001b[K\n",
      "atac_R1_SRR18677642.fastq.gz\u001b[K\n",
      "atac_R2_SRR18677642.fastq.gz\u001b[K\n",
      "atac_R3_SRR18677642.fastq.gz\u001b[K\n",
      "nf_spec_dogmaseq_dig.yaml\u001b[K\n",
      "finished seqspec modify atac\u001b[K\n",
      "\u001b[K\n",
      "\u001b[32A\n",
      "\u001b[32;1mMonitor the execution with Nextflow Tower using this URL: https://tower.nf/user/eila/watch/60GJd0J3c3X5kj\u001b[22;39m\u001b[K\n",
      "[fe/7d8b2d] process > run_seqspec_print (1)       [100%] 1 of 1, cached: 1 ✔\u001b[K\n",
      "[11/95bccb] process > run_seqspec_modify_atac (1) [100%] 1 of 1, cached: 1 ✔\u001b[K\n",
      "[-        ] process > run_chromap_map_to_idx      -\u001b[K\n",
      "finished run_seqspec_print\u001b[K\n",
      "start run_seqspec_modify_atac\u001b[K\n",
      "finish run_seqspec_modify_atac\u001b[K\n",
      "start genome_fasta_ch download\u001b[K\n",
      "finished genome_fasta_ch download\u001b[K\n",
      "start genome_gtf_ch download\u001b[K\n",
      "finished genome_gtf_ch download\u001b[K\n",
      "start genome_chromap_idx download\u001b[K\n",
      "finished genome_chromap_idx download\u001b[K\n",
      "start run_chromap_map_to_idx\u001b[K\n",
      "finished run_chromap_map_to_idx\u001b[K\n",
      "Staging foreign file: /home/eila/git_igvf/cellatlas-scrna-seq-pipeline/nextflow/nf_data/nf_wf_fg_singlecell/specs/dogmaseq-dig/Homo_sapiens.GRCh38.dna.primary_assembly.chromap.ref.index\u001b[K\n",
      "start run_seqspec_print\u001b[K\n",
      "nf_spec_dogmaseq_dig.yaml\u001b[K\n",
      "finished seqspec print\u001b[K\n",
      "\u001b[K\n",
      "start run_seqspec_modify_rna\u001b[K\n",
      "atac_R1_SRR18677642.fastq.gz\u001b[K\n",
      "atac_R2_SRR18677642.fastq.gz\u001b[K\n",
      "atac_R3_SRR18677642.fastq.gz\u001b[K\n",
      "nf_spec_dogmaseq_dig.yaml\u001b[K\n",
      "atac_R1_SRR18677642.fastq.gz\u001b[K\n",
      "atac_R2_SRR18677642.fastq.gz\u001b[K\n",
      "atac_R3_SRR18677642.fastq.gz\u001b[K\n",
      "nf_spec_dogmaseq_dig.yaml\u001b[K\n",
      "finished seqspec modify atac\u001b[K\n",
      "\u001b[K\n",
      "Staging foreign file: http://ftp.ensembl.org/pub/release-109/fasta/homo_sapiens/dna/Homo_sapiens.GRCh38.dna.primary_assembly.fa.gz\u001b[K\n"
     ]
    }
   ],
   "source": [
    "!nextflow run nf_wf_fg_singlecell_atac.nf -c nextflow_vm.config -profile google_batch_profile -resume\n",
    "\n",
    "\n",
    "\n",
    "\n",
    "# !nextflow run nf_wf_fg_singlecell_atac.nf -c nextflow_vm.config -profile google_batch_profile -resume\n",
    "# !nextflow run nf_wf_fg_singlecell_atac.nf -c nextflow_local.config -profile google_batch_profile -resume\n",
    "# !nextflow run nf_wf_fg_singlecell_atac.nf -c nextflow_vm.config -profile google_batch_profile -resume\n",
    "# !nextflow run nf_wf_fg_singlecell_atac.nf -c nextflow.config -profile docker_profile -resume\n",
    "# !nextflow run nf_wf_fg_singlecell_atac.nf -c nextflow.config -profile google_batch_profile -resume"
   ]
  },
  {
   "cell_type": "code",
   "execution_count": null,
   "metadata": {
    "tags": []
   },
   "outputs": [],
   "source": [
    "!cat .nextflow.log "
   ]
  },
  {
   "cell_type": "code",
   "execution_count": 50,
   "metadata": {
    "tags": []
   },
   "outputs": [],
   "source": [
    "# !ls /Users/eilaarich-landkof-stanford/Documents/Code/git_igvf/seqspec/specs/dogmaseq-dig/fastqs"
   ]
  },
  {
   "cell_type": "code",
   "execution_count": 51,
   "metadata": {
    "tags": []
   },
   "outputs": [],
   "source": [
    "# !nextflow run /Users/eilaarich-landkof-stanford/Documents/Code/git_igvf/cellatlas-scrna-seq-pipeline/nextflow/nf_processes/nf_prcs_print.nf"
   ]
  },
  {
   "cell_type": "code",
   "execution_count": 38,
   "metadata": {
    "tags": []
   },
   "outputs": [],
   "source": [
    "# !ls /Users/eilaarich-landkof-stanford/Documents/Code/git_igvf/cellatlas-scrna-seq-pipeline/nextflow/nf_processes/nf_prcs_print.nf"
   ]
  },
  {
   "cell_type": "code",
   "execution_count": 39,
   "metadata": {
    "tags": []
   },
   "outputs": [],
   "source": [
    "# !cat .command.out"
   ]
  },
  {
   "cell_type": "code",
   "execution_count": 40,
   "metadata": {
    "tags": []
   },
   "outputs": [],
   "source": [
    "# !nextflow run nf_wf_fg_singlecell.nf -c nextflow.config -with-docker eilalan/env_synapse:latest"
   ]
  },
  {
   "cell_type": "code",
   "execution_count": null,
   "metadata": {},
   "outputs": [],
   "source": []
  }
 ],
 "metadata": {
  "kernelspec": {
   "display_name": "Python 3 (ipykernel)",
   "language": "python",
   "name": "python3"
  },
  "language_info": {
   "codemirror_mode": {
    "name": "ipython",
    "version": 3
   },
   "file_extension": ".py",
   "mimetype": "text/x-python",
   "name": "python",
   "nbconvert_exporter": "python",
   "pygments_lexer": "ipython3",
   "version": "3.7.16"
  }
 },
 "nbformat": 4,
 "nbformat_minor": 4
}
