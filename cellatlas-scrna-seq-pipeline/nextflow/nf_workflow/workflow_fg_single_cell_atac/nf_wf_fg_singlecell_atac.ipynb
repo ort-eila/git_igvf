{
 "cells": [
  {
   "cell_type": "code",
   "execution_count": 186,
   "metadata": {
    "tags": []
   },
   "outputs": [],
   "source": [
    "# start docker deamon\n",
    "# sudo docker login"
   ]
  },
  {
   "cell_type": "code",
   "execution_count": 187,
   "metadata": {
    "tags": []
   },
   "outputs": [],
   "source": [
    "# # update java\n",
    "# sudo apt-get update\n",
    "# sudo apt-get install default-jre\n",
    "# sudo apt-get install default-jdk"
   ]
  },
  {
   "cell_type": "code",
   "execution_count": 188,
   "metadata": {
    "tags": []
   },
   "outputs": [
    {
     "name": "stdout",
     "output_type": "stream",
     "text": [
      "  Version: 23.04.4 build 5881\n",
      "  Created: 25-09-2023 15:34 UTC \n",
      "  System: Linux 5.10.0-26-cloud-amd64\n",
      "  Runtime: Groovy 3.0.16 on OpenJDK 64-Bit Server VM 11.0.13+7-b1751.21\n",
      "  Encoding: UTF-8 (UTF-8)\n",
      "\n"
     ]
    }
   ],
   "source": [
    "!nextflow info"
   ]
  },
  {
   "cell_type": "code",
   "execution_count": 189,
   "metadata": {
    "tags": []
   },
   "outputs": [
    {
     "name": "stdout",
     "output_type": "stream",
     "text": [
      "[compute]\n",
      "region = us-central1\n",
      "zone = us-central1-a\n",
      "[core]\n",
      "account = eila@stanford.edu\n",
      "disable_usage_reporting = True\n",
      "project = hai-gcp-genomic\n",
      "\n",
      "Your active configuration is: [default]\n"
     ]
    }
   ],
   "source": [
    "!gcloud config list "
   ]
  },
  {
   "cell_type": "code",
   "execution_count": 190,
   "metadata": {
    "tags": []
   },
   "outputs": [],
   "source": [
    "# I will need to login to a different project for the Anvil"
   ]
  },
  {
   "cell_type": "code",
   "execution_count": 191,
   "metadata": {
    "tags": []
   },
   "outputs": [],
   "source": [
    "# for the service account:\n",
    "# https://www.nextflow.io/docs/latest/google.html\n",
    "# cloud auth application-default login\n",
    "# the credentials will be saved to [/home/eila/.config/gcloud/application_default_credentials.json] for \n",
    "# the use of the application\n",
    "\n",
    "# https://github.com/nextflow-io/nextflow/issues/1709\n",
    "!export NXF_VER=\"23.04.4\"\n",
    "!export NXF_MODE=google\n",
    "!export NXF_DEBUG=3\n",
    "# TODO: change for the Anvil\n",
    "!export PROJECT=\"hai-gcp-genomic\"\n",
    "!export GOOGLE_APPLICATION_CREDENTIALS=/home/eila/.config/gcloud/application_default_credentials.json"
   ]
  },
  {
   "cell_type": "code",
   "execution_count": 192,
   "metadata": {
    "tags": []
   },
   "outputs": [],
   "source": [
    "# !cat /home/eila/.config/gcloud/application_default_credentials.json"
   ]
  },
  {
   "cell_type": "code",
   "execution_count": 193,
   "metadata": {
    "tags": []
   },
   "outputs": [],
   "source": [
    "!nextflow clean -f nf_wf_fg_singlecell_atac.nf"
   ]
  },
  {
   "cell_type": "code",
   "execution_count": 194,
   "metadata": {
    "tags": []
   },
   "outputs": [
    {
     "data": {
      "text/plain": [
       "'/home/eila/git_igvf/cellatlas-scrna-seq-pipeline/nextflow/nf_workflow/workflow_fg_single_cell_atac'"
      ]
     },
     "execution_count": 194,
     "metadata": {},
     "output_type": "execute_result"
    }
   ],
   "source": [
    "import os\n",
    "os.getcwd()"
   ]
  },
  {
   "cell_type": "code",
   "execution_count": 195,
   "metadata": {
    "tags": []
   },
   "outputs": [
    {
     "name": "stdout",
     "output_type": "stream",
     "text": [
      "Overwriting nextflow.config\n"
     ]
    }
   ],
   "source": [
    "%%writefile nextflow.config\n",
    "\n",
    "includeConfig 'conf/conda.config'\n",
    "\n",
    "\n",
    "manifest {\n",
    "  description = 'A nexflow pipeline for fg single cell atac' \n",
    "  mainScript = 'nf_wf_fg_singlecell_atac.nf'\n",
    "}\n",
    "\n",
    "profiles {\n",
    "  conda_profile {\n",
    "    includeConfig 'conf/conda.config'\n",
    "    conda.enabled = true\n",
    "    executor = 'local'\n",
    "    }\n",
    "\n",
    "  conda_docker_profile {\n",
    "    includeConfig 'conf/conda_docker.config'\n",
    "    executor = 'local'\n",
    "    }\n",
    "\n",
    "  docker_profile {\n",
    "    includeConfig 'conf/docker.config'\n",
    "    docker.enabled = true\n",
    "    docker.envWhitelist=['ENV_SYNAPSE_TOKEN']\n",
    "    executor = 'local'\n",
    "  }\n",
    "  google_batch_profile {\n",
    "    workDir = 'gs://eila-nextflow-bucket/work'\n",
    "    includeConfig 'conf/docker-google-batch.config'\n",
    "    docker.enabled = true\n",
    "    docker.envWhitelist=['ENV_SYNAPSE_TOKEN']\n",
    "    executor = 'google-batch'\n",
    "    google.project = 'hai-gcp-genomic'\n",
    "    location = 'us-central1'\n",
    "    batch.spot = false\n",
    "  }\n",
    "    \n",
    "}\n",
    "\n",
    "params.FASTQS_SPEC_CH = '/home/eila/git_igvf/cellatlas-scrna-seq-pipeline/nextflow/nf_data/nf_wf_fg_singlecell/atac_fastqs_files_vm.csv'\n",
    "params.CHROMAP_IDX='/home/eila/git_igvf/cellatlas-scrna-seq-pipeline/nextflow/nf_data/nf_wf_fg_singlecell/specs/dogmaseq-dig/Homo_sapiens.GRCh38.dna.primary_assembly.chromap.ref.index'\n",
    "\n",
    "params.GENOME_FASTA='http://ftp.ensembl.org/pub/release-109/fasta/homo_sapiens/dna/Homo_sapiens.GRCh38.dna.primary_assembly.fa.gz'\n",
    "params.GENOME_GZ_GTF='http://ftp.ensembl.org/pub/release-109/gtf/homo_sapiens/Homo_sapiens.GRCh38.109.gtf.gz'\n",
    "params.OUTDIR='results'\n",
    "\n"
   ]
  },
  {
   "cell_type": "code",
   "execution_count": 196,
   "metadata": {
    "tags": []
   },
   "outputs": [
    {
     "name": "stdout",
     "output_type": "stream",
     "text": [
      "/home/eila/git_igvf/cellatlas-scrna-seq-pipeline/nextflow/nf_workflow/workflow_fg_single_cell_atac\n"
     ]
    }
   ],
   "source": [
    "!pwd"
   ]
  },
  {
   "cell_type": "code",
   "execution_count": 197,
   "metadata": {
    "tags": []
   },
   "outputs": [],
   "source": [
    "# !rm -r /home/eila/git_igvf/cellatlas-scrna-seq-pipeline/nextflow/nf_workflow/workflow_fg_single_cell_atac/work\n",
    "# !gsutil rm -r gs://eila-nextflow-bucket/work"
   ]
  },
  {
   "cell_type": "code",
   "execution_count": 198,
   "metadata": {
    "tags": []
   },
   "outputs": [
    {
     "name": "stdout",
     "output_type": "stream",
     "text": [
      "rm: cannot remove '.nextflow': Is a directory\n"
     ]
    }
   ],
   "source": [
    "!rm .nextflow*"
   ]
  },
  {
   "cell_type": "code",
   "execution_count": 199,
   "metadata": {
    "tags": []
   },
   "outputs": [
    {
     "name": "stdout",
     "output_type": "stream",
     "text": [
      "nextflow.config\n"
     ]
    }
   ],
   "source": [
    "!ls nextflow.config"
   ]
  },
  {
   "cell_type": "code",
   "execution_count": 202,
   "metadata": {
    "tags": []
   },
   "outputs": [
    {
     "name": "stdout",
     "output_type": "stream",
     "text": [
      "N E X T F L O W  ~  version 23.04.4\n",
      "Launching `nf_wf_fg_singlecell_atac.nf` [modest_babbage] DSL2 - revision: 95c9ec4716\n",
      "Oct 31, 2023 2:28:02 AM com.google.auth.oauth2.DefaultCredentialsProvider warnAboutProblematicCredentials\n",
      "WARNING: Your application has authenticated using end user credentials from Google Cloud SDK. We recommend that most server applications use service accounts instead. If your application continues to use end user credentials from Cloud SDK, you might receive a \"quota exceeded\" or \"API not enabled\" error. For more information about service accounts, see https://cloud.google.com/docs/authentication/.\n",
      "/home/eila/git_igvf/cellatlas-scrna-seq-pipeline/nextflow/nf_data/nf_wf_fg_singlecell/atac_fastqs_files_vm.csv\n",
      "\u001b[33mWARN: Access to undefined parameter `outdir` -- Initialise it to a default value eg. `params.outdir = some_value`\u001b[39m\u001b[K\n",
      "[-        ] process > run_seqspec_print -\u001b[K\n",
      "\u001b[2A\n",
      "[-        ] process > run_seqspec_print -\u001b[K\n",
      "Staging foreign file: /home/eila/git_igvf/cellatlas-scrna-seq-pipeline/nextflow/nf_data/nf_wf_fg_singlecell/specs/dogmaseq-dig/fastqs/atac_R1_SRR18677642.fastq.gz\u001b[K\n",
      "\u001b[3A\n",
      "[-        ] process > run_seqspec_print [  0%] 0 of 1\u001b[K\n",
      "Staging foreign file: /home/eila/git_igvf/cellatlas-scrna-seq-pipeline/nextflow/nf_data/nf_wf_fg_singlecell/specs/dogmaseq-dig/fastqs/atac_R1_SRR18677642.fastq.gz\u001b[K\n",
      "\u001b[3A\n",
      "executor >  google-batch (1)\u001b[K\n",
      "[51/bee400] process > run_seqspec_print (1) [  0%] 0 of 1\u001b[K\n",
      "Staging foreign file: /home/eila/git_igvf/cellatlas-scrna-seq-pipeline/nextflow/nf_data/nf_wf_fg_singlecell/specs/dogmaseq-dig/fastqs/atac_R1_SRR18677642.fastq.gz\u001b[K\n",
      "\u001b[4A\n",
      "executor >  google-batch (1)\u001b[K\n",
      "[51/bee400] process > run_seqspec_print (1) [  0%] 0 of 1\u001b[K\n",
      "\u001b[K\n",
      "\u001b[4A\n",
      "executor >  google-batch (1)\u001b[K\n",
      "[51/bee400] process > run_seqspec_print (1) [  0%] 0 of 1\u001b[K\n",
      "\u001b[31mERROR ~ Error executing process > 'run_seqspec_print (1)'\u001b[K\n",
      "\u001b[K\n",
      "Caused by:\u001b[K\n",
      "  Process `run_seqspec_print (1)` terminated with an error exit status (null)\u001b[K\n",
      "\u001b[K\n",
      "Command executed:\u001b[K\n",
      "\u001b[K\n",
      "  echo start run_seqspec_print\u001b[K\n",
      "  echo nf_spec_dogmaseq_dig.yaml\u001b[K\n",
      "  seqspec print nf_spec_dogmaseq_dig.yaml > seqspec.print.out\u001b[K\n",
      "  echo finished seqspec print\u001b[K\n",
      "\u001b[K\n",
      "Command exit status:\u001b[K\n",
      "  null\u001b[K\n",
      "\u001b[K\n",
      "Command output:\u001b[K\n",
      "  (empty)\u001b[K\n",
      "\u001b[K\n",
      "Command error:\u001b[K\n",
      "  WARNING: The requested image's platform (linux/arm64/v8) does not match the detected host platform (linux/amd64/v4) and no specific platform was requestedexec /bin/bash: exec format error\u001b[K\n",
      "\u001b[K\n",
      "Work dir:\u001b[K\n",
      "  gs://eila-nextflow-bucket/work/51/bee4003ca4f819ad62638428533b08\u001b[K\n",
      "\u001b[K\n",
      "Tip: you can replicate the issue by changing to the process work dir and entering the command `bash .command.run`\u001b[K\n",
      "\u001b[K\n",
      " -- Check '.nextflow.log' file for details\u001b[39m\u001b[K\n",
      "\u001b[30A\n",
      "executor >  google-batch (1)\u001b[K\n",
      "[51/bee400] process > run_seqspec_print (1) [100%] 1 of 1, failed: 1 ✘\u001b[K\n",
      "\u001b[31mERROR ~ Error executing process > 'run_seqspec_print (1)'\u001b[K\n",
      "\u001b[K\n",
      "Caused by:\u001b[K\n",
      "  Process `run_seqspec_print (1)` terminated with an error exit status (null)\u001b[K\n",
      "\u001b[K\n",
      "Command executed:\u001b[K\n",
      "\u001b[K\n",
      "  echo start run_seqspec_print\u001b[K\n",
      "  echo nf_spec_dogmaseq_dig.yaml\u001b[K\n",
      "  seqspec print nf_spec_dogmaseq_dig.yaml > seqspec.print.out\u001b[K\n",
      "  echo finished seqspec print\u001b[K\n",
      "\u001b[K\n",
      "Command exit status:\u001b[K\n",
      "  null\u001b[K\n",
      "\u001b[K\n",
      "Command output:\u001b[K\n",
      "  (empty)\u001b[K\n",
      "\u001b[K\n",
      "Command error:\u001b[K\n",
      "  WARNING: The requested image's platform (linux/arm64/v8) does not match the detected host platform (linux/amd64/v4) and no specific platform was requestedexec /bin/bash: exec format error\u001b[K\n",
      "\u001b[K\n",
      "Work dir:\u001b[K\n",
      "  gs://eila-nextflow-bucket/work/51/bee4003ca4f819ad62638428533b08\u001b[K\n",
      "\u001b[K\n",
      "Tip: you can replicate the issue by changing to the process work dir and entering the command `bash .command.run`\u001b[K\n",
      "\u001b[K\n",
      " -- Check '.nextflow.log' file for details\u001b[39m\u001b[K\n",
      "\n"
     ]
    }
   ],
   "source": [
    "\n",
    "# !nextflow run nf_wf_fg_singlecell_atac.nf -c nextflow.config -profile docker_profile\n",
    "!nextflow run nf_wf_fg_singlecell_atac.nf -c nextflow.config -profile google_batch_profile"
   ]
  },
  {
   "cell_type": "code",
   "execution_count": 203,
   "metadata": {
    "tags": []
   },
   "outputs": [],
   "source": [
    "# !nextflow run nf_wf_fg_singlecell_atac.nf -c nextflow.config -profile docker_profile -resume\n",
    "# !nextflow run nf_wf_fg_singlecell_atac.nf -c nextflow.config -profile google_batch_profile -resume"
   ]
  },
  {
   "cell_type": "code",
   "execution_count": 204,
   "metadata": {
    "tags": []
   },
   "outputs": [
    {
     "name": "stdout",
     "output_type": "stream",
     "text": [
      "Oct-31 02:28:00.737 [main] DEBUG nextflow.cli.Launcher - $> nextflow run nf_wf_fg_singlecell_atac.nf -c nextflow.config -profile google_batch_profile\n",
      "Oct-31 02:28:00.838 [main] INFO  nextflow.cli.CmdRun - N E X T F L O W  ~  version 23.04.4\n",
      "Oct-31 02:28:00.863 [main] DEBUG nextflow.plugin.PluginsFacade - Setting up plugin manager > mode=prod; embedded=false; plugins-dir=/home/eila/.nextflow/plugins; core-plugins: nf-amazon@1.16.2,nf-azure@1.0.1,nf-codecommit@0.1.4,nf-console@1.0.5,nf-ga4gh@1.0.5,nf-google@1.7.3-patch1,nf-tower@1.5.12,nf-wave@0.8.4\n",
      "Oct-31 02:28:00.875 [main] INFO  org.pf4j.DefaultPluginStatusProvider - Enabled plugins: []\n",
      "Oct-31 02:28:00.877 [main] INFO  org.pf4j.DefaultPluginStatusProvider - Disabled plugins: []\n",
      "Oct-31 02:28:00.880 [main] INFO  org.pf4j.DefaultPluginManager - PF4J version 3.4.1 in 'deployment' mode\n",
      "Oct-31 02:28:00.893 [main] INFO  org.pf4j.AbstractPluginManager - No plugins\n",
      "Oct-31 02:28:00.911 [main] DEBUG nextflow.config.ConfigBuilder - Found config local: /home/eila/git_igvf/cellatlas-scrna-seq-pipeline/nextflow/nf_workflow/workflow_fg_single_cell_atac/nextflow.config\n",
      "Oct-31 02:28:00.914 [main] DEBUG nextflow.config.ConfigBuilder - User config file: /home/eila/git_igvf/cellatlas-scrna-seq-pipeline/nextflow/nf_workflow/workflow_fg_single_cell_atac/nextflow.config\n",
      "Oct-31 02:28:00.914 [main] DEBUG nextflow.config.ConfigBuilder - Parsing config file: /home/eila/git_igvf/cellatlas-scrna-seq-pipeline/nextflow/nf_workflow/workflow_fg_single_cell_atac/nextflow.config\n",
      "Oct-31 02:28:00.914 [main] DEBUG nextflow.config.ConfigBuilder - Parsing config file: /home/eila/git_igvf/cellatlas-scrna-seq-pipeline/nextflow/nf_workflow/workflow_fg_single_cell_atac/nextflow.config\n",
      "Oct-31 02:28:00.938 [main] DEBUG nextflow.config.ConfigBuilder - Applying config profile: `google_batch_profile`\n",
      "Oct-31 02:28:01.764 [main] DEBUG nextflow.config.ConfigBuilder - Applying config profile: `google_batch_profile`\n",
      "Oct-31 02:28:01.832 [main] DEBUG nextflow.config.ConfigBuilder - Available config profiles: [google_batch_profile, conda_docker_profile, docker_profile, conda_profile]\n",
      "Oct-31 02:28:01.864 [main] DEBUG nextflow.cli.CmdRun - Applied DSL=2 by global default\n",
      "Oct-31 02:28:01.885 [main] INFO  nextflow.cli.CmdRun - Launching `nf_wf_fg_singlecell_atac.nf` [modest_babbage] DSL2 - revision: 95c9ec4716\n",
      "Oct-31 02:28:01.886 [main] DEBUG nextflow.plugin.PluginsFacade - Plugins default=[nf-google@1.7.3-patch1]\n",
      "Oct-31 02:28:01.886 [main] DEBUG nextflow.plugin.PluginsFacade - Plugins resolved requirement=[nf-google@1.7.3-patch1]\n",
      "Oct-31 02:28:01.886 [main] DEBUG nextflow.plugin.PluginUpdater - Installing plugin nf-google version: 1.7.3-patch1\n",
      "Oct-31 02:28:01.901 [main] INFO  org.pf4j.AbstractPluginManager - Plugin 'nf-google@1.7.3-patch1' resolved\n",
      "Oct-31 02:28:01.901 [main] INFO  org.pf4j.AbstractPluginManager - Start plugin 'nf-google@1.7.3-patch1'\n",
      "Oct-31 02:28:01.946 [main] DEBUG nextflow.plugin.BasePlugin - Plugin started nf-google@1.7.3-patch1\n",
      "Oct-31 02:28:01.960 [main] DEBUG nextflow.secret.LocalSecretsProvider - Secrets store: /home/eila/.nextflow/secrets/store.json\n",
      "Oct-31 02:28:01.964 [main] DEBUG nextflow.secret.SecretsLoader - Discovered secrets providers: [nextflow.secret.LocalSecretsProvider@2c9a6717] - activable => nextflow.secret.LocalSecretsProvider@2c9a6717\n",
      "Oct-31 02:28:02.035 [main] DEBUG nextflow.Session - Session UUID: 009e655c-8a1d-4c61-a3ff-a7dcb9ef014c\n",
      "Oct-31 02:28:02.035 [main] DEBUG nextflow.Session - Run name: modest_babbage\n",
      "Oct-31 02:28:02.036 [main] DEBUG nextflow.Session - Executor pool size: 32\n",
      "Oct-31 02:28:02.297 [main] DEBUG nextflow.util.ThreadPoolBuilder - Creating thread pool 'FileTransfer' minSize=10; maxSize=96; workQueue=LinkedBlockingQueue[10000]; allowCoreThreadTimeout=false\n",
      "Oct-31 02:28:02.318 [main] DEBUG nextflow.cli.CmdRun - \n",
      "  Version: 23.04.4 build 5881\n",
      "  Created: 25-09-2023 15:34 UTC \n",
      "  System: Linux 5.10.0-26-cloud-amd64\n",
      "  Runtime: Groovy 3.0.16 on OpenJDK 64-Bit Server VM 11.0.13+7-b1751.21\n",
      "  Encoding: UTF-8 (UTF-8)\n",
      "  Process: 25180@eila-vm [10.128.0.63]\n",
      "  CPUs: 32 - Mem: 117.9 GB (61.3 GB) - Swap: 0 (0)\n",
      "Oct-31 02:28:02.351 [main] DEBUG nextflow.file.FileHelper - Can't check if specified path is NFS (1): gs://eila-nextflow-bucket/work\n",
      "\n",
      "Oct-31 02:28:02.351 [main] DEBUG nextflow.Session - Work-dir: gs://eila-nextflow-bucket/work [null]\n",
      "Oct-31 02:28:02.352 [main] DEBUG nextflow.Session - Script base path does not exist or is not a directory: /home/eila/git_igvf/cellatlas-scrna-seq-pipeline/nextflow/nf_workflow/workflow_fg_single_cell_atac/bin\n",
      "Oct-31 02:28:02.378 [main] DEBUG nextflow.executor.ExecutorFactory - Extension executors providers=[GoogleLifeSciencesExecutor, GoogleBatchExecutor]\n",
      "Oct-31 02:28:02.392 [main] DEBUG nextflow.Session - Observer factory: DefaultObserverFactory\n",
      "Oct-31 02:28:02.422 [main] DEBUG nextflow.cache.CacheFactory - Using Nextflow cache factory: nextflow.cache.DefaultCacheFactory\n",
      "Oct-31 02:28:02.436 [main] DEBUG nextflow.util.CustomThreadPool - Creating default thread pool > poolSize: 33; maxThreads: 1000\n",
      "Oct-31 02:28:02.604 [main] DEBUG nextflow.Session - Session start\n",
      "Oct-31 02:28:02.841 [main] DEBUG nextflow.script.ScriptRunner - > Launching execution\n",
      "Oct-31 02:28:03.300 [main] INFO  nextflow.script.BaseScript - /home/eila/git_igvf/cellatlas-scrna-seq-pipeline/nextflow/nf_data/nf_wf_fg_singlecell/atac_fastqs_files_vm.csv\n",
      "Oct-31 02:28:03.432 [main] WARN  nextflow.script.ScriptBinding - Access to undefined parameter `outdir` -- Initialise it to a default value eg. `params.outdir = some_value`\n",
      "Oct-31 02:28:03.467 [main] DEBUG nextflow.script.ProcessConfig - Config settings `withLabel:bustool` matches labels `bustool` for process with name run_seqspec_print\n",
      "Oct-31 02:28:03.473 [main] DEBUG nextflow.executor.ExecutorFactory - << taskConfig executor: google-batch\n",
      "Oct-31 02:28:03.473 [main] DEBUG nextflow.executor.ExecutorFactory - >> processorType: 'google-batch'\n",
      "Oct-31 02:28:03.476 [main] DEBUG nextflow.executor.Executor - [warm up] executor > google-batch\n",
      "Oct-31 02:28:03.482 [main] DEBUG n.processor.TaskPollingMonitor - Creating task monitor for executor 'google-batch' > capacity: 1000; pollInterval: 10s; dumpInterval: 5m \n",
      "Oct-31 02:28:03.488 [main] DEBUG nextflow.cloud.google.GoogleOpts - Google auth via application DEFAULT\n",
      "Oct-31 02:28:03.492 [main] DEBUG n.c.google.batch.GoogleBatchExecutor - [GOOGLE BATCH] Executor config=BatchConfig[googleOpts=GoogleOpts(projectId:hai-gcp-genomic, credsFile:null, location:null, enableRequesterPaysBuckets:false, credentials:UserCredentials{requestMetadata=null, temporaryAccess=null, clientId=764086051850-6qr4p6gpi6hn506pt8ejuq83di341hur.apps.googleusercontent.com, refreshToken=1//04-ZrKvCfXPa5CgYIARAAGAQSNwF-L9IrkFtcwyfUDAhTeAquw0t0utu5nMRfG-U9l5uflp_XJI0EMWlO9aPKmi0CxdbKiKRekQc, tokenServerUri=https://oauth2.googleapis.com/token, transportFactoryClassName=com.google.auth.oauth2.OAuth2Utils$DefaultHttpTransportFactory, quotaProjectId=hai-gcp-genomic})\n",
      "Oct-31 02:28:03.506 [main] DEBUG n.c.google.batch.client.BatchClient - [GOOGLE BATCH] Creating service client with config credentials\n",
      "Oct-31 02:28:04.097 [main] DEBUG nextflow.Session - Workflow process names [dsl2]: run_create_chromap_idx, run_download_chromap_idx, run_seqspec_modify_rna, run_seqspec_print, run_seqspec_check, run_synpase_download, run_seqspec_index_rna_kb, run_synpase_upload, run_seqspec_modify_atac, run_chromap_map_to_idx, run_downloadFiles\n",
      "Oct-31 02:28:04.097 [main] DEBUG nextflow.Session - Igniting dataflow network (2)\n",
      "Oct-31 02:28:04.104 [main] DEBUG nextflow.processor.TaskProcessor - Starting process > run_seqspec_print\n",
      "Oct-31 02:28:04.105 [main] DEBUG nextflow.script.ScriptRunner - > Awaiting termination \n",
      "Oct-31 02:28:04.105 [main] DEBUG nextflow.Session - Session await\n",
      "Oct-31 02:28:05.762 [FileTransfer-2] DEBUG nextflow.file.FilePorter - Copying foreign file /home/eila/git_igvf/cellatlas-scrna-seq-pipeline/nextflow/nf_data/nf_wf_fg_singlecell/specs/dogmaseq-dig/fastqs/atac_R2_SRR18677642.fastq.gz to work dir: gs://eila-nextflow-bucket/work/stage-009e655c-8a1d-4c61-a3ff-a7dcb9ef014c/48/3a37365aafd5e01077a0620e76510b/atac_R2_SRR18677642.fastq.gz\n",
      "Oct-31 02:28:05.824 [FileTransfer-4] DEBUG nextflow.file.FilePorter - Copying foreign file /home/eila/git_igvf/cellatlas-scrna-seq-pipeline/nextflow/nf_data/nf_wf_fg_singlecell/specs/dogmaseq-dig/nf_spec_dogmaseq_dig.yaml to work dir: gs://eila-nextflow-bucket/work/stage-009e655c-8a1d-4c61-a3ff-a7dcb9ef014c/e8/9f91c82b35e021b94cb320efa911cc/nf_spec_dogmaseq_dig.yaml\n",
      "Oct-31 02:28:05.906 [FileTransfer-1] DEBUG nextflow.file.FilePorter - Copying foreign file /home/eila/git_igvf/cellatlas-scrna-seq-pipeline/nextflow/nf_data/nf_wf_fg_singlecell/specs/dogmaseq-dig/fastqs/atac_R1_SRR18677642.fastq.gz to work dir: gs://eila-nextflow-bucket/work/stage-009e655c-8a1d-4c61-a3ff-a7dcb9ef014c/8e/1d1c90f56881f745012b885aed0cda/atac_R1_SRR18677642.fastq.gz\n",
      "Oct-31 02:28:06.002 [FileTransfer-3] DEBUG nextflow.file.FilePorter - Copying foreign file /home/eila/git_igvf/cellatlas-scrna-seq-pipeline/nextflow/nf_data/nf_wf_fg_singlecell/specs/dogmaseq-dig/fastqs/atac_R3_SRR18677642.fastq.gz to work dir: gs://eila-nextflow-bucket/work/stage-009e655c-8a1d-4c61-a3ff-a7dcb9ef014c/2e/8a8821693ec279f791cc85830db8a5/atac_R3_SRR18677642.fastq.gz\n",
      "Oct-31 02:28:07.528 [Actor Thread 8] INFO  nextflow.file.FilePorter - Staging foreign file: /home/eila/git_igvf/cellatlas-scrna-seq-pipeline/nextflow/nf_data/nf_wf_fg_singlecell/specs/dogmaseq-dig/fastqs/atac_R1_SRR18677642.fastq.gz\n",
      "Oct-31 02:28:10.991 [Task submitter] DEBUG n.c.g.batch.GoogleBatchTaskHandler - [GOOGLE BATCH] submitted > job=nf-51bee400-1698719288686; uid=nf-51bee400-169871-792f6858-ac04-4c380; work-dir=gs://eila-nextflow-bucket/work/51/bee4003ca4f819ad62638428533b08\n",
      "Oct-31 02:28:10.991 [Task submitter] INFO  nextflow.Session - [51/bee400] Submitted process > run_seqspec_print (1)\n",
      "Oct-31 02:30:23.553 [Task monitor] DEBUG n.c.g.batch.GoogleBatchTaskHandler - [GOOGLE BATCH] Terminated job=nf-51bee400-1698719288686; state=FAILED\n",
      "Oct-31 02:30:23.792 [Task monitor] DEBUG n.c.g.batch.GoogleBatchTaskHandler - [GOOGLE BATCH] Cannot read exitstatus for task: `run_seqspec_print (1)` | gs://eila-nextflow-bucket/work/51/bee4003ca4f819ad62638428533b08/.exitcode\n",
      "Oct-31 02:30:24.701 [Task monitor] DEBUG n.processor.TaskPollingMonitor - Task completed > TaskHandler[id: 1; name: run_seqspec_print (1); status: COMPLETED; exit: null; error: -; workDir: gs://eila-nextflow-bucket/work/51/bee4003ca4f819ad62638428533b08]\n",
      "Oct-31 02:30:24.705 [Task monitor] DEBUG nextflow.processor.TaskProcessor - Handling unexpected condition for\n",
      "  task: name=run_seqspec_print (1); work-dir=gs://eila-nextflow-bucket/work/51/bee4003ca4f819ad62638428533b08\n",
      "  error [nextflow.exception.ProcessFailedException]: Process `run_seqspec_print (1)` terminated with an error exit status (null)\n",
      "Oct-31 02:30:24.773 [Task monitor] DEBUG nextflow.processor.TaskRun - Unable to dump output of process 'null' -- Cause: java.nio.file.NoSuchFileException: gs://eila-nextflow-bucket/work/51/bee4003ca4f819ad62638428533b08/.command.out\n",
      "Oct-31 02:30:24.776 [Task monitor] ERROR nextflow.processor.TaskProcessor - Error executing process > 'run_seqspec_print (1)'\n",
      "\n",
      "Caused by:\n",
      "  Process `run_seqspec_print (1)` terminated with an error exit status (null)\n",
      "\n",
      "Command executed:\n",
      "\n",
      "  echo start run_seqspec_print\n",
      "  echo nf_spec_dogmaseq_dig.yaml\n",
      "  seqspec print nf_spec_dogmaseq_dig.yaml > seqspec.print.out\n",
      "  echo finished seqspec print\n",
      "\n",
      "Command exit status:\n",
      "  null\n",
      "\n",
      "Command output:\n",
      "  (empty)\n",
      "\n",
      "Command error:\n",
      "  WARNING: The requested image's platform (linux/arm64/v8) does not match the detected host platform (linux/amd64/v4) and no specific platform was requestedexec /bin/bash: exec format error\n",
      "\n",
      "Work dir:\n",
      "  gs://eila-nextflow-bucket/work/51/bee4003ca4f819ad62638428533b08\n",
      "\n",
      "Tip: you can replicate the issue by changing to the process work dir and entering the command `bash .command.run`\n",
      "Oct-31 02:30:24.783 [main] DEBUG nextflow.Session - Session await > all processes finished\n",
      "Oct-31 02:30:24.931 [Task monitor] DEBUG nextflow.Session - Session aborted -- Cause: Process `run_seqspec_print (1)` terminated with an error exit status (null)\n",
      "Oct-31 02:30:24.945 [main] DEBUG nextflow.Session - Session await > all barriers passed\n",
      "Oct-31 02:30:24.952 [main] DEBUG nextflow.trace.WorkflowStatsObserver - Workflow completed > WorkflowStats[succeededCount=0; failedCount=1; ignoredCount=0; cachedCount=0; pendingCount=0; submittedCount=0; runningCount=0; retriesCount=0; abortedCount=0; succeedDuration=0ms; failedDuration=9.2s; cachedDuration=0ms;loadCpus=0; loadMemory=0; peakRunning=1; peakCpus=8; peakMemory=0; ]\n",
      "Oct-31 02:30:25.005 [main] DEBUG nextflow.cache.CacheDB - Closing CacheDB done\n",
      "Oct-31 02:30:25.005 [main] INFO  org.pf4j.AbstractPluginManager - Stop plugin 'nf-google@1.7.3-patch1'\n",
      "Oct-31 02:30:25.005 [main] DEBUG nextflow.plugin.BasePlugin - Plugin stopped nf-google\n",
      "Oct-31 02:30:25.020 [main] DEBUG nextflow.script.ScriptRunner - > Execution complete -- Goodbye\n"
     ]
    }
   ],
   "source": [
    "!cat .nextflow.log "
   ]
  },
  {
   "cell_type": "code",
   "execution_count": 179,
   "metadata": {
    "tags": []
   },
   "outputs": [],
   "source": [
    "# !ls /Users/eilaarich-landkof-stanford/Documents/Code/git_igvf/seqspec/specs/dogmaseq-dig/fastqs"
   ]
  },
  {
   "cell_type": "code",
   "execution_count": null,
   "metadata": {},
   "outputs": [],
   "source": [
    "# !nextflow run /Users/eilaarich-landkof-stanford/Documents/Code/git_igvf/cellatlas-scrna-seq-pipeline/nextflow/nf_processes/nf_prcs_print.nf"
   ]
  },
  {
   "cell_type": "code",
   "execution_count": null,
   "metadata": {},
   "outputs": [],
   "source": [
    "# !ls /Users/eilaarich-landkof-stanford/Documents/Code/git_igvf/cellatlas-scrna-seq-pipeline/nextflow/nf_processes/nf_prcs_print.nf"
   ]
  },
  {
   "cell_type": "code",
   "execution_count": null,
   "metadata": {},
   "outputs": [],
   "source": [
    "# !cat .command.out"
   ]
  },
  {
   "cell_type": "code",
   "execution_count": null,
   "metadata": {},
   "outputs": [],
   "source": [
    "# !nextflow run nf_wf_fg_singlecell.nf -c nextflow.config -with-docker eilalan/env_synapse:latest"
   ]
  },
  {
   "cell_type": "code",
   "execution_count": null,
   "metadata": {},
   "outputs": [],
   "source": [
    "// nextflow.config\n",
    "workDir = \"gs://nf-tower-public/scratch\"\n",
    "\n",
    "google {\n",
    "    project = [GCP PROJECT]\n",
    "    region = \"us-central1\"\n",
    "    batch {\n",
    "        bootDiskSize = 50.GB\n",
    "        serviceAccountEmail = [SERVICE ACCOUNT]\n",
    "        spot = true\n",
    "    }\n",
    "}\n",
    "\n",
    "process {\n",
    "    errorStrategy = \"retry\"\n",
    "    maxRetries = 2\n",
    "    executor  = \"google-batch\"\n",
    "    container = \"quay.io/biocontainers/fastp:0.23.2--h5f740d0_3\"\n",
    "    disk      = \"50.GB\"\n",
    "}\n"
   ]
  },
  {
   "cell_type": "code",
   "execution_count": null,
   "metadata": {},
   "outputs": [],
   "source": [
    "fusion.enabled = true\n",
    "wave.enabled = true\n",
    "process.scratch = false\n",
    "tower.accessToken = '<YOUR ACCESS TOKEN>'"
   ]
  },
  {
   "cell_type": "code",
   "execution_count": 154,
   "metadata": {
    "tags": []
   },
   "outputs": [
    {
     "name": "stdout",
     "output_type": "stream",
     "text": [
      "openjdk version \"11.0.13\" 2021-10-19\n",
      "OpenJDK Runtime Environment JBR-11.0.13.7-1751.21-jcef (build 11.0.13+7-b1751.21)\n",
      "OpenJDK 64-Bit Server VM JBR-11.0.13.7-1751.21-jcef (build 11.0.13+7-b1751.21, mixed mode)\n"
     ]
    }
   ],
   "source": [
    "!java -version"
   ]
  },
  {
   "cell_type": "code",
   "execution_count": 170,
   "metadata": {
    "tags": []
   },
   "outputs": [
    {
     "name": "stdout",
     "output_type": "stream",
     "text": [
      "\u001b[1;31mERROR:\u001b[0m (gcloud.batch.jobs) Command name argument expected.\n",
      "\n",
      "\u001b[m\u001b[1mAvailable commands for gcloud batch jobs:\u001b[m\n",
      "\n",
      "      delete                  Delete a job.\n",
      "      describe                Show details of a job.\n",
      "      list                    List jobs for a specified Batch project/location.\n",
      "      submit                  Submit a Batch job.\n",
      "\n",
      "\u001b[mFor detailed information on this command and its flags, run:\n",
      "  gcloud batch jobs --help\n"
     ]
    }
   ],
   "source": [
    "!gcloud batch jobs"
   ]
  },
  {
   "cell_type": "code",
   "execution_count": null,
   "metadata": {},
   "outputs": [],
   "source": []
  }
 ],
 "metadata": {
  "kernelspec": {
   "display_name": "Python 3 (ipykernel)",
   "language": "python",
   "name": "python3"
  },
  "language_info": {
   "codemirror_mode": {
    "name": "ipython",
    "version": 3
   },
   "file_extension": ".py",
   "mimetype": "text/x-python",
   "name": "python",
   "nbconvert_exporter": "python",
   "pygments_lexer": "ipython3",
   "version": "3.7.16"
  }
 },
 "nbformat": 4,
 "nbformat_minor": 4
}
