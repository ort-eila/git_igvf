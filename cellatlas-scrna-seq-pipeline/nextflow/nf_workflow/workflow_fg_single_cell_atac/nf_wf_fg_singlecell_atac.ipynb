{
 "cells": [
  {
   "cell_type": "code",
   "execution_count": 1,
   "metadata": {
    "tags": []
   },
   "outputs": [],
   "source": [
    "# start docker deamon in terminal\n",
    "# !sudo docker login\n",
    "# OR - becuase the jupyther with allow root\n",
    "# !docker login"
   ]
  },
  {
   "cell_type": "markdown",
   "metadata": {},
   "source": [
    "TODO:\n",
    "\n",
    "when running with cloud. \n",
    "if you dont need to keep the execution logs, change the cloud settings to keep it for a short while\n",
    "Check that the cache if you need to set the cache to false (especially in plot process)"
   ]
  },
  {
   "cell_type": "code",
   "execution_count": 2,
   "metadata": {
    "tags": []
   },
   "outputs": [
    {
     "name": "stdout",
     "output_type": "stream",
     "text": [
      "/home/eila/git_igvf/cellatlas-scrna-seq-pipeline/nextflow/nf_workflow/workflow_fg_single_cell_atac\n"
     ]
    }
   ],
   "source": [
    "!pwd"
   ]
  },
  {
   "cell_type": "code",
   "execution_count": 3,
   "metadata": {
    "tags": []
   },
   "outputs": [],
   "source": [
    "# # in the command line. same env\n",
    "# export GOOGLE_APPLICATION_CREDENTIALS=\"/home/eila/git_igvf/cellatlas-scrna-seq-pipeline/nextflow/hai-gcp-genomic-beb9207a40b8.json.json\"\n",
    "# gcloud auth activate-service-account eila-batch@hai-gcp-genomic.iam.gserviceaccount.com --key-file=$GOOGLE_APPLICATION_CREDENTIALS"
   ]
  },
  {
   "cell_type": "code",
   "execution_count": 4,
   "metadata": {
    "tags": []
   },
   "outputs": [
    {
     "name": "stdout",
     "output_type": "stream",
     "text": [
      "                  Credentialed Accounts\n",
      "ACTIVE  ACCOUNT\n",
      "        886987709752-compute@developer.gserviceaccount.com\n",
      "*       eila-batch@hai-gcp-genomic.iam.gserviceaccount.com\n",
      "\n",
      "To set the active account, run:\n",
      "    $ gcloud config set account `ACCOUNT`\n",
      "\n"
     ]
    }
   ],
   "source": [
    "!gcloud auth list\n",
    "# gcloud config set account\n"
   ]
  },
  {
   "cell_type": "code",
   "execution_count": 5,
   "metadata": {},
   "outputs": [],
   "source": [
    "import os\n",
    "# os.environ[\"TOWER_ACCESS_TOKEN\"] = 'XXX'\n",
    "os.environ[\"TOWER_ACCESS_TOKEN\"] = 'eyJ0aWQiOiA4Mjk3fS5jNDNmYzA4NTg2MjAxNDQzOTAwYmUzNWEzZTY0MGMyZTc0OWE3M2Mz'\n",
    "os.environ[\"run_seqspec_modify_atac\"] = 'eyJ0aWQiOiA4Mjk3fS5jNDNmYzA4NTg2MjAxNDQzOTAwYmUzNWEzZTY0MGMyZTc0OWE3M2Mz'\n",
    "os.environ[\"TOWER_WORKSPACE_ID\"]='247507587970818'\n"
   ]
  },
  {
   "cell_type": "code",
   "execution_count": 6,
   "metadata": {
    "tags": []
   },
   "outputs": [
    {
     "name": "stdout",
     "output_type": "stream",
     "text": [
      "eyJ0aWQiOiA4Mjk3fS5jNDNmYzA4NTg2MjAxNDQzOTAwYmUzNWEzZTY0MGMyZTc0OWE3M2Mz\n",
      "247507587970818\n"
     ]
    }
   ],
   "source": [
    "!echo $TOWER_ACCESS_TOKEN\n",
    "!echo $TOWER_WORKSPACE_ID"
   ]
  },
  {
   "cell_type": "code",
   "execution_count": 7,
   "metadata": {
    "tags": []
   },
   "outputs": [
    {
     "name": "stdout",
     "output_type": "stream",
     "text": [
      "/home/eila/git_igvf/cellatlas-scrna-seq-pipeline/nextflow/nf_workflow/workflow_fg_single_cell_atac\n"
     ]
    }
   ],
   "source": [
    "!pwd"
   ]
  },
  {
   "cell_type": "code",
   "execution_count": 8,
   "metadata": {
    "tags": []
   },
   "outputs": [
    {
     "name": "stdout",
     "output_type": "stream",
     "text": [
      "/home/eila/git_igvf/cellatlas-scrna-seq-pipeline/nextflow/nf_workflow/workflow_fg_single_cell_atac/bin/atac_barcode_and_subpool.sh\n"
     ]
    }
   ],
   "source": [
    "!ls /home/eila/git_igvf/cellatlas-scrna-seq-pipeline/nextflow/nf_workflow/workflow_fg_single_cell_atac/bin/atac_barcode_and_subpool.sh"
   ]
  },
  {
   "cell_type": "code",
   "execution_count": 9,
   "metadata": {
    "tags": []
   },
   "outputs": [
    {
     "name": "stdout",
     "output_type": "stream",
     "text": [
      "atac_barcode_and_subpool.sh\t\t plot_insert_size_hist-Copy1.py\n",
      "barcode_rank_functions.R\t\t plot_insert_size_hist.py\n",
      "compute_tss_script.py\t\t\t run_tabix.sh\n",
      "create_sample_filtered_fragment_file.sh  scrna_plot_atac_qc_metrics-Copy1.R\n",
      "generate_barcode_metadata.sh\t\t scrna_plot_atac_qc_metrics.R\n"
     ]
    }
   ],
   "source": [
    "!ls /home/eila/git_igvf/cellatlas-scrna-seq-pipeline/nextflow/nf_workflow/workflow_fg_single_cell_atac/bin/"
   ]
  },
  {
   "cell_type": "code",
   "execution_count": 10,
   "metadata": {
    "tags": []
   },
   "outputs": [],
   "source": [
    "!chmod +x /home/eila/git_igvf/cellatlas-scrna-seq-pipeline/nextflow/nf_workflow/workflow_fg_single_cell_atac/bin/atac_barcode_and_subpool.sh\n",
    "!chmod +x /home/eila/git_igvf/cellatlas-scrna-seq-pipeline/nextflow/nf_workflow/workflow_fg_single_cell_atac/bin/run_tabix.sh\n",
    "!chmod +x /home/eila/git_igvf/cellatlas-scrna-seq-pipeline/nextflow/nf_workflow/workflow_fg_single_cell_atac/bin/create_sample_filtered_fragment_file.sh\n",
    "!chmod +x /home/eila/git_igvf/cellatlas-scrna-seq-pipeline/nextflow/nf_workflow/workflow_fg_single_cell_atac/bin/compute_tss_script.py\n",
    "!chmod +x /home/eila/git_igvf/cellatlas-scrna-seq-pipeline/nextflow/nf_workflow/workflow_fg_single_cell_atac/bin/barcode_rank_functions.R\n",
    "!chmod +x /home/eila/git_igvf/cellatlas-scrna-seq-pipeline/nextflow/nf_workflow/workflow_fg_single_cell_atac/bin/scrna_plot_atac_qc_metrics.R\n",
    "!chmod +x /home/eila/git_igvf/cellatlas-scrna-seq-pipeline/nextflow/nf_workflow/workflow_fg_single_cell_atac/bin/generate_barcode_metadata.sh\n",
    "!chmod +x /home/eila/git_igvf/cellatlas-scrna-seq-pipeline/nextflow/nf_workflow/workflow_fg_single_cell_atac/bin/plot_insert_size_hist.py\n",
    "\n",
    "\n",
    "\n",
    "\n",
    "\n"
   ]
  },
  {
   "cell_type": "code",
   "execution_count": 11,
   "metadata": {
    "tags": []
   },
   "outputs": [
    {
     "name": "stdout",
     "output_type": "stream",
     "text": [
      "/home/eila/git_igvf/cellatlas-scrna-seq-pipeline/nextflow/nf_workflow/workflow_fg_single_cell_atac/bin/plot_insert_size_hist.py\n"
     ]
    }
   ],
   "source": [
    "!ls /home/eila/git_igvf/cellatlas-scrna-seq-pipeline/nextflow/nf_workflow/workflow_fg_single_cell_atac/bin/plot_insert_size_hist.py\n"
   ]
  },
  {
   "cell_type": "code",
   "execution_count": 12,
   "metadata": {
    "tags": []
   },
   "outputs": [],
   "source": [
    "# in the command line. based on:\n",
    "# https://nextflow.io/blog/2023/nextflow-with-gbatch.html\n",
    "# gcloud services enable batch.googleapis.com compute.googleapis.com logging.googleapis.com\n",
    "# gcloud iam service-accounts create eila-batch\n",
    "# gcloud iam service-accounts list \n",
    "\n",
    "\n",
    "\n",
    "\n",
    "# gcloud projects add-iam-policy-binding terra-addd4c49 \\\n",
    "# --member=\"serviceAccount:pet-26869426946125b815f6b@terra-addd4c49.iam.gserviceaccount.com\" \\\n",
    "# --role=\"roles/iam.serviceAccountUser\"\n",
    "\n",
    "# $ gcloud projects add-iam-policy-binding terra-addd4c49 \\\n",
    "# --member=\"serviceAccount:pet-26869426946125b815f6b@terra-addd4c49.iam.gserviceaccount.com\" \\\n",
    "# --role=\"roles/batch.jobsEditor\"\n",
    "\n",
    "# $ gcloud projects add-iam-policy-binding terra-addd4c49 \\\n",
    "# --member=\"serviceAccount:pet-26869426946125b815f6b@terra-addd4c49.iam.gserviceaccount.com\" \\\n",
    "# --role=\"roles/logging.viewer\"\n",
    "\n",
    "# $ gcloud projects add-iam-policy-binding terra-addd4c49 \\\n",
    "# --member=\"serviceAccount:pet-26869426946125b815f6b@terra-addd4c49.iam.gserviceaccount.com\" \\\n",
    "# --role=\"roles/storage.admin\"\n"
   ]
  },
  {
   "cell_type": "code",
   "execution_count": 13,
   "metadata": {
    "tags": []
   },
   "outputs": [],
   "source": [
    "\n",
    "# !gcloud projects add-iam-policy-binding hai-gcp-genomic \\\n",
    "# --member=\"serviceAccount:eila-batch@hai-gcp-genomic.iam.gserviceaccount.com\" \\\n",
    "# --role=\"roles/iam.serviceAccountUser\"\n",
    "\n",
    "# !gcloud projects add-iam-policy-binding hai-gcp-genomic \\\n",
    "# --member=\"serviceAccount:eila-batch@hai-gcp-genomic.iam.gserviceaccount.com\" \\\n",
    "# --role=\"roles/batch.jobsEditor\"\n",
    "\n",
    "# !gcloud projects add-iam-policy-binding hai-gcp-genomic \\\n",
    "# --member=\"serviceAccount:eila-batch@hai-gcp-genomic.iam.gserviceaccount.com\" \\\n",
    "# --role=\"roles/logging.viewer\"\n",
    "\n",
    "# !gcloud projects add-iam-policy-binding hai-gcp-genomic \\\n",
    "# --member=\"serviceAccount:eila-batch@hai-gcp-genomic.iam.gserviceaccount.com\" \\"
   ]
  },
  {
   "cell_type": "code",
   "execution_count": 14,
   "metadata": {},
   "outputs": [],
   "source": [
    "# !nextflow -self-update"
   ]
  },
  {
   "cell_type": "code",
   "execution_count": 15,
   "metadata": {
    "tags": []
   },
   "outputs": [
    {
     "name": "stdout",
     "output_type": "stream",
     "text": [
      "  Version: 23.10.0 build 5889\n",
      "  Created: 15-10-2023 15:07 UTC \n",
      "  System: Linux 5.10.0-26-cloud-amd64\n",
      "  Runtime: Groovy 3.0.19 on OpenJDK 64-Bit Server VM 11.0.13+7-b1751.21\n",
      "  Encoding: UTF-8 (UTF-8)\n",
      "\n"
     ]
    }
   ],
   "source": [
    "!nextflow info"
   ]
  },
  {
   "cell_type": "code",
   "execution_count": 16,
   "metadata": {
    "tags": []
   },
   "outputs": [
    {
     "name": "stdout",
     "output_type": "stream",
     "text": [
      "docker\t\t\t\t   nf_data     nf_processes\n",
      "hai-gcp-genomic-beb9207a40b8.json  nf_modules  nf_workflow\n"
     ]
    }
   ],
   "source": [
    "!ls /home/eila/git_igvf/cellatlas-scrna-seq-pipeline/nextflow/"
   ]
  },
  {
   "cell_type": "code",
   "execution_count": 17,
   "metadata": {
    "tags": []
   },
   "outputs": [
    {
     "name": "stdout",
     "output_type": "stream",
     "text": [
      "/home/eila/git_igvf/cellatlas-scrna-seq-pipeline/nextflow/nf_data/nf_wf_fg_singlecell/specs/dogmaseq-dig/RNA-737K-arc-v1.txt\n"
     ]
    }
   ],
   "source": [
    "!ls /home/eila/git_igvf/cellatlas-scrna-seq-pipeline/nextflow/nf_data/nf_wf_fg_singlecell/specs/dogmaseq-dig/RNA-737K-arc-v1.txt"
   ]
  },
  {
   "cell_type": "code",
   "execution_count": 18,
   "metadata": {
    "tags": []
   },
   "outputs": [
    {
     "data": {
      "text/plain": [
       "'/home/eila/git_igvf/cellatlas-scrna-seq-pipeline/nextflow/nf_workflow/workflow_fg_single_cell_atac'"
      ]
     },
     "execution_count": 18,
     "metadata": {},
     "output_type": "execute_result"
    }
   ],
   "source": [
    "import os\n",
    "os.getcwd()"
   ]
  },
  {
   "cell_type": "code",
   "execution_count": 19,
   "metadata": {
    "tags": []
   },
   "outputs": [
    {
     "name": "stdout",
     "output_type": "stream",
     "text": [
      "Overwriting nextflow_local.config\n"
     ]
    }
   ],
   "source": [
    "%%writefile nextflow_local.config\n",
    "\n",
    "includeConfig 'conf/conda.config'\n",
    "\n",
    "\n",
    "manifest {\n",
    "  description = 'A nexflow pipeline for fg single cell atac' \n",
    "  mainScript = 'nf_wf_fg_singlecell_atac.nf'\n",
    "}\n",
    "profiles {\n",
    "  conda_profile {\n",
    "    includeConfig 'conf/conda.config'\n",
    "    conda.enabled = true\n",
    "    executor = 'local'\n",
    "    }\n",
    "\n",
    "  conda_docker_profile {\n",
    "    includeConfig 'conf/conda_docker.config'\n",
    "    executor = 'local'\n",
    "    }\n",
    "\n",
    "  docker_profile {\n",
    "    includeConfig 'conf/docker.config'\n",
    "    docker.enabled = true\n",
    "    docker.envWhitelist=['ENV_SYNAPSE_TOKEN']\n",
    "    executor = 'local'\n",
    "  }\n",
    "  google_batch_profile {\n",
    "    workDir = 'gs://eila-nextflow-bucket/work/ATAC'\n",
    "    includeConfig 'conf/docker-google-batch.config'\n",
    "    docker.enabled = true\n",
    "    docker.envWhitelist=['ENV_SYNAPSE_TOKEN']\n",
    "    executor = 'google-batch'\n",
    "    google.project = 'hai-gcp-genomic'\n",
    "    google.location = 'us-central1'\n",
    "    google.batch.spot = false\n",
    "    google.batch.serviceAccountEmail='pet-26869426946125b815f6b@terra-addd4c49.iam.gserviceaccount.com'\n",
    "  }\n",
    "    \n",
    "}\n",
    "params.FASTQS_SPEC_CH = '/Users/eilaarich-landkof-stanford/Documents/Code/git_igvf/cellatlas-scrna-seq-pipeline/nextflow/nf_data/nf_wf_fg_singlecell/atac_fastqs_files_local.csv'\n",
    "params.CHROMAP_IDX='/Users/eilaarich-landkof-stanford/Documents/Code/git_igvf/cellatlas-scrna-seq-pipeline/nextflow/nf_data/nf_wf_fg_singlecell/specs/dogmaseq-dig/Homo_sapiens.GRCh38.dna.primary_assembly.chromap.ref.index'\n",
    "\n",
    "params.GENOME_FASTA='http://ftp.ensembl.org/pub/release-109/fasta/homo_sapiens/dna/Homo_sapiens.GRCh38.dna.primary_assembly.fa.gz'\n",
    "params.GENOME_GZ_GTF='http://ftp.ensembl.org/pub/release-109/gtf/homo_sapiens/Homo_sapiens.GRCh38.109.gtf.gz'\n",
    "\n",
    "params.CHROMAP_TRIM_ADAPTERS = false"
   ]
  },
  {
   "cell_type": "code",
   "execution_count": 20,
   "metadata": {
    "tags": []
   },
   "outputs": [],
   "source": [
    "# %%writefile nextflow_vm.config\n",
    "\n",
    "# includeConfig 'conf/conda.config'\n",
    "\n",
    "\n",
    "# manifest {\n",
    "#   description = 'A nexflow pipeline for fg single cell atac' \n",
    "#   mainScript = 'nf_wf_fg_singlecell_atac.nf'\n",
    "# }\n",
    "\n",
    "# profiles {\n",
    "#   conda_profile {\n",
    "#     includeConfig 'conf/conda.config'\n",
    "#     conda.enabled = true\n",
    "#     executor = 'local'\n",
    "#     }\n",
    "\n",
    "#   conda_docker_profile {\n",
    "#     includeConfig 'conf/conda_docker.config'\n",
    "#     executor = 'local'\n",
    "#     }\n",
    "\n",
    "#   docker_profile {\n",
    "#     includeConfig 'conf/docker.config'\n",
    "#     docker.enabled = true\n",
    "#     docker.envWhitelist=['ENV_SYNAPSE_TOKEN']\n",
    "#     executor = 'local'\n",
    "#   }\n",
    "#   google_batch_profile {\n",
    "#     workDir = 'gs://eila-nextflow-bucket/work/ATAC'\n",
    "#     wave.enabled = true\n",
    "#     fusion.enabled = true\n",
    "#     includeConfig 'conf/docker-google-batch.config'\n",
    "#     docker.enabled = true\n",
    "#     docker.envWhitelist=['ENV_SYNAPSE_TOKEN']\n",
    "#     executor = 'google-batch'\n",
    "#     google.project = 'hai-gcp-genomic'\n",
    "#     google.location = 'us-central1'\n",
    "#     google.batch.spot = false\n",
    "#     google.batch.serviceAccountEmail='eila-batch@hai-gcp-genomic.iam.gserviceaccount.com'\n",
    "#   }\n",
    "    \n",
    "# }\n",
    "\n",
    "# params.FASTQS_SPEC_CH = '/home/eila/git_igvf/cellatlas-scrna-seq-pipeline/nextflow/nf_data/nf_wf_fg_singlecell/atac_fastqs_files_vm.csv'\n",
    "# params.CHROMAP_IDX='/home/eila/git_igvf/cellatlas-scrna-seq-pipeline/nextflow/nf_data/nf_wf_fg_singlecell/specs/dogmaseq-dig/Homo_sapiens.GRCh38.dna.primary_assembly.chromap.ref.index'\n",
    "\n",
    "# params.GENOME_FASTA='http://ftp.ensembl.org/pub/release-109/fasta/homo_sapiens/dna/Homo_sapiens.GRCh38.dna.primary_assembly.fa.gz'\n",
    "# params.GENOME_GZ_GTF='http://ftp.ensembl.org/pub/release-109/gtf/homo_sapiens/Homo_sapiens.GRCh38.109.gtf.gz'\n"
   ]
  },
  {
   "cell_type": "code",
   "execution_count": 21,
   "metadata": {
    "tags": []
   },
   "outputs": [
    {
     "name": "stdout",
     "output_type": "stream",
     "text": [
      "Overwriting nextflow_vm.config\n"
     ]
    }
   ],
   "source": [
    "%%writefile nextflow_vm.config\n",
    "\n",
    "includeConfig 'conf/conda.config'\n",
    "\n",
    "manifest {\n",
    "  description = 'A nexflow pipeline for fg single cell atac' \n",
    "  mainScript = 'nf_wf_fg_singlecell_atac.nf'\n",
    "}\n",
    "\n",
    "profiles {\n",
    "  conda_profile {\n",
    "    includeConfig 'conf/conda.config'\n",
    "    conda.enabled = true\n",
    "    executor = 'local'\n",
    "    }\n",
    "\n",
    "  docker_local {\n",
    "    includeConfig 'conf/docker.config'\n",
    "    docker.enabled = true\n",
    "    docker.envWhitelist=['ENV_SYNAPSE_TOKEN','TOWER_ACCESS_TOKEN']\n",
    "    executor = 'local'\n",
    "  }\n",
    "  google_batch_profile {\n",
    "    workDir = 'gs://eila-nextflow-bucket/work/ATAC'\n",
    "    includeConfig 'conf/docker-google-batch.config'\n",
    "    docker.enabled = true\n",
    "    wave.enabled = true\n",
    "    fusion.enabled = true\n",
    "    process.scratch = false\n",
    "    executor = 'google-batch'\n",
    "    docker.envWhitelist=['ENV_SYNAPSE_TOKEN','TOWER_ACCESS_TOKEN']\n",
    "    google.project = 'hai-gcp-genomic'\n",
    "    google.location = 'us-central1'\n",
    "    google.batch.spot = true\n",
    "    google.batch.serviceAccountEmail='eila-batch@hai-gcp-genomic.iam.gserviceaccount.com'\n",
    "  }\n",
    "    \n",
    "}\n",
    "\n",
    "// Define ENV_SYNAPSE_TOKEN as a parameter\n",
    "\n",
    "params.FASTQS_SPEC_CH = '/home/eila/git_igvf/cellatlas-scrna-seq-pipeline/nextflow/nf_data/nf_wf_fg_singlecell/atac_fastqs_files_vm.csv'\n",
    "params.CHROMAP_IDX='/home/eila/git_igvf/cellatlas-scrna-seq-pipeline/nextflow/nf_data/nf_wf_fg_singlecell/specs/dogmaseq-dig/Homo_sapiens.GRCh38.dna.primary_assembly.chromap.ref.index'\n",
    "\n",
    "params.GENOME_FASTA='http://ftp.ensembl.org/pub/release-109/fasta/homo_sapiens/dna/Homo_sapiens.GRCh38.dna.primary_assembly.fa.gz'\n",
    "params.GENOME_GZ_GTF='http://ftp.ensembl.org/pub/release-109/gtf/homo_sapiens/Homo_sapiens.GRCh38.109.gtf.gz'\n",
    "params.ENV_SYNAPSE_TOKEN = \"nextflow secrets get SYNAPSE\".execute().text.trim()\n",
    "\n",
    "params.CHROMAP_TRIM_ADAPTERS = false\n",
    "params.CHROMAP_REMOVE_PCR_DUPLICATES = false\n",
    "params.CHROMAP_REMOVE_PCR_DUPLICATES_AT_CELL_LEVEL = false\n",
    "params.CHROMAP_TN5_SHIFT = false\n",
    "params.CHROMAP_LOW_MEM = false\n",
    "params.CHROMAP_BED = false\n",
    "params.CHROMAP_MAX_INSERT_SIZE = 20\n",
    "params.CHROMAP_BC_ERROR_THRESHOLD = 20\n",
    "params.CHROMAP_BC_PROBABILITY_THRESHOLD = 0.20\n",
    "params.READ_FORMAT = 'r1:0:-1,bc:0:-1'\n",
    "params.DROP_REPETITIVE_THRESHOLD = false\n",
    "params.MAPQ_THRESHOLD = false\n",
    "params.BARCODE_TRANSLATE = 'path'\n",
    "//barcode_conversion_dict_file\n",
    "params.BARCODE_CONVERSION_DICT_FILE = '/home/eila/git_igvf/cellatlas-scrna-seq-pipeline/nextflow/nf_data/nf_wf_fg_singlecell/na.na'\n",
    "params.SUBPOOL='  '\n",
    "params.ATAC_BARCODE_AND_POOL='atac_barcode_and_subpool.sh'\n",
    "params.ATAC_FRAGMENTS_CUTOFF = 4\n",
    "params.RUN_TABIX_SCRIPT='run_tabix.sh'\n",
    "params.ATAC_TSS_BASES_FLANK = 2000\n",
    "params.ATAC_TSS_COL_WITH_STRANDS_INFO = 4\n",
    "params.ATAC_TSS_SMOOTHING_WINDOW_SIZE = 20\n",
    "params.ATAC_TSS_REGION_BED_FILE='/home/eila/git_igvf/cellatlas-scrna-seq-pipeline/nextflow/nf_data/nf_wf_fg_singlecell/tss_regions.bed'\n",
    "params.ATAC_TSS_CALCULATION_SCRIPT='compute_tss_script.py'\n",
    "\n",
    "\n",
    "params.SC_ATAC_QC_PLOT_SCRIPT='scrna_plot_atac_qc_metrics.R'\n",
    "params.SC_ATAC_QC_PLOT_HELPER_SCRIPT='barcode_rank_functions.R'\n",
    "params.SC_ATAC_QC_BARCODE_METADATA_FILE='/home/eila/git_igvf/cellatlas-scrna-seq-pipeline/nextflow/nf_data/nf_wf_fg_singlecell/barcode_metadata.txt'\n",
    "params.SC_ATAC_QC_FRAGMENT_CUTOFF=4\n",
    "params.SC_ATAC_QC_BARCODE_OUTPUT_FILE='sc_atac_qc_barcode_output_file.png'\n",
    "    \n",
    "params.SC_ATAC_BARCODE_METADATA_SCRIPT='generate_barcode_metadata.sh'\n",
    "params.SC_ATAC_BARCODE_METADATA_FILTERED_BARCODE_STATS='/home/eila/git_igvf/cellatlas-scrna-seq-pipeline/nextflow/nf_data/nf_wf_fg_singlecell/filtered_barcode_stats.csv'\n",
    "params.SC_ATAC_BARCODE_METADATA_TSS_ENRICHMENT_BARCODE_STATS='/home/eila/git_igvf/cellatlas-scrna-seq-pipeline/nextflow/nf_data/nf_wf_fg_singlecell/tss_enrichment_barcode_stats.csv'\n",
    "\n",
    "params.SC_ATAC_GENERATE_BARCODE_RANK_PLOT_SCRIPT='plot_insert_size_hist.py'\n",
    "params.SC_ATAC_GENERATE_BARCODE_RANK_PLOT_PKR='PKR123'\n"
   ]
  },
  {
   "cell_type": "code",
   "execution_count": 22,
   "metadata": {
    "tags": []
   },
   "outputs": [
    {
     "name": "stdout",
     "output_type": "stream",
     "text": [
      "/home/eila/git_igvf/cellatlas-scrna-seq-pipeline/nextflow/nf_data/nf_wf_fg_singlecell/tss_enrichment_barcode_stats.csv\n"
     ]
    }
   ],
   "source": [
    "!ls /home/eila/git_igvf/cellatlas-scrna-seq-pipeline/nextflow/nf_data/nf_wf_fg_singlecell/tss_enrichment_barcode_stats.csv\n",
    "\n",
    "\n"
   ]
  },
  {
   "cell_type": "code",
   "execution_count": 23,
   "metadata": {
    "tags": []
   },
   "outputs": [],
   "source": [
    "# // Try to trim adapters on 3 prime\n",
    "# params.CHROMAP_TRIM_ADAPTERS = false\n",
    "# // Remove PCR duplicates\n",
    "# params.CHROMAP_REMOVE_PCR_DUPLICATES = false\n",
    "# // Remove PCR duplicates at cell level for single cell data\n",
    "# params.CHROMAP_REMOVE_PCR_DUPLICATES_AT_CELL_LEVEL = false\n",
    "# // Perform Tn5 shift\n",
    "# params.CHROMAP_TN5_SHIFT = false\n",
    "# // Use low memory mode\n",
    "# params.CHROMAP_LOW_MEM = false\n",
    "# // Output mappings in BED/BEDPE format\n",
    "# params.CHROMAP_BED = false\n",
    "# //INT     Max insert size, only for paired-end read mapping [1000]\n",
    "# params.CHROMAP_MAX_INSERT_SIZE = 20\n",
    "# // INT  Max Hamming distance allowed to correct a barcode [1]\n",
    "# params.CHROMAP_BC_ERROR_THRESHOLD = 20\n",
    "# // FLT Min probability to correct a barcode [0.9]\n",
    "# params.CHROMAP_BC_PROBABILITY_THRESHOLD = 0.20\n",
    "# // STR Format for read files and barcode files [r1:0:-1,bc:0:-1 as 10x Genomics single-end format]\n",
    "# params.READ_FORMAT = 'r1:0:-1,bc:0:-1'\n",
    "# params.DROP_REPETITIVE_THRESHOLD = false\n",
    "# // INT  Min MAPQ in range [0, 60] for mappings to be output [30]\n",
    "# params.MAPQ_THRESHOLD = false\n",
    "# //FILE  Convert barcode to the specified sequences during output\n",
    "# params.BARCODE_TRANSLATE = 'path'\n",
    "\n"
   ]
  },
  {
   "cell_type": "code",
   "execution_count": 24,
   "metadata": {
    "tags": []
   },
   "outputs": [],
   "source": [
    "# %%writefile nextflow_vm_anvil.config\n",
    "\n",
    "# includeConfig 'conf/conda.config'\n",
    "\n",
    "\n",
    "# manifest {\n",
    "#   description = 'A nexflow pipeline for fg single cell atac' \n",
    "#   mainScript = 'nf_wf_fg_singlecell_atac.nf'\n",
    "# }\n",
    "\n",
    "# profiles {\n",
    "#   conda_profile {\n",
    "#     includeConfig 'conf/conda.config'\n",
    "#     conda.enabled = true\n",
    "#     executor = 'local'\n",
    "#     }\n",
    "\n",
    "#   conda_docker_profile {\n",
    "#     includeConfig 'conf/conda_docker.config'\n",
    "#     executor = 'local'\n",
    "#     }\n",
    "\n",
    "#   docker_profile {\n",
    "#     includeConfig 'conf/docker.config'\n",
    "#     docker.enabled = true\n",
    "#     docker.envWhitelist=['TOWER_ACCESS_TOKEN']\n",
    "#     executor = 'local'\n",
    "#   }\n",
    "#   google_batch_profile {\n",
    "#     workDir = 'gs://fc-secure-87394b1b-e8d0-4802-9671-70bc3c8b7525/nextflow'\n",
    "#     includeConfig 'conf/docker-google-batch.config'\n",
    "#     docker.enabled = true\n",
    "#     docker.envWhitelist=['ENV_SYNAPSE_TOKEN']\n",
    "#     executor = 'google-batch'\n",
    "#     google.project = 'terra-addd4c49'\n",
    "#     location = 'us-central1'\n",
    "#     batch.spot = false\n",
    "#     batch.serviceAccountEmail='pet-26869426946125b815f6b@terra-addd4c49.iam.gserviceaccount.com'\n",
    "#   }\n",
    "# }\n",
    "\n",
    "# params.FASTQS_SPEC_CH = '/home/eila/git_igvf/cellatlas-scrna-seq-pipeline/nextflow/nf_data/nf_wf_fg_singlecell/atac_fastqs_files_vm.csv'\n",
    "# params.CHROMAP_IDX='/home/eila/git_igvf/cellatlas-scrna-seq-pipeline/nextflow/nf_data/nf_wf_fg_singlecell/specs/dogmaseq-dig/Homo_sapiens.GRCh38.dna.primary_assembly.chromap.ref.index'\n",
    "\n",
    "# params.GENOME_FASTA='http://ftp.ensembl.org/pub/release-109/fasta/homo_sapiens/dna/Homo_sapiens.GRCh38.dna.primary_assembly.fa.gz'\n",
    "# params.GENOME_GZ_GTF='http://ftp.ensembl.org/pub/release-109/gtf/homo_sapiens/Homo_sapiens.GRCh38.109.gtf.gz'\n",
    "\n"
   ]
  },
  {
   "cell_type": "code",
   "execution_count": 25,
   "metadata": {
    "tags": []
   },
   "outputs": [
    {
     "name": "stdout",
     "output_type": "stream",
     "text": [
      "/home/eila/git_igvf/cellatlas-scrna-seq-pipeline/nextflow/nf_workflow/workflow_fg_single_cell_atac\n"
     ]
    }
   ],
   "source": [
    "!pwd"
   ]
  },
  {
   "cell_type": "code",
   "execution_count": 26,
   "metadata": {
    "tags": []
   },
   "outputs": [],
   "source": [
    "# !rm -r /Users/eilaarich-landkof-stanford/Documents/Code/git_igvf/cellatlas-scrna-seq-pipeline/nextflow/nf_workflow/workflow_fg_single_cell_atac/work\n",
    "# !rm -r /home/eila/git_igvf/cellatlas-scrna-seq-pipeline/nextflow/nf_workflow/workflow_fg_single_cell_atac/work\n",
    "# !gsutil rm -r gs://eila-nextflow-bucket/work/ATAC"
   ]
  },
  {
   "cell_type": "code",
   "execution_count": 27,
   "metadata": {
    "tags": []
   },
   "outputs": [],
   "source": [
    "# !rm .nextflow*"
   ]
  },
  {
   "cell_type": "code",
   "execution_count": 28,
   "metadata": {
    "tags": []
   },
   "outputs": [],
   "source": [
    "# !ls nextflow.config"
   ]
  },
  {
   "cell_type": "code",
   "execution_count": null,
   "metadata": {
    "tags": []
   },
   "outputs": [
    {
     "name": "stdout",
     "output_type": "stream",
     "text": [
      "N E X T F L O W  ~  version 23.10.0\n",
      "Launching `nf_wf_fg_singlecell_atac.nf` [confident_euler] DSL2 - revision: ac8890cd00\n",
      "Dec 15, 2023 6:15:56 PM com.google.auth.oauth2.DefaultCredentialsProvider warnAboutProblematicCredentials\n",
      "WARNING: Your application has authenticated using end user credentials from Google Cloud SDK. We recommend that most server applications use service accounts instead. If your application continues to use end user credentials from Cloud SDK, you might receive a \"quota exceeded\" or \"API not enabled\" error. For more information about service accounts, see https://cloud.google.com/docs/authentication/.\n",
      "\u001b[33mWARN: `params.tss_bases_flank` is defined multiple times -- Assignments following the first are ignored\u001b[39m\u001b[K\n",
      "/home/eila/git_igvf/cellatlas-scrna-seq-pipeline/nextflow/nf_data/nf_wf_fg_singlecell/atac_fastqs_files_vm.csv\n",
      "null\n",
      "[-        ] process > run_seqspec_modify_atac -\u001b[K\n",
      "[-        ] process > run_seqspec_print       -\u001b[K\n",
      "[-        ] process > run_chromap_test        -\u001b[K\n",
      "after run_seqspec_modify_atac\u001b[K\n",
      "after run_seqspec_print\u001b[K\n",
      "after run_chromap_test\u001b[K\n",
      "after genome_fasta_ch\u001b[K\n",
      "after genome_gtf_ch\u001b[K\n",
      "\u001b[9A\n",
      "[-        ] process > run_seqspec_modify_atac        -\u001b[K\n",
      "[-        ] process > run_seqspec_print              -\u001b[K\n",
      "[-        ] process > run_chromap_test               -\u001b[K\n",
      "[-        ] process > run_chromap_map_to_idx         -\u001b[K\n",
      "[-        ] process > run_bgzip                      -\u001b[K\n",
      "[-        ] process > run_tabix                      -\u001b[K\n",
      "[-        ] process > run_merge_logs                 -\u001b[K\n",
      "[-        ] process > run_filter_fragments           -\u001b[K\n",
      "[-        ] process > run_tabix_filtered_fragments   -\u001b[K\n",
      "[-        ] process > run_calculate_tss_enrichment   -\u001b[K\n",
      "[-        ] process > run_scrna_atac_plot_qc_metrics -\u001b[K\n",
      "[-        ] process > run_atac_barcode_metadata      -\u001b[K\n",
      "[-        ] process > run_atac_barcode_rank_plot     -\u001b[K\n",
      "after run_seqspec_modify_atac\u001b[K\n",
      "after run_seqspec_print\u001b[K\n",
      "after run_chromap_test\u001b[K\n",
      "after genome_fasta_ch\u001b[K\n",
      "after genome_gtf_ch\u001b[K\n",
      "after genome_chromap_idx download\u001b[K\n",
      "chromap parameters\u001b[K\n",
      "false\u001b[K\n",
      "false\u001b[K\n",
      "false\u001b[K\n",
      "false\u001b[K\n",
      "false\u001b[K\n",
      "false\u001b[K\n",
      "20\u001b[K\n",
      "20\u001b[K\n",
      "0.20\u001b[K\n",
      "r1:0:-1,bc:0:-1\u001b[K\n",
      "false\u001b[K\n",
      "false\u001b[K\n",
      "path\u001b[K\n",
      "finished run_chromap_map_to_idx\u001b[K\n",
      "before call bgzip\u001b[K\n",
      "DataflowBroadcast around DataflowStream[?]\u001b[K\n",
      "after call bgzip\u001b[K\n",
      "run_tabix.sh\u001b[K\n",
      "before call run_tabix_fragment_file\u001b[K\n",
      "after call run_tabix_fragment_file\u001b[K\n",
      "before call run_merge_logs\u001b[K\n",
      "after call run_merge_logs\u001b[K\n",
      "before call run_merge_logs\u001b[K\n",
      "before call run_filter_fragments\u001b[K\n",
      "after call run_filter_fragments\u001b[K\n",
      "before call run_tabix for the second time with filtered_fragment_file_out\u001b[K\n",
      "DataflowBroadcast around DataflowStream[?]\u001b[K\n",
      "before call run_calculate_tss_enrichment\u001b[K\n",
      "after regions_ch\u001b[K\n",
      "after call run_calculate_tss_enrichment\u001b[K\n",
      "before call run_scrna_atac_plot_qc_metrics\u001b[K\n",
      "after call run_scrna_atac_plot_qc_metrics\u001b[K\n",
      "before call run_generate_barcode_metadata\u001b[K\n",
      "before call run_generate_barcode_rank_plot\u001b[K\n",
      "\u001b[55A\n",
      "\u001b[32;1mMonitor the execution with Nextflow Tower using this URL: https://tower.nf/orgs/ort_eila_org/workspaces/ort_eila_wrkspc/watch/5OXcLxqGwlqZ5Q\u001b[22;39m\u001b[K\n",
      "[-        ] process > run_seqspec_modify_atac        -\u001b[K\n",
      "[-        ] process > run_seqspec_print              -\u001b[K\n",
      "[-        ] process > run_chromap_test               -\u001b[K\n",
      "[-        ] process > run_chromap_map_to_idx         -\u001b[K\n",
      "[-        ] process > run_bgzip                      -\u001b[K\n",
      "[-        ] process > run_tabix                      -\u001b[K\n",
      "[-        ] process > run_merge_logs                 -\u001b[K\n",
      "[-        ] process > run_filter_fragments           -\u001b[K\n",
      "[-        ] process > run_tabix_filtered_fragments   -\u001b[K\n",
      "[-        ] process > run_calculate_tss_enrichment   -\u001b[K\n",
      "[-        ] process > run_scrna_atac_plot_qc_metrics -\u001b[K\n",
      "[-        ] process > run_atac_barcode_metadata      -\u001b[K\n",
      "[-        ] process > run_atac_barcode_rank_plot     -\u001b[K\n",
      "after run_seqspec_modify_atac\u001b[K\n",
      "after run_seqspec_print\u001b[K\n",
      "after run_chromap_test\u001b[K\n",
      "after genome_fasta_ch\u001b[K\n",
      "after genome_gtf_ch\u001b[K\n",
      "after genome_chromap_idx download\u001b[K\n",
      "chromap parameters\u001b[K\n",
      "false\u001b[K\n",
      "false\u001b[K\n",
      "false\u001b[K\n",
      "false\u001b[K\n",
      "false\u001b[K\n",
      "false\u001b[K\n",
      "20\u001b[K\n",
      "20\u001b[K\n",
      "0.20\u001b[K\n",
      "r1:0:-1,bc:0:-1\u001b[K\n",
      "false\u001b[K\n",
      "false\u001b[K\n",
      "path\u001b[K\n",
      "finished run_chromap_map_to_idx\u001b[K\n",
      "before call bgzip\u001b[K\n",
      "DataflowBroadcast around DataflowStream[?]\u001b[K\n",
      "after call bgzip\u001b[K\n",
      "run_tabix.sh\u001b[K\n",
      "before call run_tabix_fragment_file\u001b[K\n",
      "after call run_tabix_fragment_file\u001b[K\n",
      "before call run_merge_logs\u001b[K\n",
      "after call run_merge_logs\u001b[K\n",
      "before call run_merge_logs\u001b[K\n",
      "before call run_filter_fragments\u001b[K\n",
      "after call run_filter_fragments\u001b[K\n",
      "before call run_tabix for the second time with filtered_fragment_file_out\u001b[K\n",
      "DataflowBroadcast around DataflowStream[?]\u001b[K\n",
      "before call run_calculate_tss_enrichment\u001b[K\n",
      "after regions_ch\u001b[K\n",
      "after call run_calculate_tss_enrichment\u001b[K\n",
      "before call run_scrna_atac_plot_qc_metrics\u001b[K\n",
      "after call run_scrna_atac_plot_qc_metrics\u001b[K\n",
      "before call run_generate_barcode_metadata\u001b[K\n",
      "before call run_generate_barcode_rank_plot\u001b[K\n",
      "\u001b[56A\n",
      "\u001b[32;1mMonitor the execution with Nextflow Tower using this URL: https://tower.nf/orgs/ort_eila_org/workspaces/ort_eila_wrkspc/watch/5OXcLxqGwlqZ5Q\u001b[22;39m\u001b[K\n",
      "[-        ] process > run_seqspec_modify_atac        -\u001b[K\n",
      "[-        ] process > run_seqspec_print              -\u001b[K\n",
      "[-        ] process > run_chromap_test               [  0%] 0 of 1\u001b[K\n",
      "[-        ] process > run_chromap_map_to_idx         -\u001b[K\n",
      "[-        ] process > run_bgzip                      -\u001b[K\n",
      "[-        ] process > run_tabix                      -\u001b[K\n",
      "[-        ] process > run_merge_logs                 -\u001b[K\n",
      "[-        ] process > run_filter_fragments           -\u001b[K\n",
      "[-        ] process > run_tabix_filtered_fragments   -\u001b[K\n",
      "[-        ] process > run_calculate_tss_enrichment   -\u001b[K\n",
      "[-        ] process > run_scrna_atac_plot_qc_metrics -\u001b[K\n",
      "[-        ] process > run_atac_barcode_metadata      -\u001b[K\n",
      "[-        ] process > run_atac_barcode_rank_plot     -\u001b[K\n",
      "after run_seqspec_modify_atac\u001b[K\n",
      "after run_seqspec_print\u001b[K\n",
      "after run_chromap_test\u001b[K\n",
      "after genome_fasta_ch\u001b[K\n",
      "after genome_gtf_ch\u001b[K\n",
      "after genome_chromap_idx download\u001b[K\n",
      "chromap parameters\u001b[K\n",
      "false\u001b[K\n",
      "false\u001b[K\n",
      "false\u001b[K\n",
      "false\u001b[K\n",
      "false\u001b[K\n",
      "false\u001b[K\n",
      "20\u001b[K\n",
      "20\u001b[K\n",
      "0.20\u001b[K\n",
      "r1:0:-1,bc:0:-1\u001b[K\n",
      "false\u001b[K\n",
      "false\u001b[K\n",
      "path\u001b[K\n",
      "finished run_chromap_map_to_idx\u001b[K\n",
      "before call bgzip\u001b[K\n",
      "DataflowBroadcast around DataflowStream[?]\u001b[K\n",
      "after call bgzip\u001b[K\n",
      "run_tabix.sh\u001b[K\n",
      "before call run_tabix_fragment_file\u001b[K\n",
      "after call run_tabix_fragment_file\u001b[K\n",
      "before call run_merge_logs\u001b[K\n",
      "after call run_merge_logs\u001b[K\n",
      "before call run_merge_logs\u001b[K\n",
      "before call run_filter_fragments\u001b[K\n",
      "after call run_filter_fragments\u001b[K\n",
      "before call run_tabix for the second time with filtered_fragment_file_out\u001b[K\n",
      "DataflowBroadcast around DataflowStream[?]\u001b[K\n",
      "before call run_calculate_tss_enrichment\u001b[K\n",
      "after regions_ch\u001b[K\n",
      "after call run_calculate_tss_enrichment\u001b[K\n",
      "before call run_scrna_atac_plot_qc_metrics\u001b[K\n",
      "after call run_scrna_atac_plot_qc_metrics\u001b[K\n",
      "before call run_generate_barcode_metadata\u001b[K\n",
      "before call run_generate_barcode_rank_plot\u001b[K\n",
      "\u001b[56A\n",
      "\u001b[32;1mMonitor the execution with Nextflow Tower using this URL: https://tower.nf/orgs/ort_eila_org/workspaces/ort_eila_wrkspc/watch/5OXcLxqGwlqZ5Q\u001b[22;39m\u001b[K\n",
      "[-        ] process > run_seqspec_modify_atac        -\u001b[K\n",
      "[-        ] process > run_seqspec_print              -\u001b[K\n",
      "[-        ] process > run_chromap_test               [  0%] 0 of 1\u001b[K\n",
      "[-        ] process > run_chromap_map_to_idx         -\u001b[K\n",
      "[-        ] process > run_bgzip                      -\u001b[K\n",
      "[-        ] process > run_tabix                      -\u001b[K\n",
      "[-        ] process > run_merge_logs                 -\u001b[K\n",
      "[-        ] process > run_filter_fragments           -\u001b[K\n",
      "[-        ] process > run_tabix_filtered_fragments   -\u001b[K\n",
      "[-        ] process > run_calculate_tss_enrichment   -\u001b[K\n",
      "[-        ] process > run_scrna_atac_plot_qc_metrics [  0%] 0 of 1\u001b[K\n",
      "[-        ] process > run_atac_barcode_metadata      -\u001b[K\n",
      "[-        ] process > run_atac_barcode_rank_plot     -\u001b[K\n",
      "after run_seqspec_modify_atac\u001b[K\n",
      "after run_seqspec_print\u001b[K\n",
      "after run_chromap_test\u001b[K\n",
      "after genome_fasta_ch\u001b[K\n",
      "after genome_gtf_ch\u001b[K\n",
      "after genome_chromap_idx download\u001b[K\n",
      "chromap parameters\u001b[K\n",
      "false\u001b[K\n",
      "false\u001b[K\n",
      "false\u001b[K\n",
      "false\u001b[K\n",
      "false\u001b[K\n",
      "false\u001b[K\n",
      "20\u001b[K\n",
      "20\u001b[K\n",
      "0.20\u001b[K\n",
      "r1:0:-1,bc:0:-1\u001b[K\n",
      "false\u001b[K\n",
      "false\u001b[K\n",
      "path\u001b[K\n",
      "finished run_chromap_map_to_idx\u001b[K\n",
      "before call bgzip\u001b[K\n",
      "DataflowBroadcast around DataflowStream[?]\u001b[K\n",
      "after call bgzip\u001b[K\n",
      "run_tabix.sh\u001b[K\n",
      "before call run_tabix_fragment_file\u001b[K\n",
      "after call run_tabix_fragment_file\u001b[K\n",
      "before call run_merge_logs\u001b[K\n",
      "after call run_merge_logs\u001b[K\n",
      "before call run_merge_logs\u001b[K\n",
      "before call run_filter_fragments\u001b[K\n",
      "after call run_filter_fragments\u001b[K\n",
      "before call run_tabix for the second time with filtered_fragment_file_out\u001b[K\n",
      "DataflowBroadcast around DataflowStream[?]\u001b[K\n",
      "before call run_calculate_tss_enrichment\u001b[K\n",
      "after regions_ch\u001b[K\n",
      "after call run_calculate_tss_enrichment\u001b[K\n",
      "before call run_scrna_atac_plot_qc_metrics\u001b[K\n",
      "after call run_scrna_atac_plot_qc_metrics\u001b[K\n",
      "before call run_generate_barcode_metadata\u001b[K\n",
      "before call run_generate_barcode_rank_plot\u001b[K\n",
      "\u001b[56A\n",
      "\u001b[32;1mMonitor the execution with Nextflow Tower using this URL: https://tower.nf/orgs/ort_eila_org/workspaces/ort_eila_wrkspc/watch/5OXcLxqGwlqZ5Q\u001b[22;39m\u001b[K\n",
      "[-        ] process > run_seqspec_modify_atac        -\u001b[K\n",
      "[-        ] process > run_seqspec_print              -\u001b[K\n",
      "[-        ] process > run_chromap_test               [  0%] 0 of 1\u001b[K\n",
      "[-        ] process > run_chromap_map_to_idx         -\u001b[K\n",
      "[-        ] process > run_bgzip                      -\u001b[K\n",
      "[-        ] process > run_tabix                      -\u001b[K\n",
      "[-        ] process > run_merge_logs                 -\u001b[K\n",
      "[-        ] process > run_filter_fragments           -\u001b[K\n",
      "[-        ] process > run_tabix_filtered_fragments   -\u001b[K\n",
      "[-        ] process > run_calculate_tss_enrichment   -\u001b[K\n",
      "[-        ] process > run_scrna_atac_plot_qc_metrics [  0%] 0 of 1\u001b[K\n",
      "[-        ] process > run_atac_barcode_metadata      [  0%] 0 of 1\u001b[K\n",
      "[-        ] process > run_atac_barcode_rank_plot     -\u001b[K\n",
      "after run_seqspec_modify_atac\u001b[K\n",
      "after run_seqspec_print\u001b[K\n",
      "after run_chromap_test\u001b[K\n",
      "after genome_fasta_ch\u001b[K\n",
      "after genome_gtf_ch\u001b[K\n",
      "after genome_chromap_idx download\u001b[K\n",
      "chromap parameters\u001b[K\n",
      "false\u001b[K\n",
      "false\u001b[K\n",
      "false\u001b[K\n",
      "false\u001b[K\n",
      "false\u001b[K\n",
      "false\u001b[K\n",
      "20\u001b[K\n",
      "20\u001b[K\n",
      "0.20\u001b[K\n",
      "r1:0:-1,bc:0:-1\u001b[K\n",
      "false\u001b[K\n",
      "false\u001b[K\n",
      "path\u001b[K\n",
      "finished run_chromap_map_to_idx\u001b[K\n",
      "before call bgzip\u001b[K\n",
      "DataflowBroadcast around DataflowStream[?]\u001b[K\n",
      "after call bgzip\u001b[K\n",
      "run_tabix.sh\u001b[K\n",
      "before call run_tabix_fragment_file\u001b[K\n",
      "after call run_tabix_fragment_file\u001b[K\n",
      "before call run_merge_logs\u001b[K\n",
      "after call run_merge_logs\u001b[K\n",
      "before call run_merge_logs\u001b[K\n",
      "before call run_filter_fragments\u001b[K\n",
      "after call run_filter_fragments\u001b[K\n",
      "before call run_tabix for the second time with filtered_fragment_file_out\u001b[K\n",
      "DataflowBroadcast around DataflowStream[?]\u001b[K\n",
      "before call run_calculate_tss_enrichment\u001b[K\n",
      "after regions_ch\u001b[K\n",
      "after call run_calculate_tss_enrichment\u001b[K\n",
      "before call run_scrna_atac_plot_qc_metrics\u001b[K\n",
      "after call run_scrna_atac_plot_qc_metrics\u001b[K\n",
      "before call run_generate_barcode_metadata\u001b[K\n",
      "before call run_generate_barcode_rank_plot\u001b[K\n",
      "\u001b[56A\n",
      "\u001b[32;1mMonitor the execution with Nextflow Tower using this URL: https://tower.nf/orgs/ort_eila_org/workspaces/ort_eila_wrkspc/watch/5OXcLxqGwlqZ5Q\u001b[22;39m\u001b[K\n",
      "executor >  google-batch (fusion enabled) (1)\u001b[K\n",
      "[-        ] process > run_seqspec_modify_atac        -\u001b[K\n",
      "[-        ] process > run_seqspec_print              -\u001b[K\n",
      "[02/e5c4ba] process > run_chromap_test               [  0%] 0 of 1\u001b[K\n",
      "[-        ] process > run_chromap_map_to_idx         -\u001b[K\n",
      "[-        ] process > run_bgzip                      -\u001b[K\n",
      "[-        ] process > run_tabix                      -\u001b[K\n",
      "[-        ] process > run_merge_logs                 -\u001b[K\n",
      "[-        ] process > run_filter_fragments           -\u001b[K\n",
      "[-        ] process > run_tabix_filtered_fragments   -\u001b[K\n",
      "[-        ] process > run_calculate_tss_enrichment   -\u001b[K\n",
      "[-        ] process > run_scrna_atac_plot_qc_metrics [  0%] 0 of 1\u001b[K\n",
      "[-        ] process > run_atac_barcode_metadata      [  0%] 0 of 1\u001b[K\n",
      "[-        ] process > run_atac_barcode_rank_plot     -\u001b[K\n",
      "after run_seqspec_modify_atac\u001b[K\n",
      "after run_seqspec_print\u001b[K\n",
      "after run_chromap_test\u001b[K\n",
      "after genome_fasta_ch\u001b[K\n",
      "after genome_gtf_ch\u001b[K\n",
      "after genome_chromap_idx download\u001b[K\n",
      "chromap parameters\u001b[K\n",
      "false\u001b[K\n",
      "false\u001b[K\n",
      "false\u001b[K\n",
      "false\u001b[K\n",
      "false\u001b[K\n",
      "false\u001b[K\n",
      "20\u001b[K\n",
      "20\u001b[K\n",
      "0.20\u001b[K\n",
      "r1:0:-1,bc:0:-1\u001b[K\n",
      "false\u001b[K\n",
      "false\u001b[K\n",
      "path\u001b[K\n",
      "finished run_chromap_map_to_idx\u001b[K\n",
      "before call bgzip\u001b[K\n",
      "DataflowBroadcast around DataflowStream[?]\u001b[K\n",
      "after call bgzip\u001b[K\n",
      "run_tabix.sh\u001b[K\n",
      "before call run_tabix_fragment_file\u001b[K\n",
      "after call run_tabix_fragment_file\u001b[K\n",
      "before call run_merge_logs\u001b[K\n",
      "after call run_merge_logs\u001b[K\n",
      "before call run_merge_logs\u001b[K\n",
      "before call run_filter_fragments\u001b[K\n",
      "after call run_filter_fragments\u001b[K\n",
      "before call run_tabix for the second time with filtered_fragment_file_out\u001b[K\n",
      "DataflowBroadcast around DataflowStream[?]\u001b[K\n",
      "before call run_calculate_tss_enrichment\u001b[K\n",
      "after regions_ch\u001b[K\n",
      "after call run_calculate_tss_enrichment\u001b[K\n",
      "before call run_scrna_atac_plot_qc_metrics\u001b[K\n",
      "after call run_scrna_atac_plot_qc_metrics\u001b[K\n",
      "before call run_generate_barcode_metadata\u001b[K\n",
      "before call run_generate_barcode_rank_plot\u001b[K\n",
      "\u001b[57A\n",
      "\u001b[32;1mMonitor the execution with Nextflow Tower using this URL: https://tower.nf/orgs/ort_eila_org/workspaces/ort_eila_wrkspc/watch/5OXcLxqGwlqZ5Q\u001b[22;39m\u001b[K\n",
      "executor >  google-batch (fusion enabled) (2)\u001b[K\n",
      "[-        ] process > run_seqspec_modify_atac        -\u001b[K\n",
      "[-        ] process > run_seqspec_print              -\u001b[K\n",
      "[02/e5c4ba] process > run_chromap_test               [  0%] 0 of 1\u001b[K\n",
      "[-        ] process > run_chromap_map_to_idx         -\u001b[K\n",
      "[-        ] process > run_bgzip                      -\u001b[K\n",
      "[-        ] process > run_tabix                      -\u001b[K\n",
      "[-        ] process > run_merge_logs                 -\u001b[K\n",
      "[-        ] process > run_filter_fragments           -\u001b[K\n",
      "[-        ] process > run_tabix_filtered_fragments   -\u001b[K\n",
      "[-        ] process > run_calculate_tss_enrichment   -\u001b[K\n",
      "[b1/c67b8f] process > run_scrna_atac_plot_qc_metrics [  0%] 0 of 1\u001b[K\n",
      "[-        ] process > run_atac_barcode_metadata      [  0%] 0 of 1\u001b[K\n",
      "[-        ] process > run_atac_barcode_rank_plot     -\u001b[K\n",
      "after run_seqspec_modify_atac\u001b[K\n",
      "after run_seqspec_print\u001b[K\n",
      "after run_chromap_test\u001b[K\n",
      "after genome_fasta_ch\u001b[K\n",
      "after genome_gtf_ch\u001b[K\n",
      "after genome_chromap_idx download\u001b[K\n",
      "chromap parameters\u001b[K\n",
      "false\u001b[K\n",
      "false\u001b[K\n",
      "false\u001b[K\n",
      "false\u001b[K\n",
      "false\u001b[K\n",
      "false\u001b[K\n",
      "20\u001b[K\n",
      "20\u001b[K\n",
      "0.20\u001b[K\n",
      "r1:0:-1,bc:0:-1\u001b[K\n",
      "false\u001b[K\n",
      "false\u001b[K\n",
      "path\u001b[K\n",
      "finished run_chromap_map_to_idx\u001b[K\n",
      "before call bgzip\u001b[K\n",
      "DataflowBroadcast around DataflowStream[?]\u001b[K\n",
      "after call bgzip\u001b[K\n",
      "run_tabix.sh\u001b[K\n",
      "before call run_tabix_fragment_file\u001b[K\n",
      "after call run_tabix_fragment_file\u001b[K\n",
      "before call run_merge_logs\u001b[K\n",
      "after call run_merge_logs\u001b[K\n",
      "before call run_merge_logs\u001b[K\n",
      "before call run_filter_fragments\u001b[K\n",
      "after call run_filter_fragments\u001b[K\n",
      "before call run_tabix for the second time with filtered_fragment_file_out\u001b[K\n",
      "DataflowBroadcast around DataflowStream[?]\u001b[K\n",
      "before call run_calculate_tss_enrichment\u001b[K\n",
      "after regions_ch\u001b[K\n",
      "after call run_calculate_tss_enrichment\u001b[K\n",
      "before call run_scrna_atac_plot_qc_metrics\u001b[K\n",
      "after call run_scrna_atac_plot_qc_metrics\u001b[K\n",
      "before call run_generate_barcode_metadata\u001b[K\n",
      "before call run_generate_barcode_rank_plot\u001b[K\n",
      "\u001b[57A\n",
      "\u001b[32;1mMonitor the execution with Nextflow Tower using this URL: https://tower.nf/orgs/ort_eila_org/workspaces/ort_eila_wrkspc/watch/5OXcLxqGwlqZ5Q\u001b[22;39m\u001b[K\n",
      "executor >  google-batch (fusion enabled) (2)\u001b[K\n",
      "[-        ] process > run_seqspec_modify_atac        [  0%] 0 of 1\u001b[K\n",
      "[-        ] process > run_seqspec_print              -\u001b[K\n",
      "[02/e5c4ba] process > run_chromap_test               [  0%] 0 of 1\u001b[K\n",
      "[-        ] process > run_chromap_map_to_idx         [  0%] 0 of 1\u001b[K\n",
      "[-        ] process > run_bgzip                      -\u001b[K\n",
      "[-        ] process > run_tabix                      -\u001b[K\n",
      "[-        ] process > run_merge_logs                 -\u001b[K\n",
      "[-        ] process > run_filter_fragments           -\u001b[K\n",
      "[-        ] process > run_tabix_filtered_fragments   -\u001b[K\n",
      "[-        ] process > run_calculate_tss_enrichment   -\u001b[K\n",
      "[b1/c67b8f] process > run_scrna_atac_plot_qc_metrics [  0%] 0 of 1\u001b[K\n",
      "[-        ] process > run_atac_barcode_metadata      [  0%] 0 of 1\u001b[K\n",
      "[-        ] process > run_atac_barcode_rank_plot     -\u001b[K\n",
      "after run_seqspec_modify_atac\u001b[K\n",
      "after run_seqspec_print\u001b[K\n",
      "after run_chromap_test\u001b[K\n",
      "after genome_fasta_ch\u001b[K\n",
      "after genome_gtf_ch\u001b[K\n",
      "after genome_chromap_idx download\u001b[K\n",
      "chromap parameters\u001b[K\n",
      "false\u001b[K\n",
      "false\u001b[K\n",
      "false\u001b[K\n",
      "false\u001b[K\n",
      "false\u001b[K\n",
      "false\u001b[K\n",
      "20\u001b[K\n",
      "20\u001b[K\n",
      "0.20\u001b[K\n",
      "r1:0:-1,bc:0:-1\u001b[K\n",
      "false\u001b[K\n",
      "false\u001b[K\n",
      "path\u001b[K\n",
      "finished run_chromap_map_to_idx\u001b[K\n",
      "before call bgzip\u001b[K\n",
      "DataflowBroadcast around DataflowStream[?]\u001b[K\n",
      "after call bgzip\u001b[K\n",
      "run_tabix.sh\u001b[K\n",
      "before call run_tabix_fragment_file\u001b[K\n",
      "after call run_tabix_fragment_file\u001b[K\n",
      "before call run_merge_logs\u001b[K\n",
      "after call run_merge_logs\u001b[K\n",
      "before call run_merge_logs\u001b[K\n",
      "before call run_filter_fragments\u001b[K\n",
      "after call run_filter_fragments\u001b[K\n",
      "before call run_tabix for the second time with filtered_fragment_file_out\u001b[K\n",
      "DataflowBroadcast around DataflowStream[?]\u001b[K\n",
      "before call run_calculate_tss_enrichment\u001b[K\n",
      "after regions_ch\u001b[K\n",
      "after call run_calculate_tss_enrichment\u001b[K\n",
      "before call run_scrna_atac_plot_qc_metrics\u001b[K\n",
      "after call run_scrna_atac_plot_qc_metrics\u001b[K\n",
      "before call run_generate_barcode_metadata\u001b[K\n",
      "before call run_generate_barcode_rank_plot\u001b[K\n",
      "\u001b[57A\n",
      "\u001b[32;1mMonitor the execution with Nextflow Tower using this URL: https://tower.nf/orgs/ort_eila_org/workspaces/ort_eila_wrkspc/watch/5OXcLxqGwlqZ5Q\u001b[22;39m\u001b[K\n",
      "executor >  google-batch (fusion enabled) (2)\u001b[K\n",
      "[-        ] process > run_seqspec_modify_atac        [  0%] 0 of 1\u001b[K\n",
      "[-        ] process > run_seqspec_print              -\u001b[K\n",
      "[02/e5c4ba] process > run_chromap_test               [  0%] 0 of 1\u001b[K\n",
      "[-        ] process > run_chromap_map_to_idx         [  0%] 0 of 1\u001b[K\n",
      "[-        ] process > run_bgzip                      -\u001b[K\n",
      "[-        ] process > run_tabix                      -\u001b[K\n",
      "[-        ] process > run_merge_logs                 -\u001b[K\n",
      "[-        ] process > run_filter_fragments           -\u001b[K\n",
      "[-        ] process > run_tabix_filtered_fragments   -\u001b[K\n",
      "[-        ] process > run_calculate_tss_enrichment   -\u001b[K\n",
      "[b1/c67b8f] process > run_scrna_atac_plot_qc_metrics [  0%] 0 of 1\u001b[K\n",
      "[-        ] process > run_atac_barcode_metadata      [  0%] 0 of 1\u001b[K\n",
      "[-        ] process > run_atac_barcode_rank_plot     -\u001b[K\n",
      "after run_seqspec_modify_atac\u001b[K\n",
      "after run_seqspec_print\u001b[K\n",
      "after run_chromap_test\u001b[K\n",
      "after genome_fasta_ch\u001b[K\n",
      "after genome_gtf_ch\u001b[K\n",
      "after genome_chromap_idx download\u001b[K\n",
      "chromap parameters\u001b[K\n",
      "false\u001b[K\n",
      "false\u001b[K\n",
      "false\u001b[K\n",
      "false\u001b[K\n",
      "false\u001b[K\n",
      "false\u001b[K\n",
      "20\u001b[K\n",
      "20\u001b[K\n",
      "0.20\u001b[K\n",
      "r1:0:-1,bc:0:-1\u001b[K\n",
      "false\u001b[K\n",
      "false\u001b[K\n",
      "path\u001b[K\n",
      "finished run_chromap_map_to_idx\u001b[K\n",
      "before call bgzip\u001b[K\n",
      "DataflowBroadcast around DataflowStream[?]\u001b[K\n",
      "after call bgzip\u001b[K\n",
      "run_tabix.sh\u001b[K\n",
      "before call run_tabix_fragment_file\u001b[K\n",
      "after call run_tabix_fragment_file\u001b[K\n",
      "before call run_merge_logs\u001b[K\n",
      "after call run_merge_logs\u001b[K\n",
      "before call run_merge_logs\u001b[K\n",
      "before call run_filter_fragments\u001b[K\n",
      "after call run_filter_fragments\u001b[K\n",
      "before call run_tabix for the second time with filtered_fragment_file_out\u001b[K\n",
      "DataflowBroadcast around DataflowStream[?]\u001b[K\n",
      "before call run_calculate_tss_enrichment\u001b[K\n",
      "after regions_ch\u001b[K\n",
      "after call run_calculate_tss_enrichment\u001b[K\n",
      "before call run_scrna_atac_plot_qc_metrics\u001b[K\n",
      "after call run_scrna_atac_plot_qc_metrics\u001b[K\n",
      "before call run_generate_barcode_metadata\u001b[K\n",
      "before call run_generate_barcode_rank_plot\u001b[K\n",
      "\u001b[57A\n",
      "\u001b[32;1mMonitor the execution with Nextflow Tower using this URL: https://tower.nf/orgs/ort_eila_org/workspaces/ort_eila_wrkspc/watch/5OXcLxqGwlqZ5Q\u001b[22;39m\u001b[K\n",
      "executor >  google-batch (fusion enabled) (3)\u001b[K\n",
      "[-        ] process > run_seqspec_modify_atac        [  0%] 0 of 1\u001b[K\n",
      "[-        ] process > run_seqspec_print              -\u001b[K\n",
      "[02/e5c4ba] process > run_chromap_test               [  0%] 0 of 1\u001b[K\n",
      "[-        ] process > run_chromap_map_to_idx         [  0%] 0 of 1\u001b[K\n",
      "[-        ] process > run_bgzip                      -\u001b[K\n",
      "[-        ] process > run_tabix                      -\u001b[K\n",
      "[-        ] process > run_merge_logs                 -\u001b[K\n",
      "[-        ] process > run_filter_fragments           -\u001b[K\n",
      "[-        ] process > run_tabix_filtered_fragments   -\u001b[K\n",
      "[-        ] process > run_calculate_tss_enrichment   -\u001b[K\n",
      "[b1/c67b8f] process > run_scrna_atac_plot_qc_metrics [  0%] 0 of 1\u001b[K\n",
      "[ad/490dc1] process > run_atac_barcode_metadata      [  0%] 0 of 1\u001b[K\n",
      "[-        ] process > run_atac_barcode_rank_plot     -\u001b[K\n",
      "after run_seqspec_modify_atac\u001b[K\n",
      "after run_seqspec_print\u001b[K\n",
      "after run_chromap_test\u001b[K\n",
      "after genome_fasta_ch\u001b[K\n",
      "after genome_gtf_ch\u001b[K\n",
      "after genome_chromap_idx download\u001b[K\n",
      "chromap parameters\u001b[K\n",
      "false\u001b[K\n",
      "false\u001b[K\n",
      "false\u001b[K\n",
      "false\u001b[K\n",
      "false\u001b[K\n",
      "false\u001b[K\n",
      "20\u001b[K\n",
      "20\u001b[K\n",
      "0.20\u001b[K\n",
      "r1:0:-1,bc:0:-1\u001b[K\n",
      "false\u001b[K\n",
      "false\u001b[K\n",
      "path\u001b[K\n",
      "finished run_chromap_map_to_idx\u001b[K\n",
      "before call bgzip\u001b[K\n",
      "DataflowBroadcast around DataflowStream[?]\u001b[K\n",
      "after call bgzip\u001b[K\n",
      "run_tabix.sh\u001b[K\n",
      "before call run_tabix_fragment_file\u001b[K\n",
      "after call run_tabix_fragment_file\u001b[K\n",
      "before call run_merge_logs\u001b[K\n",
      "after call run_merge_logs\u001b[K\n",
      "before call run_merge_logs\u001b[K\n",
      "before call run_filter_fragments\u001b[K\n",
      "after call run_filter_fragments\u001b[K\n",
      "before call run_tabix for the second time with filtered_fragment_file_out\u001b[K\n",
      "DataflowBroadcast around DataflowStream[?]\u001b[K\n",
      "before call run_calculate_tss_enrichment\u001b[K\n",
      "after regions_ch\u001b[K\n",
      "after call run_calculate_tss_enrichment\u001b[K\n",
      "before call run_scrna_atac_plot_qc_metrics\u001b[K\n",
      "after call run_scrna_atac_plot_qc_metrics\u001b[K\n",
      "before call run_generate_barcode_metadata\u001b[K\n",
      "before call run_generate_barcode_rank_plot\u001b[K\n",
      "\u001b[57A\n",
      "\u001b[32;1mMonitor the execution with Nextflow Tower using this URL: https://tower.nf/orgs/ort_eila_org/workspaces/ort_eila_wrkspc/watch/5OXcLxqGwlqZ5Q\u001b[22;39m\u001b[K\n",
      "executor >  google-batch (fusion enabled) (4)\u001b[K\n",
      "[71/b61256] process > run_seqspec_modify_atac (1)    [  0%] 0 of 1\u001b[K\n",
      "[-        ] process > run_seqspec_print              -\u001b[K\n",
      "[02/e5c4ba] process > run_chromap_test               [  0%] 0 of 1\u001b[K\n",
      "[-        ] process > run_chromap_map_to_idx         [  0%] 0 of 1\u001b[K\n",
      "[-        ] process > run_bgzip                      -\u001b[K\n",
      "[-        ] process > run_tabix                      -\u001b[K\n",
      "[-        ] process > run_merge_logs                 -\u001b[K\n",
      "[-        ] process > run_filter_fragments           -\u001b[K\n",
      "[-        ] process > run_tabix_filtered_fragments   -\u001b[K\n",
      "[-        ] process > run_calculate_tss_enrichment   -\u001b[K\n",
      "[b1/c67b8f] process > run_scrna_atac_plot_qc_metrics [  0%] 0 of 1\u001b[K\n",
      "[ad/490dc1] process > run_atac_barcode_metadata      [  0%] 0 of 1\u001b[K\n",
      "[-        ] process > run_atac_barcode_rank_plot     -\u001b[K\n",
      "after run_seqspec_modify_atac\u001b[K\n",
      "after run_seqspec_print\u001b[K\n",
      "after run_chromap_test\u001b[K\n",
      "after genome_fasta_ch\u001b[K\n",
      "after genome_gtf_ch\u001b[K\n",
      "after genome_chromap_idx download\u001b[K\n",
      "chromap parameters\u001b[K\n",
      "false\u001b[K\n",
      "false\u001b[K\n",
      "false\u001b[K\n",
      "false\u001b[K\n",
      "false\u001b[K\n",
      "false\u001b[K\n",
      "20\u001b[K\n",
      "20\u001b[K\n",
      "0.20\u001b[K\n",
      "r1:0:-1,bc:0:-1\u001b[K\n",
      "false\u001b[K\n",
      "false\u001b[K\n",
      "path\u001b[K\n",
      "finished run_chromap_map_to_idx\u001b[K\n",
      "before call bgzip\u001b[K\n",
      "DataflowBroadcast around DataflowStream[?]\u001b[K\n",
      "after call bgzip\u001b[K\n",
      "run_tabix.sh\u001b[K\n",
      "before call run_tabix_fragment_file\u001b[K\n",
      "after call run_tabix_fragment_file\u001b[K\n",
      "before call run_merge_logs\u001b[K\n",
      "after call run_merge_logs\u001b[K\n",
      "before call run_merge_logs\u001b[K\n",
      "before call run_filter_fragments\u001b[K\n",
      "after call run_filter_fragments\u001b[K\n",
      "before call run_tabix for the second time with filtered_fragment_file_out\u001b[K\n",
      "DataflowBroadcast around DataflowStream[?]\u001b[K\n",
      "before call run_calculate_tss_enrichment\u001b[K\n",
      "after regions_ch\u001b[K\n",
      "after call run_calculate_tss_enrichment\u001b[K\n",
      "before call run_scrna_atac_plot_qc_metrics\u001b[K\n",
      "after call run_scrna_atac_plot_qc_metrics\u001b[K\n",
      "before call run_generate_barcode_metadata\u001b[K\n",
      "before call run_generate_barcode_rank_plot\u001b[K\n",
      "\u001b[57A\n",
      "\u001b[32;1mMonitor the execution with Nextflow Tower using this URL: https://tower.nf/orgs/ort_eila_org/workspaces/ort_eila_wrkspc/watch/5OXcLxqGwlqZ5Q\u001b[22;39m\u001b[K\n",
      "executor >  google-batch (fusion enabled) (5)\u001b[K\n",
      "[71/b61256] process > run_seqspec_modify_atac (1)    [  0%] 0 of 1\u001b[K\n",
      "[-        ] process > run_seqspec_print              -\u001b[K\n",
      "[02/e5c4ba] process > run_chromap_test               [  0%] 0 of 1\u001b[K\n",
      "[89/11a002] process > run_chromap_map_to_idx (1)     [  0%] 0 of 1\u001b[K\n",
      "[-        ] process > run_bgzip                      -\u001b[K\n",
      "[-        ] process > run_tabix                      -\u001b[K\n",
      "[-        ] process > run_merge_logs                 -\u001b[K\n",
      "[-        ] process > run_filter_fragments           -\u001b[K\n",
      "[-        ] process > run_tabix_filtered_fragments   -\u001b[K\n",
      "[-        ] process > run_calculate_tss_enrichment   -\u001b[K\n",
      "[b1/c67b8f] process > run_scrna_atac_plot_qc_metrics [  0%] 0 of 1\u001b[K\n",
      "[ad/490dc1] process > run_atac_barcode_metadata      [  0%] 0 of 1\u001b[K\n",
      "[-        ] process > run_atac_barcode_rank_plot     -\u001b[K\n",
      "after run_seqspec_modify_atac\u001b[K\n",
      "after run_seqspec_print\u001b[K\n",
      "after run_chromap_test\u001b[K\n",
      "after genome_fasta_ch\u001b[K\n",
      "after genome_gtf_ch\u001b[K\n",
      "after genome_chromap_idx download\u001b[K\n",
      "chromap parameters\u001b[K\n",
      "false\u001b[K\n",
      "false\u001b[K\n",
      "false\u001b[K\n",
      "false\u001b[K\n",
      "false\u001b[K\n",
      "false\u001b[K\n",
      "20\u001b[K\n",
      "20\u001b[K\n",
      "0.20\u001b[K\n",
      "r1:0:-1,bc:0:-1\u001b[K\n",
      "false\u001b[K\n",
      "false\u001b[K\n",
      "path\u001b[K\n",
      "finished run_chromap_map_to_idx\u001b[K\n",
      "before call bgzip\u001b[K\n",
      "DataflowBroadcast around DataflowStream[?]\u001b[K\n",
      "after call bgzip\u001b[K\n",
      "run_tabix.sh\u001b[K\n",
      "before call run_tabix_fragment_file\u001b[K\n",
      "after call run_tabix_fragment_file\u001b[K\n",
      "before call run_merge_logs\u001b[K\n",
      "after call run_merge_logs\u001b[K\n",
      "before call run_merge_logs\u001b[K\n",
      "before call run_filter_fragments\u001b[K\n",
      "after call run_filter_fragments\u001b[K\n",
      "before call run_tabix for the second time with filtered_fragment_file_out\u001b[K\n",
      "DataflowBroadcast around DataflowStream[?]\u001b[K\n",
      "before call run_calculate_tss_enrichment\u001b[K\n",
      "after regions_ch\u001b[K\n",
      "after call run_calculate_tss_enrichment\u001b[K\n",
      "before call run_scrna_atac_plot_qc_metrics\u001b[K\n",
      "after call run_scrna_atac_plot_qc_metrics\u001b[K\n",
      "before call run_generate_barcode_metadata\u001b[K\n",
      "before call run_generate_barcode_rank_plot\u001b[K\n"
     ]
    }
   ],
   "source": [
    "!nextflow run nf_wf_fg_singlecell_atac.nf -c nextflow_vm.config -profile google_batch_profile -with-tower -resume\n",
    "\n",
    "# !nextflow run nf_wf_fg_singlecell_atac.nf -c nextflow_vm.config -profile google_batch_profile\n",
    "\n",
    "\n",
    "# !nextflow run nf_wf_fg_singlecell_atac.nf -c nextflow_vm.config -profile google_batch_profile\n",
    "# !nextflow run nf_wf_fg_singlecell_atac.nf -c nextflow_vm_anvil.config -profile google_batch_profile\n",
    "# !nextflow run nf_wf_fg_singlecell_atac.nf -c nextflow_local.config -profile google_batch_profile\n",
    "# !nextflow run nf_wf_fg_singlecell_atac.nf -c nextflow_local.config -profile docker_profile\n"
   ]
  },
  {
   "cell_type": "code",
   "execution_count": null,
   "metadata": {
    "tags": []
   },
   "outputs": [],
   "source": [
    "!cat .nextflow.log"
   ]
  },
  {
   "cell_type": "code",
   "execution_count": null,
   "metadata": {
    "tags": []
   },
   "outputs": [],
   "source": [
    "# !nextflow run nf_wf_fg_singlecell_atac.nf -c nextflow_vm.config -profile google_batch_profile -resume\n",
    "\n",
    "\n",
    "\n",
    "\n",
    "# !nextflow run nf_wf_fg_singlecell_atac.nf -c nextflow_vm.config -profile google_batch_profile -resume\n",
    "# !nextflow run nf_wf_fg_singlecell_atac.nf -c nextflow_local.config -profile google_batch_profile -resume\n",
    "# !nextflow run nf_wf_fg_singlecell_atac.nf -c nextflow_vm.config -profile google_batch_profile -resume\n",
    "# !nextflow run nf_wf_fg_singlecell_atac.nf -c nextflow.config -profile docker_profile -resume\n",
    "# !nextflow run nf_wf_fg_singlecell_atac.nf -c nextflow.config -profile google_batch_profile -resume"
   ]
  },
  {
   "cell_type": "code",
   "execution_count": null,
   "metadata": {
    "tags": []
   },
   "outputs": [],
   "source": [
    "# !cat .nextflow.log "
   ]
  },
  {
   "cell_type": "code",
   "execution_count": null,
   "metadata": {
    "tags": []
   },
   "outputs": [],
   "source": [
    "# !ls /Users/eilaarich-landkof-stanford/Documents/Code/git_igvf/seqspec/specs/dogmaseq-dig/fastqs"
   ]
  },
  {
   "cell_type": "code",
   "execution_count": null,
   "metadata": {
    "tags": []
   },
   "outputs": [],
   "source": [
    "# !nextflow run /Users/eilaarich-landkof-stanford/Documents/Code/git_igvf/cellatlas-scrna-seq-pipeline/nextflow/nf_processes/nf_prcs_print.nf"
   ]
  },
  {
   "cell_type": "code",
   "execution_count": null,
   "metadata": {
    "tags": []
   },
   "outputs": [],
   "source": [
    "# !ls /Users/eilaarich-landkof-stanford/Documents/Code/git_igvf/cellatlas-scrna-seq-pipeline/nextflow/nf_processes/nf_prcs_print.nf"
   ]
  },
  {
   "cell_type": "code",
   "execution_count": null,
   "metadata": {
    "tags": []
   },
   "outputs": [],
   "source": [
    "# !cat .command.out"
   ]
  },
  {
   "cell_type": "code",
   "execution_count": null,
   "metadata": {
    "tags": []
   },
   "outputs": [],
   "source": [
    "# !nextflow run nf_wf_fg_singlecell.nf -c nextflow.config -with-docker eilalan/env_synapse:latest"
   ]
  },
  {
   "cell_type": "code",
   "execution_count": null,
   "metadata": {},
   "outputs": [],
   "source": []
  }
 ],
 "metadata": {
  "kernelspec": {
   "display_name": "Python 3 (ipykernel)",
   "language": "python",
   "name": "python3"
  },
  "language_info": {
   "codemirror_mode": {
    "name": "ipython",
    "version": 3
   },
   "file_extension": ".py",
   "mimetype": "text/x-python",
   "name": "python",
   "nbconvert_exporter": "python",
   "pygments_lexer": "ipython3",
   "version": "3.7.16"
  }
 },
 "nbformat": 4,
 "nbformat_minor": 4
}
