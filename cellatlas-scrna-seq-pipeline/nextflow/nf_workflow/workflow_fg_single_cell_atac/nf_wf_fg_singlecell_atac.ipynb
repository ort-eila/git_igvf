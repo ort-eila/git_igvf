{
 "cells": [
  {
   "cell_type": "code",
   "execution_count": 1,
   "metadata": {
    "tags": []
   },
   "outputs": [],
   "source": [
    "# start docker deamon\n",
    "# !sudo docker login"
   ]
  },
  {
   "cell_type": "code",
   "execution_count": 2,
   "metadata": {
    "tags": []
   },
   "outputs": [],
   "source": [
    "# # in the command line. same env\n",
    "# export GOOGLE_APPLICATION_CREDENTIALS=\"/home/eila/git_igvf/cellatlas-scrna-seq-pipeline/nextflow/hai-gcp-genomic-beb9207a40b8.json.json\"\n",
    "# gcloud auth activate-service-account eila-batch@hai-gcp-genomic.iam.gserviceaccount.com --key-file=$GOOGLE_APPLICATION_CREDENTIALS"
   ]
  },
  {
   "cell_type": "code",
   "execution_count": 1,
   "metadata": {
    "tags": []
   },
   "outputs": [
    {
     "name": "stdout",
     "output_type": "stream",
     "text": [
      "                  Credentialed Accounts\n",
      "ACTIVE  ACCOUNT\n",
      "        886987709752-compute@developer.gserviceaccount.com\n",
      "*       eila-batch@hai-gcp-genomic.iam.gserviceaccount.com\n",
      "\n",
      "To set the active account, run:\n",
      "    $ gcloud config set account `ACCOUNT`\n",
      "\n"
     ]
    }
   ],
   "source": [
    "!gcloud auth list\n",
    "# gcloud config set account\n"
   ]
  },
  {
   "cell_type": "code",
   "execution_count": 4,
   "metadata": {
    "tags": []
   },
   "outputs": [],
   "source": [
    "# in the command line. based on:\n",
    "# https://nextflow.io/blog/2023/nextflow-with-gbatch.html\n",
    "# gcloud services enable batch.googleapis.com compute.googleapis.com logging.googleapis.com\n",
    "# gcloud iam service-accounts create eila-batch\n",
    "# gcloud iam service-accounts list \n",
    "\n",
    "\n",
    "\n",
    "\n",
    "# gcloud projects add-iam-policy-binding terra-addd4c49 \\\n",
    "# --member=\"serviceAccount:pet-26869426946125b815f6b@terra-addd4c49.iam.gserviceaccount.com\" \\\n",
    "# --role=\"roles/iam.serviceAccountUser\"\n",
    "\n",
    "# $ gcloud projects add-iam-policy-binding terra-addd4c49 \\\n",
    "# --member=\"serviceAccount:pet-26869426946125b815f6b@terra-addd4c49.iam.gserviceaccount.com\" \\\n",
    "# --role=\"roles/batch.jobsEditor\"\n",
    "\n",
    "# $ gcloud projects add-iam-policy-binding terra-addd4c49 \\\n",
    "# --member=\"serviceAccount:pet-26869426946125b815f6b@terra-addd4c49.iam.gserviceaccount.com\" \\\n",
    "# --role=\"roles/logging.viewer\"\n",
    "\n",
    "# $ gcloud projects add-iam-policy-binding terra-addd4c49 \\\n",
    "# --member=\"serviceAccount:pet-26869426946125b815f6b@terra-addd4c49.iam.gserviceaccount.com\" \\\n",
    "# --role=\"roles/storage.admin\"\n"
   ]
  },
  {
   "cell_type": "code",
   "execution_count": 5,
   "metadata": {
    "tags": []
   },
   "outputs": [],
   "source": [
    "\n",
    "# !gcloud projects add-iam-policy-binding hai-gcp-genomic \\\n",
    "# --member=\"serviceAccount:eila-batch@hai-gcp-genomic.iam.gserviceaccount.com\" \\\n",
    "# --role=\"roles/iam.serviceAccountUser\"\n",
    "\n",
    "# !gcloud projects add-iam-policy-binding hai-gcp-genomic \\\n",
    "# --member=\"serviceAccount:eila-batch@hai-gcp-genomic.iam.gserviceaccount.com\" \\\n",
    "# --role=\"roles/batch.jobsEditor\"\n",
    "\n",
    "# !gcloud projects add-iam-policy-binding hai-gcp-genomic \\\n",
    "# --member=\"serviceAccount:eila-batch@hai-gcp-genomic.iam.gserviceaccount.com\" \\\n",
    "# --role=\"roles/logging.viewer\"\n",
    "\n",
    "# !gcloud projects add-iam-policy-binding hai-gcp-genomic \\\n",
    "# --member=\"serviceAccount:eila-batch@hai-gcp-genomic.iam.gserviceaccount.com\" \\"
   ]
  },
  {
   "cell_type": "code",
   "execution_count": null,
   "metadata": {},
   "outputs": [],
   "source": [
    "# !nextflow -self-update"
   ]
  },
  {
   "cell_type": "code",
   "execution_count": 62,
   "metadata": {
    "tags": []
   },
   "outputs": [
    {
     "name": "stdout",
     "output_type": "stream",
     "text": [
      "  Version: 23.10.0 build 5889\n",
      "  Created: 15-10-2023 15:07 UTC \n",
      "  System: Linux 5.10.0-26-cloud-amd64\n",
      "  Runtime: Groovy 3.0.19 on OpenJDK 64-Bit Server VM 11.0.13+7-b1751.21\n",
      "  Encoding: UTF-8 (UTF-8)\n",
      "\n"
     ]
    }
   ],
   "source": [
    "!nextflow info"
   ]
  },
  {
   "cell_type": "code",
   "execution_count": 7,
   "metadata": {
    "tags": []
   },
   "outputs": [
    {
     "name": "stdout",
     "output_type": "stream",
     "text": [
      "/home/eila/git_igvf/cellatlas-scrna-seq-pipeline/nextflow/nf_workflow/workflow_fg_single_cell_atac\n"
     ]
    }
   ],
   "source": [
    "!pwd"
   ]
  },
  {
   "cell_type": "code",
   "execution_count": 8,
   "metadata": {
    "tags": []
   },
   "outputs": [
    {
     "name": "stdout",
     "output_type": "stream",
     "text": [
      "docker\thai-gcp-genomic-beb9207a40b8.json  nf_data  nf_processes  nf_workflow\n"
     ]
    }
   ],
   "source": [
    "!ls /home/eila/git_igvf/cellatlas-scrna-seq-pipeline/nextflow/"
   ]
  },
  {
   "cell_type": "code",
   "execution_count": 9,
   "metadata": {
    "tags": []
   },
   "outputs": [
    {
     "data": {
      "text/plain": [
       "'/home/eila/git_igvf/cellatlas-scrna-seq-pipeline/nextflow/nf_workflow/workflow_fg_single_cell_atac'"
      ]
     },
     "execution_count": 9,
     "metadata": {},
     "output_type": "execute_result"
    }
   ],
   "source": [
    "import os\n",
    "os.getcwd()"
   ]
  },
  {
   "cell_type": "code",
   "execution_count": 10,
   "metadata": {
    "tags": []
   },
   "outputs": [
    {
     "name": "stdout",
     "output_type": "stream",
     "text": [
      "Overwriting nextflow_vm.config\n"
     ]
    }
   ],
   "source": [
    "%%writefile nextflow_vm.config\n",
    "\n",
    "includeConfig 'conf/conda.config'\n",
    "\n",
    "\n",
    "manifest {\n",
    "  description = 'A nexflow pipeline for fg single cell atac' \n",
    "  mainScript = 'nf_wf_fg_singlecell_atac.nf'\n",
    "}\n",
    "\n",
    "profiles {\n",
    "  conda_profile {\n",
    "    includeConfig 'conf/conda.config'\n",
    "    conda.enabled = true\n",
    "    executor = 'local'\n",
    "    }\n",
    "\n",
    "  conda_docker_profile {\n",
    "    includeConfig 'conf/conda_docker.config'\n",
    "    executor = 'local'\n",
    "    }\n",
    "\n",
    "  docker_profile {\n",
    "    includeConfig 'conf/docker.config'\n",
    "    docker.enabled = true\n",
    "    docker.envWhitelist=['ENV_SYNAPSE_TOKEN']\n",
    "    executor = 'local'\n",
    "  }\n",
    "  google_batch_profile {\n",
    "    workDir = 'gs://eila-nextflow-bucket/work'\n",
    "    wave.enabled = true\n",
    "    fusion.enabled = true\n",
    "    includeConfig 'conf/docker-google-batch.config'\n",
    "    docker.enabled = true\n",
    "    docker.envWhitelist=['ENV_SYNAPSE_TOKEN']\n",
    "    executor = 'google-batch'\n",
    "    google.project = 'hai-gcp-genomic'\n",
    "    google.location = 'us-central1'\n",
    "    google.batch.spot = false\n",
    "    google.batch.serviceAccountEmail='eila-batch@hai-gcp-genomic.iam.gserviceaccount.com'\n",
    "  }\n",
    "    \n",
    "}\n",
    "\n",
    "params.FASTQS_SPEC_CH = '/home/eila/git_igvf/cellatlas-scrna-seq-pipeline/nextflow/nf_data/nf_wf_fg_singlecell/atac_fastqs_files_vm.csv'\n",
    "params.CHROMAP_IDX='/home/eila/git_igvf/cellatlas-scrna-seq-pipeline/nextflow/nf_data/nf_wf_fg_singlecell/specs/dogmaseq-dig/Homo_sapiens.GRCh38.dna.primary_assembly.chromap.ref.index'\n",
    "\n",
    "params.GENOME_FASTA='http://ftp.ensembl.org/pub/release-109/fasta/homo_sapiens/dna/Homo_sapiens.GRCh38.dna.primary_assembly.fa.gz'\n",
    "params.GENOME_GZ_GTF='http://ftp.ensembl.org/pub/release-109/gtf/homo_sapiens/Homo_sapiens.GRCh38.109.gtf.gz'\n",
    "\n"
   ]
  },
  {
   "cell_type": "code",
   "execution_count": 11,
   "metadata": {
    "tags": []
   },
   "outputs": [
    {
     "name": "stdout",
     "output_type": "stream",
     "text": [
      "Overwriting nextflow_vm_anvil.config\n"
     ]
    }
   ],
   "source": [
    "%%writefile nextflow_vm_anvil.config\n",
    "\n",
    "includeConfig 'conf/conda.config'\n",
    "\n",
    "\n",
    "manifest {\n",
    "  description = 'A nexflow pipeline for fg single cell atac' \n",
    "  mainScript = 'nf_wf_fg_singlecell_atac.nf'\n",
    "}\n",
    "\n",
    "profiles {\n",
    "  conda_profile {\n",
    "    includeConfig 'conf/conda.config'\n",
    "    conda.enabled = true\n",
    "    executor = 'local'\n",
    "    }\n",
    "\n",
    "  conda_docker_profile {\n",
    "    includeConfig 'conf/conda_docker.config'\n",
    "    executor = 'local'\n",
    "    }\n",
    "\n",
    "  docker_profile {\n",
    "    includeConfig 'conf/docker.config'\n",
    "    docker.enabled = true\n",
    "    docker.envWhitelist=['ENV_SYNAPSE_TOKEN']\n",
    "    executor = 'local'\n",
    "  }\n",
    "  google_batch_profile {\n",
    "    workDir = 'gs://fc-secure-87394b1b-e8d0-4802-9671-70bc3c8b7525/nextflow'\n",
    "    includeConfig 'conf/docker-google-batch.config'\n",
    "    docker.enabled = true\n",
    "    docker.envWhitelist=['ENV_SYNAPSE_TOKEN']\n",
    "    executor = 'google-batch'\n",
    "    google.project = 'terra-addd4c49'\n",
    "    location = 'us-central1'\n",
    "    batch.spot = false\n",
    "    batch.serviceAccountEmail='pet-26869426946125b815f6b@terra-addd4c49.iam.gserviceaccount.com'\n",
    "  }\n",
    "}\n",
    "\n",
    "params.FASTQS_SPEC_CH = '/home/eila/git_igvf/cellatlas-scrna-seq-pipeline/nextflow/nf_data/nf_wf_fg_singlecell/atac_fastqs_files_vm.csv'\n",
    "params.CHROMAP_IDX='/home/eila/git_igvf/cellatlas-scrna-seq-pipeline/nextflow/nf_data/nf_wf_fg_singlecell/specs/dogmaseq-dig/Homo_sapiens.GRCh38.dna.primary_assembly.chromap.ref.index'\n",
    "\n",
    "params.GENOME_FASTA='http://ftp.ensembl.org/pub/release-109/fasta/homo_sapiens/dna/Homo_sapiens.GRCh38.dna.primary_assembly.fa.gz'\n",
    "params.GENOME_GZ_GTF='http://ftp.ensembl.org/pub/release-109/gtf/homo_sapiens/Homo_sapiens.GRCh38.109.gtf.gz'\n",
    "\n"
   ]
  },
  {
   "cell_type": "code",
   "execution_count": 12,
   "metadata": {
    "tags": []
   },
   "outputs": [
    {
     "name": "stdout",
     "output_type": "stream",
     "text": [
      "Overwriting nextflow_local.config\n"
     ]
    }
   ],
   "source": [
    "%%writefile nextflow_local.config\n",
    "\n",
    "includeConfig 'conf/conda.config'\n",
    "\n",
    "\n",
    "manifest {\n",
    "  description = 'A nexflow pipeline for fg single cell atac' \n",
    "  mainScript = 'nf_wf_fg_singlecell_atac.nf'\n",
    "}\n",
    "profiles {\n",
    "  conda_profile {\n",
    "    includeConfig 'conf/conda.config'\n",
    "    conda.enabled = true\n",
    "    executor = 'local'\n",
    "    }\n",
    "\n",
    "  conda_docker_profile {\n",
    "    includeConfig 'conf/conda_docker.config'\n",
    "    executor = 'local'\n",
    "    }\n",
    "\n",
    "  docker_profile {\n",
    "    includeConfig 'conf/docker.config'\n",
    "    docker.enabled = true\n",
    "    docker.envWhitelist=['ENV_SYNAPSE_TOKEN']\n",
    "    executor = 'local'\n",
    "  }\n",
    "  google_batch_profile {\n",
    "    workDir = 'gs://eila-nextflow-bucket/work'\n",
    "    includeConfig 'conf/docker-google-batch.config'\n",
    "    docker.enabled = true\n",
    "    docker.envWhitelist=['ENV_SYNAPSE_TOKEN']\n",
    "    executor = 'google-batch'\n",
    "    google.project = 'hai-gcp-genomic'\n",
    "    google.location = 'us-central1'\n",
    "    google.batch.spot = false\n",
    "    google.batch.serviceAccountEmail='pet-26869426946125b815f6b@terra-addd4c49.iam.gserviceaccount.com'\n",
    "  }\n",
    "    \n",
    "}\n",
    "params.FASTQS_SPEC_CH = '/Users/eilaarich-landkof-stanford/Documents/Code/git_igvf/cellatlas-scrna-seq-pipeline/nextflow/nf_data/nf_wf_fg_singlecell/atac_fastqs_files_local.csv'\n",
    "params.CHROMAP_IDX='/Users/eilaarich-landkof-stanford/Documents/Code/git_igvf/cellatlas-scrna-seq-pipeline/nextflow/nf_data/nf_wf_fg_singlecell/specs/dogmaseq-dig/Homo_sapiens.GRCh38.dna.primary_assembly.chromap.ref.index'\n",
    "\n",
    "params.GENOME_FASTA='http://ftp.ensembl.org/pub/release-109/fasta/homo_sapiens/dna/Homo_sapiens.GRCh38.dna.primary_assembly.fa.gz'\n",
    "params.GENOME_GZ_GTF='http://ftp.ensembl.org/pub/release-109/gtf/homo_sapiens/Homo_sapiens.GRCh38.109.gtf.gz'\n",
    "\n"
   ]
  },
  {
   "cell_type": "code",
   "execution_count": 13,
   "metadata": {
    "tags": []
   },
   "outputs": [
    {
     "name": "stdout",
     "output_type": "stream",
     "text": [
      "/home/eila/git_igvf/cellatlas-scrna-seq-pipeline/nextflow/nf_workflow/workflow_fg_single_cell_atac\n"
     ]
    }
   ],
   "source": [
    "!pwd"
   ]
  },
  {
   "cell_type": "code",
   "execution_count": 2,
   "metadata": {
    "tags": []
   },
   "outputs": [],
   "source": [
    "# !rm -r /Users/eilaarich-landkof-stanford/Documents/Code/git_igvf/cellatlas-scrna-seq-pipeline/nextflow/nf_workflow/workflow_fg_single_cell_atac/work\n",
    "# !rm -r /home/eila/git_igvf/cellatlas-scrna-seq-pipeline/nextflow/nf_workflow/workflow_fg_single_cell_atac/work\n",
    "# !gsutil rm -r gs://eila-nextflow-bucket/work"
   ]
  },
  {
   "cell_type": "code",
   "execution_count": 6,
   "metadata": {
    "tags": []
   },
   "outputs": [],
   "source": [
    "# !rm .nextflow*"
   ]
  },
  {
   "cell_type": "code",
   "execution_count": 7,
   "metadata": {
    "tags": []
   },
   "outputs": [],
   "source": [
    "# !ls nextflow.config"
   ]
  },
  {
   "cell_type": "code",
   "execution_count": 8,
   "metadata": {
    "tags": []
   },
   "outputs": [],
   "source": [
    "# !nextflow run nf_wf_fg_singlecell_atac.nf -c nextflow_vm.config -profile google_batch_profile\n",
    "\n",
    "\n",
    "\n",
    "\n",
    "\n",
    "# !nextflow run nf_wf_fg_singlecell_atac.nf -c nextflow_vm.config -profile google_batch_profile\n",
    "# !nextflow run nf_wf_fg_singlecell_atac.nf -c nextflow_vm_anvil.config -profile google_batch_profile\n",
    "# !nextflow run nf_wf_fg_singlecell_atac.nf -c nextflow_local.config -profile google_batch_profile\n",
    "# !nextflow run nf_wf_fg_singlecell_atac.nf -c nextflow_local.config -profile docker_profile\n"
   ]
  },
  {
   "cell_type": "code",
   "execution_count": 22,
   "metadata": {
    "tags": []
   },
   "outputs": [
    {
     "name": "stdout",
     "output_type": "stream",
     "text": [
      "N E X T F L O W  ~  version 23.10.0\n",
      "Launching `nf_wf_fg_singlecell_atac.nf` [pedantic_austin] DSL2 - revision: 910e6fb635\n",
      "Nov 02, 2023 12:29:23 AM com.google.auth.oauth2.DefaultCredentialsProvider warnAboutProblematicCredentials\n",
      "WARNING: Your application has authenticated using end user credentials from Google Cloud SDK. We recommend that most server applications use service accounts instead. If your application continues to use end user credentials from Cloud SDK, you might receive a \"quota exceeded\" or \"API not enabled\" error. For more information about service accounts, see https://cloud.google.com/docs/authentication/.\n",
      "/home/eila/git_igvf/cellatlas-scrna-seq-pipeline/nextflow/nf_data/nf_wf_fg_singlecell/atac_fastqs_files_vm.csv\n",
      "calling run_seqspec_print\n",
      "[-        ] process > run_seqspec_print       -\u001b[K\n",
      "[-        ] process > run_seqspec_modify_atac -\u001b[K\n",
      "finished run_seqspec_print\u001b[K\n",
      "start run_seqspec_modify_atac\u001b[K\n",
      "finish run_seqspec_modify_atac\u001b[K\n",
      "start genome_fasta_ch download\u001b[K\n",
      "finished genome_fasta_ch download\u001b[K\n",
      "start genome_gtf_ch download\u001b[K\n",
      "finished genome_gtf_ch download\u001b[K\n",
      "start run_create_chromap_idx\u001b[K\n",
      "\u001b[11A\n",
      "[-        ] process > run_seqspec_print       -\u001b[K\n",
      "[-        ] process > run_seqspec_modify_atac -\u001b[K\n",
      "[-        ] process > run_create_chromap_idx  -\u001b[K\n",
      "finished run_seqspec_print\u001b[K\n",
      "start run_seqspec_modify_atac\u001b[K\n",
      "finish run_seqspec_modify_atac\u001b[K\n",
      "start genome_fasta_ch download\u001b[K\n",
      "finished genome_fasta_ch download\u001b[K\n",
      "start genome_gtf_ch download\u001b[K\n",
      "finished genome_gtf_ch download\u001b[K\n",
      "start run_create_chromap_idx\u001b[K\n",
      "finished run_create_chromap_idx\u001b[K\n",
      "\u001b[13A\n",
      "\u001b[32;1mMonitor the execution with Nextflow Tower using this URL: https://tower.nf/user/eila/watch/1ba426C96rucMu\u001b[22;39m\u001b[K\n",
      "[-        ] process > run_seqspec_print       -\u001b[K\n",
      "[-        ] process > run_seqspec_modify_atac -\u001b[K\n",
      "[-        ] process > run_create_chromap_idx  -\u001b[K\n",
      "finished run_seqspec_print\u001b[K\n",
      "start run_seqspec_modify_atac\u001b[K\n",
      "finish run_seqspec_modify_atac\u001b[K\n",
      "start genome_fasta_ch download\u001b[K\n",
      "finished genome_fasta_ch download\u001b[K\n",
      "start genome_gtf_ch download\u001b[K\n",
      "finished genome_gtf_ch download\u001b[K\n",
      "start run_create_chromap_idx\u001b[K\n",
      "finished run_create_chromap_idx\u001b[K\n",
      "\u001b[14A\n",
      "\u001b[32;1mMonitor the execution with Nextflow Tower using this URL: https://tower.nf/user/eila/watch/1ba426C96rucMu\u001b[22;39m\u001b[K\n",
      "[-        ] process > run_seqspec_print       -\u001b[K\n",
      "[-        ] process > run_seqspec_modify_atac -\u001b[K\n",
      "[-        ] process > run_create_chromap_idx  [  0%] 0 of 1\u001b[K\n",
      "finished run_seqspec_print\u001b[K\n",
      "start run_seqspec_modify_atac\u001b[K\n",
      "finish run_seqspec_modify_atac\u001b[K\n",
      "start genome_fasta_ch download\u001b[K\n",
      "finished genome_fasta_ch download\u001b[K\n",
      "start genome_gtf_ch download\u001b[K\n",
      "finished genome_gtf_ch download\u001b[K\n",
      "start run_create_chromap_idx\u001b[K\n",
      "finished run_create_chromap_idx\u001b[K\n",
      "\u001b[14A\n",
      "\u001b[32;1mMonitor the execution with Nextflow Tower using this URL: https://tower.nf/user/eila/watch/1ba426C96rucMu\u001b[22;39m\u001b[K\n",
      "[fe/7d8b2d] process > run_seqspec_print (1)   [100%] 1 of 1, cached: 1\u001b[K\n",
      "[-        ] process > run_seqspec_modify_atac -\u001b[K\n",
      "[-        ] process > run_create_chromap_idx  [  0%] 0 of 1\u001b[K\n",
      "finished run_seqspec_print\u001b[K\n",
      "start run_seqspec_modify_atac\u001b[K\n",
      "finish run_seqspec_modify_atac\u001b[K\n",
      "start genome_fasta_ch download\u001b[K\n",
      "finished genome_fasta_ch download\u001b[K\n",
      "start genome_gtf_ch download\u001b[K\n",
      "finished genome_gtf_ch download\u001b[K\n",
      "start run_create_chromap_idx\u001b[K\n",
      "finished run_create_chromap_idx\u001b[K\n",
      "\u001b[14A\n",
      "\u001b[32;1mMonitor the execution with Nextflow Tower using this URL: https://tower.nf/user/eila/watch/1ba426C96rucMu\u001b[22;39m\u001b[K\n",
      "[fe/7d8b2d] process > run_seqspec_print (1)   [100%] 1 of 1, cached: 1 ✔\u001b[K\n",
      "[-        ] process > run_seqspec_modify_atac -\u001b[K\n",
      "[-        ] process > run_create_chromap_idx  [  0%] 0 of 1\u001b[K\n",
      "finished run_seqspec_print\u001b[K\n",
      "start run_seqspec_modify_atac\u001b[K\n",
      "finish run_seqspec_modify_atac\u001b[K\n",
      "start genome_fasta_ch download\u001b[K\n",
      "finished genome_fasta_ch download\u001b[K\n",
      "start genome_gtf_ch download\u001b[K\n",
      "finished genome_gtf_ch download\u001b[K\n",
      "start run_create_chromap_idx\u001b[K\n",
      "finished run_create_chromap_idx\u001b[K\n",
      "start run_seqspec_print\u001b[K\n",
      "nf_spec_dogmaseq_dig.yaml\u001b[K\n",
      "finished seqspec print\u001b[K\n",
      "\u001b[K\n",
      "\u001b[18A\n",
      "\u001b[32;1mMonitor the execution with Nextflow Tower using this URL: https://tower.nf/user/eila/watch/1ba426C96rucMu\u001b[22;39m\u001b[K\n",
      "[fe/7d8b2d] process > run_seqspec_print (1)       [100%] 1 of 1, cached: 1 ✔\u001b[K\n",
      "[11/95bccb] process > run_seqspec_modify_atac (1) [100%] 1 of 1, cached: 1\u001b[K\n",
      "[-        ] process > run_create_chromap_idx      [  0%] 0 of 1\u001b[K\n",
      "finished run_seqspec_print\u001b[K\n",
      "start run_seqspec_modify_atac\u001b[K\n",
      "finish run_seqspec_modify_atac\u001b[K\n",
      "start genome_fasta_ch download\u001b[K\n",
      "finished genome_fasta_ch download\u001b[K\n",
      "start genome_gtf_ch download\u001b[K\n",
      "finished genome_gtf_ch download\u001b[K\n",
      "start run_create_chromap_idx\u001b[K\n",
      "finished run_create_chromap_idx\u001b[K\n",
      "start run_seqspec_print\u001b[K\n",
      "nf_spec_dogmaseq_dig.yaml\u001b[K\n",
      "finished seqspec print\u001b[K\n",
      "\u001b[K\n",
      "\u001b[18A\n",
      "\u001b[32;1mMonitor the execution with Nextflow Tower using this URL: https://tower.nf/user/eila/watch/1ba426C96rucMu\u001b[22;39m\u001b[K\n",
      "[fe/7d8b2d] process > run_seqspec_print (1)       [100%] 1 of 1, cached: 1 ✔\u001b[K\n",
      "[11/95bccb] process > run_seqspec_modify_atac (1) [100%] 1 of 1, cached: 1 ✔\u001b[K\n",
      "[-        ] process > run_create_chromap_idx      [  0%] 0 of 1\u001b[K\n",
      "finished run_seqspec_print\u001b[K\n",
      "start run_seqspec_modify_atac\u001b[K\n",
      "finish run_seqspec_modify_atac\u001b[K\n",
      "start genome_fasta_ch download\u001b[K\n",
      "finished genome_fasta_ch download\u001b[K\n",
      "start genome_gtf_ch download\u001b[K\n",
      "finished genome_gtf_ch download\u001b[K\n",
      "start run_create_chromap_idx\u001b[K\n",
      "finished run_create_chromap_idx\u001b[K\n",
      "start run_seqspec_print\u001b[K\n",
      "nf_spec_dogmaseq_dig.yaml\u001b[K\n",
      "finished seqspec print\u001b[K\n",
      "\u001b[K\n",
      "start run_seqspec_modify_rna\u001b[K\n",
      "atac_R1_SRR18677642.fastq.gz\u001b[K\n",
      "atac_R2_SRR18677642.fastq.gz\u001b[K\n",
      "atac_R3_SRR18677642.fastq.gz\u001b[K\n",
      "nf_spec_dogmaseq_dig.yaml\u001b[K\n",
      "atac_R1_SRR18677642.fastq.gz\u001b[K\n",
      "atac_R2_SRR18677642.fastq.gz\u001b[K\n",
      "atac_R3_SRR18677642.fastq.gz\u001b[K\n",
      "nf_spec_dogmaseq_dig.yaml\u001b[K\n",
      "finished seqspec modify atac\u001b[K\n",
      "\u001b[K\n",
      "\u001b[29A\n",
      "\u001b[32;1mMonitor the execution with Nextflow Tower using this URL: https://tower.nf/user/eila/watch/1ba426C96rucMu\u001b[22;39m\u001b[K\n",
      "executor >  google-batch (fusion enabled) (1)\u001b[K\n",
      "[fe/7d8b2d] process > run_seqspec_print (1)       [100%] 1 of 1, cached: 1 ✔\u001b[K\n",
      "[11/95bccb] process > run_seqspec_modify_atac (1) [100%] 1 of 1, cached: 1 ✔\u001b[K\n",
      "[66/84319c] process > run_create_chromap_idx      [  0%] 0 of 1\u001b[K\n",
      "finished run_seqspec_print\u001b[K\n",
      "start run_seqspec_modify_atac\u001b[K\n",
      "finish run_seqspec_modify_atac\u001b[K\n",
      "start genome_fasta_ch download\u001b[K\n",
      "finished genome_fasta_ch download\u001b[K\n",
      "start genome_gtf_ch download\u001b[K\n",
      "finished genome_gtf_ch download\u001b[K\n",
      "start run_create_chromap_idx\u001b[K\n",
      "finished run_create_chromap_idx\u001b[K\n",
      "start run_seqspec_print\u001b[K\n",
      "nf_spec_dogmaseq_dig.yaml\u001b[K\n",
      "finished seqspec print\u001b[K\n",
      "\u001b[K\n",
      "start run_seqspec_modify_rna\u001b[K\n",
      "atac_R1_SRR18677642.fastq.gz\u001b[K\n",
      "atac_R2_SRR18677642.fastq.gz\u001b[K\n",
      "atac_R3_SRR18677642.fastq.gz\u001b[K\n",
      "nf_spec_dogmaseq_dig.yaml\u001b[K\n",
      "atac_R1_SRR18677642.fastq.gz\u001b[K\n",
      "atac_R2_SRR18677642.fastq.gz\u001b[K\n",
      "atac_R3_SRR18677642.fastq.gz\u001b[K\n",
      "nf_spec_dogmaseq_dig.yaml\u001b[K\n",
      "finished seqspec modify atac\u001b[K\n",
      "\u001b[K\n",
      "\u001b[30A\n",
      "\u001b[32;1mMonitor the execution with Nextflow Tower using this URL: https://tower.nf/user/eila/watch/1ba426C96rucMu\u001b[22;39m\u001b[K\n",
      "executor >  google-batch (fusion enabled) (1)\u001b[K\n",
      "[fe/7d8b2d] process > run_seqspec_print (1)       [100%] 1 of 1, cached: 1 ✔\u001b[K\n",
      "[11/95bccb] process > run_seqspec_modify_atac (1) [100%] 1 of 1, cached: 1 ✔\u001b[K\n",
      "[66/84319c] process > run_create_chromap_idx      [  0%] 0 of 1\u001b[K\n",
      "\u001b[K\n",
      "\u001b[K\n",
      "\u001b[K\n",
      "\u001b[K\n",
      "\u001b[K\n",
      "\u001b[K\n",
      "\u001b[K\n",
      "\u001b[K\n",
      "\u001b[K\n",
      "\u001b[K\n",
      "\u001b[K\n",
      "\u001b[K\n",
      "\u001b[K\n",
      "\u001b[K\n",
      "\u001b[K\n",
      "\u001b[K\n",
      "\u001b[K\n",
      "\u001b[K\n",
      "\u001b[K\n",
      "\u001b[K\n",
      "\u001b[K\n",
      "\u001b[K\n",
      "\u001b[K\n",
      "\u001b[K\n",
      "\u001b[30A\n",
      "\u001b[32;1mMonitor the execution with Nextflow Tower using this URL: https://tower.nf/user/eila/watch/1ba426C96rucMu\u001b[22;39m\u001b[K\n",
      "executor >  google-batch (fusion enabled) (1)\u001b[K\n",
      "[fe/7d8b2d] process > run_seqspec_print (1)       [100%] 1 of 1, cached: 1 ✔\u001b[K\n",
      "[11/95bccb] process > run_seqspec_modify_atac (1) [100%] 1 of 1, cached: 1 ✔\u001b[K\n",
      "[66/84319c] process > run_create_chromap_idx      [  0%] 0 of 1 ✔\u001b[K\n",
      "run_create_chromap_idx\u001b[K\n",
      "\u001b[K\n",
      "\u001b[K\n",
      "\u001b[K\n",
      "\u001b[K\n",
      "\u001b[K\n",
      "\u001b[K\n",
      "\u001b[K\n",
      "\u001b[K\n",
      "\u001b[K\n",
      "\u001b[K\n",
      "\u001b[K\n",
      "\u001b[K\n",
      "\u001b[K\n",
      "\u001b[K\n",
      "\u001b[K\n",
      "\u001b[K\n",
      "\u001b[K\n",
      "\u001b[K\n",
      "\u001b[K\n",
      "\u001b[K\n",
      "\u001b[K\n",
      "\u001b[K\n",
      "\u001b[K\n",
      "\u001b[30A\n",
      "\u001b[32;1mMonitor the execution with Nextflow Tower using this URL: https://tower.nf/user/eila/watch/1ba426C96rucMu\u001b[22;39m\u001b[K\n",
      "executor >  google-batch (fusion enabled) (1)\u001b[K\n",
      "[fe/7d8b2d] process > run_seqspec_print (1)       [100%] 1 of 1, cached: 1 ✔\u001b[K\n",
      "[11/95bccb] process > run_seqspec_modify_atac (1) [100%] 1 of 1, cached: 1 ✔\u001b[K\n",
      "[66/84319c] process > run_create_chromap_idx      [100%] 1 of 1 ✔\u001b[K\n",
      "run_create_chromap_idx\u001b[K\n",
      "\u001b[K\n",
      "\u001b[32;1mCompleted at: 02-Nov-2023 00:41:37\n",
      "Duration    : 12m 13s\n",
      "CPU hours   : 2.5 (0% cached)\n",
      "Succeeded   : 1\n",
      "Cached      : 2\n",
      "\u001b[22;39m\u001b[K\n",
      "\n"
     ]
    }
   ],
   "source": [
    "!nextflow run nf_wf_fg_singlecell_atac.nf -c nextflow_vm.config -profile google_batch_profile -resume\n",
    "\n",
    "\n",
    "\n",
    "\n",
    "# !nextflow run nf_wf_fg_singlecell_atac.nf -c nextflow_vm.config -profile google_batch_profile -resume\n",
    "# !nextflow run nf_wf_fg_singlecell_atac.nf -c nextflow_local.config -profile google_batch_profile -resume\n",
    "# !nextflow run nf_wf_fg_singlecell_atac.nf -c nextflow_vm.config -profile google_batch_profile -resume\n",
    "# !nextflow run nf_wf_fg_singlecell_atac.nf -c nextflow.config -profile docker_profile -resume\n",
    "# !nextflow run nf_wf_fg_singlecell_atac.nf -c nextflow.config -profile google_batch_profile -resume"
   ]
  },
  {
   "cell_type": "code",
   "execution_count": 23,
   "metadata": {
    "tags": []
   },
   "outputs": [
    {
     "name": "stdout",
     "output_type": "stream",
     "text": [
      "Nov-02 00:29:21.179 [main] DEBUG nextflow.cli.Launcher - $> nextflow run nf_wf_fg_singlecell_atac.nf -c nextflow_vm.config -profile google_batch_profile -resume\n",
      "Nov-02 00:29:21.330 [main] INFO  nextflow.cli.CmdRun - N E X T F L O W  ~  version 23.10.0\n",
      "Nov-02 00:29:21.357 [main] DEBUG nextflow.plugin.PluginsFacade - Setting up plugin manager > mode=prod; embedded=false; plugins-dir=/home/eila/.nextflow/plugins; core-plugins: nf-amazon@2.1.4,nf-azure@1.3.2,nf-cloudcache@0.3.0,nf-codecommit@0.1.5,nf-console@1.0.6,nf-ga4gh@1.1.0,nf-google@1.8.3,nf-tower@1.6.3,nf-wave@1.0.0\n",
      "Nov-02 00:29:21.371 [main] INFO  o.pf4j.DefaultPluginStatusProvider - Enabled plugins: []\n",
      "Nov-02 00:29:21.372 [main] INFO  o.pf4j.DefaultPluginStatusProvider - Disabled plugins: []\n",
      "Nov-02 00:29:21.377 [main] INFO  org.pf4j.DefaultPluginManager - PF4J version 3.4.1 in 'deployment' mode\n",
      "Nov-02 00:29:21.392 [main] INFO  org.pf4j.AbstractPluginManager - No plugins\n",
      "Nov-02 00:29:21.416 [main] DEBUG nextflow.config.ConfigBuilder - Found config local: /home/eila/git_igvf/cellatlas-scrna-seq-pipeline/nextflow/nf_workflow/workflow_fg_single_cell_atac/nextflow.config\n",
      "Nov-02 00:29:21.420 [main] DEBUG nextflow.config.ConfigBuilder - User config file: /home/eila/git_igvf/cellatlas-scrna-seq-pipeline/nextflow/nf_workflow/workflow_fg_single_cell_atac/nextflow_vm.config\n",
      "Nov-02 00:29:21.420 [main] DEBUG nextflow.config.ConfigBuilder - Parsing config file: /home/eila/git_igvf/cellatlas-scrna-seq-pipeline/nextflow/nf_workflow/workflow_fg_single_cell_atac/nextflow.config\n",
      "Nov-02 00:29:21.420 [main] DEBUG nextflow.config.ConfigBuilder - Parsing config file: /home/eila/git_igvf/cellatlas-scrna-seq-pipeline/nextflow/nf_workflow/workflow_fg_single_cell_atac/nextflow_vm.config\n",
      "Nov-02 00:29:21.465 [main] DEBUG nextflow.config.ConfigBuilder - Applying config profile: `google_batch_profile`\n",
      "Nov-02 00:29:22.464 [main] DEBUG nextflow.config.ConfigBuilder - Applying config profile: `google_batch_profile`\n",
      "Nov-02 00:29:22.663 [main] DEBUG nextflow.config.ConfigBuilder - Available config profiles: [google_batch_profile, conda_docker_profile, docker_profile, docker_local_profile, conda_profile, google]\n",
      "Nov-02 00:29:22.704 [main] DEBUG nextflow.cli.CmdRun - Applied DSL=2 by global default\n",
      "Nov-02 00:29:22.730 [main] INFO  nextflow.cli.CmdRun - Launching `nf_wf_fg_singlecell_atac.nf` [pedantic_austin] DSL2 - revision: 910e6fb635\n",
      "Nov-02 00:29:22.731 [main] DEBUG nextflow.plugin.PluginsFacade - Plugins default=[nf-google@1.8.3]\n",
      "Nov-02 00:29:22.732 [main] DEBUG nextflow.plugin.PluginsFacade - Plugins resolved requirement=[nf-google@1.8.3, nf-tower@1.6.3, nf-wave@1.0.0]\n",
      "Nov-02 00:29:22.733 [main] DEBUG nextflow.plugin.PluginUpdater - Installing plugin nf-google version: 1.8.3\n",
      "Nov-02 00:29:22.752 [main] INFO  org.pf4j.AbstractPluginManager - Plugin 'nf-google@1.8.3' resolved\n",
      "Nov-02 00:29:22.753 [main] INFO  org.pf4j.AbstractPluginManager - Start plugin 'nf-google@1.8.3'\n",
      "Nov-02 00:29:22.821 [main] DEBUG nextflow.plugin.BasePlugin - Plugin started nf-google@1.8.3\n",
      "Nov-02 00:29:22.822 [main] DEBUG nextflow.plugin.PluginUpdater - Installing plugin nf-tower version: 1.6.3\n",
      "Nov-02 00:29:22.824 [main] INFO  org.pf4j.AbstractPluginManager - Plugin 'nf-tower@1.6.3' resolved\n",
      "Nov-02 00:29:22.824 [main] INFO  org.pf4j.AbstractPluginManager - Start plugin 'nf-tower@1.6.3'\n",
      "Nov-02 00:29:22.834 [main] DEBUG nextflow.plugin.BasePlugin - Plugin started nf-tower@1.6.3\n",
      "Nov-02 00:29:22.835 [main] DEBUG nextflow.plugin.PluginUpdater - Installing plugin nf-wave version: 1.0.0\n",
      "Nov-02 00:29:22.838 [main] INFO  org.pf4j.AbstractPluginManager - Plugin 'nf-wave@1.0.0' resolved\n",
      "Nov-02 00:29:22.839 [main] INFO  org.pf4j.AbstractPluginManager - Start plugin 'nf-wave@1.0.0'\n",
      "Nov-02 00:29:22.849 [main] DEBUG nextflow.plugin.BasePlugin - Plugin started nf-wave@1.0.0\n",
      "Nov-02 00:29:22.867 [main] DEBUG n.secret.LocalSecretsProvider - Secrets store: /home/eila/.nextflow/secrets/store.json\n",
      "Nov-02 00:29:22.873 [main] DEBUG nextflow.secret.SecretsLoader - Discovered secrets providers: [nextflow.secret.LocalSecretsProvider@7f9e8421] - activable => nextflow.secret.LocalSecretsProvider@7f9e8421\n",
      "Nov-02 00:29:22.982 [main] DEBUG nextflow.Session - Session UUID: f7e37c4b-c1ab-4ccb-a8cb-153d209e8602\n",
      "Nov-02 00:29:22.982 [main] DEBUG nextflow.Session - Run name: pedantic_austin\n",
      "Nov-02 00:29:22.983 [main] DEBUG nextflow.Session - Executor pool size: 16\n",
      "Nov-02 00:29:23.265 [main] DEBUG nextflow.file.FilePorter - File porter settings maxRetries=3; maxTransfers=50; pollTimeout=null\n",
      "Nov-02 00:29:23.274 [main] DEBUG nextflow.util.ThreadPoolBuilder - Creating thread pool 'FileTransfer' minSize=10; maxSize=48; workQueue=LinkedBlockingQueue[10000]; allowCoreThreadTimeout=false\n",
      "Nov-02 00:29:23.283 [main] DEBUG nextflow.config.ConfigBuilder - Found config local: /home/eila/git_igvf/cellatlas-scrna-seq-pipeline/nextflow/nf_workflow/workflow_fg_single_cell_atac/nextflow.config\n",
      "Nov-02 00:29:23.283 [main] DEBUG nextflow.config.ConfigBuilder - User config file: /home/eila/git_igvf/cellatlas-scrna-seq-pipeline/nextflow/nf_workflow/workflow_fg_single_cell_atac/nextflow_vm.config\n",
      "Nov-02 00:29:23.283 [main] DEBUG nextflow.config.ConfigBuilder - Parsing config file: /home/eila/git_igvf/cellatlas-scrna-seq-pipeline/nextflow/nf_workflow/workflow_fg_single_cell_atac/nextflow.config\n",
      "Nov-02 00:29:23.283 [main] DEBUG nextflow.config.ConfigBuilder - Parsing config file: /home/eila/git_igvf/cellatlas-scrna-seq-pipeline/nextflow/nf_workflow/workflow_fg_single_cell_atac/nextflow_vm.config\n",
      "Nov-02 00:29:23.284 [main] DEBUG nextflow.config.ConfigBuilder - Applying config profile: `google_batch_profile`\n",
      "Nov-02 00:29:23.440 [main] DEBUG nextflow.config.ConfigBuilder - Applying config profile: `google_batch_profile`\n",
      "Nov-02 00:29:23.559 [main] DEBUG nextflow.config.ConfigBuilder - Available config profiles: [google_batch_profile, conda_docker_profile, docker_profile, docker_local_profile, conda_profile, google]\n",
      "Nov-02 00:29:23.601 [main] DEBUG nextflow.cli.CmdRun - \n",
      "  Version: 23.10.0 build 5889\n",
      "  Created: 15-10-2023 15:07 UTC \n",
      "  System: Linux 5.10.0-26-cloud-amd64\n",
      "  Runtime: Groovy 3.0.19 on OpenJDK 64-Bit Server VM 11.0.13+7-b1751.21\n",
      "  Encoding: UTF-8 (UTF-8)\n",
      "  Process: 44041@eila-vm [10.128.0.63]\n",
      "  CPUs: 16 - Mem: 58.9 GB (17.4 GB) - Swap: 0 (0)\n",
      "Nov-02 00:29:23.670 [main] DEBUG nextflow.file.FileHelper - Can't check if specified path is NFS (1): gs://eila-nextflow-bucket/work\n",
      "\n",
      "Nov-02 00:29:23.670 [main] DEBUG nextflow.Session - Work-dir: gs://eila-nextflow-bucket/work [null]\n",
      "Nov-02 00:29:23.671 [main] DEBUG nextflow.Session - Script base path does not exist or is not a directory: /home/eila/git_igvf/cellatlas-scrna-seq-pipeline/nextflow/nf_workflow/workflow_fg_single_cell_atac/bin\n",
      "Nov-02 00:29:23.701 [main] DEBUG nextflow.executor.ExecutorFactory - Extension executors providers=[GoogleLifeSciencesExecutor, GoogleBatchExecutor]\n",
      "Nov-02 00:29:23.720 [main] DEBUG nextflow.Session - Observer factory: DefaultObserverFactory\n",
      "Nov-02 00:29:23.723 [main] DEBUG nextflow.Session - Observer factory: WaveFactory\n",
      "Nov-02 00:29:23.723 [main] DEBUG io.seqera.wave.plugin.WaveFactory - Detected Fusion enabled -- Enabling bundle project resources -- Disabling upload of remote bin directory\n",
      "Nov-02 00:29:23.760 [main] DEBUG io.seqera.wave.plugin.WaveClient - Wave config: WaveConfig(enabled:true, endpoint:https://wave.seqera.io, containerConfigUrl:[], tokensCacheMaxDuration:30m, condaOpts:CondaOpts(mambaImage=mambaorg/micromamba:1.5.1; basePackages=conda-forge::procps-ng, commands=null), spackOpts:SpackOpts(basePackages=null, commands=null), strategy:[container], bundleProjectResources:true, buildRepository:null, cacheRepository:null, retryOpts:RetryOpts(delay:450ms, maxDelay:1m 30s, maxAttempts:10, jitter:0.25), httpClientOpts:HttpOpts(), freezeMode:null, dryRunMode:false)\n",
      "Nov-02 00:29:23.880 [main] DEBUG nextflow.Session - Observer factory: TowerFactory\n",
      "Nov-02 00:29:23.936 [main] DEBUG nextflow.cache.CacheFactory - Using Nextflow cache factory: nextflow.cache.DefaultCacheFactory\n",
      "Nov-02 00:29:23.949 [main] DEBUG nextflow.util.CustomThreadPool - Creating default thread pool > poolSize: 17; maxThreads: 1000\n",
      "Nov-02 00:29:24.071 [main] DEBUG nextflow.Session - Session start\n",
      "Nov-02 00:29:24.085 [main] DEBUG io.seqera.tower.plugin.TowerClient - Creating Tower observer -- endpoint=https://api.tower.nf; requestInterval=1s; aliveInterval=1m; maxRetries=5; backOffBase=3; backOffDelay=250\n",
      "Nov-02 00:29:24.922 [main] DEBUG nextflow.script.ScriptRunner - > Launching execution\n",
      "Nov-02 00:29:25.601 [main] INFO  nextflow.script.BaseScript - /home/eila/git_igvf/cellatlas-scrna-seq-pipeline/nextflow/nf_data/nf_wf_fg_singlecell/atac_fastqs_files_vm.csv\n",
      "Nov-02 00:29:25.745 [main] INFO  nextflow.script.BaseScript - calling run_seqspec_print\n",
      "Nov-02 00:29:25.821 [main] DEBUG nextflow.script.ProcessConfig - Config settings `withLabel:seqspec_local` matches labels `seqspec_local` for process with name run_seqspec_print\n",
      "Nov-02 00:29:25.827 [main] DEBUG nextflow.executor.ExecutorFactory - << taskConfig executor: local\n",
      "Nov-02 00:29:25.827 [main] DEBUG nextflow.executor.ExecutorFactory - >> processorType: 'local'\n",
      "Nov-02 00:29:25.832 [main] DEBUG nextflow.executor.Executor - [warm up] executor > local (fusion enabled)\n",
      "Nov-02 00:29:25.838 [main] DEBUG n.processor.LocalPollingMonitor - Creating local task monitor for executor 'local' > cpus=16; memory=58.9 GB; capacity=16; pollInterval=100ms; dumpInterval=5m\n",
      "Nov-02 00:29:25.840 [main] DEBUG n.processor.TaskPollingMonitor - >>> barrier register (monitor: local)\n",
      "Nov-02 00:29:25.947 [main] INFO  nextflow.script.BaseScript - finished run_seqspec_print\n",
      "Nov-02 00:29:25.949 [main] INFO  nextflow.script.BaseScript - start run_seqspec_modify_atac\n",
      "Nov-02 00:29:25.950 [main] DEBUG nextflow.script.ProcessConfig - Config settings `withLabel:seqspec_local` matches labels `seqspec_local` for process with name run_seqspec_modify_atac\n",
      "Nov-02 00:29:25.951 [main] DEBUG nextflow.executor.ExecutorFactory - << taskConfig executor: local\n",
      "Nov-02 00:29:25.951 [main] DEBUG nextflow.executor.ExecutorFactory - >> processorType: 'local'\n",
      "Nov-02 00:29:25.955 [main] INFO  nextflow.script.BaseScript - finish run_seqspec_modify_atac\n",
      "Nov-02 00:29:25.956 [main] INFO  nextflow.script.BaseScript - start genome_fasta_ch download\n",
      "Nov-02 00:29:25.969 [main] INFO  nextflow.script.BaseScript - finished genome_fasta_ch download\n",
      "Nov-02 00:29:25.970 [main] INFO  nextflow.script.BaseScript - start genome_gtf_ch download\n",
      "Nov-02 00:29:25.971 [main] INFO  nextflow.script.BaseScript - finished genome_gtf_ch download\n",
      "Nov-02 00:29:25.971 [main] INFO  nextflow.script.BaseScript - start run_create_chromap_idx\n",
      "Nov-02 00:29:25.973 [main] DEBUG nextflow.script.ProcessConfig - Config settings `withLabel:chromap_idx` matches labels `chromap_idx` for process with name run_create_chromap_idx\n",
      "Nov-02 00:29:25.974 [main] DEBUG nextflow.executor.ExecutorFactory - << taskConfig executor: google-batch\n",
      "Nov-02 00:29:25.974 [main] DEBUG nextflow.executor.ExecutorFactory - >> processorType: 'google-batch'\n",
      "Nov-02 00:29:25.974 [main] DEBUG nextflow.executor.Executor - [warm up] executor > google-batch (fusion enabled)\n",
      "Nov-02 00:29:25.976 [main] DEBUG n.processor.TaskPollingMonitor - Creating task monitor for executor 'google-batch' > capacity: 1000; pollInterval: 10s; dumpInterval: 5m \n",
      "Nov-02 00:29:25.977 [main] DEBUG n.processor.TaskPollingMonitor - >>> barrier register (monitor: google-batch)\n",
      "Nov-02 00:29:25.980 [main] DEBUG nextflow.cloud.google.GoogleOpts - Google auth via application DEFAULT\n",
      "Nov-02 00:29:25.982 [main] DEBUG n.c.google.batch.GoogleBatchExecutor - [GOOGLE BATCH] Executor config=BatchConfig[googleOpts=GoogleOpts(projectId:hai-gcp-genomic, credsFile:null, location:null, enableRequesterPaysBuckets:false, httpConnectTimeout:1m, httpReadTimeout:1m, credentials:UserCredentials{requestMetadata=null, temporaryAccess=null, clientId=764086051850-6qr4p6gpi6hn506pt8ejuq83di341hur.apps.googleusercontent.com, refreshToken=1//04-ZrKvCfXPa5CgYIARAAGAQSNwF-L9IrkFtcwyfUDAhTeAquw0t0utu5nMRfG-U9l5uflp_XJI0EMWlO9aPKmi0CxdbKiKRekQc, tokenServerUri=https://oauth2.googleapis.com/token, transportFactoryClassName=com.google.auth.oauth2.OAuth2Utils$DefaultHttpTransportFactory, quotaProjectId=hai-gcp-genomic})\n",
      "Nov-02 00:29:26.001 [main] DEBUG n.c.google.batch.client.BatchClient - [GOOGLE BATCH] Creating service client with config credentials\n",
      "Nov-02 00:29:26.494 [main] INFO  nextflow.script.BaseScript - finished run_create_chromap_idx\n",
      "Nov-02 00:29:26.495 [main] DEBUG nextflow.Session - Workflow process names [dsl2]: run_download_chromap_idx, run_seqspec_modify_rna, run_seqspec_print, run_synpase_upload, run_create_chromap_idx, run_seqspec_check, run_synpase_download, run_seqspec_test, run_seqspec_index_rna_kb, run_seqspec_modify_atac, run_chromap_test, run_downloadFiles, run_chromap_map_to_idx\n",
      "Nov-02 00:29:26.686 [main] INFO  io.seqera.tower.plugin.TowerClient - Monitor the execution with Nextflow Tower using this URL: https://tower.nf/user/eila/watch/1ba426C96rucMu\n",
      "Nov-02 00:29:26.687 [main] DEBUG nextflow.Session - Igniting dataflow network (6)\n",
      "Nov-02 00:29:26.694 [main] DEBUG nextflow.processor.TaskProcessor - Starting process > run_seqspec_print\n",
      "Nov-02 00:29:26.696 [main] DEBUG nextflow.processor.TaskProcessor - Starting process > run_seqspec_modify_atac\n",
      "Nov-02 00:29:26.697 [main] DEBUG nextflow.processor.TaskProcessor - Starting process > run_create_chromap_idx\n",
      "Nov-02 00:29:26.701 [main] DEBUG nextflow.script.ScriptRunner - Parsed script files:\n",
      "  Script_a1c4a3de1c8404b2: /home/eila/git_igvf/cellatlas-scrna-seq-pipeline/nextflow/nf_workflow/workflow_fg_single_cell_atac/./../../nf_processes/nf_prcs_seqspec_utils.nf\n",
      "  Script_6f4853daaf022cb7: /home/eila/git_igvf/cellatlas-scrna-seq-pipeline/nextflow/nf_workflow/workflow_fg_single_cell_atac/./../../nf_processes/nf_prcs_synapse_utils.nf\n",
      "  Script_41bd34531bdc0574: /home/eila/git_igvf/cellatlas-scrna-seq-pipeline/nextflow/nf_workflow/workflow_fg_single_cell_atac/nf_wf_fg_singlecell_atac.nf\n",
      "  Script_32f3659e4b483e31: /home/eila/git_igvf/cellatlas-scrna-seq-pipeline/nextflow/nf_workflow/workflow_fg_single_cell_atac/./../../nf_processes/nf_prcs_chromap_utils.nf\n",
      "  Script_9d4639c8cd883c70: /home/eila/git_igvf/cellatlas-scrna-seq-pipeline/nextflow/nf_workflow/workflow_fg_single_cell_atac/./../../nf_processes/nf_prcs_download_url_files.nf\n",
      "Nov-02 00:29:26.703 [main] DEBUG nextflow.script.ScriptRunner - > Awaiting termination \n",
      "Nov-02 00:29:26.703 [main] DEBUG nextflow.Session - Session await\n",
      "Nov-02 00:29:29.060 [FileTransfer-1] DEBUG nextflow.file.FilePorter - Local cache found for foreign file http://ftp.ensembl.org/pub/release-109/fasta/homo_sapiens/dna/Homo_sapiens.GRCh38.dna.primary_assembly.fa.gz at gs://eila-nextflow-bucket/work/stage-f7e37c4b-c1ab-4ccb-a8cb-153d209e8602/6e/96a17eff5553a8d37ee824db6a411a/Homo_sapiens.GRCh38.dna.primary_assembly.fa.gz\n",
      "Nov-02 00:29:29.079 [Actor Thread 9] DEBUG io.seqera.wave.plugin.WaveClient - Wave config: WaveConfig(enabled:true, endpoint:https://wave.seqera.io, containerConfigUrl:[], tokensCacheMaxDuration:30m, condaOpts:CondaOpts(mambaImage=mambaorg/micromamba:1.5.1; basePackages=conda-forge::procps-ng, commands=null), spackOpts:SpackOpts(basePackages=null, commands=null), strategy:[container], bundleProjectResources:true, buildRepository:null, cacheRepository:null, retryOpts:RetryOpts(delay:450ms, maxDelay:1m 30s, maxAttempts:10, jitter:0.25), httpClientOpts:HttpOpts(), freezeMode:null, dryRunMode:false)\n",
      "Nov-02 00:29:29.163 [Actor Thread 9] DEBUG io.seqera.wave.plugin.WaveClient - Wave request container config: https://fusionfs.seqera.io/releases/v2.2-amd64.json\n",
      "Nov-02 00:29:29.331 [Actor Thread 9] DEBUG io.seqera.wave.plugin.WaveClient - Wave container config response: [200] {\n",
      "  \"entrypoint\": [ \"/usr/bin/fusion\" ],\n",
      "  \"layers\": [\n",
      "    {\n",
      "      \"location\": \"https://fusionfs.seqera.io/releases/pkg/2/2/8/fusion-amd64.tar.gz\",\n",
      "      \"gzipDigest\": \"sha256:626e7bc30015514d4ed9ff8eca9a4e692710939fcd74180411a66dcb8da42348\",\n",
      "      \"gzipSize\": 30222170,\n",
      "      \"tarDigest\": \"sha256:b3fe793492d63edc712bd5af74463e42d5259a87386a1b41ebe3e2073ade0215\",\n",
      "      \"skipHashing\": true\n",
      "    }\n",
      "  ]\n",
      "}\n",
      "\n",
      "Nov-02 00:29:29.376 [Actor Thread 9] DEBUG io.seqera.wave.plugin.WaveClient - Wave request: https://wave.seqera.io/container-token; attempt=1 - request: SubmitContainerTokenRequest(towerAccessToken:eyJ0aWQiOiA4Mjk3fS5jNDNmYzA4NTg2MjAxNDQzOTAwYmUzNWEzZTY0MGMyZTc0OWE3M2Mz, towerRefreshToken:null, towerWorkspaceId:null, towerEndpoint:https://api.tower.nf, workflowId:null, containerImage:eilalan/chromap_env:latest, containerFile:null, containerConfig:ContainerConfig(entrypoint:[/usr/bin/fusion], cmd:null, env:null, workingDir:null, layers:[ContainerLayer[location=https://fusionfs.seqera.io/releases/pkg/2/2/8/fusion-amd64.tar.gz; tarDigest=sha256:b3fe793492d63edc712bd5af74463e42d5259a87386a1b41ebe3e2073ade0215; gzipDigest=sha256:626e7bc30015514d4ed9ff8eca9a4e692710939fcd74180411a66dcb8da42348; gzipSize=30222170]]), condaFile:null, spackFile:null, containerPlatform:linux/amd64, buildRepository:null, cacheRepository:null, timestamp:2023-11-02T00:29:29.375781Z, fingerprint:d66948df2cb073aec2c3d961d7f2a2c8, freeze:false, format:null, dryRun:false)\n",
      "Nov-02 00:29:29.965 [Actor Thread 9] DEBUG io.seqera.wave.plugin.WaveClient - Wave response: statusCode=200; body={\"containerToken\":\"05e4a1a25bfb\",\"targetImage\":\"wave.seqera.io/wt/05e4a1a25bfb/eilalan/chromap_env:latest\",\"expiration\":\"2023-11-03T12:29:29.911571791Z\",\"containerImage\":\"docker.io/eilalan/chromap_env:latest\"}\n",
      "Nov-02 00:29:30.081 [FileTransfer-2] DEBUG nextflow.file.FilePorter - Local cache found for foreign file /home/eila/git_igvf/cellatlas-scrna-seq-pipeline/nextflow/nf_data/nf_wf_fg_singlecell/specs/dogmaseq-dig/fastqs/atac_R1_SRR18677642.fastq.gz at gs://eila-nextflow-bucket/work/stage-f7e37c4b-c1ab-4ccb-a8cb-153d209e8602/c4/db9cd85de8adf07f8675f3ebb01116/atac_R1_SRR18677642.fastq.gz\n",
      "Nov-02 00:29:30.130 [FileTransfer-4] DEBUG nextflow.file.FilePorter - Local cache found for foreign file /home/eila/git_igvf/cellatlas-scrna-seq-pipeline/nextflow/nf_data/nf_wf_fg_singlecell/specs/dogmaseq-dig/fastqs/atac_R3_SRR18677642.fastq.gz at gs://eila-nextflow-bucket/work/stage-f7e37c4b-c1ab-4ccb-a8cb-153d209e8602/62/5bd19040431a63aff64133d7a3505b/atac_R3_SRR18677642.fastq.gz\n",
      "Nov-02 00:29:30.422 [FileTransfer-3] DEBUG nextflow.file.FilePorter - Local cache found for foreign file /home/eila/git_igvf/cellatlas-scrna-seq-pipeline/nextflow/nf_data/nf_wf_fg_singlecell/specs/dogmaseq-dig/fastqs/atac_R2_SRR18677642.fastq.gz at gs://eila-nextflow-bucket/work/stage-f7e37c4b-c1ab-4ccb-a8cb-153d209e8602/ea/38425ff6c0066476c38e34e97ea791/atac_R2_SRR18677642.fastq.gz\n",
      "Nov-02 00:29:30.575 [FileTransfer-5] DEBUG nextflow.file.FilePorter - Local cache found for foreign file /home/eila/git_igvf/cellatlas-scrna-seq-pipeline/nextflow/nf_data/nf_wf_fg_singlecell/specs/dogmaseq-dig/nf_spec_dogmaseq_dig.yaml at gs://eila-nextflow-bucket/work/stage-f7e37c4b-c1ab-4ccb-a8cb-153d209e8602/20/41bd5f82a69c7fbeba911f98dcc919/nf_spec_dogmaseq_dig.yaml\n",
      "Nov-02 00:29:30.584 [Actor Thread 17] DEBUG io.seqera.wave.plugin.WaveClient - Wave request: https://wave.seqera.io/container-token; attempt=1 - request: SubmitContainerTokenRequest(towerAccessToken:eyJ0aWQiOiA4Mjk3fS5jNDNmYzA4NTg2MjAxNDQzOTAwYmUzNWEzZTY0MGMyZTc0OWE3M2Mz, towerRefreshToken:null, towerWorkspaceId:null, towerEndpoint:https://api.tower.nf, workflowId:null, containerImage:eilalan/seqspec_env:latest, containerFile:null, containerConfig:ContainerConfig(entrypoint:[/usr/bin/fusion], cmd:null, env:null, workingDir:null, layers:[ContainerLayer[location=https://fusionfs.seqera.io/releases/pkg/2/2/8/fusion-amd64.tar.gz; tarDigest=sha256:b3fe793492d63edc712bd5af74463e42d5259a87386a1b41ebe3e2073ade0215; gzipDigest=sha256:626e7bc30015514d4ed9ff8eca9a4e692710939fcd74180411a66dcb8da42348; gzipSize=30222170]]), condaFile:null, spackFile:null, containerPlatform:linux/amd64, buildRepository:null, cacheRepository:null, timestamp:2023-11-02T00:29:30.583268Z, fingerprint:cf85136e52e8f8c79dd533cc589b556a, freeze:false, format:null, dryRun:false)\n",
      "Nov-02 00:29:30.701 [Actor Thread 17] DEBUG io.seqera.wave.plugin.WaveClient - Wave response: statusCode=200; body={\"containerToken\":\"a86bbe9174e0\",\"targetImage\":\"wave.seqera.io/wt/a86bbe9174e0/eilalan/seqspec_env:latest\",\"expiration\":\"2023-11-03T12:29:30.648698150Z\",\"containerImage\":\"docker.io/eilalan/seqspec_env:latest\"}\n",
      "Nov-02 00:29:31.800 [Actor Thread 17] INFO  nextflow.processor.TaskProcessor - [fe/7d8b2d] Cached process > run_seqspec_print (1)\n",
      "Nov-02 00:29:32.475 [Actor Thread 15] INFO  nextflow.processor.TaskProcessor - [11/95bccb] Cached process > run_seqspec_modify_atac (1)\n",
      "Nov-02 00:29:33.522 [Task submitter] DEBUG n.c.g.batch.GoogleBatchTaskHandler - [GOOGLE BATCH] Process `run_create_chromap_idx` submitted > job=nf-6684319c-1698884971246; uid=nf-6684319c-169888-afbecefa-13e0-4e110; work-dir=gs://eila-nextflow-bucket/work/66/84319ca20d276dd88cf0bf9c905c79\n",
      "Nov-02 00:29:33.523 [Task submitter] INFO  nextflow.Session - [66/84319c] Submitted process > run_create_chromap_idx\n",
      "Nov-02 00:34:26.061 [Task monitor] DEBUG n.processor.TaskPollingMonitor - !! executor local > No more task to compute -- Execution may be stalled\n",
      "Nov-02 00:34:35.986 [Task monitor] DEBUG n.processor.TaskPollingMonitor - !! executor google-batch > tasks to be completed: 1 -- submitted tasks are shown below\n",
      "~> TaskHandler[id: 1; name: run_create_chromap_idx; status: RUNNING; exit: -; error: -; workDir: gs://eila-nextflow-bucket/work/66/84319ca20d276dd88cf0bf9c905c79]\n",
      "Nov-02 00:39:26.093 [Task monitor] DEBUG n.processor.TaskPollingMonitor - !! executor local > No more task to compute -- Execution may be stalled\n",
      "Nov-02 00:39:35.994 [Task monitor] DEBUG n.processor.TaskPollingMonitor - !! executor google-batch > tasks to be completed: 1 -- submitted tasks are shown below\n",
      "~> TaskHandler[id: 1; name: run_create_chromap_idx; status: RUNNING; exit: -; error: -; workDir: gs://eila-nextflow-bucket/work/66/84319ca20d276dd88cf0bf9c905c79]\n",
      "Nov-02 00:41:36.043 [Task monitor] DEBUG n.c.g.batch.GoogleBatchTaskHandler - [GOOGLE BATCH] Process `run_create_chromap_idx` - terminated job=nf-6684319c-1698884971246; state=SUCCEEDED\n",
      "Nov-02 00:41:36.374 [Task monitor] DEBUG n.processor.TaskPollingMonitor - Task completed > TaskHandler[id: 1; name: run_create_chromap_idx; status: COMPLETED; exit: 0; error: -; workDir: gs://eila-nextflow-bucket/work/66/84319ca20d276dd88cf0bf9c905c79]\n",
      "Nov-02 00:41:36.776 [main] DEBUG nextflow.Session - Session await > all processes finished\n",
      "Nov-02 00:41:36.852 [Task monitor] DEBUG n.processor.TaskPollingMonitor - <<< barrier arrives (monitor: local) - terminating tasks monitor poll loop\n",
      "Nov-02 00:41:37.009 [Task monitor] DEBUG n.processor.TaskPollingMonitor - <<< barrier arrives (monitor: google-batch) - terminating tasks monitor poll loop\n",
      "Nov-02 00:41:37.009 [main] DEBUG nextflow.Session - Session await > all barriers passed\n",
      "Nov-02 00:41:37.015 [main] DEBUG n.trace.WorkflowStatsObserver - Workflow completed > WorkflowStats[succeededCount=1; failedCount=0; ignoredCount=0; cachedCount=2; pendingCount=0; submittedCount=0; runningCount=0; retriesCount=0; abortedCount=0; succeedDuration=2h 32m 16s; failedDuration=0ms; cachedDuration=2s;loadCpus=0; loadMemory=0; peakRunning=1; peakCpus=32; peakMemory=0; ]\n",
      "Nov-02 00:41:37.767 [main] DEBUG nextflow.cache.CacheDB - Closing CacheDB done\n",
      "Nov-02 00:41:37.767 [main] INFO  org.pf4j.AbstractPluginManager - Stop plugin 'nf-wave@1.0.0'\n",
      "Nov-02 00:41:37.767 [main] DEBUG nextflow.plugin.BasePlugin - Plugin stopped nf-wave\n",
      "Nov-02 00:41:37.767 [main] INFO  org.pf4j.AbstractPluginManager - Stop plugin 'nf-tower@1.6.3'\n",
      "Nov-02 00:41:37.767 [main] DEBUG nextflow.plugin.BasePlugin - Plugin stopped nf-tower\n",
      "Nov-02 00:41:37.767 [main] INFO  org.pf4j.AbstractPluginManager - Stop plugin 'nf-google@1.8.3'\n",
      "Nov-02 00:41:37.767 [main] DEBUG nextflow.plugin.BasePlugin - Plugin stopped nf-google\n",
      "Nov-02 00:41:37.787 [main] DEBUG nextflow.util.ThreadPoolManager - Thread pool 'FileTransfer' shutdown completed (hard=false)\n",
      "Nov-02 00:41:37.788 [main] DEBUG nextflow.script.ScriptRunner - > Execution complete -- Goodbye\n"
     ]
    }
   ],
   "source": [
    "!cat .nextflow.log "
   ]
  },
  {
   "cell_type": "code",
   "execution_count": 50,
   "metadata": {
    "tags": []
   },
   "outputs": [],
   "source": [
    "# !ls /Users/eilaarich-landkof-stanford/Documents/Code/git_igvf/seqspec/specs/dogmaseq-dig/fastqs"
   ]
  },
  {
   "cell_type": "code",
   "execution_count": 51,
   "metadata": {
    "tags": []
   },
   "outputs": [],
   "source": [
    "# !nextflow run /Users/eilaarich-landkof-stanford/Documents/Code/git_igvf/cellatlas-scrna-seq-pipeline/nextflow/nf_processes/nf_prcs_print.nf"
   ]
  },
  {
   "cell_type": "code",
   "execution_count": 38,
   "metadata": {
    "tags": []
   },
   "outputs": [],
   "source": [
    "# !ls /Users/eilaarich-landkof-stanford/Documents/Code/git_igvf/cellatlas-scrna-seq-pipeline/nextflow/nf_processes/nf_prcs_print.nf"
   ]
  },
  {
   "cell_type": "code",
   "execution_count": 39,
   "metadata": {
    "tags": []
   },
   "outputs": [],
   "source": [
    "# !cat .command.out"
   ]
  },
  {
   "cell_type": "code",
   "execution_count": 40,
   "metadata": {
    "tags": []
   },
   "outputs": [],
   "source": [
    "# !nextflow run nf_wf_fg_singlecell.nf -c nextflow.config -with-docker eilalan/env_synapse:latest"
   ]
  },
  {
   "cell_type": "code",
   "execution_count": null,
   "metadata": {},
   "outputs": [],
   "source": []
  }
 ],
 "metadata": {
  "kernelspec": {
   "display_name": "Python 3 (ipykernel)",
   "language": "python",
   "name": "python3"
  },
  "language_info": {
   "codemirror_mode": {
    "name": "ipython",
    "version": 3
   },
   "file_extension": ".py",
   "mimetype": "text/x-python",
   "name": "python",
   "nbconvert_exporter": "python",
   "pygments_lexer": "ipython3",
   "version": "3.7.16"
  }
 },
 "nbformat": 4,
 "nbformat_minor": 4
}
