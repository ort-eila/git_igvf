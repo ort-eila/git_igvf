{
 "cells": [
  {
   "cell_type": "code",
   "execution_count": 21,
   "id": "de5aea43",
   "metadata": {},
   "outputs": [],
   "source": [
    "# !conda -y install nextflow"
   ]
  },
  {
   "cell_type": "code",
   "execution_count": 22,
   "id": "95be4b54-983b-4729-b3b1-5a22ed67edc9",
   "metadata": {
    "tags": []
   },
   "outputs": [
    {
     "data": {
      "text/plain": [
       "'nextflow version 23.04.4.5881'"
      ]
     },
     "execution_count": 22,
     "metadata": {},
     "output_type": "execute_result"
    }
   ],
   "source": [
    "nextflow_version = !nextflow -v\n",
    "nextflow_version = nextflow_version[0]\n",
    "nextflow_version"
   ]
  },
  {
   "cell_type": "code",
   "execution_count": null,
   "id": "f5c650f1",
   "metadata": {},
   "outputs": [],
   "source": [
    "!ls setenv.sh"
   ]
  },
  {
   "cell_type": "code",
   "execution_count": null,
   "id": "80464ca8",
   "metadata": {},
   "outputs": [],
   "source": [
    "# !chmod +x setenv.sh"
   ]
  },
  {
   "cell_type": "code",
   "execution_count": null,
   "id": "ffbcdca6",
   "metadata": {},
   "outputs": [],
   "source": [
    "./setenv.sh\n"
   ]
  },
  {
   "cell_type": "code",
   "execution_count": 23,
   "id": "6592a5da-dceb-4df7-9981-029588472387",
   "metadata": {
    "tags": []
   },
   "outputs": [
    {
     "data": {
      "text/plain": [
       "'2023-10-06_18-27-27'"
      ]
     },
     "execution_count": 23,
     "metadata": {},
     "output_type": "execute_result"
    }
   ],
   "source": [
    "import os\n",
    "import datetime\n",
    "\n",
    "# Get the current date and time as a string\n",
    "current_datetime = datetime.datetime.now().strftime(\"%Y-%m-%d_%H-%M-%S\")\n",
    "current_datetime"
   ]
  },
  {
   "cell_type": "code",
   "execution_count": 24,
   "id": "48b16268",
   "metadata": {},
   "outputs": [
    {
     "data": {
      "text/plain": [
       "'/Users/eilaarich-landkof-stanford/Documents/Code/git_igvf/cellatlas-scrna-seq-pipeline/nextflow/nf_workflow/workflow_cellatlas_rna'"
      ]
     },
     "execution_count": 24,
     "metadata": {},
     "output_type": "execute_result"
    }
   ],
   "source": [
    "os.getcwd()"
   ]
  },
  {
   "cell_type": "code",
   "execution_count": null,
   "id": "2ea6824d",
   "metadata": {},
   "outputs": [],
   "source": [
    "# process {\n",
    "#     withName:run_seqspec {\n",
    "#         container = 'eilalan/igvf-seqspec-cellatlas:latest'\n",
    "#     }\n",
    "# }"
   ]
  },
  {
   "cell_type": "code",
   "execution_count": 34,
   "id": "e67241f6-2387-4431-a72f-591b9acb79a1",
   "metadata": {
    "tags": []
   },
   "outputs": [
    {
     "name": "stdout",
     "output_type": "stream",
     "text": [
      "Overwriting nf_wf_cellatlas_rna.config\n"
     ]
    }
   ],
   "source": [
    "%%writefile nf_wf_cellatlas_rna.config\n",
    "\n",
    "manifest {\n",
    "  description = 'A nexflow pipeline for cellatlas and seqspec for single cell' \n",
    "  mainScript = 'nf_wf_cellatlas_rna.nf'\n",
    "}\n",
    "\n",
    "docker {\n",
    "    enabled = true\n",
    "}\n",
    "\n",
    "\n",
    "params.SPEC_YAML = '/Users/eilaarich-landkof-stanford/Documents/Code/git_igvf/cellatlas-scrna-seq-pipeline/nextflow/nf_data/nf_data_cellatlas_run/spec.yaml' \n",
    "params.R1_FASTQ_GZ = '/Users/eilaarich-landkof-stanford/Documents/Code/git_igvf/cellatlas-scrna-seq-pipeline/nextflow/nf_data/nf_data_cellatlas_run/rna_R1_SRR18677629.fastq.gz'\n",
    "params.R2_FASTQ_GZ = '/Users/eilaarich-landkof-stanford/Documents/Code/git_igvf/cellatlas-scrna-seq-pipeline/nextflow/nf_data/nf_data_cellatlas_run/rna_R2_SRR18677629.fastq.gz'\n",
    "params.MODALITY = 'rna'\n",
    "params.SEQSPEC_PATH = '/Users/eilaarich-landkof-stanford/Documents/Code/git_igvf/cellatlas-scrna-seq-pipeline/nextflow/nf_workflow/workflow_cellatlas_rna/spec.yaml'\n",
    "params.GENOME_FASTA = 'https://hgdownload.soe.ucsc.edu/goldenPath/hg38/bigZips/hg38.fa.gz'\n",
    "params.FEATURE_BARCODES = '/Users/eilaarich-landkof-stanford/Documents/Code/git_igvf/cellatlas-scrna-seq-pipeline/nextflow/nf_data/nf_data_cellatlas_run/protein_feature_barcodes.txt'\n",
    "params.GENOME_GZ_GTF = 'http://ftp.ensembl.org/pub/release-106/gtf/homo_sapiens/Homo_sapiens.GRCh38.106.gtf.gz'\n",
    "params.BARCODE_WHITELIST = '737K-august-2016.txt'\n",
    "params.SUBPOOL = \"none\"\n",
    "params.GENOME_NAME = \"GRCh38\" \n",
    "params.PREFIX = \"test-sample\"\n",
    "params.CUSTOM_REFERENCE = false\n",
    "params.CUSTOM_GTF_PATH = \"\"\n"
   ]
  },
  {
   "cell_type": "code",
   "execution_count": 35,
   "id": "3f116957-22df-4da2-894e-856131222b53",
   "metadata": {
    "tags": []
   },
   "outputs": [],
   "source": [
    "import os\n",
    "# execute_path = os.path.join(os.getcwd(),current_datetime) # your path\n",
    "nf_path = os.path.join(os.getcwd(),'nf_wf_cellatlas_rna.nf')\n",
    "param_file_path = os.path.join(os.getcwd(),'nf_wf_cellatlas_rna.config')\n",
    "dir_out = os.path.join(os.getcwd(),'out_nf_wf_cellatlas_rna',current_datetime)\n",
    "report_path = f'{dir_out}'\n",
    "resume = '-resume' # -resume or empty\n",
    "# what is https://cloud.tower.nf"
   ]
  },
  {
   "cell_type": "code",
   "execution_count": 36,
   "id": "5893ec2f-d541-46ae-8bd9-af89ee1bb716",
   "metadata": {
    "tags": []
   },
   "outputs": [],
   "source": [
    "# cmd_run = f' {next_tower};{next_version};cd {execute_path}; nextflow run {nf_path} -c {param_file_path}  {tower}  -with-timeline {visualization_timeline} {resume} -w  {dir_out}   '\n",
    "# the tower is probably nextflow execution environment\n",
    "# cmd_run_local = f'cd {execute_path}; nextflow run {nf_path} -c {param_file_path} -w  {dir_out}   '\n",
    "# cmd_run_local"
   ]
  },
  {
   "cell_type": "code",
   "execution_count": 37,
   "id": "f1c19655-7cd7-47a3-a514-e8f211ddee3a",
   "metadata": {
    "tags": []
   },
   "outputs": [
    {
     "data": {
      "text/plain": [
       "'nf_wf_cellatlas_rna.nf'"
      ]
     },
     "execution_count": 37,
     "metadata": {},
     "output_type": "execute_result"
    }
   ],
   "source": [
    "# !$cmd_run\n",
    "nf_local_path = os.path.basename(nf_path)\n",
    "nf_local_path"
   ]
  },
  {
   "cell_type": "code",
   "execution_count": 38,
   "id": "c6062754-2438-4f08-bf00-ac1521ebf26b",
   "metadata": {
    "tags": []
   },
   "outputs": [
    {
     "data": {
      "text/plain": [
       "'nf_wf_cellatlas_rna.config'"
      ]
     },
     "execution_count": 38,
     "metadata": {},
     "output_type": "execute_result"
    }
   ],
   "source": [
    "param_local_file_path = os.path.basename(param_file_path)\n",
    "param_local_file_path"
   ]
  },
  {
   "cell_type": "code",
   "execution_count": 39,
   "id": "a7867cfc-b2bf-4a5f-8a87-62057c7fee82",
   "metadata": {
    "tags": []
   },
   "outputs": [
    {
     "data": {
      "text/plain": [
       "'/Users/eilaarich-landkof-stanford/Documents/Code/git_igvf/cellatlas-scrna-seq-pipeline/nextflow/nf_workflow/workflow_cellatlas_rna/out_nf_wf_cellatlas_rna/2023-10-06_18-27-27'"
      ]
     },
     "execution_count": 39,
     "metadata": {},
     "output_type": "execute_result"
    }
   ],
   "source": [
    "os.makedirs(dir_out,exist_ok=True)\n",
    "dir_out"
   ]
  },
  {
   "cell_type": "code",
   "execution_count": 3,
   "id": "46b204e3-ee03-48f8-8bf2-742f07460797",
   "metadata": {
    "tags": []
   },
   "outputs": [],
   "source": [
    "# \n",
    "\n",
    "# cmd_run_local_machine = f'nextflow run {nf_local_path} -w  {dir_out}  -c {param_local_file_path} -with-docker eilalan/igvf-seqspec-cellatlas:latest '\n",
    "# cmd_run_local_machine"
   ]
  },
  {
   "cell_type": "code",
   "execution_count": 2,
   "id": "ad2e98b9-b0d3-45e0-b43c-fc0e7cf82dd9",
   "metadata": {
    "tags": []
   },
   "outputs": [],
   "source": [
    "# !$cmd_run_local_machine"
   ]
  },
  {
   "cell_type": "code",
   "execution_count": null,
   "id": "c98e83ce-0c9a-43d1-b7c4-af44afe006d4",
   "metadata": {},
   "outputs": [],
   "source": []
  }
 ],
 "metadata": {
  "kernelspec": {
   "display_name": "Python 3 (ipykernel)",
   "language": "python",
   "name": "python3"
  },
  "language_info": {
   "codemirror_mode": {
    "name": "ipython",
    "version": 3
   },
   "file_extension": ".py",
   "mimetype": "text/x-python",
   "name": "python",
   "nbconvert_exporter": "python",
   "pygments_lexer": "ipython3",
   "version": "3.11.6"
  }
 },
 "nbformat": 4,
 "nbformat_minor": 5
}
