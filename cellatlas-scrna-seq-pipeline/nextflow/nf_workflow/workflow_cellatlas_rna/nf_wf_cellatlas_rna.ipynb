{
 "cells": [
  {
   "cell_type": "code",
   "execution_count": 20,
   "id": "f1b85c09-c02c-4caf-bb52-a214f8464c17",
   "metadata": {
    "tags": []
   },
   "outputs": [],
   "source": [
    "# seqspec - end to end pipeline\n",
    "# what is tower?"
   ]
  },
  {
   "cell_type": "code",
   "execution_count": 21,
   "id": "de5aea43",
   "metadata": {},
   "outputs": [],
   "source": [
    "# !conda -y install nextflow"
   ]
  },
  {
   "cell_type": "code",
   "execution_count": 22,
   "id": "95be4b54-983b-4729-b3b1-5a22ed67edc9",
   "metadata": {
    "tags": []
   },
   "outputs": [
    {
     "data": {
      "text/plain": [
       "'nextflow version 23.04.4.5881'"
      ]
     },
     "execution_count": 22,
     "metadata": {},
     "output_type": "execute_result"
    }
   ],
   "source": [
    "nextflow_version = !nextflow -v\n",
    "nextflow_version = nextflow_version[0]\n",
    "nextflow_version"
   ]
  },
  {
   "cell_type": "code",
   "execution_count": 23,
   "id": "6592a5da-dceb-4df7-9981-029588472387",
   "metadata": {
    "tags": []
   },
   "outputs": [
    {
     "data": {
      "text/plain": [
       "'2023-10-06_18-27-27'"
      ]
     },
     "execution_count": 23,
     "metadata": {},
     "output_type": "execute_result"
    }
   ],
   "source": [
    "import os\n",
    "import datetime\n",
    "\n",
    "# Get the current date and time as a string\n",
    "current_datetime = datetime.datetime.now().strftime(\"%Y-%m-%d_%H-%M-%S\")\n",
    "current_datetime"
   ]
  },
  {
   "cell_type": "code",
   "execution_count": 24,
   "id": "48b16268",
   "metadata": {},
   "outputs": [
    {
     "data": {
      "text/plain": [
       "'/Users/eilaarich-landkof-stanford/Documents/Code/git_igvf/cellatlas-scrna-seq-pipeline/nextflow/nf_workflow/workflow_cellatlas_rna'"
      ]
     },
     "execution_count": 24,
     "metadata": {},
     "output_type": "execute_result"
    }
   ],
   "source": [
    "os.getcwd()"
   ]
  },
  {
   "cell_type": "code",
   "execution_count": 34,
   "id": "e67241f6-2387-4431-a72f-591b9acb79a1",
   "metadata": {
    "tags": []
   },
   "outputs": [
    {
     "name": "stdout",
     "output_type": "stream",
     "text": [
      "Overwriting nf_wf_cellatlas_rna.config\n"
     ]
    }
   ],
   "source": [
    "%%writefile nf_wf_cellatlas_rna.config\n",
    "\n",
    "process {\n",
    "    withName:run_seqspec {\n",
    "        container = 'eilalan/igvf-seqspec-cellatlas:latest'\n",
    "    }\n",
    "}\n",
    "docker {\n",
    "    enabled = true\n",
    "}\n",
    "\n",
    "params.SPEC_YAML = 'spec.yaml' \n",
    "params.FASTQ_FILES_TRANSCRIPTS = ['1.fastq.gz','2.fastq.gz']\n",
    "params.MODALITY = 'rna'\n",
    "params.SEQSPEC_PATH = '/Users/eilaarich-landkof-stanford/Documents/Code/git_igvf/cellatlas-scrna-seq-pipeline/nextflow/nf_workflow/workflow_cellatlas_rna/spec.yaml'\n",
    "params.GENOME_FASTA = 'https://hgdownload.soe.ucsc.edu/goldenPath/hg38/bigZips/hg38.fa.gz'\n",
    "params.FEATURE_BARCODES = '?'\n",
    "params.GENOME_GZ_GTF = 'http://ftp.ensembl.org/pub/release-106/gtf/homo_sapiens/Homo_sapiens.GRCh38.106.gtf.gz'\n",
    "params.BARCODE_WHITELIST = '737K-august-2016.txt'\n",
    "params.SUBPOOL = \"none\"\n",
    "params.GENOME_NAME = \"GRCh38\" \n",
    "params.PREFIX = \"test-sample\"\n",
    "params.CUSTOM_REFERENCE = false\n",
    "params.CUSTOM_GTF_PATH = \"\"\n",
    "\n"
   ]
  },
  {
   "cell_type": "code",
   "execution_count": 35,
   "id": "3f116957-22df-4da2-894e-856131222b53",
   "metadata": {
    "tags": []
   },
   "outputs": [],
   "source": [
    "import os\n",
    "# execute_path = os.path.join(os.getcwd(),current_datetime) # your path\n",
    "nf_path = os.path.join(os.getcwd(),'nf_wf_cellatlas_rna.nf')\n",
    "param_file_path = os.path.join(os.getcwd(),'nf_wf_cellatlas_rna.config')\n",
    "dir_out = os.path.join(os.getcwd(),'out_nf_wf_cellatlas_rna',current_datetime)\n",
    "report_path = f'{dir_out}'\n",
    "resume = '-resume' # -resume or empty\n",
    "# what is https://cloud.tower.nf"
   ]
  },
  {
   "cell_type": "code",
   "execution_count": 36,
   "id": "5893ec2f-d541-46ae-8bd9-af89ee1bb716",
   "metadata": {
    "tags": []
   },
   "outputs": [],
   "source": [
    "# cmd_run = f' {next_tower};{next_version};cd {execute_path}; nextflow run {nf_path} -c {param_file_path}  {tower}  -with-timeline {visualization_timeline} {resume} -w  {dir_out}   '\n",
    "# the tower is probably nextflow execution environment\n",
    "# cmd_run_local = f'cd {execute_path}; nextflow run {nf_path} -c {param_file_path} -w  {dir_out}   '\n",
    "# cmd_run_local"
   ]
  },
  {
   "cell_type": "code",
   "execution_count": 37,
   "id": "f1c19655-7cd7-47a3-a514-e8f211ddee3a",
   "metadata": {
    "tags": []
   },
   "outputs": [
    {
     "data": {
      "text/plain": [
       "'nf_wf_cellatlas_rna.nf'"
      ]
     },
     "execution_count": 37,
     "metadata": {},
     "output_type": "execute_result"
    }
   ],
   "source": [
    "# !$cmd_run\n",
    "nf_local_path = os.path.basename(nf_path)\n",
    "nf_local_path"
   ]
  },
  {
   "cell_type": "code",
   "execution_count": 38,
   "id": "c6062754-2438-4f08-bf00-ac1521ebf26b",
   "metadata": {
    "tags": []
   },
   "outputs": [
    {
     "data": {
      "text/plain": [
       "'nf_wf_cellatlas_rna.config'"
      ]
     },
     "execution_count": 38,
     "metadata": {},
     "output_type": "execute_result"
    }
   ],
   "source": [
    "param_local_file_path = os.path.basename(param_file_path)\n",
    "param_local_file_path"
   ]
  },
  {
   "cell_type": "code",
   "execution_count": 39,
   "id": "a7867cfc-b2bf-4a5f-8a87-62057c7fee82",
   "metadata": {
    "tags": []
   },
   "outputs": [
    {
     "data": {
      "text/plain": [
       "'/Users/eilaarich-landkof-stanford/Documents/Code/git_igvf/cellatlas-scrna-seq-pipeline/nextflow/nf_workflow/workflow_cellatlas_rna/out_nf_wf_cellatlas_rna/2023-10-06_18-27-27'"
      ]
     },
     "execution_count": 39,
     "metadata": {},
     "output_type": "execute_result"
    }
   ],
   "source": [
    "os.makedirs(dir_out,exist_ok=True)\n",
    "dir_out"
   ]
  },
  {
   "cell_type": "code",
   "execution_count": 1,
   "id": "46b204e3-ee03-48f8-8bf2-742f07460797",
   "metadata": {
    "tags": []
   },
   "outputs": [
    {
     "ename": "NameError",
     "evalue": "name 'nf_local_path' is not defined",
     "output_type": "error",
     "traceback": [
      "\u001b[0;31m---------------------------------------------------------------------------\u001b[0m",
      "\u001b[0;31mNameError\u001b[0m                                 Traceback (most recent call last)",
      "\u001b[1;32m/Users/eilaarich-landkof-stanford/Documents/Code/git_igvf/cellatlas-scrna-seq-pipeline/nextflow/nf_workflow/workflow_cellatlas_rna/nf_wf_cellatlas_rna.ipynb Cell 12\u001b[0m line \u001b[0;36m3\n\u001b[1;32m      <a href='vscode-notebook-cell:/Users/eilaarich-landkof-stanford/Documents/Code/git_igvf/cellatlas-scrna-seq-pipeline/nextflow/nf_workflow/workflow_cellatlas_rna/nf_wf_cellatlas_rna.ipynb#X14sZmlsZQ%3D%3D?line=0'>1</a>\u001b[0m \u001b[39m# \u001b[39;00m\n\u001b[0;32m----> <a href='vscode-notebook-cell:/Users/eilaarich-landkof-stanford/Documents/Code/git_igvf/cellatlas-scrna-seq-pipeline/nextflow/nf_workflow/workflow_cellatlas_rna/nf_wf_cellatlas_rna.ipynb#X14sZmlsZQ%3D%3D?line=2'>3</a>\u001b[0m cmd_run_local_machine \u001b[39m=\u001b[39m \u001b[39mf\u001b[39m\u001b[39m'\u001b[39m\u001b[39mnextflow run \u001b[39m\u001b[39m{\u001b[39;00mnf_local_path\u001b[39m}\u001b[39;00m\u001b[39m -w  \u001b[39m\u001b[39m{\u001b[39;00mdir_out\u001b[39m}\u001b[39;00m\u001b[39m  -c \u001b[39m\u001b[39m{\u001b[39;00mparam_local_file_path\u001b[39m}\u001b[39;00m\u001b[39m -with-docker eilalan/igvf-seqspec-cellatlas:latest \u001b[39m\u001b[39m'\u001b[39m\n\u001b[1;32m      <a href='vscode-notebook-cell:/Users/eilaarich-landkof-stanford/Documents/Code/git_igvf/cellatlas-scrna-seq-pipeline/nextflow/nf_workflow/workflow_cellatlas_rna/nf_wf_cellatlas_rna.ipynb#X14sZmlsZQ%3D%3D?line=3'>4</a>\u001b[0m cmd_run_local_machine\n",
      "\u001b[0;31mNameError\u001b[0m: name 'nf_local_path' is not defined"
     ]
    }
   ],
   "source": [
    "# \n",
    "\n",
    "cmd_run_local_machine = f'nextflow run {nf_local_path} -w  {dir_out}  -c {param_local_file_path} -with-docker eilalan/igvf-seqspec-cellatlas:latest '\n",
    "cmd_run_local_machine"
   ]
  },
  {
   "cell_type": "code",
   "execution_count": 43,
   "id": "ad2e98b9-b0d3-45e0-b43c-fc0e7cf82dd9",
   "metadata": {
    "tags": []
   },
   "outputs": [
    {
     "name": "stdout",
     "output_type": "stream",
     "text": [
      "N E X T F L O W  ~  version 23.04.4\n",
      "Launching `nf_wf_cellatlas_rna.nf` [ridiculous_dijkstra] DSL2 - revision: 3e2621022d\n",
      "executor >  local (1)\u001b[K\n",
      "[29/9b75fa] process > run_seqspec [  0%] 0 of 1\u001b[K\n",
      "\u001b[3A\n",
      "executor >  local (1)\u001b[K\n",
      "[29/9b75fa] process > run_seqspec [100%] 1 of 1 ✔\u001b[K\n",
      "/Users/eilaarich-landkof-stanford/Documents/Code/git_igvf/cellatlas-scrna-seq-pipeline/nextflow/nf_workflow/workflow_cellatlas_rna/out_nf_wf_cellatlas_rna/2023-10-06_18-27-27/29/9b75fa5ecd2c4cfebb50dbf90a5878/seqspec.print.out\u001b[K\n",
      "\u001b[4A\n",
      "executor >  local (1)\u001b[K\n",
      "[29/9b75fa] process > run_seqspec [100%] 1 of 1 ✔\u001b[K\n",
      "/Users/eilaarich-landkof-stanford/Documents/Code/git_igvf/cellatlas-scrna-seq-pipeline/nextflow/nf_workflow/workflow_cellatlas_rna/out_nf_wf_cellatlas_rna/2023-10-06_18-27-27/29/9b75fa5ecd2c4cfebb50dbf90a5878/seqspec.print.out\u001b[K\n",
      "\n"
     ]
    }
   ],
   "source": [
    "!$cmd_run_local_machine"
   ]
  },
  {
   "cell_type": "code",
   "execution_count": null,
   "id": "c98e83ce-0c9a-43d1-b7c4-af44afe006d4",
   "metadata": {},
   "outputs": [],
   "source": []
  }
 ],
 "metadata": {
  "kernelspec": {
   "display_name": "Python 3 (ipykernel)",
   "language": "python",
   "name": "python3"
  },
  "language_info": {
   "codemirror_mode": {
    "name": "ipython",
    "version": 3
   },
   "file_extension": ".py",
   "mimetype": "text/x-python",
   "name": "python",
   "nbconvert_exporter": "python",
   "pygments_lexer": "ipython3",
   "version": "3.11.6"
  }
 },
 "nbformat": 4,
 "nbformat_minor": 5
}
